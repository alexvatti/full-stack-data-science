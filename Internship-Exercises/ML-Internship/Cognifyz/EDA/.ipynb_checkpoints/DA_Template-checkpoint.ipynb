{
 "cells": [
  {
   "cell_type": "markdown",
   "id": "ff0c4763",
   "metadata": {},
   "source": [
    "# Objective :  Predict Restaurant Ratings\n",
    "# EDA - Python\n",
    "# Insights - Patterns\n"
   ]
  },
  {
   "cell_type": "markdown",
   "id": "0bf022dd",
   "metadata": {},
   "source": [
    "Objective: Build a machine learning model to predict the\n",
    "aggregate rating of a restaurant based on other features."
   ]
  },
  {
   "cell_type": "markdown",
   "id": "5f6103ae",
   "metadata": {},
   "source": [
    "# 1. Load Python Modules"
   ]
  },
  {
   "cell_type": "code",
   "execution_count": null,
   "id": "f4063423",
   "metadata": {},
   "outputs": [],
   "source": [
    "#  Use Python's import statement to load modules \n",
    "import numpy as np\n",
    "import pandas as pd\n",
    "import matplotlib.pyplot as plt\n",
    "import seaborn as sns\n",
    "\n",
    "from tabulate import tabulate\n",
    "from sklearn.base import BaseEstimator, TransformerMixin\n",
    "from sklearn.pipeline import Pipeline"
   ]
  },
  {
   "cell_type": "markdown",
   "id": "38815fde",
   "metadata": {},
   "source": [
    "# 2. Read the Dataset from csv/excel file  - Using Pandas\n",
    " - Excel\n",
    " - csv\n",
    " - url"
   ]
  },
  {
   "cell_type": "markdown",
   "id": "ac43c7fe",
   "metadata": {},
   "source": [
    "# 3. Basic Inspection on given dataset\n",
    "- Head , tail , sample\n",
    "- Shape , len , size\n",
    "- dtypes , columns , info\n",
    "- isnull().sum() , isna().sum()"
   ]
  },
  {
   "cell_type": "markdown",
   "id": "7777afe8",
   "metadata": {},
   "source": [
    "### 3.1 Non-Significant columns - we need to drop here.\n",
    " - we can not find any insights from them\n"
   ]
  },
  {
   "cell_type": "markdown",
   "id": "06cd8562",
   "metadata": {},
   "source": [
    "# 4. Handling Missing Values - Cat - Variables\n",
    " - Replace with Mode - One of the Method"
   ]
  },
  {
   "cell_type": "markdown",
   "id": "ed15c414",
   "metadata": {},
   "source": [
    "# 5. Categorical- UniVariable - Analysis -Using Pipeline\n",
    "   - Frequency Table \n",
    "   - Bar Graph\n",
    "   - Pie Graph"
   ]
  },
  {
   "cell_type": "markdown",
   "id": "635b29e7",
   "metadata": {},
   "source": [
    "# 6. Handling Missing Values in Numerical Columns\n",
    "- Replace with Median - One of the Method"
   ]
  },
  {
   "cell_type": "markdown",
   "id": "92ba562d",
   "metadata": {},
   "source": [
    "# 7. Numerical - UniVariable - Analysis - Using -Pipeline\n",
    "- Frequency Interval - Data Distribution Table\n",
    "- Histogram Graph\n",
    "- Hist with KDE Graph\n",
    "- Box Plots"
   ]
  },
  {
   "cell_type": "markdown",
   "id": "d29dd5c9",
   "metadata": {},
   "source": [
    "# 8. Numerical - Variables -Outliers Analysis\n",
    "- IQR Method \n",
    "- -3Sigma to +3 Sigma Method"
   ]
  },
  {
   "cell_type": "markdown",
   "id": "310f0a1c",
   "metadata": {},
   "source": [
    "# 9. Bi Variate Analysis"
   ]
  },
  {
   "cell_type": "markdown",
   "id": "2d96dbde",
   "metadata": {},
   "source": [
    "## Cat Vs Cat\n",
    " - Crosstab -  Contigency Table\n",
    " - Bar Graph with hue\n"
   ]
  },
  {
   "cell_type": "markdown",
   "id": "f19589b7",
   "metadata": {},
   "source": [
    "## Cat Vs Num\n",
    "- Box Plot with hue\n",
    "- Violin Plot with hue"
   ]
  },
  {
   "cell_type": "markdown",
   "id": "de26ca04",
   "metadata": {},
   "source": [
    "## Num Vs Num\n",
    "- Scatter Plot with Hue\n",
    "- co-relation(co-varaince ,co-relation coffiencnt)\n",
    "- heatmap"
   ]
  },
  {
   "cell_type": "markdown",
   "id": "00ea13a7",
   "metadata": {},
   "source": [
    "# 10. Data Transformation"
   ]
  },
  {
   "cell_type": "markdown",
   "id": "238f845a",
   "metadata": {},
   "source": [
    "### 10.1 left - skewed  to Normal"
   ]
  },
  {
   "cell_type": "markdown",
   "id": "14ea6924",
   "metadata": {},
   "source": [
    "### 10.2 Right - Skewed  to Normal "
   ]
  },
  {
   "cell_type": "markdown",
   "id": "daa0f575",
   "metadata": {},
   "source": [
    "### 10.3 Different distributions to normal distribution"
   ]
  },
  {
   "cell_type": "markdown",
   "id": "115c8ba3",
   "metadata": {},
   "source": [
    "# 11. Standization - Normalization\n",
    "- Min Max Scaler\n",
    "- Standard Scaler"
   ]
  },
  {
   "cell_type": "markdown",
   "id": "91429698",
   "metadata": {},
   "source": [
    "# 12. Convert Cat - to - Numerical Columns\n",
    "- One-Hot-Enconding\n",
    "- Label Encoding"
   ]
  },
  {
   "cell_type": "markdown",
   "id": "a05ffc4b",
   "metadata": {},
   "source": [
    "# 13. Reduce the Number of Columns\n",
    "- PCA\n",
    "- tsne"
   ]
  },
  {
   "cell_type": "markdown",
   "id": "eb7a12f6",
   "metadata": {},
   "source": [
    "# 14. Inferential statistics test\n",
    "- chi-square test\n",
    "- ANOVA Test\n",
    "- t-test(one and two tail test)\n",
    "- biserial correlation coefficient"
   ]
  }
 ],
 "metadata": {
  "kernelspec": {
   "display_name": "Python 3 (ipykernel)",
   "language": "python",
   "name": "python3"
  },
  "language_info": {
   "codemirror_mode": {
    "name": "ipython",
    "version": 3
   },
   "file_extension": ".py",
   "mimetype": "text/x-python",
   "name": "python",
   "nbconvert_exporter": "python",
   "pygments_lexer": "ipython3",
   "version": "3.11.5"
  }
 },
 "nbformat": 4,
 "nbformat_minor": 5
}
