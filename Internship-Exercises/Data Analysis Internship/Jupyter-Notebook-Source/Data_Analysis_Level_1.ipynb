{
 "cells": [
  {
   "cell_type": "markdown",
   "id": "7527acf8",
   "metadata": {},
   "source": [
    "\n",
    "![ Data Analysis](image.png)\n",
    "\n"
   ]
  },
  {
   "cell_type": "markdown",
   "id": "bad46177",
   "metadata": {},
   "source": [
    "# Task - Objective (Level-1)\n",
    "\n",
    "- Expertise in Python programming and Data Manipulation \n",
    "- Extract valuable insights from large datasets and drive informed decision-making. \n",
    "- Data cleaning and preprocessing data, performing statistical analysis, or creating data visualizations,\n",
    "- Proficiency in Python will play a crucial role in delivering meaningful results.\n"
   ]
  },
  {
   "cell_type": "markdown",
   "id": "a48806cb",
   "metadata": {},
   "source": [
    "## 1. Load Python Modules"
   ]
  },
  {
   "cell_type": "code",
   "execution_count": 1,
   "id": "6030aeab",
   "metadata": {
    "scrolled": true
   },
   "outputs": [],
   "source": [
    "#  Use Python's import statement to load modules \n",
    "import numpy as np\n",
    "import pandas as pd\n",
    "import matplotlib.pyplot as plt\n",
    "import seaborn as sns\n",
    "from tabulate import tabulate"
   ]
  },
  {
   "cell_type": "markdown",
   "id": "260e90e4",
   "metadata": {},
   "source": [
    "## 2. Read the Dataset from CSV file  - Using Pandas"
   ]
  },
  {
   "cell_type": "code",
   "execution_count": 2,
   "id": "874485dd",
   "metadata": {
    "scrolled": false
   },
   "outputs": [
    {
     "data": {
      "text/html": [
       "<div>\n",
       "<style scoped>\n",
       "    .dataframe tbody tr th:only-of-type {\n",
       "        vertical-align: middle;\n",
       "    }\n",
       "\n",
       "    .dataframe tbody tr th {\n",
       "        vertical-align: top;\n",
       "    }\n",
       "\n",
       "    .dataframe thead th {\n",
       "        text-align: right;\n",
       "    }\n",
       "</style>\n",
       "<table border=\"1\" class=\"dataframe\">\n",
       "  <thead>\n",
       "    <tr style=\"text-align: right;\">\n",
       "      <th></th>\n",
       "      <th>Restaurant ID</th>\n",
       "      <th>Restaurant Name</th>\n",
       "      <th>Country Code</th>\n",
       "      <th>City</th>\n",
       "      <th>Address</th>\n",
       "      <th>Locality</th>\n",
       "      <th>Locality Verbose</th>\n",
       "      <th>Longitude</th>\n",
       "      <th>Latitude</th>\n",
       "      <th>Cuisines</th>\n",
       "      <th>...</th>\n",
       "      <th>Currency</th>\n",
       "      <th>Has Table booking</th>\n",
       "      <th>Has Online delivery</th>\n",
       "      <th>Is delivering now</th>\n",
       "      <th>Switch to order menu</th>\n",
       "      <th>Price range</th>\n",
       "      <th>Aggregate rating</th>\n",
       "      <th>Rating color</th>\n",
       "      <th>Rating text</th>\n",
       "      <th>Votes</th>\n",
       "    </tr>\n",
       "  </thead>\n",
       "  <tbody>\n",
       "    <tr>\n",
       "      <th>0</th>\n",
       "      <td>6317637</td>\n",
       "      <td>Le Petit Souffle</td>\n",
       "      <td>162</td>\n",
       "      <td>Makati City</td>\n",
       "      <td>Third Floor, Century City Mall, Kalayaan Avenu...</td>\n",
       "      <td>Century City Mall, Poblacion, Makati City</td>\n",
       "      <td>Century City Mall, Poblacion, Makati City, Mak...</td>\n",
       "      <td>121.027535</td>\n",
       "      <td>14.565443</td>\n",
       "      <td>French, Japanese, Desserts</td>\n",
       "      <td>...</td>\n",
       "      <td>Botswana Pula(P)</td>\n",
       "      <td>Yes</td>\n",
       "      <td>No</td>\n",
       "      <td>No</td>\n",
       "      <td>No</td>\n",
       "      <td>3</td>\n",
       "      <td>4.8</td>\n",
       "      <td>Dark Green</td>\n",
       "      <td>Excellent</td>\n",
       "      <td>314</td>\n",
       "    </tr>\n",
       "    <tr>\n",
       "      <th>1</th>\n",
       "      <td>6304287</td>\n",
       "      <td>Izakaya Kikufuji</td>\n",
       "      <td>162</td>\n",
       "      <td>Makati City</td>\n",
       "      <td>Little Tokyo, 2277 Chino Roces Avenue, Legaspi...</td>\n",
       "      <td>Little Tokyo, Legaspi Village, Makati City</td>\n",
       "      <td>Little Tokyo, Legaspi Village, Makati City, Ma...</td>\n",
       "      <td>121.014101</td>\n",
       "      <td>14.553708</td>\n",
       "      <td>Japanese</td>\n",
       "      <td>...</td>\n",
       "      <td>Botswana Pula(P)</td>\n",
       "      <td>Yes</td>\n",
       "      <td>No</td>\n",
       "      <td>No</td>\n",
       "      <td>No</td>\n",
       "      <td>3</td>\n",
       "      <td>4.5</td>\n",
       "      <td>Dark Green</td>\n",
       "      <td>Excellent</td>\n",
       "      <td>591</td>\n",
       "    </tr>\n",
       "    <tr>\n",
       "      <th>2</th>\n",
       "      <td>6300002</td>\n",
       "      <td>Heat - Edsa Shangri-La</td>\n",
       "      <td>162</td>\n",
       "      <td>Mandaluyong City</td>\n",
       "      <td>Edsa Shangri-La, 1 Garden Way, Ortigas, Mandal...</td>\n",
       "      <td>Edsa Shangri-La, Ortigas, Mandaluyong City</td>\n",
       "      <td>Edsa Shangri-La, Ortigas, Mandaluyong City, Ma...</td>\n",
       "      <td>121.056831</td>\n",
       "      <td>14.581404</td>\n",
       "      <td>Seafood, Asian, Filipino, Indian</td>\n",
       "      <td>...</td>\n",
       "      <td>Botswana Pula(P)</td>\n",
       "      <td>Yes</td>\n",
       "      <td>No</td>\n",
       "      <td>No</td>\n",
       "      <td>No</td>\n",
       "      <td>4</td>\n",
       "      <td>4.4</td>\n",
       "      <td>Green</td>\n",
       "      <td>Very Good</td>\n",
       "      <td>270</td>\n",
       "    </tr>\n",
       "    <tr>\n",
       "      <th>3</th>\n",
       "      <td>6318506</td>\n",
       "      <td>Ooma</td>\n",
       "      <td>162</td>\n",
       "      <td>Mandaluyong City</td>\n",
       "      <td>Third Floor, Mega Fashion Hall, SM Megamall, O...</td>\n",
       "      <td>SM Megamall, Ortigas, Mandaluyong City</td>\n",
       "      <td>SM Megamall, Ortigas, Mandaluyong City, Mandal...</td>\n",
       "      <td>121.056475</td>\n",
       "      <td>14.585318</td>\n",
       "      <td>Japanese, Sushi</td>\n",
       "      <td>...</td>\n",
       "      <td>Botswana Pula(P)</td>\n",
       "      <td>No</td>\n",
       "      <td>No</td>\n",
       "      <td>No</td>\n",
       "      <td>No</td>\n",
       "      <td>4</td>\n",
       "      <td>4.9</td>\n",
       "      <td>Dark Green</td>\n",
       "      <td>Excellent</td>\n",
       "      <td>365</td>\n",
       "    </tr>\n",
       "    <tr>\n",
       "      <th>4</th>\n",
       "      <td>6314302</td>\n",
       "      <td>Sambo Kojin</td>\n",
       "      <td>162</td>\n",
       "      <td>Mandaluyong City</td>\n",
       "      <td>Third Floor, Mega Atrium, SM Megamall, Ortigas...</td>\n",
       "      <td>SM Megamall, Ortigas, Mandaluyong City</td>\n",
       "      <td>SM Megamall, Ortigas, Mandaluyong City, Mandal...</td>\n",
       "      <td>121.057508</td>\n",
       "      <td>14.584450</td>\n",
       "      <td>Japanese, Korean</td>\n",
       "      <td>...</td>\n",
       "      <td>Botswana Pula(P)</td>\n",
       "      <td>Yes</td>\n",
       "      <td>No</td>\n",
       "      <td>No</td>\n",
       "      <td>No</td>\n",
       "      <td>4</td>\n",
       "      <td>4.8</td>\n",
       "      <td>Dark Green</td>\n",
       "      <td>Excellent</td>\n",
       "      <td>229</td>\n",
       "    </tr>\n",
       "    <tr>\n",
       "      <th>...</th>\n",
       "      <td>...</td>\n",
       "      <td>...</td>\n",
       "      <td>...</td>\n",
       "      <td>...</td>\n",
       "      <td>...</td>\n",
       "      <td>...</td>\n",
       "      <td>...</td>\n",
       "      <td>...</td>\n",
       "      <td>...</td>\n",
       "      <td>...</td>\n",
       "      <td>...</td>\n",
       "      <td>...</td>\n",
       "      <td>...</td>\n",
       "      <td>...</td>\n",
       "      <td>...</td>\n",
       "      <td>...</td>\n",
       "      <td>...</td>\n",
       "      <td>...</td>\n",
       "      <td>...</td>\n",
       "      <td>...</td>\n",
       "      <td>...</td>\n",
       "    </tr>\n",
       "    <tr>\n",
       "      <th>9546</th>\n",
       "      <td>5915730</td>\n",
       "      <td>Naml۱ Gurme</td>\n",
       "      <td>208</td>\n",
       "      <td>��stanbul</td>\n",
       "      <td>Kemanke�� Karamustafa Pa��a Mahallesi, R۱ht۱m ...</td>\n",
       "      <td>Karak�_y</td>\n",
       "      <td>Karak�_y, ��stanbul</td>\n",
       "      <td>28.977392</td>\n",
       "      <td>41.022793</td>\n",
       "      <td>Turkish</td>\n",
       "      <td>...</td>\n",
       "      <td>Turkish Lira(TL)</td>\n",
       "      <td>No</td>\n",
       "      <td>No</td>\n",
       "      <td>No</td>\n",
       "      <td>No</td>\n",
       "      <td>3</td>\n",
       "      <td>4.1</td>\n",
       "      <td>Green</td>\n",
       "      <td>Very Good</td>\n",
       "      <td>788</td>\n",
       "    </tr>\n",
       "    <tr>\n",
       "      <th>9547</th>\n",
       "      <td>5908749</td>\n",
       "      <td>Ceviz A��ac۱</td>\n",
       "      <td>208</td>\n",
       "      <td>��stanbul</td>\n",
       "      <td>Ko��uyolu Mahallesi, Muhittin ��st�_nda�� Cadd...</td>\n",
       "      <td>Ko��uyolu</td>\n",
       "      <td>Ko��uyolu, ��stanbul</td>\n",
       "      <td>29.041297</td>\n",
       "      <td>41.009847</td>\n",
       "      <td>World Cuisine, Patisserie, Cafe</td>\n",
       "      <td>...</td>\n",
       "      <td>Turkish Lira(TL)</td>\n",
       "      <td>No</td>\n",
       "      <td>No</td>\n",
       "      <td>No</td>\n",
       "      <td>No</td>\n",
       "      <td>3</td>\n",
       "      <td>4.2</td>\n",
       "      <td>Green</td>\n",
       "      <td>Very Good</td>\n",
       "      <td>1034</td>\n",
       "    </tr>\n",
       "    <tr>\n",
       "      <th>9548</th>\n",
       "      <td>5915807</td>\n",
       "      <td>Huqqa</td>\n",
       "      <td>208</td>\n",
       "      <td>��stanbul</td>\n",
       "      <td>Kuru�_e��me Mahallesi, Muallim Naci Caddesi, N...</td>\n",
       "      <td>Kuru�_e��me</td>\n",
       "      <td>Kuru�_e��me, ��stanbul</td>\n",
       "      <td>29.034640</td>\n",
       "      <td>41.055817</td>\n",
       "      <td>Italian, World Cuisine</td>\n",
       "      <td>...</td>\n",
       "      <td>Turkish Lira(TL)</td>\n",
       "      <td>No</td>\n",
       "      <td>No</td>\n",
       "      <td>No</td>\n",
       "      <td>No</td>\n",
       "      <td>4</td>\n",
       "      <td>3.7</td>\n",
       "      <td>Yellow</td>\n",
       "      <td>Good</td>\n",
       "      <td>661</td>\n",
       "    </tr>\n",
       "    <tr>\n",
       "      <th>9549</th>\n",
       "      <td>5916112</td>\n",
       "      <td>A���k Kahve</td>\n",
       "      <td>208</td>\n",
       "      <td>��stanbul</td>\n",
       "      <td>Kuru�_e��me Mahallesi, Muallim Naci Caddesi, N...</td>\n",
       "      <td>Kuru�_e��me</td>\n",
       "      <td>Kuru�_e��me, ��stanbul</td>\n",
       "      <td>29.036019</td>\n",
       "      <td>41.057979</td>\n",
       "      <td>Restaurant Cafe</td>\n",
       "      <td>...</td>\n",
       "      <td>Turkish Lira(TL)</td>\n",
       "      <td>No</td>\n",
       "      <td>No</td>\n",
       "      <td>No</td>\n",
       "      <td>No</td>\n",
       "      <td>4</td>\n",
       "      <td>4.0</td>\n",
       "      <td>Green</td>\n",
       "      <td>Very Good</td>\n",
       "      <td>901</td>\n",
       "    </tr>\n",
       "    <tr>\n",
       "      <th>9550</th>\n",
       "      <td>5927402</td>\n",
       "      <td>Walter's Coffee Roastery</td>\n",
       "      <td>208</td>\n",
       "      <td>��stanbul</td>\n",
       "      <td>Cafea��a Mahallesi, Bademalt۱ Sokak, No 21/B, ...</td>\n",
       "      <td>Moda</td>\n",
       "      <td>Moda, ��stanbul</td>\n",
       "      <td>29.026016</td>\n",
       "      <td>40.984776</td>\n",
       "      <td>Cafe</td>\n",
       "      <td>...</td>\n",
       "      <td>Turkish Lira(TL)</td>\n",
       "      <td>No</td>\n",
       "      <td>No</td>\n",
       "      <td>No</td>\n",
       "      <td>No</td>\n",
       "      <td>2</td>\n",
       "      <td>4.0</td>\n",
       "      <td>Green</td>\n",
       "      <td>Very Good</td>\n",
       "      <td>591</td>\n",
       "    </tr>\n",
       "  </tbody>\n",
       "</table>\n",
       "<p>9551 rows × 21 columns</p>\n",
       "</div>"
      ],
      "text/plain": [
       "      Restaurant ID           Restaurant Name  Country Code              City  \\\n",
       "0           6317637          Le Petit Souffle           162       Makati City   \n",
       "1           6304287          Izakaya Kikufuji           162       Makati City   \n",
       "2           6300002    Heat - Edsa Shangri-La           162  Mandaluyong City   \n",
       "3           6318506                      Ooma           162  Mandaluyong City   \n",
       "4           6314302               Sambo Kojin           162  Mandaluyong City   \n",
       "...             ...                       ...           ...               ...   \n",
       "9546        5915730               Naml۱ Gurme           208         ��stanbul   \n",
       "9547        5908749              Ceviz A��ac۱           208         ��stanbul   \n",
       "9548        5915807                     Huqqa           208         ��stanbul   \n",
       "9549        5916112               A���k Kahve           208         ��stanbul   \n",
       "9550        5927402  Walter's Coffee Roastery           208         ��stanbul   \n",
       "\n",
       "                                                Address  \\\n",
       "0     Third Floor, Century City Mall, Kalayaan Avenu...   \n",
       "1     Little Tokyo, 2277 Chino Roces Avenue, Legaspi...   \n",
       "2     Edsa Shangri-La, 1 Garden Way, Ortigas, Mandal...   \n",
       "3     Third Floor, Mega Fashion Hall, SM Megamall, O...   \n",
       "4     Third Floor, Mega Atrium, SM Megamall, Ortigas...   \n",
       "...                                                 ...   \n",
       "9546  Kemanke�� Karamustafa Pa��a Mahallesi, R۱ht۱m ...   \n",
       "9547  Ko��uyolu Mahallesi, Muhittin ��st�_nda�� Cadd...   \n",
       "9548  Kuru�_e��me Mahallesi, Muallim Naci Caddesi, N...   \n",
       "9549  Kuru�_e��me Mahallesi, Muallim Naci Caddesi, N...   \n",
       "9550  Cafea��a Mahallesi, Bademalt۱ Sokak, No 21/B, ...   \n",
       "\n",
       "                                        Locality  \\\n",
       "0      Century City Mall, Poblacion, Makati City   \n",
       "1     Little Tokyo, Legaspi Village, Makati City   \n",
       "2     Edsa Shangri-La, Ortigas, Mandaluyong City   \n",
       "3         SM Megamall, Ortigas, Mandaluyong City   \n",
       "4         SM Megamall, Ortigas, Mandaluyong City   \n",
       "...                                          ...   \n",
       "9546                                    Karak�_y   \n",
       "9547                                   Ko��uyolu   \n",
       "9548                                 Kuru�_e��me   \n",
       "9549                                 Kuru�_e��me   \n",
       "9550                                        Moda   \n",
       "\n",
       "                                       Locality Verbose   Longitude  \\\n",
       "0     Century City Mall, Poblacion, Makati City, Mak...  121.027535   \n",
       "1     Little Tokyo, Legaspi Village, Makati City, Ma...  121.014101   \n",
       "2     Edsa Shangri-La, Ortigas, Mandaluyong City, Ma...  121.056831   \n",
       "3     SM Megamall, Ortigas, Mandaluyong City, Mandal...  121.056475   \n",
       "4     SM Megamall, Ortigas, Mandaluyong City, Mandal...  121.057508   \n",
       "...                                                 ...         ...   \n",
       "9546                                Karak�_y, ��stanbul   28.977392   \n",
       "9547                               Ko��uyolu, ��stanbul   29.041297   \n",
       "9548                             Kuru�_e��me, ��stanbul   29.034640   \n",
       "9549                             Kuru�_e��me, ��stanbul   29.036019   \n",
       "9550                                    Moda, ��stanbul   29.026016   \n",
       "\n",
       "       Latitude                          Cuisines  ...          Currency  \\\n",
       "0     14.565443        French, Japanese, Desserts  ...  Botswana Pula(P)   \n",
       "1     14.553708                          Japanese  ...  Botswana Pula(P)   \n",
       "2     14.581404  Seafood, Asian, Filipino, Indian  ...  Botswana Pula(P)   \n",
       "3     14.585318                   Japanese, Sushi  ...  Botswana Pula(P)   \n",
       "4     14.584450                  Japanese, Korean  ...  Botswana Pula(P)   \n",
       "...         ...                               ...  ...               ...   \n",
       "9546  41.022793                           Turkish  ...  Turkish Lira(TL)   \n",
       "9547  41.009847   World Cuisine, Patisserie, Cafe  ...  Turkish Lira(TL)   \n",
       "9548  41.055817            Italian, World Cuisine  ...  Turkish Lira(TL)   \n",
       "9549  41.057979                   Restaurant Cafe  ...  Turkish Lira(TL)   \n",
       "9550  40.984776                              Cafe  ...  Turkish Lira(TL)   \n",
       "\n",
       "     Has Table booking Has Online delivery Is delivering now  \\\n",
       "0                  Yes                  No                No   \n",
       "1                  Yes                  No                No   \n",
       "2                  Yes                  No                No   \n",
       "3                   No                  No                No   \n",
       "4                  Yes                  No                No   \n",
       "...                ...                 ...               ...   \n",
       "9546                No                  No                No   \n",
       "9547                No                  No                No   \n",
       "9548                No                  No                No   \n",
       "9549                No                  No                No   \n",
       "9550                No                  No                No   \n",
       "\n",
       "     Switch to order menu Price range  Aggregate rating  Rating color  \\\n",
       "0                      No           3               4.8    Dark Green   \n",
       "1                      No           3               4.5    Dark Green   \n",
       "2                      No           4               4.4         Green   \n",
       "3                      No           4               4.9    Dark Green   \n",
       "4                      No           4               4.8    Dark Green   \n",
       "...                   ...         ...               ...           ...   \n",
       "9546                   No           3               4.1         Green   \n",
       "9547                   No           3               4.2         Green   \n",
       "9548                   No           4               3.7        Yellow   \n",
       "9549                   No           4               4.0         Green   \n",
       "9550                   No           2               4.0         Green   \n",
       "\n",
       "     Rating text Votes  \n",
       "0      Excellent   314  \n",
       "1      Excellent   591  \n",
       "2      Very Good   270  \n",
       "3      Excellent   365  \n",
       "4      Excellent   229  \n",
       "...          ...   ...  \n",
       "9546   Very Good   788  \n",
       "9547   Very Good  1034  \n",
       "9548        Good   661  \n",
       "9549   Very Good   901  \n",
       "9550   Very Good   591  \n",
       "\n",
       "[9551 rows x 21 columns]"
      ]
     },
     "execution_count": 2,
     "metadata": {},
     "output_type": "execute_result"
    }
   ],
   "source": [
    "# Read the csv file using pandas read_csv\n",
    "restaurant_df=pd.read_csv(\"Dataset.csv\")\n",
    "restaurant_df"
   ]
  },
  {
   "cell_type": "markdown",
   "id": "f873d52d",
   "metadata": {},
   "source": [
    "## 3. Basic Inspection on given dataset"
   ]
  },
  {
   "cell_type": "code",
   "execution_count": 3,
   "id": "436874dc",
   "metadata": {
    "scrolled": false
   },
   "outputs": [
    {
     "name": "stdout",
     "output_type": "stream",
     "text": [
      "top 5 rows - using head\n",
      "   Restaurant ID         Restaurant Name  Country Code              City  \\\n",
      "0        6317637        Le Petit Souffle           162       Makati City   \n",
      "1        6304287        Izakaya Kikufuji           162       Makati City   \n",
      "2        6300002  Heat - Edsa Shangri-La           162  Mandaluyong City   \n",
      "3        6318506                    Ooma           162  Mandaluyong City   \n",
      "4        6314302             Sambo Kojin           162  Mandaluyong City   \n",
      "\n",
      "                                             Address  \\\n",
      "0  Third Floor, Century City Mall, Kalayaan Avenu...   \n",
      "1  Little Tokyo, 2277 Chino Roces Avenue, Legaspi...   \n",
      "2  Edsa Shangri-La, 1 Garden Way, Ortigas, Mandal...   \n",
      "3  Third Floor, Mega Fashion Hall, SM Megamall, O...   \n",
      "4  Third Floor, Mega Atrium, SM Megamall, Ortigas...   \n",
      "\n",
      "                                     Locality  \\\n",
      "0   Century City Mall, Poblacion, Makati City   \n",
      "1  Little Tokyo, Legaspi Village, Makati City   \n",
      "2  Edsa Shangri-La, Ortigas, Mandaluyong City   \n",
      "3      SM Megamall, Ortigas, Mandaluyong City   \n",
      "4      SM Megamall, Ortigas, Mandaluyong City   \n",
      "\n",
      "                                    Locality Verbose   Longitude   Latitude  \\\n",
      "0  Century City Mall, Poblacion, Makati City, Mak...  121.027535  14.565443   \n",
      "1  Little Tokyo, Legaspi Village, Makati City, Ma...  121.014101  14.553708   \n",
      "2  Edsa Shangri-La, Ortigas, Mandaluyong City, Ma...  121.056831  14.581404   \n",
      "3  SM Megamall, Ortigas, Mandaluyong City, Mandal...  121.056475  14.585318   \n",
      "4  SM Megamall, Ortigas, Mandaluyong City, Mandal...  121.057508  14.584450   \n",
      "\n",
      "                           Cuisines  ...          Currency Has Table booking  \\\n",
      "0        French, Japanese, Desserts  ...  Botswana Pula(P)               Yes   \n",
      "1                          Japanese  ...  Botswana Pula(P)               Yes   \n",
      "2  Seafood, Asian, Filipino, Indian  ...  Botswana Pula(P)               Yes   \n",
      "3                   Japanese, Sushi  ...  Botswana Pula(P)                No   \n",
      "4                  Japanese, Korean  ...  Botswana Pula(P)               Yes   \n",
      "\n",
      "  Has Online delivery Is delivering now Switch to order menu Price range  \\\n",
      "0                  No                No                   No           3   \n",
      "1                  No                No                   No           3   \n",
      "2                  No                No                   No           4   \n",
      "3                  No                No                   No           4   \n",
      "4                  No                No                   No           4   \n",
      "\n",
      "   Aggregate rating  Rating color Rating text Votes  \n",
      "0               4.8    Dark Green   Excellent   314  \n",
      "1               4.5    Dark Green   Excellent   591  \n",
      "2               4.4         Green   Very Good   270  \n",
      "3               4.9    Dark Green   Excellent   365  \n",
      "4               4.8    Dark Green   Excellent   229  \n",
      "\n",
      "[5 rows x 21 columns]\n",
      "\n",
      "bottom 5 rows using tail\n",
      "      Restaurant ID           Restaurant Name  Country Code       City  \\\n",
      "9546        5915730               Naml۱ Gurme           208  ��stanbul   \n",
      "9547        5908749              Ceviz A��ac۱           208  ��stanbul   \n",
      "9548        5915807                     Huqqa           208  ��stanbul   \n",
      "9549        5916112               A���k Kahve           208  ��stanbul   \n",
      "9550        5927402  Walter's Coffee Roastery           208  ��stanbul   \n",
      "\n",
      "                                                Address     Locality  \\\n",
      "9546  Kemanke�� Karamustafa Pa��a Mahallesi, R۱ht۱m ...     Karak�_y   \n",
      "9547  Ko��uyolu Mahallesi, Muhittin ��st�_nda�� Cadd...    Ko��uyolu   \n",
      "9548  Kuru�_e��me Mahallesi, Muallim Naci Caddesi, N...  Kuru�_e��me   \n",
      "9549  Kuru�_e��me Mahallesi, Muallim Naci Caddesi, N...  Kuru�_e��me   \n",
      "9550  Cafea��a Mahallesi, Bademalt۱ Sokak, No 21/B, ...         Moda   \n",
      "\n",
      "            Locality Verbose  Longitude   Latitude  \\\n",
      "9546     Karak�_y, ��stanbul  28.977392  41.022793   \n",
      "9547    Ko��uyolu, ��stanbul  29.041297  41.009847   \n",
      "9548  Kuru�_e��me, ��stanbul  29.034640  41.055817   \n",
      "9549  Kuru�_e��me, ��stanbul  29.036019  41.057979   \n",
      "9550         Moda, ��stanbul  29.026016  40.984776   \n",
      "\n",
      "                             Cuisines  ...          Currency  \\\n",
      "9546                          Turkish  ...  Turkish Lira(TL)   \n",
      "9547  World Cuisine, Patisserie, Cafe  ...  Turkish Lira(TL)   \n",
      "9548           Italian, World Cuisine  ...  Turkish Lira(TL)   \n",
      "9549                  Restaurant Cafe  ...  Turkish Lira(TL)   \n",
      "9550                             Cafe  ...  Turkish Lira(TL)   \n",
      "\n",
      "     Has Table booking Has Online delivery Is delivering now  \\\n",
      "9546                No                  No                No   \n",
      "9547                No                  No                No   \n",
      "9548                No                  No                No   \n",
      "9549                No                  No                No   \n",
      "9550                No                  No                No   \n",
      "\n",
      "     Switch to order menu Price range  Aggregate rating  Rating color  \\\n",
      "9546                   No           3               4.1         Green   \n",
      "9547                   No           3               4.2         Green   \n",
      "9548                   No           4               3.7        Yellow   \n",
      "9549                   No           4               4.0         Green   \n",
      "9550                   No           2               4.0         Green   \n",
      "\n",
      "     Rating text Votes  \n",
      "9546   Very Good   788  \n",
      "9547   Very Good  1034  \n",
      "9548        Good   661  \n",
      "9549   Very Good   901  \n",
      "9550   Very Good   591  \n",
      "\n",
      "[5 rows x 21 columns]\n",
      "\n",
      "numbers of samples and columns\n",
      "(9551, 21)\n",
      "\n",
      "numbers of samples \n",
      "9551\n",
      "\n",
      "numbers of entries in the data frame\n",
      "200571\n",
      "\n",
      "Columns Names\n",
      "Index(['Restaurant ID', 'Restaurant Name', 'Country Code', 'City', 'Address',\n",
      "       'Locality', 'Locality Verbose', 'Longitude', 'Latitude', 'Cuisines',\n",
      "       'Average Cost for two', 'Currency', 'Has Table booking',\n",
      "       'Has Online delivery', 'Is delivering now', 'Switch to order menu',\n",
      "       'Price range', 'Aggregate rating', 'Rating color', 'Rating text',\n",
      "       'Votes'],\n",
      "      dtype='object')\n",
      "\n",
      "Columns dtypes\n",
      "Restaurant ID             int64\n",
      "Restaurant Name          object\n",
      "Country Code              int64\n",
      "City                     object\n",
      "Address                  object\n",
      "Locality                 object\n",
      "Locality Verbose         object\n",
      "Longitude               float64\n",
      "Latitude                float64\n",
      "Cuisines                 object\n",
      "Average Cost for two      int64\n",
      "Currency                 object\n",
      "Has Table booking        object\n",
      "Has Online delivery      object\n",
      "Is delivering now        object\n",
      "Switch to order menu     object\n",
      "Price range               int64\n",
      "Aggregate rating        float64\n",
      "Rating color             object\n",
      "Rating text              object\n",
      "Votes                     int64\n",
      "dtype: object\n",
      "\n",
      "Dataframe info\n",
      "<class 'pandas.core.frame.DataFrame'>\n",
      "RangeIndex: 9551 entries, 0 to 9550\n",
      "Data columns (total 21 columns):\n",
      " #   Column                Non-Null Count  Dtype  \n",
      "---  ------                --------------  -----  \n",
      " 0   Restaurant ID         9551 non-null   int64  \n",
      " 1   Restaurant Name       9551 non-null   object \n",
      " 2   Country Code          9551 non-null   int64  \n",
      " 3   City                  9551 non-null   object \n",
      " 4   Address               9551 non-null   object \n",
      " 5   Locality              9551 non-null   object \n",
      " 6   Locality Verbose      9551 non-null   object \n",
      " 7   Longitude             9551 non-null   float64\n",
      " 8   Latitude              9551 non-null   float64\n",
      " 9   Cuisines              9542 non-null   object \n",
      " 10  Average Cost for two  9551 non-null   int64  \n",
      " 11  Currency              9551 non-null   object \n",
      " 12  Has Table booking     9551 non-null   object \n",
      " 13  Has Online delivery   9551 non-null   object \n",
      " 14  Is delivering now     9551 non-null   object \n",
      " 15  Switch to order menu  9551 non-null   object \n",
      " 16  Price range           9551 non-null   int64  \n",
      " 17  Aggregate rating      9551 non-null   float64\n",
      " 18  Rating color          9551 non-null   object \n",
      " 19  Rating text           9551 non-null   object \n",
      " 20  Votes                 9551 non-null   int64  \n",
      "dtypes: float64(3), int64(5), object(13)\n",
      "memory usage: 1.5+ MB\n",
      "None\n",
      "\n",
      "\n",
      "check the missing value in each column\n",
      "Restaurant ID           0\n",
      "Restaurant Name         0\n",
      "Country Code            0\n",
      "City                    0\n",
      "Address                 0\n",
      "Locality                0\n",
      "Locality Verbose        0\n",
      "Longitude               0\n",
      "Latitude                0\n",
      "Cuisines                9\n",
      "Average Cost for two    0\n",
      "Currency                0\n",
      "Has Table booking       0\n",
      "Has Online delivery     0\n",
      "Is delivering now       0\n",
      "Switch to order menu    0\n",
      "Price range             0\n",
      "Aggregate rating        0\n",
      "Rating color            0\n",
      "Rating text             0\n",
      "Votes                   0\n",
      "dtype: int64\n",
      "\n",
      "check the missing value in each column\n",
      "Restaurant ID           0\n",
      "Restaurant Name         0\n",
      "Country Code            0\n",
      "City                    0\n",
      "Address                 0\n",
      "Locality                0\n",
      "Locality Verbose        0\n",
      "Longitude               0\n",
      "Latitude                0\n",
      "Cuisines                9\n",
      "Average Cost for two    0\n",
      "Currency                0\n",
      "Has Table booking       0\n",
      "Has Online delivery     0\n",
      "Is delivering now       0\n",
      "Switch to order menu    0\n",
      "Price range             0\n",
      "Aggregate rating        0\n",
      "Rating color            0\n",
      "Rating text             0\n",
      "Votes                   0\n",
      "dtype: int64\n"
     ]
    }
   ],
   "source": [
    "def basic_inspection_dataset(table):\n",
    "    \"\"\"Generates a basic inspection dataset from the given table.\"\"\"\n",
    "    \n",
    "    print(\"top 5 rows - using head\")\n",
    "    print(table.head())\n",
    "    print()\n",
    "        \n",
    "    print(\"bottom 5 rows using tail\")\n",
    "    print(table.tail())\n",
    "    print()\n",
    "        \n",
    "    print(\"numbers of samples and columns\")\n",
    "    print(table.shape)\n",
    "    print()\n",
    "    \n",
    "    print(\"numbers of samples \")\n",
    "    print(len(table))\n",
    "    print()\n",
    "    \n",
    "    print(\"numbers of entries in the data frame\")\n",
    "    print(table.size)\n",
    "    print()\n",
    "    \n",
    "    print(\"Columns Names\")\n",
    "    print(table.columns)\n",
    "    print()\n",
    "\n",
    "    print(\"Columns dtypes\")\n",
    "    print(table.dtypes)\n",
    "    print()\n",
    "    \n",
    "    print(\"Dataframe info\")\n",
    "    print(table.info())\n",
    "    print()\n",
    "    \n",
    "    print()\n",
    "    print(\"check the missing value in each column\")\n",
    "    print(table.isnull().sum())\n",
    "          \n",
    "    print()\n",
    "    print(\"check the missing value in each column\")\n",
    "    print(table.isna().sum())\n",
    "\n",
    "basic_inspection_dataset(restaurant_df)"
   ]
  },
  {
   "cell_type": "markdown",
   "id": "368fef68",
   "metadata": {},
   "source": [
    "## 4. Handling Missing Values"
   ]
  },
  {
   "cell_type": "code",
   "execution_count": 4,
   "id": "dcc39d80",
   "metadata": {
    "scrolled": false
   },
   "outputs": [
    {
     "name": "stdout",
     "output_type": "stream",
     "text": [
      "North Indian\n"
     ]
    },
    {
     "data": {
      "text/plain": [
       "Restaurant ID           0\n",
       "Restaurant Name         0\n",
       "Country Code            0\n",
       "City                    0\n",
       "Address                 0\n",
       "Locality                0\n",
       "Locality Verbose        0\n",
       "Longitude               0\n",
       "Latitude                0\n",
       "Cuisines                0\n",
       "Average Cost for two    0\n",
       "Currency                0\n",
       "Has Table booking       0\n",
       "Has Online delivery     0\n",
       "Is delivering now       0\n",
       "Switch to order menu    0\n",
       "Price range             0\n",
       "Aggregate rating        0\n",
       "Rating color            0\n",
       "Rating text             0\n",
       "Votes                   0\n",
       "dtype: int64"
      ]
     },
     "execution_count": 4,
     "metadata": {},
     "output_type": "execute_result"
    }
   ],
   "source": [
    "#For a categorical variable, determine the most frequent value, known as the mode.\n",
    "cuisine_mode = restaurant_df['Cuisines'].mode()[0]\n",
    "print(cuisine_mode)\n",
    "\n",
    "# fill the missing value with mode\n",
    "restaurant_df['Cuisines'].fillna(cuisine_mode,inplace=True)\n",
    "\n",
    "# check for missing values - for confirmation\n",
    "restaurant_df.isnull().sum()"
   ]
  },
  {
   "cell_type": "markdown",
   "id": "fb1c4d65",
   "metadata": {},
   "source": [
    "## Level 1, Task 1: Top Cuisines"
   ]
  },
  {
   "cell_type": "markdown",
   "id": "e21df492",
   "metadata": {},
   "source": [
    "## 1.1.1 Determine the top three most common cuisines in Dataset."
   ]
  },
  {
   "cell_type": "code",
   "execution_count": 5,
   "id": "a33e0661",
   "metadata": {
    "scrolled": true
   },
   "outputs": [],
   "source": [
    "def frequency_table_variable(cat_name,count):\n",
    "    \"\"\"Generate a frequency table for the categorical variable 'cat_name' with  top 'count' occurrences.\"\"\"\n",
    "    value_counts = restaurant_df[cat_name].value_counts().reset_index().head(count)\n",
    "    # Give names to the columns\n",
    "    value_counts.columns = ['Cuisines', 'Frequency']\n",
    "\n",
    "    # Print the result as a table\n",
    "    print(tabulate(value_counts, headers='keys', tablefmt='pretty'))\n",
    "    print()\n",
    "  \n",
    "    print(value_counts[\"Cuisines\"])"
   ]
  },
  {
   "cell_type": "code",
   "execution_count": 6,
   "id": "a3be8326",
   "metadata": {
    "scrolled": true
   },
   "outputs": [
    {
     "name": "stdout",
     "output_type": "stream",
     "text": [
      "Top Three most common cuisines in Dataset:\n",
      "+---+-----------------------+-----------+\n",
      "|   |       Cuisines        | Frequency |\n",
      "+---+-----------------------+-----------+\n",
      "| 0 |     North Indian      |    945    |\n",
      "| 1 | North Indian, Chinese |    511    |\n",
      "| 2 |        Chinese        |    354    |\n",
      "+---+-----------------------+-----------+\n",
      "\n",
      "0             North Indian\n",
      "1    North Indian, Chinese\n",
      "2                  Chinese\n",
      "Name: Cuisines, dtype: object\n"
     ]
    }
   ],
   "source": [
    "print(\"Top Three most common cuisines in Dataset:\")\n",
    "frequency_table_variable(\"Cuisines\",3)"
   ]
  },
  {
   "cell_type": "markdown",
   "id": "47494d4d",
   "metadata": {},
   "source": [
    "$observations$\n",
    "- Top Three most common cuisines in Dataset\n",
    "  1. North Indian\n",
    "  2. North Indian, Chinese\n",
    "  3. Chinese\n"
   ]
  },
  {
   "cell_type": "markdown",
   "id": "6869af7b",
   "metadata": {},
   "source": [
    "### 1.1.2 Calculate the percentage of restaurants that serve each of the top cuisines ###"
   ]
  },
  {
   "cell_type": "code",
   "execution_count": 7,
   "id": "efaeeec0",
   "metadata": {
    "scrolled": true
   },
   "outputs": [],
   "source": [
    "def calculate_relative_frequency(city,count):\n",
    "    \"\"\"Calculates the relative frequency of a certain 'city' based on the top 'count' of occurrences.\"\"\"\n",
    "    value_counts = restaurant_df[city].value_counts().reset_index().head(count)\n",
    "    # Rename the columns\n",
    "    value_counts.columns = ['Cuisines', 'Count']\n",
    "    value_counts['Percentage'] = round((value_counts['Count'] / len(restaurant_df))*100,2)\n",
    "\n",
    "    # Print the result as a table\n",
    "    print(tabulate(value_counts, headers='keys', tablefmt='pretty'))\n",
    "    \n",
    "    plt.figure(figsize=(5,5))\n",
    "    values = value_counts.Cuisines\n",
    "    labels = value_counts.Count\n",
    "    plt.bar(values,labels)\n",
    "    plt.title('Top three Cuisines')\n",
    "    plt.xlabel('Cuisines')\n",
    "    plt.ylabel(\"Count - Frequency\")\n",
    "    plt.show()\n",
    "    \n",
    "    plt.title('Percentage of restaurantrants that serve each of the top cuisines.')\n",
    "    plt.pie(value_counts['Percentage'],labels=value_counts['Cuisines'],autopct='%0.2f%%',startangle=90)\n",
    "    plt.show()"
   ]
  },
  {
   "cell_type": "code",
   "execution_count": 8,
   "id": "6bf41c8d",
   "metadata": {
    "scrolled": false
   },
   "outputs": [
    {
     "name": "stdout",
     "output_type": "stream",
     "text": [
      "+---+-----------------------+-------+------------+\n",
      "|   |       Cuisines        | Count | Percentage |\n",
      "+---+-----------------------+-------+------------+\n",
      "| 0 |     North Indian      |  945  |    9.89    |\n",
      "| 1 | North Indian, Chinese |  511  |    5.35    |\n",
      "| 2 |        Chinese        |  354  |    3.71    |\n",
      "+---+-----------------------+-------+------------+\n"
     ]
    },
    {
     "data": {
      "image/png": "[encoded data removed]",
      "text/plain": [
       "<Figure size 500x500 with 1 Axes>"
      ]
     },
     "metadata": {},
     "output_type": "display_data"
    },
    {
     "data": {
      "image/png": "[encoded data removed]",
      "text/plain": [
       "<Figure size 640x480 with 1 Axes>"
      ]
     },
     "metadata": {},
     "output_type": "display_data"
    }
   ],
   "source": [
    "calculate_relative_frequency(\"Cuisines\",3)"
   ]
  },
  {
   "cell_type": "markdown",
   "id": "c9fb33c2",
   "metadata": {},
   "source": [
    "$observations$\n",
    " - Percentage of Restaurants that serve each of the top cuisines\n",
    "    1. North Indian - 52.19%\n",
    "    2. North Indian, Chinese - 28.23%\n",
    "    3. Chinese - 19.58%"
   ]
  },
  {
   "cell_type": "markdown",
   "id": "67d024f7",
   "metadata": {},
   "source": [
    "## Level 1, Task 2 :  City Analysis"
   ]
  },
  {
   "cell_type": "markdown",
   "id": "1f05e69f",
   "metadata": {},
   "source": [
    "### 1.2.1  Identify the city with the highest number of restaurants in the dataset"
   ]
  },
  {
   "cell_type": "code",
   "execution_count": 9,
   "id": "1a958ed6",
   "metadata": {
    "scrolled": false
   },
   "outputs": [
    {
     "name": "stdout",
     "output_type": "stream",
     "text": [
      "City with the highest number of restaurants in the dataset.\n",
      "+---+-----------+-----------+\n",
      "|   | Cuisines  | Frequency |\n",
      "+---+-----------+-----------+\n",
      "| 0 | New Delhi |   5473    |\n",
      "+---+-----------+-----------+\n",
      "\n",
      "0    New Delhi\n",
      "Name: Cuisines, dtype: object\n"
     ]
    }
   ],
   "source": [
    "print(\"City with the highest number of restaurants in the dataset.\")\n",
    "frequency_table_variable(\"City\",1)"
   ]
  },
  {
   "cell_type": "markdown",
   "id": "6899053c",
   "metadata": {},
   "source": [
    "$Observations$\n",
    "- City with the highest number of Restaurants in the dataset\n",
    "    1. New Delhi"
   ]
  },
  {
   "cell_type": "markdown",
   "id": "d17b4bfc",
   "metadata": {},
   "source": [
    "### 1.2.2 Calculate the average rating for restaurants in each city.\n"
   ]
  },
  {
   "cell_type": "code",
   "execution_count": 10,
   "id": "7cc92e42",
   "metadata": {
    "scrolled": true
   },
   "outputs": [],
   "source": [
    "def calculate_avg_rating_restaurant_by_city(city, rating):\n",
    "    \"\"\"Calculates the average rating of restaurants in the given 'city' based on the provided 'rating' data.\"\"\"\n",
    "    avg_ratings_by_city = restaurant_df.groupby(city)[rating].mean().reset_index()\n",
    "    print(avg_ratings_by_city)"
   ]
  },
  {
   "cell_type": "code",
   "execution_count": 11,
   "id": "cf9cb701",
   "metadata": {
    "scrolled": false
   },
   "outputs": [
    {
     "name": "stdout",
     "output_type": "stream",
     "text": [
      "Calculate the average rating for restaurants in each city\n",
      "                City  Aggregate rating\n",
      "0          Abu Dhabi          4.300000\n",
      "1               Agra          3.965000\n",
      "2          Ahmedabad          4.161905\n",
      "3             Albany          3.555000\n",
      "4          Allahabad          3.395000\n",
      "..               ...               ...\n",
      "136          Weirton          3.900000\n",
      "137  Wellington City          4.250000\n",
      "138   Winchester Bay          3.200000\n",
      "139          Yorkton          3.300000\n",
      "140        ��stanbul          4.292857\n",
      "\n",
      "[141 rows x 2 columns]\n"
     ]
    }
   ],
   "source": [
    "print(\"Calculate the average rating for restaurants in each city\")\n",
    "calculate_avg_rating_restaurant_by_city(\"City\",\"Aggregate rating\")"
   ]
  },
  {
   "cell_type": "markdown",
   "id": "34d77dca",
   "metadata": {},
   "source": [
    "### 1.2.3 Determine the city with the highest average rating"
   ]
  },
  {
   "cell_type": "code",
   "execution_count": 12,
   "id": "b447eb95",
   "metadata": {
    "scrolled": true
   },
   "outputs": [],
   "source": [
    "def calculate_highest_avg_rating(city,rating):\n",
    "    \"\"\"Calculates the highest average rating among restaurants in the specified 'city' using the provided 'rating' data.\"\"\"\n",
    "    avg_ratings = restaurant_df.groupby(city)[rating].mean().reset_index()\n",
    "    avg_ratings = avg_ratings.sort_values(by=rating,ascending=False)\n",
    "    print(\"City with the highest average rating\")\n",
    "    print(avg_ratings.head(1))"
   ]
  },
  {
   "cell_type": "code",
   "execution_count": 13,
   "id": "97e90c6b",
   "metadata": {
    "scrolled": false
   },
   "outputs": [
    {
     "name": "stdout",
     "output_type": "stream",
     "text": [
      "City with the highest average rating\n",
      "          City  Aggregate rating\n",
      "56  Inner City               4.9\n"
     ]
    }
   ],
   "source": [
    "calculate_highest_avg_rating(\"City\",\"Aggregate rating\")"
   ]
  },
  {
   "cell_type": "markdown",
   "id": "8918639f",
   "metadata": {},
   "source": [
    "$Observations$\n",
    "- City with the highest average rating\n",
    "    1. Inner City with 4.9 as Avg Rating"
   ]
  },
  {
   "cell_type": "markdown",
   "id": "953b07d1",
   "metadata": {},
   "source": [
    "## Level 1, Task 3 :  Price Range Distribution"
   ]
  },
  {
   "cell_type": "markdown",
   "id": "162e6feb",
   "metadata": {},
   "source": [
    "### 1.3.1 Create a histogram or bar chart to visualize the distribution of price ranges among the restaurants."
   ]
  },
  {
   "cell_type": "code",
   "execution_count": 14,
   "id": "70a6bc29",
   "metadata": {
    "scrolled": true
   },
   "outputs": [],
   "source": [
    "def draw_bar_plot(price):\n",
    "    \"\"\"Draws a bar plot based on the 'price' data.\"\"\"\n",
    "    price_counts = restaurant_df[price].value_counts()\n",
    "    plt.bar(price_counts.index, price_counts.values, color=['red', 'blue', 'orange','yellow'])\n",
    "    plt.xlabel('Price Range')\n",
    "    plt.ylabel('Number of Restaurants')\n",
    "    plt.title('Distribution of Price Ranges Among Restaurants')\n",
    "    plt.show()"
   ]
  },
  {
   "cell_type": "code",
   "execution_count": 15,
   "id": "bc2a328e",
   "metadata": {
    "scrolled": false
   },
   "outputs": [
    {
     "data": {
      "image/png": "[encoded data removed]",
      "text/plain": [
       "<Figure size 640x480 with 1 Axes>"
      ]
     },
     "metadata": {},
     "output_type": "display_data"
    }
   ],
   "source": [
    "draw_bar_plot('Price range')"
   ]
  },
  {
   "cell_type": "markdown",
   "id": "be121db3",
   "metadata": {},
   "source": [
    "$Observations$\n",
    "- Distribution of price ranges among the restaurants\n",
    "    1. 1 \n",
    "    2. 2\n",
    "    3. 3\n",
    "    4. 4"
   ]
  },
  {
   "cell_type": "markdown",
   "id": "490f96c6",
   "metadata": {},
   "source": [
    "### 1.3.2 Calculate the percentage of restaurants in each price range category."
   ]
  },
  {
   "cell_type": "code",
   "execution_count": 16,
   "id": "4e969291",
   "metadata": {
    "scrolled": true
   },
   "outputs": [],
   "source": [
    "def cal_per_restaurant_price_range(price):\n",
    "    \"\"\"Calculates the price range percentage restaurant based on the given 'price' data.\"\"\"\n",
    "    value_counts = restaurant_df[price].value_counts().reset_index()\n",
    "    \n",
    "    # Rename the columns\n",
    "    value_counts.columns = ['Price-Range', 'Count']\n",
    "    total_count = value_counts['Count'].sum()\n",
    "    \n",
    "    value_counts['Percentage'] = round((value_counts['Count'] / total_count)*100,2)\n",
    "\n",
    "    # Print the result as a table\n",
    "    print(tabulate(value_counts, headers='keys', tablefmt='pretty'))"
   ]
  },
  {
   "cell_type": "code",
   "execution_count": 17,
   "id": "dee31bf1",
   "metadata": {
    "scrolled": false
   },
   "outputs": [
    {
     "name": "stdout",
     "output_type": "stream",
     "text": [
      "+---+-------------+--------+------------+\n",
      "|   | Price-Range | Count  | Percentage |\n",
      "+---+-------------+--------+------------+\n",
      "| 0 |     1.0     | 4444.0 |   46.53    |\n",
      "| 1 |     2.0     | 3113.0 |   32.59    |\n",
      "| 2 |     3.0     | 1408.0 |   14.74    |\n",
      "| 3 |     4.0     | 586.0  |    6.14    |\n",
      "+---+-------------+--------+------------+\n"
     ]
    }
   ],
   "source": [
    "cal_per_restaurant_price_range(\"Price range\")"
   ]
  },
  {
   "cell_type": "markdown",
   "id": "f162dc4a",
   "metadata": {},
   "source": [
    "$Observations$\n",
    "- Percentage of restaurants in each price range category.\n",
    "    1. Price Range :1 Percantage : 46.53%\n",
    "    2. Price Range :2 Percentage: 32.59%\n",
    "    3. Price Range :3 Percentage: 14.74%\n",
    "    4. Price Range: 4 Percentage: 6.14%\n",
    "            "
   ]
  },
  {
   "cell_type": "markdown",
   "id": "a08e2ca4",
   "metadata": {},
   "source": [
    "## Level 1 , Task 4: Online Delivery"
   ]
  },
  {
   "cell_type": "markdown",
   "id": "6cb762a0",
   "metadata": {},
   "source": [
    "### 1.4.1 Determine the percentage of restaurants that offer online delivery"
   ]
  },
  {
   "cell_type": "code",
   "execution_count": 18,
   "id": "0d3db4eb",
   "metadata": {
    "scrolled": true
   },
   "outputs": [],
   "source": [
    "def per_online_delivery_restaurants(online_delivery):\n",
    "    \"\"\"Calculates the percentage of restaurants offering online delivery.\"\"\"\n",
    "    total_restaurant_count =restaurant_df.shape[0]\n",
    "    online_restaurnat_count = restaurant_df[restaurant_df[online_delivery]=='Yes']\n",
    "    online_restaurant_count= online_restaurnat_count.shape[0]\n",
    "    # percentage of online order taken by the restaurants\n",
    "    percentage=round((online_restaurant_count/total_restaurant_count)*100,2)\n",
    "    print(percentage)"
   ]
  },
  {
   "cell_type": "code",
   "execution_count": 19,
   "id": "94831795",
   "metadata": {
    "scrolled": false
   },
   "outputs": [
    {
     "name": "stdout",
     "output_type": "stream",
     "text": [
      "percentage of online order taken by the restaurants\n",
      "25.66\n"
     ]
    }
   ],
   "source": [
    "print(\"percentage of online order taken by the restaurants\")\n",
    "per_online_delivery_restaurants('Has Online delivery')"
   ]
  },
  {
   "cell_type": "markdown",
   "id": "1bd53f48",
   "metadata": {},
   "source": [
    "$Observations$\n",
    "- Percentage of restaurants that offer online delivery - 25.66%"
   ]
  },
  {
   "cell_type": "markdown",
   "id": "df53680d",
   "metadata": {},
   "source": [
    "### 1.4.2 Compare the average ratings of restaurants with and without online delivery."
   ]
  },
  {
   "cell_type": "code",
   "execution_count": 20,
   "id": "9fe55a65",
   "metadata": {
    "scrolled": true
   },
   "outputs": [],
   "source": [
    "def avg_ratings_by_restaurant_with_without_online_delivery(online_delivery,rating):\n",
    "    # average rating of restaurant with and without online delivery\n",
    "    print(restaurant_df.groupby(online_delivery)[rating].mean().round(2).reset_index())\n",
    "    "
   ]
  },
  {
   "cell_type": "code",
   "execution_count": 21,
   "id": "9b70948d",
   "metadata": {
    "scrolled": true
   },
   "outputs": [
    {
     "name": "stdout",
     "output_type": "stream",
     "text": [
      "average rating of restaurant with and without online delivery\n",
      "  Has Online delivery  Aggregate rating\n",
      "0                  No              2.47\n",
      "1                 Yes              3.25\n"
     ]
    }
   ],
   "source": [
    "print(\"average rating of restaurant with and without online delivery\")\n",
    "avg_ratings_by_restaurant_with_without_online_delivery('Has Online delivery','Aggregate rating')"
   ]
  },
  {
   "cell_type": "markdown",
   "id": "2e0db6f7",
   "metadata": {},
   "source": [
    "$Observations$\n",
    "- average ratings of restaurants with and without online delivery\n",
    "    1. No - Online Delivery - Avg Rating - 2.47\n",
    "    2. Online Delivery -  Avg Rating - 3.25"
   ]
  }
 ],
 "metadata": {
  "kernelspec": {
   "display_name": "Python 3 (ipykernel)",
   "language": "python",
   "name": "python3"
  },
  "language_info": {
   "codemirror_mode": {
    "name": "ipython",
    "version": 3
   },
   "file_extension": ".py",
   "mimetype": "text/x-python",
   "name": "python",
   "nbconvert_exporter": "python",
   "pygments_lexer": "ipython3",
   "version": "3.11.5"
  }
 },
 "nbformat": 4,
 "nbformat_minor": 5
}
