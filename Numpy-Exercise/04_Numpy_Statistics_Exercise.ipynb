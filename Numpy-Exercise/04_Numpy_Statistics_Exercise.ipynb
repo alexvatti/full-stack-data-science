{
 "cells": [
  {
   "cell_type": "markdown",
   "id": "7678aeb0-2554-4839-b193-3abecac9da83",
   "metadata": {},
   "source": [
    "# Statistics"
   ]
  },
  {
   "cell_type": "markdown",
   "id": "f6d71fac-8851-47b8-8ea0-6cab673b87ee",
   "metadata": {},
   "source": [
    "## Mean"
   ]
  },
  {
   "cell_type": "code",
   "execution_count": 2,
   "id": "8a4a424b-0fd9-49a5-9e73-318f7777d30d",
   "metadata": {},
   "outputs": [
    {
     "name": "stdout",
     "output_type": "stream",
     "text": [
      "The average/mean of list values is : 2.0\n"
     ]
    }
   ],
   "source": [
    "# Python code to demonstrate the working of \n",
    "# mean()\n",
    "\n",
    "import numpy as np\n",
    "\n",
    "# initializing list \n",
    "li = [1, 2, 3, 3, 2, 2, 2, 1] \n",
    "\n",
    "# using mean() to calculate average of list\n",
    "# elements \n",
    "print (\"The average/mean of list values is : \",end=\"\") \n",
    "print (np.mean(li))\n"
   ]
  },
  {
   "cell_type": "markdown",
   "id": "899c0240-16c9-4c8e-bd43-eaec6bb04ffa",
   "metadata": {},
   "source": [
    "## Median"
   ]
  },
  {
   "cell_type": "code",
   "execution_count": 4,
   "id": "c942b7e1-1df6-4eb1-a16e-712bac749b76",
   "metadata": {},
   "outputs": [
    {
     "name": "stdout",
     "output_type": "stream",
     "text": [
      "Median of data-set 1 is 5.0\n",
      "Median of data-set 2 is 5.9\n",
      "Median of data-set 4 is -5.0\n",
      "Median of data-set 5 is 0.0\n"
     ]
    }
   ],
   "source": [
    "# Python code to demonstrate the \n",
    "# working of median() on various \n",
    "# range of data-sets \n",
    "import numpy as np\n",
    "\n",
    "# tuple of positive integer numbers \n",
    "data1 = (2, 3, 4, 5, 7, 9, 11) \n",
    "# tuple of floating point values \n",
    "data2 = (2.4, 5.1, 6.7, 8.9) \n",
    "# tuple of a set of negative integers \n",
    "data4 = (-5, -1, -12, -19, -3) \n",
    "# tuple of set of positive \n",
    "# and negative integers \n",
    "data5 = (-1, -2, -3, -4, 4, 3, 2, 1) \n",
    "\n",
    "# Printing the median of above datasets \n",
    "print(\"Median of data-set 1 is % s\" % (np.median(data1))) \n",
    "print(\"Median of data-set 2 is % s\" % (np.median(data2))) \n",
    "print(\"Median of data-set 4 is % s\" % (np.median(data4))) \n",
    "print(\"Median of data-set 5 is % s\" % (np.median(data5)))\n"
   ]
  },
  {
   "cell_type": "markdown",
   "id": "cb4f7835-0ea3-4d09-9554-c47e5a7d62d0",
   "metadata": {},
   "source": [
    "## Mode"
   ]
  },
  {
   "cell_type": "code",
   "execution_count": 9,
   "id": "78f673ce-03af-4cad-9c8d-563b57c8788f",
   "metadata": {},
   "outputs": [
    {
     "name": "stdout",
     "output_type": "stream",
     "text": [
      "Mode of data set 1 is  ModeResult(mode=5, count=4)\n",
      "Mode of data set 2 is  ModeResult(mode=1.3, count=3)\n",
      "Mode of data set 4 is  ModeResult(mode=-2, count=3)\n"
     ]
    }
   ],
   "source": [
    "# Python code to demonstrate the \n",
    "# working of mode() function \n",
    "# on a various range of data types \n",
    "\n",
    "from scipy import stats\n",
    "# tuple of positive integer numbers \n",
    "data1 = (2, 3, 3, 4, 5, 5, 5, 5, 6, 6, 6, 7) \n",
    "# tuple of a set of floating point values \n",
    "data2 = (2.4, 1.3, 1.3, 1.3, 2.4, 4.6) \n",
    "# tuple of a set of negative integers \n",
    "data4 = (-1, -2, -2, -2, -7, -7, -9) \n",
    "\n",
    "\n",
    "# Printing out the mode of the above data-sets \n",
    "print(\"Mode of data set 1 is \" , (stats.mode(data1))) \n",
    "print(\"Mode of data set 2 is \" , (stats.mode(data2))) \n",
    "print(\"Mode of data set 4 is \" , (stats.mode(data4))) \n"
   ]
  },
  {
   "cell_type": "markdown",
   "id": "6138713c-35e7-414a-a701-505325da3bbf",
   "metadata": {},
   "source": [
    "## Range"
   ]
  },
  {
   "cell_type": "code",
   "execution_count": 10,
   "id": "0b8af6b8-a30b-453f-9641-d7484247cac8",
   "metadata": {},
   "outputs": [
    {
     "name": "stdout",
     "output_type": "stream",
     "text": [
      "Maximum = 5, Minimum = 1 and Range = 4\n"
     ]
    }
   ],
   "source": [
    "# Sample Data \n",
    "arr = [1, 2, 3, 4, 5]\n",
    "\n",
    "#Finding Max \n",
    "Maximum = max(arr)\n",
    "# Finding Min \n",
    "Minimum = min(arr) \n",
    "\n",
    "# Difference Of Max and Min\n",
    "Range = Maximum-Minimum\t \n",
    "print(\"Maximum = {}, Minimum = {} and Range = {}\".format(\n",
    "\tMaximum, Minimum, Range))\n"
   ]
  },
  {
   "cell_type": "markdown",
   "id": "aec72670-f8e4-417a-987a-cb790d038419",
   "metadata": {},
   "source": [
    "## Variance"
   ]
  },
  {
   "cell_type": "code",
   "execution_count": 12,
   "id": "03ee13b5-7f43-421f-a344-300467f1005f",
   "metadata": {},
   "outputs": [
    {
     "name": "stdout",
     "output_type": "stream",
     "text": [
      "Variance of Sample1 is 13.551020408163264 \n",
      "Variance of Sample2 is 2.9166666666666665 \n",
      "Variance of Sample3 is 53.484375 \n",
      "Variance of Sample5 is 0.14090400000000006 \n"
     ]
    }
   ],
   "source": [
    "# Python code to demonstrate variance()\n",
    "# function on varying range of data-types\n",
    "\n",
    "import numpy as np\n",
    "\n",
    "# tuple of a set of positive integers\n",
    "# numbers are spread apart but not very much\n",
    "sample1 = (1, 2, 5, 4, 8, 9, 12)\n",
    "\n",
    "# tuple of a set of negative integers\n",
    "sample2 = (-2, -4, -3, -1, -5, -6)\n",
    "\n",
    "# tuple of a set of positive and negative numbers\n",
    "# data-points are spread apart considerably\n",
    "sample3 = (-9, -1, -0, 2, 1, 3, 4, 19)\n",
    "\n",
    "# tuple of a set of floating point values\n",
    "sample5 = (1.23, 1.45, 2.1, 2.2, 1.9)\n",
    "\n",
    "# Print the variance of each samples\n",
    "print(\"Variance of Sample1 is % s \" % (np.var(sample1)))\n",
    "print(\"Variance of Sample2 is % s \" % (np.var(sample2)))\n",
    "print(\"Variance of Sample3 is % s \" % (np.var(sample3)))\n",
    "print(\"Variance of Sample5 is % s \" % (np.var(sample5)))\n"
   ]
  },
  {
   "cell_type": "markdown",
   "id": "f118b855-6598-4623-9ed3-0c7a7cb022f3",
   "metadata": {},
   "source": [
    "## std deviation"
   ]
  },
  {
   "cell_type": "code",
   "execution_count": 13,
   "id": "4ea3f728-1982-4a9f-ac59-4de90638bc5a",
   "metadata": {},
   "outputs": [
    {
     "name": "stdout",
     "output_type": "stream",
     "text": [
      "The Standard Deviation of Sample1 is 3.6811710647786073\n",
      "The Standard Deviation of Sample2 is 1.707825127659933\n",
      "The Standard Deviation of Sample3 is 7.313301238155037\n",
      "The Standard Deviation of Sample4 is 0.37537181567080935\n"
     ]
    }
   ],
   "source": [
    "# Python code to demonstrate stdev()\n",
    "# function on various range of datasets\n",
    "\n",
    "import numpy as np\n",
    "# creating a varying range of sample sets\n",
    "# numbers are spread apart but not very much\n",
    "sample1 = (1, 2, 5, 4, 8, 9, 12)\n",
    "\n",
    "# tuple of a set of negative integers\n",
    "sample2 = (-2, -4, -3, -1, -5, -6)\n",
    "\n",
    "# tuple of a set of positive and negative numbers\n",
    "# data-points are spread apart considerably\n",
    "sample3 = (-9, -1, -0, 2, 1, 3, 4, 19)\n",
    "\n",
    "# tuple of a set of floating point values\n",
    "sample4 = (1.23, 1.45, 2.1, 2.2, 1.9)\n",
    "\n",
    "# Print the standard deviation of\n",
    "# following sample sets of observations\n",
    "print(\"The Standard Deviation of Sample1 is % s\"\n",
    "\t% (np.std(sample1)))\n",
    "\n",
    "print(\"The Standard Deviation of Sample2 is % s\"\n",
    "\t% (np.std(sample2)))\n",
    "\n",
    "print(\"The Standard Deviation of Sample3 is % s\"\n",
    "\t% (np.std(sample3)))\n",
    "\n",
    "\n",
    "print(\"The Standard Deviation of Sample4 is % s\"\n",
    "\t% (np.std(sample4)))\n"
   ]
  },
  {
   "cell_type": "markdown",
   "id": "241022db-f5aa-48e6-b8bc-7c810f37c7b7",
   "metadata": {},
   "source": [
    "## IRIS Dataset"
   ]
  },
  {
   "cell_type": "code",
   "execution_count": 17,
   "id": "7ae9eb40-1264-4ba6-9487-6f83bd493456",
   "metadata": {},
   "outputs": [
    {
     "data": {
      "text/html": [
       "<div>\n",
       "<style scoped>\n",
       "    .dataframe tbody tr th:only-of-type {\n",
       "        vertical-align: middle;\n",
       "    }\n",
       "\n",
       "    .dataframe tbody tr th {\n",
       "        vertical-align: top;\n",
       "    }\n",
       "\n",
       "    .dataframe thead th {\n",
       "        text-align: right;\n",
       "    }\n",
       "</style>\n",
       "<table border=\"1\" class=\"dataframe\">\n",
       "  <thead>\n",
       "    <tr style=\"text-align: right;\">\n",
       "      <th></th>\n",
       "      <th>sepal length (cm)</th>\n",
       "      <th>sepal width (cm)</th>\n",
       "      <th>petal length (cm)</th>\n",
       "      <th>petal width (cm)</th>\n",
       "      <th>target</th>\n",
       "    </tr>\n",
       "  </thead>\n",
       "  <tbody>\n",
       "    <tr>\n",
       "      <th>0</th>\n",
       "      <td>5.1</td>\n",
       "      <td>3.5</td>\n",
       "      <td>1.4</td>\n",
       "      <td>0.2</td>\n",
       "      <td>0</td>\n",
       "    </tr>\n",
       "    <tr>\n",
       "      <th>1</th>\n",
       "      <td>4.9</td>\n",
       "      <td>3.0</td>\n",
       "      <td>1.4</td>\n",
       "      <td>0.2</td>\n",
       "      <td>0</td>\n",
       "    </tr>\n",
       "    <tr>\n",
       "      <th>2</th>\n",
       "      <td>4.7</td>\n",
       "      <td>3.2</td>\n",
       "      <td>1.3</td>\n",
       "      <td>0.2</td>\n",
       "      <td>0</td>\n",
       "    </tr>\n",
       "    <tr>\n",
       "      <th>3</th>\n",
       "      <td>4.6</td>\n",
       "      <td>3.1</td>\n",
       "      <td>1.5</td>\n",
       "      <td>0.2</td>\n",
       "      <td>0</td>\n",
       "    </tr>\n",
       "    <tr>\n",
       "      <th>4</th>\n",
       "      <td>5.0</td>\n",
       "      <td>3.6</td>\n",
       "      <td>1.4</td>\n",
       "      <td>0.2</td>\n",
       "      <td>0</td>\n",
       "    </tr>\n",
       "  </tbody>\n",
       "</table>\n",
       "</div>"
      ],
      "text/plain": [
       "   sepal length (cm)  sepal width (cm)  petal length (cm)  petal width (cm)  \\\n",
       "0                5.1               3.5                1.4               0.2   \n",
       "1                4.9               3.0                1.4               0.2   \n",
       "2                4.7               3.2                1.3               0.2   \n",
       "3                4.6               3.1                1.5               0.2   \n",
       "4                5.0               3.6                1.4               0.2   \n",
       "\n",
       "   target  \n",
       "0       0  \n",
       "1       0  \n",
       "2       0  \n",
       "3       0  \n",
       "4       0  "
      ]
     },
     "execution_count": 17,
     "metadata": {},
     "output_type": "execute_result"
    }
   ],
   "source": [
    "# Load necessary pyhton modules\n",
    "import numpy as np\n",
    "import pandas as pd\n",
    "import matplotlib.pyplot as plt\n",
    "import seaborn as sns\n",
    "from sklearn.datasets import load_iris\n",
    "data = load_iris()\n",
    "df = pd.DataFrame(data=data.data, columns=data.feature_names)\n",
    "df['target'] = data['target']\n",
    "df.head()\n"
   ]
  },
  {
   "cell_type": "code",
   "execution_count": 18,
   "id": "da1b074d-3189-4392-8bc3-18b8fecf197b",
   "metadata": {},
   "outputs": [],
   "source": [
    "columns = [\"Sepal_length\", \"Sepal_width\", \"Petal_length\", \"Petal_width\", \"Species\"]\n",
    "df.columns = columns"
   ]
  },
  {
   "cell_type": "code",
   "execution_count": 21,
   "id": "64029d05-9207-4df3-bad9-b8ad220662ed",
   "metadata": {},
   "outputs": [
    {
     "data": {
      "text/html": [
       "<div>\n",
       "<style scoped>\n",
       "    .dataframe tbody tr th:only-of-type {\n",
       "        vertical-align: middle;\n",
       "    }\n",
       "\n",
       "    .dataframe tbody tr th {\n",
       "        vertical-align: top;\n",
       "    }\n",
       "\n",
       "    .dataframe thead th {\n",
       "        text-align: right;\n",
       "    }\n",
       "</style>\n",
       "<table border=\"1\" class=\"dataframe\">\n",
       "  <thead>\n",
       "    <tr style=\"text-align: right;\">\n",
       "      <th></th>\n",
       "      <th>Sepal_length</th>\n",
       "      <th>Sepal_width</th>\n",
       "      <th>Petal_length</th>\n",
       "      <th>Petal_width</th>\n",
       "      <th>Species</th>\n",
       "    </tr>\n",
       "  </thead>\n",
       "  <tbody>\n",
       "    <tr>\n",
       "      <th>0</th>\n",
       "      <td>5.1</td>\n",
       "      <td>3.5</td>\n",
       "      <td>1.4</td>\n",
       "      <td>0.2</td>\n",
       "      <td>0</td>\n",
       "    </tr>\n",
       "    <tr>\n",
       "      <th>1</th>\n",
       "      <td>4.9</td>\n",
       "      <td>3.0</td>\n",
       "      <td>1.4</td>\n",
       "      <td>0.2</td>\n",
       "      <td>0</td>\n",
       "    </tr>\n",
       "    <tr>\n",
       "      <th>2</th>\n",
       "      <td>4.7</td>\n",
       "      <td>3.2</td>\n",
       "      <td>1.3</td>\n",
       "      <td>0.2</td>\n",
       "      <td>0</td>\n",
       "    </tr>\n",
       "    <tr>\n",
       "      <th>3</th>\n",
       "      <td>4.6</td>\n",
       "      <td>3.1</td>\n",
       "      <td>1.5</td>\n",
       "      <td>0.2</td>\n",
       "      <td>0</td>\n",
       "    </tr>\n",
       "    <tr>\n",
       "      <th>4</th>\n",
       "      <td>5.0</td>\n",
       "      <td>3.6</td>\n",
       "      <td>1.4</td>\n",
       "      <td>0.2</td>\n",
       "      <td>0</td>\n",
       "    </tr>\n",
       "  </tbody>\n",
       "</table>\n",
       "</div>"
      ],
      "text/plain": [
       "   Sepal_length  Sepal_width  Petal_length  Petal_width  Species\n",
       "0           5.1          3.5           1.4          0.2        0\n",
       "1           4.9          3.0           1.4          0.2        0\n",
       "2           4.7          3.2           1.3          0.2        0\n",
       "3           4.6          3.1           1.5          0.2        0\n",
       "4           5.0          3.6           1.4          0.2        0"
      ]
     },
     "execution_count": 21,
     "metadata": {},
     "output_type": "execute_result"
    }
   ],
   "source": [
    "df.head()"
   ]
  },
  {
   "cell_type": "code",
   "execution_count": 53,
   "id": "576b4d4c-6d0f-4615-8656-d85ea911a0a2",
   "metadata": {},
   "outputs": [],
   "source": [
    "def basic_stats_on_feature(data,feature):\n",
    "    print(\"mean\" , np.mean(df[feature]))\n",
    "    print(\"median\" , np.median(df[feature]))\n",
    "    print(\"std-deviation\", np.std(df[feature]))\n",
    "    print(\"min\",np.min(df[feature]))\n",
    "    print(\"max\",np.max(df[feature]))\n",
    "    print(\"25% -75%\" ,np.percentile(df[feature],[0.25,0.75]))\n",
    "    q1 = np.percentile(df[feature],[0.25,0.75])[0]\n",
    "    q3 = np.percentile(df[feature],[0.25,0.75])[1]\n",
    "    lower_fence = q1 - 1.5*(q3-q1)\n",
    "    upper_fence = q3 + 1.5*(q3-q1)\n",
    "    print(\"lower fence\", lower_fence)\n",
    "    print(\"higher fence\", upper_fence)\n",
    "    print(\"count\", len(df[feature]))\n"
   ]
  },
  {
   "cell_type": "code",
   "execution_count": 55,
   "id": "8218acea-2265-4b7e-a9a3-1f32a52cb741",
   "metadata": {},
   "outputs": [
    {
     "name": "stdout",
     "output_type": "stream",
     "text": [
      "Sepal_length\n",
      "mean 5.843333333333334\n",
      "median 5.8\n",
      "std-deviation 0.8253012917851409\n",
      "min 4.3\n",
      "max 7.9\n",
      "25% -75% [4.33725 4.4    ]\n",
      "lower fence 4.243124999999999\n",
      "higher fence 4.494125\n",
      "count 150\n",
      "=============================\n",
      "Sepal_width\n",
      "mean 3.0573333333333337\n",
      "median 3.0\n",
      "std-deviation 0.4344109677354946\n",
      "min 2.0\n",
      "max 4.4\n",
      "25% -75% [2.0745 2.2   ]\n",
      "lower fence 1.8862499999999998\n",
      "higher fence 2.38825\n",
      "count 150\n",
      "=============================\n",
      "Petal_length\n",
      "mean 3.7580000000000005\n",
      "median 4.35\n",
      "std-deviation 1.759404065775303\n",
      "min 1.0\n",
      "max 6.9\n",
      "25% -75% [1.03725 1.11175]\n",
      "lower fence 0.9255\n",
      "higher fence 1.2235\n",
      "count 150\n",
      "=============================\n",
      "Petal_width\n",
      "mean 1.1993333333333336\n",
      "median 1.3\n",
      "std-deviation 0.7596926279021594\n",
      "min 0.1\n",
      "max 2.5\n",
      "25% -75% [0.1 0.1]\n",
      "lower fence 0.1\n",
      "higher fence 0.1\n",
      "count 150\n",
      "=============================\n"
     ]
    }
   ],
   "source": [
    "for i in  [\"Sepal_length\", \"Sepal_width\", \"Petal_length\", \"Petal_width\"]:\n",
    "    print(i)\n",
    "    basic_stats_on_feature(df, i)\n",
    "    print(\"=============================\")"
   ]
  },
  {
   "cell_type": "code",
   "execution_count": null,
   "id": "0057be87-399a-4e60-ae04-c02e03a733c5",
   "metadata": {},
   "outputs": [],
   "source": []
  }
 ],
 "metadata": {
  "kernelspec": {
   "display_name": "Python 3 (ipykernel)",
   "language": "python",
   "name": "python3"
  },
  "language_info": {
   "codemirror_mode": {
    "name": "ipython",
    "version": 3
   },
   "file_extension": ".py",
   "mimetype": "text/x-python",
   "name": "python",
   "nbconvert_exporter": "python",
   "pygments_lexer": "ipython3",
   "version": "3.11.5"
  }
 },
 "nbformat": 4,
 "nbformat_minor": 5
}
