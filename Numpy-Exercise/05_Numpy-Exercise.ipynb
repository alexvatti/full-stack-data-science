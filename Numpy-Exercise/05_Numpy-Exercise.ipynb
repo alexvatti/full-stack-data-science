{
 "cells": [
  {
   "cell_type": "markdown",
   "id": "92ff9f69",
   "metadata": {},
   "source": [
    "# 1. slicing/stacking arrays, indexing with boolean arrays - numpy"
   ]
  },
  {
   "cell_type": "code",
   "execution_count": 3,
   "id": "e0de7520",
   "metadata": {
    "scrolled": true
   },
   "outputs": [
    {
     "name": "stdout",
     "output_type": "stream",
     "text": [
      "[[0 1 2 3 4]\n",
      " [5 6 7 8 9]]\n"
     ]
    }
   ],
   "source": [
    "import numpy as np\n",
    "a = np.arange(10).reshape(2,5)\n",
    "print(a)"
   ]
  },
  {
   "cell_type": "code",
   "execution_count": 10,
   "id": "d0dc9471",
   "metadata": {},
   "outputs": [
    {
     "name": "stdout",
     "output_type": "stream",
     "text": [
      "(2, 5)\n",
      "0\n",
      "4\n",
      "5\n",
      "9\n"
     ]
    }
   ],
   "source": [
    "print(a.shape)\n",
    "# print indivial -particular element by index row,column\n",
    "print(a[0,0])\n",
    "print(a[0,4])\n",
    "print(a[1,0])\n",
    "print(a[1,4])"
   ]
  },
  {
   "cell_type": "code",
   "execution_count": 16,
   "id": "c611f28a",
   "metadata": {},
   "outputs": [
    {
     "name": "stdout",
     "output_type": "stream",
     "text": [
      "[[0 1 2 3 4]]\n"
     ]
    }
   ],
   "source": [
    "# print particular row -0 \n",
    "print(a[:1,])"
   ]
  },
  {
   "cell_type": "code",
   "execution_count": 18,
   "id": "ca83d58f",
   "metadata": {
    "scrolled": true
   },
   "outputs": [
    {
     "name": "stdout",
     "output_type": "stream",
     "text": [
      "[[5 6 7 8 9]]\n"
     ]
    }
   ],
   "source": [
    "# print particular row -1\n",
    "print(a[1:2,])"
   ]
  },
  {
   "cell_type": "code",
   "execution_count": 19,
   "id": "42d1d43e",
   "metadata": {},
   "outputs": [
    {
     "name": "stdout",
     "output_type": "stream",
     "text": [
      "[[0 1 2 3 4]\n",
      " [5 6 7 8 9]]\n"
     ]
    }
   ],
   "source": [
    "# print row 0 to 1\n",
    "print(a[0:2,])"
   ]
  },
  {
   "cell_type": "code",
   "execution_count": 20,
   "id": "053da0a2",
   "metadata": {
    "scrolled": true
   },
   "outputs": [
    {
     "name": "stdout",
     "output_type": "stream",
     "text": [
      "[[0]\n",
      " [5]]\n"
     ]
    }
   ],
   "source": [
    "# print columns 0\n",
    "print(a[:, 0:1])"
   ]
  },
  {
   "cell_type": "code",
   "execution_count": 21,
   "id": "6a738591",
   "metadata": {},
   "outputs": [
    {
     "name": "stdout",
     "output_type": "stream",
     "text": [
      "[[1]\n",
      " [6]]\n"
     ]
    }
   ],
   "source": [
    "# print columns 2\n",
    "print(a[:, 1:2])"
   ]
  },
  {
   "cell_type": "code",
   "execution_count": 22,
   "id": "ffcb867e",
   "metadata": {
    "scrolled": true
   },
   "outputs": [
    {
     "name": "stdout",
     "output_type": "stream",
     "text": [
      "[[2]\n",
      " [7]]\n"
     ]
    }
   ],
   "source": [
    "# print columns 3\n",
    "print(a[:, 2:3])"
   ]
  },
  {
   "cell_type": "code",
   "execution_count": 25,
   "id": "bc747216",
   "metadata": {
    "collapsed": true
   },
   "outputs": [
    {
     "name": "stdout",
     "output_type": "stream",
     "text": [
      "[[4]\n",
      " [9]]\n"
     ]
    }
   ],
   "source": [
    "# print columns last column\n",
    "print(a[:, -1:])"
   ]
  },
  {
   "cell_type": "code",
   "execution_count": 26,
   "id": "2edfe976",
   "metadata": {},
   "outputs": [
    {
     "name": "stdout",
     "output_type": "stream",
     "text": [
      "[[2 3]\n",
      " [7 8]]\n"
     ]
    }
   ],
   "source": [
    "#print 2 to 3 cloumns -both included\n",
    "print(a[:, 2:4])"
   ]
  },
  {
   "cell_type": "code",
   "execution_count": 27,
   "id": "ec6ff4e1",
   "metadata": {},
   "outputs": [
    {
     "name": "stdout",
     "output_type": "stream",
     "text": [
      "[[3 4]]\n"
     ]
    }
   ],
   "source": [
    "# print first row and last two columns\n",
    "print(a[:1,-2:])"
   ]
  },
  {
   "cell_type": "code",
   "execution_count": 28,
   "id": "06a2bc05",
   "metadata": {},
   "outputs": [
    {
     "name": "stdout",
     "output_type": "stream",
     "text": [
      "[[8 9]]\n"
     ]
    }
   ],
   "source": [
    "# print second row and last two columns\n",
    "print(a[1:2,-2:])"
   ]
  },
  {
   "cell_type": "code",
   "execution_count": 29,
   "id": "bab42cc6",
   "metadata": {},
   "outputs": [
    {
     "name": "stdout",
     "output_type": "stream",
     "text": [
      "[[0 1 2 3 4]\n",
      " [5 6 7 8 9]]\n",
      "[[10 11 12 13 14]\n",
      " [15 16 17 18 19]]\n"
     ]
    }
   ],
   "source": [
    "a= np.arange(0,10).reshape(2,5)\n",
    "print(a)\n",
    "b=np.arange(10,20).reshape(2,5)\n",
    "print(b)"
   ]
  },
  {
   "cell_type": "code",
   "execution_count": 31,
   "id": "d040d9af",
   "metadata": {},
   "outputs": [
    {
     "name": "stdout",
     "output_type": "stream",
     "text": [
      "[[ 0  1  2  3  4]\n",
      " [ 5  6  7  8  9]\n",
      " [10 11 12 13 14]\n",
      " [15 16 17 18 19]]\n"
     ]
    }
   ],
   "source": [
    "c=np.vstack( (a,b) )\n",
    "print(c)"
   ]
  },
  {
   "cell_type": "code",
   "execution_count": 32,
   "id": "c456b9bf",
   "metadata": {},
   "outputs": [
    {
     "name": "stdout",
     "output_type": "stream",
     "text": [
      "[[ 0  1  2  3  4 10 11 12 13 14]\n",
      " [ 5  6  7  8  9 15 16 17 18 19]]\n"
     ]
    }
   ],
   "source": [
    "c=np.hstack( (a,b) )\n",
    "print(c)"
   ]
  },
  {
   "cell_type": "code",
   "execution_count": 33,
   "id": "d5ef90d7",
   "metadata": {},
   "outputs": [
    {
     "name": "stdout",
     "output_type": "stream",
     "text": [
      "[[False False False False False  True  True  True  True  True]\n",
      " [False  True  True  True  True  True  True  True  True  True]]\n"
     ]
    }
   ],
   "source": [
    " d = c > 5\n",
    "print(d)"
   ]
  }
 ],
 "metadata": {
  "kernelspec": {
   "display_name": "Python 3 (ipykernel)",
   "language": "python",
   "name": "python3"
  },
  "language_info": {
   "codemirror_mode": {
    "name": "ipython",
    "version": 3
   },
   "file_extension": ".py",
   "mimetype": "text/x-python",
   "name": "python",
   "nbconvert_exporter": "python",
   "pygments_lexer": "ipython3",
   "version": "3.11.5"
  }
 },
 "nbformat": 4,
 "nbformat_minor": 5
}
