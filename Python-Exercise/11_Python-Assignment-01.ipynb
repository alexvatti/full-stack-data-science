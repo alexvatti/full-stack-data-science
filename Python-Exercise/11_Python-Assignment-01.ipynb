{
 "cells": [
  {
   "cell_type": "markdown",
   "id": "b30108ef",
   "metadata": {},
   "source": [
    "# Python Class Room Questions-1: (Assignment-01)\n",
    "\n",
    "\n",
    "1.\tAsk the user to enter a number. Print out the square of the number, \n",
    "Sample output is shown below.\n",
    "Enter a number: 5 The square of 5 is 25.\n",
    "\n",
    "2.\tAsk the user to enter a number x. print out x, 2x, 3x, 4x, and 5x, each separated by three dashes, like below.\n",
    "\n",
    "Enter a number: 7 7---14---21---28---35\n",
    "\n",
    "\n",
    "3.\tWrite a program that asks the user for a weight in kilograms and converts it to pounds. There are 2.2 pounds in a kilogram.\n",
    "\n",
    "\n",
    "4.\tWrite a program that asks the user to enter three numbers (use three separate input statements).Create variables called total and average that hold the sum and average of the three numbers and print out the values of total and average.\n",
    "\n",
    "5.\tA lot of cell phones have tip calculators. Write one. Ask the user for the price of the meal and the percent tip they want to leave. Then print both the tip amount and the total bill with the tip included.\n",
    "\n",
    "6.\tLet’s create a story between Father and daughter , You need to create a story by using print and input keywords\n",
    "\n",
    "You need to develop a python code same like below steps\n",
    "The goal of this code is to understand python is step by step process\n",
    "\n",
    "Step-1: Father: Hey Baby!\n",
    "\n",
    "Step-2: Daughter: Hello Dady\n",
    "\n",
    "Step-3: Father: I heard your exams are over, what about result\n",
    "\n",
    "Step-4: Daughter: Yes dad! Results are out.\n",
    "\n",
    "Step-5: Father: what is the percentage?\n",
    "\n",
    "Step-6: Daughter: I will give my subject wise marks , you tell me the percentage \n",
    "\n",
    "Step-7: Father : Okay!\n",
    "\n",
    "Step-8: First Language: 80\n",
    "\n",
    "Step-9: Second language: 90\n",
    "\n",
    "Step-10: Third language:90\n",
    "\n",
    "Step-11: Maths:85\n",
    "\n",
    "Step-12: Science: 80\n",
    "\n",
    "Step-13: Daughter: Dad Now tell me how much percentage I got\n",
    "\n",
    "Step-14: Father: Tell me the max marks of each subject\n",
    "\n",
    "Step-15: Daughter: its 100\n",
    "\n",
    "Step-16: calculate the percentage of marks and print it\n"
   ]
  },
  {
   "cell_type": "markdown",
   "id": "e445b4d3",
   "metadata": {},
   "source": [
    "# Ask the user to enter a number. Print out the square of the number, "
   ]
  },
  {
   "cell_type": "code",
   "execution_count": 4,
   "id": "0784a13d",
   "metadata": {
    "scrolled": true
   },
   "outputs": [
    {
     "name": "stdout",
     "output_type": "stream",
     "text": [
      "Enter a number - to find  the square of the number:5\n",
      "The square of 5 is 25\n"
     ]
    }
   ],
   "source": [
    "\"\"\"\n",
    "Ask the user to enter a number. Print out the square of the number, \n",
    "\"\"\"\n",
    "n = int(input(\"Enter a number - to find  the square of the number:\"))\n",
    "print(f\"The square of {n} is {n*n}\")\n"
   ]
  },
  {
   "cell_type": "markdown",
   "id": "bf5a064d",
   "metadata": {},
   "source": [
    "# Ask the user to enter a number x. print out x, 2x, 3x, 4x, and 5x, each separated by three dashes"
   ]
  },
  {
   "cell_type": "code",
   "execution_count": 7,
   "id": "1cfb3aa0",
   "metadata": {},
   "outputs": [
    {
     "name": "stdout",
     "output_type": "stream",
     "text": [
      "Enter a number x to print out x, 2x, 3x, 4x, and 5x : 7\n",
      "7---14---21---28---35---"
     ]
    }
   ],
   "source": [
    "\"\"\"\n",
    "Ask the user to enter a number x. print out x, 2x, 3x, 4x, and 5x, each separated by three dashes\n",
    "\"\"\"\n",
    "x = eval(input(\"Enter a number x to print out x, 2x, 3x, 4x, and 5x : \"))\n",
    "i = 1\n",
    "while i <= 5:\n",
    "    print(x*i,end=\"---\")\n",
    "    i = i + 1"
   ]
  },
  {
   "cell_type": "markdown",
   "id": "72618be3",
   "metadata": {},
   "source": [
    "# Write a program that asks the user for a weight in kilograms and converts it to pounds. There are 2.2 pounds in a kilogram."
   ]
  },
  {
   "cell_type": "code",
   "execution_count": 9,
   "id": "b01b2c26",
   "metadata": {
    "scrolled": true
   },
   "outputs": [
    {
     "name": "stdout",
     "output_type": "stream",
     "text": [
      "Asks the user for a weight in kilograms and converts it to pounds:70\n",
      "Weight in kilograms 70 and converted  to pounds 154.0\n"
     ]
    }
   ],
   "source": [
    "\"\"\"\n",
    "Write a program that asks the user for a weight in kilograms and converts it to pounds. There are 2.2 pounds in a kilogram.\n",
    "\"\"\"\n",
    "wt = eval(input(\"Asks the user for a weight in kilograms and converts it to pounds:\"))\n",
    "print(f\"Weight in kilograms {wt} and converted  to pounds {wt*2.2}\")"
   ]
  },
  {
   "cell_type": "markdown",
   "id": "8dcb07e2",
   "metadata": {},
   "source": [
    "# Write a program that asks the user to enter three numbers (use three separate input statements).Create variables called total and average that hold the sum and average of the three numbers and print out the values of total and average"
   ]
  },
  {
   "cell_type": "code",
   "execution_count": 12,
   "id": "151e7a1c",
   "metadata": {},
   "outputs": [
    {
     "name": "stdout",
     "output_type": "stream",
     "text": [
      "enter number : 10\n",
      "enter number : 10\n",
      "enter number : 10\n",
      "Total 30 average 10.0\n"
     ]
    }
   ],
   "source": [
    "\"\"\"\n",
    "Write a program that asks the user to enter three numbers (use three separate input statements).\n",
    "Create variables called total and average that hold the sum and average of the three numbers \n",
    "and print out the values of total and average\n",
    "\"\"\"\n",
    "\n",
    "x = eval(input(\"enter number : \"))\n",
    "y = eval(input(\"enter number : \"))\n",
    "z = eval(input(\"enter number : \"))\n",
    "total = x +  y + z\n",
    "avg = total / 3\n",
    "print(f\"Total {total} average {avg}\")"
   ]
  },
  {
   "cell_type": "markdown",
   "id": "60f62d65",
   "metadata": {},
   "source": [
    "# A lot of cell phones have tip calculators. Write one. Ask the user for the price of the meal and the percent tip they want to leave. Then print both the tip amount and the total bill with the tip included"
   ]
  },
  {
   "cell_type": "code",
   "execution_count": 14,
   "id": "ff085fb8",
   "metadata": {},
   "outputs": [
    {
     "name": "stdout",
     "output_type": "stream",
     "text": [
      "Price of the meal: 1000\n",
      "Percent tip they want to leave :10\n",
      "tip amount 100.0 and the total bill 1100.0\n"
     ]
    }
   ],
   "source": [
    "\"\"\"\n",
    "A lot of cell phones have tip calculators. Write one. Ask the user for the price of the meal and the price of the mealve. \n",
    "Then print both the tip amount and the total bill with the tip included\n",
    "\"\"\"\n",
    "\n",
    "bill_amount = eval(input(\"Price of the meal: \"))\n",
    "tip_per  = eval(input(\"Percent tip they want to leave :\"))\n",
    "tip_amount = bill_amount * tip_per /100\n",
    "total = bill_amount + tip_amount\n",
    "print(f\"tip amount {tip_amount} and the total bill {total}\")"
   ]
  },
  {
   "cell_type": "markdown",
   "id": "a0a6e7ee",
   "metadata": {},
   "source": [
    "# Let’s create a story between Father and daughter , You need to create a story by using print and input keywords"
   ]
  },
  {
   "cell_type": "code",
   "execution_count": null,
   "id": "21c6d95d",
   "metadata": {},
   "outputs": [
    {
     "name": "stdout",
     "output_type": "stream",
     "text": [
      "Father:Hey Baby!\n",
      "Daughter:hello dady\n",
      "Father:I heard your exams are over, what about result\n",
      "Daughter:Yes dad! Results are out.\n",
      "Father:what is the percentage?\n"
     ]
    }
   ],
   "source": [
    "\"\"\"\n",
    "Let’s create a story between Father and daughter , You need to create a story by using print and input keywords\n",
    "\"\"\"\n",
    "\n",
    "while(1):\n",
    "    f=input(\"Father:\")\n",
    "    d=input(\"Daughter:\")\n",
    "    if f == \"exit\" or d==\"exit\":\n",
    "        break\n",
    "    "
   ]
  }
 ],
 "metadata": {
  "kernelspec": {
   "display_name": "Python 3 (ipykernel)",
   "language": "python",
   "name": "python3"
  },
  "language_info": {
   "codemirror_mode": {
    "name": "ipython",
    "version": 3
   },
   "file_extension": ".py",
   "mimetype": "text/x-python",
   "name": "python",
   "nbconvert_exporter": "python",
   "pygments_lexer": "ipython3",
   "version": "3.11.7"
  }
 },
 "nbformat": 4,
 "nbformat_minor": 5
}
