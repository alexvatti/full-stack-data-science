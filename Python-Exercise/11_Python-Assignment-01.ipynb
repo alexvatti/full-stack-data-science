{
 "cells": [
  {
   "cell_type": "markdown",
   "id": "b30108ef",
   "metadata": {},
   "source": [
    "# Python Class Room Questions-1: (Assignment-01)\n",
    "\n",
    "\n",
    "1.\tAsk the user to enter a number. Print out the square of the number, \n",
    "Sample output is shown below.\n",
    "Enter a number: 5 The square of 5 is 25.\n",
    "\n",
    "2.\tAsk the user to enter a number x. print out x, 2x, 3x, 4x, and 5x, each separated by three dashes, like below.\n",
    "\n",
    "Enter a number: 7 7---14---21---28---35\n",
    "\n",
    "\n",
    "3.\tWrite a program that asks the user for a weight in kilograms and converts it to pounds. There are 2.2 pounds in a kilogram.\n",
    "\n",
    "\n",
    "4.\tWrite a program that asks the user to enter three numbers (use three separate input statements).Create variables called total and average that hold the sum and average of the three numbers and print out the values of total and average.\n",
    "\n",
    "5.\tA lot of cell phones have tip calculators. Write one. Ask the user for the price of the meal and the percent tip they want to leave. Then print both the tip amount and the total bill with the tip included.\n",
    "\n",
    "6.\tLet’s create a story between Father and daughter , You need to create a story by using print and input keywords\n",
    "\n",
    "You need to develop a python code same like below steps\n",
    "The goal of this code is to understand python is step by step process\n",
    "\n",
    "Step-1: Father: Hey Baby!\n",
    "\n",
    "Step-2: Daughter: Hello Dady\n",
    "\n",
    "Step-3: Father: I heard your exams are over, what about result\n",
    "\n",
    "Step-4: Daughter: Yes dad! Results are out.\n",
    "\n",
    "Step-5: Father: what is the percentage?\n",
    "\n",
    "Step-6: Daughter: I will give my subject wise marks , you tell me the percentage \n",
    "\n",
    "Step-7: Father : Okay!\n",
    "\n",
    "Step-8: First Language: 80\n",
    "\n",
    "Step-9: Second language: 90\n",
    "\n",
    "Step-10: Third language:90\n",
    "\n",
    "Step-11: Maths:85\n",
    "\n",
    "Step-12: Science: 80\n",
    "\n",
    "Step-13: Daughter: Dad Now tell me how much percentage I got\n",
    "\n",
    "Step-14: Father: Tell me the max marks of each subject\n",
    "\n",
    "Step-15: Daughter: its 100\n",
    "\n",
    "Step-16: calculate the percentage of marks and print it\n"
   ]
  },
  {
   "cell_type": "markdown",
   "id": "e445b4d3",
   "metadata": {},
   "source": [
    "# Ask the user to enter a number. Print out the square of the number, "
   ]
  },
  {
   "cell_type": "code",
   "execution_count": 14,
   "id": "0784a13d",
   "metadata": {
    "scrolled": true
   },
   "outputs": [
    {
     "name": "stdin",
     "output_type": "stream",
     "text": [
      "Enter a number - to find  the square of the number: 10\n"
     ]
    },
    {
     "name": "stdout",
     "output_type": "stream",
     "text": [
      "The square of given number 10 is 100\n"
     ]
    }
   ],
   "source": [
    "\"\"\"\n",
    "Ask the user to enter a number. Print out the square of the number, \n",
    "\"\"\"\n",
    "n = int(input(\"Enter a number - to find  the square of the number:\"))\n",
    "print(f\"The square of given number {n} is {n*n}\")"
   ]
  },
  {
   "cell_type": "markdown",
   "id": "bf5a064d",
   "metadata": {},
   "source": [
    "# Ask the user to enter a number x. print out x, 2x, 3x, 4x, and 5x, each separated by three dashes"
   ]
  },
  {
   "cell_type": "code",
   "execution_count": 15,
   "id": "1cfb3aa0",
   "metadata": {},
   "outputs": [
    {
     "name": "stdin",
     "output_type": "stream",
     "text": [
      "Enter a number x to print out x, 2x, 3x, 4x, and 5x :  10\n"
     ]
    },
    {
     "name": "stdout",
     "output_type": "stream",
     "text": [
      "10---20---30---40---50\n"
     ]
    }
   ],
   "source": [
    "\"\"\"\n",
    "Ask the user to enter a number x. print out x, 2x, 3x, 4x, and 5x, each separated by three dashes\n",
    "\"\"\"\n",
    "x = eval(input(\"Enter a number x to print out x, 2x, 3x, 4x, and 5x : \"))\n",
    "print(x*1,x*2,x*3,x*4,x*5 ,sep=\"---\")\n"
   ]
  },
  {
   "cell_type": "markdown",
   "id": "72618be3",
   "metadata": {},
   "source": [
    "# Write a program that asks the user for a weight in kilograms and converts it to pounds. There are 2.2 pounds in a kilogram."
   ]
  },
  {
   "cell_type": "code",
   "execution_count": 16,
   "id": "b01b2c26",
   "metadata": {
    "scrolled": true
   },
   "outputs": [
    {
     "name": "stdout",
     "output_type": "stream",
     "text": [
      "This Program - Convert weight in kilograms into pounds\n"
     ]
    },
    {
     "name": "stdin",
     "output_type": "stream",
     "text": [
      "Enter weight in kilograms want to converts into pounds:  70\n"
     ]
    },
    {
     "name": "stdout",
     "output_type": "stream",
     "text": [
      "Weight in kilograms 70 kg is converted  to pounds 154.0\n"
     ]
    }
   ],
   "source": [
    "\"\"\"\n",
    "Write a program that asks the user for a weight in kilograms and converts it to pounds. There are 2.2 pounds in a kilogram.\n",
    "\"\"\"\n",
    "print(\"This Program - Convert weight in kilograms into pounds\")\n",
    "wt = eval(input(\"Enter weight in kilograms want to converts into pounds: \"))\n",
    "print(f\"Weight in kilograms {wt} kg is converted  to pounds {wt*2.2}\")"
   ]
  },
  {
   "cell_type": "markdown",
   "id": "8dcb07e2",
   "metadata": {},
   "source": [
    "# Write a program that asks the user to enter three numbers (use three separate input statements).Create variables called total and average that hold the sum and average of the three numbers and print out the values of total and average"
   ]
  },
  {
   "cell_type": "code",
   "execution_count": 18,
   "id": "151e7a1c",
   "metadata": {},
   "outputs": [
    {
     "name": "stdin",
     "output_type": "stream",
     "text": [
      "Enter a Number 1:  10\n",
      "Enter a Number 2:  20\n",
      "Enter a Number 3:  30\n"
     ]
    },
    {
     "name": "stdout",
     "output_type": "stream",
     "text": [
      "Total of given numbers is 60 and average is 20.0\n"
     ]
    }
   ],
   "source": [
    "\"\"\"\n",
    "Write a program that asks the user to enter three numbers (use three separate input statements).\n",
    "Create variables called total and average that hold the sum and average of the three numbers \n",
    "and print out the values of total and average\n",
    "\"\"\"\n",
    "\n",
    "x = eval(input(\"Enter a Number 1: \"))\n",
    "y = eval(input(\"Enter a Number 2: \"))\n",
    "z = eval(input(\"Enter a Number 3: \"))\n",
    "total = x +  y + z\n",
    "avg = total / 3\n",
    "print(f\"Total of given numbers is {total} and average is {avg}\")"
   ]
  },
  {
   "cell_type": "markdown",
   "id": "60f62d65",
   "metadata": {},
   "source": [
    "# A lot of cell phones have tip calculators. Write one. Ask the user for the price of the meal and the percent tip they want to leave. Then print both the tip amount and the total bill with the tip included"
   ]
  },
  {
   "cell_type": "code",
   "execution_count": 19,
   "id": "ff085fb8",
   "metadata": {},
   "outputs": [
    {
     "name": "stdin",
     "output_type": "stream",
     "text": [
      "Price of the meal - bill amount:  1000\n",
      "Percentage tip - want to leave in % : 10\n"
     ]
    },
    {
     "name": "stdout",
     "output_type": "stream",
     "text": [
      "Tip amount is 100.0 and Total bill amount 1100.0\n"
     ]
    }
   ],
   "source": [
    "\"\"\"\n",
    "A lot of cell phones have tip calculators. Write one. Ask the user for the price of the meal and the price of the mealve. \n",
    "Then print both the tip amount and the total bill with the tip included\n",
    "\"\"\"\n",
    "\n",
    "bill_amount = eval(input(\"Price of the meal - bill amount: \"))\n",
    "tip_per  = eval(input(\"Percentage tip - want to leave in % :\"))\n",
    "tip_amount = bill_amount * tip_per /100\n",
    "total = bill_amount + tip_amount\n",
    "print(f\"Tip amount is {tip_amount} and Total bill amount {total}\")"
   ]
  },
  {
   "cell_type": "markdown",
   "id": "a0a6e7ee",
   "metadata": {},
   "source": [
    "# Let’s create a story between Father and daughter , You need to create a story by using print and input keywords"
   ]
  },
  {
   "cell_type": "code",
   "execution_count": 20,
   "id": "21c6d95d",
   "metadata": {},
   "outputs": [
    {
     "name": "stdout",
     "output_type": "stream",
     "text": [
      "Father: Hey Baby!\n",
      "Daughter: Hello Dady\n",
      "Father: I heard your exams are over, what about result\n",
      "Daughter: Yes dad! Results are out.\n",
      "Father: what is the percentage?\n",
      "Daughter: I will give my subject wise marks , you tell me the percentage\n",
      "Father : Okay!\n",
      "First Language: 80\n",
      "Second language: 90\n",
      "Third language:90\n",
      "Maths:85\n",
      "Science: 80\n",
      "Daughter: Dad Now tell me how much percentage I got\n",
      "Father: Tell me the max marks of each subject\n",
      "Daughter: its 100\n",
      "Percentage of marks = 85.0 %\n"
     ]
    }
   ],
   "source": [
    "\"\"\"\n",
    "Let’s create a story between Father and daughter , You need to create a story by using print and input keywords\n",
    "\"\"\"\n",
    "\n",
    "print(f\"Father: Hey Baby!\")\n",
    "\n",
    "print(f\"Daughter: Hello Dady\")\n",
    "\n",
    "print(f\"Father: I heard your exams are over, what about result\")\n",
    "\n",
    "print(f\"Daughter: Yes dad! Results are out.\")\n",
    "\n",
    "print(f\"Father: what is the percentage?\")\n",
    "\n",
    "print(f\"Daughter: I will give my subject wise marks , you tell me the percentage\")\n",
    "\n",
    "print(f\"Father : Okay!\")\n",
    "\n",
    "print(f\"First Language: 80\")\n",
    "s1 = \"First Language: 80\"\n",
    "split_string = s1.split(\":\")\n",
    "s1_score = eval(split_string[1].strip())\n",
    "\n",
    "print(f\"Second language: 90\")\n",
    "s2 = \"Second language: 90\"\n",
    "split_string = s2.split(\":\")\n",
    "s2_score = eval(split_string[1].strip())\n",
    "\n",
    "\n",
    "print(f\"Third language:90\")\n",
    "s3 = \"Third language:90\"\n",
    "split_string = s3.split(\":\")\n",
    "s3_score = eval(split_string[1].strip())\n",
    "\n",
    "print(f\"Maths:85\")\n",
    "s4 =  \"Maths:85\"\n",
    "split_string = s4.split(\":\")\n",
    "s4_score = eval(split_string[1].strip())\n",
    "\n",
    "print(f\"Science: 80\")\n",
    "s5 =  \"Science: 80\"\n",
    "split_string = s5.split(\":\")\n",
    "s5_score = eval(split_string[1].strip())\n",
    "\n",
    "print(f\"Daughter: Dad Now tell me how much percentage I got\")\n",
    "\n",
    "print(f\"Father: Tell me the max marks of each subject\")\n",
    "\n",
    "print(f\"Daughter: its 100\")\n",
    "max_marks=100\n",
    "\n",
    "percentage = ((s1_score + s2_score + s3_score + s4_score + s5_score)* 100 )/(5 * 100)\n",
    "\n",
    "print(f\"Percentage of marks = {percentage} %\")\n",
    "    "
   ]
  }
 ],
 "metadata": {
  "kernelspec": {
   "display_name": "Python 3 (ipykernel)",
   "language": "python",
   "name": "python3"
  },
  "language_info": {
   "codemirror_mode": {
    "name": "ipython",
    "version": 3
   },
   "file_extension": ".py",
   "mimetype": "text/x-python",
   "name": "python",
   "nbconvert_exporter": "python",
   "pygments_lexer": "ipython3",
   "version": "3.11.5"
  }
 },
 "nbformat": 4,
 "nbformat_minor": 5
}
