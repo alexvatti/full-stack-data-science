{
 "cells": [
  {
   "cell_type": "markdown",
   "id": "eb20d745",
   "metadata": {},
   "source": [
    "# Problem-1(Use conditional statements) \n",
    "\n",
    "- Write a program that asks the user to enter a length in centimetres. \n",
    "- If the user enters a negative length, the program should tell the user that the entry is invalid. Otherwise, \n",
    "- the program should convert the length to inches and print out the result. There are 2.54 centimetres in an inch."
   ]
  },
  {
   "cell_type": "code",
   "execution_count": 12,
   "id": "8e5e91eb",
   "metadata": {},
   "outputs": [
    {
     "name": "stdout",
     "output_type": "stream",
     "text": [
      "Enter the length in cms :10\n",
      "Given len in cms 10 converted into inches 25.4\n"
     ]
    }
   ],
   "source": [
    "\"\"\"program should convert the length to inches and print out the result\"\"\"\n",
    "len_cms = eval(input(\"Enter the length in cms :\"))\n",
    "if len_cms <= 0:\n",
    "    print(f\"Entry - Input is Invalid: {len_cms}\")\n",
    "else:\n",
    "    len_inches=2.54 * len_cms\n",
    "    print(f\"Given len in cms {len_cms} converted into inches {len_inches}\")"
   ]
  },
  {
   "cell_type": "markdown",
   "id": "16eeb753",
   "metadata": {},
   "source": [
    "# Problem-2(Use conditional statements) \n",
    "- Ask the user for a temperature. Then ask them what units, Celsius or Fahrenheit, the \n",
    "- temperature is in. Your program should convert the temperature to the other unit. The \n",
    "- conversions are F = 9 /5 *C +32 and C = 5 /9* (F − 32). "
   ]
  },
  {
   "cell_type": "code",
   "execution_count": 13,
   "id": "3ac77841",
   "metadata": {},
   "outputs": [
    {
     "name": "stdout",
     "output_type": "stream",
     "text": [
      "Enter the temperature : 40\n",
      "Entered temperature units(C/F) single letter: F\n",
      "Given temp in Fahrenheit 40 converted into Celsius 4.444444444444445\n"
     ]
    }
   ],
   "source": [
    "\"\"\"program should convert the temperature to the other unit\"\"\"\n",
    "temp=eval(input(\"Enter the temperature : \"))\n",
    "units = input(\"Entered temperature units(C/F) single letter: \")\n",
    "if units == \"C\":\n",
    "    temp_f = (9/5 * temp) + 32\n",
    "    print(f\"Given temp in Celsius {temp} converted into Fahrenheit {temp_f}\")\n",
    "elif units ==\"F\":\n",
    "    temp_c = (5/9)* (temp - 32)\n",
    "    print(f\"Given temp in Fahrenheit {temp} converted into Celsius {temp_c}\")\n",
    "else:\n",
    "    print(\"Invalid Temperature Units\")"
   ]
  },
  {
   "cell_type": "markdown",
   "id": "a5d7e7bd",
   "metadata": {},
   "source": [
    "# Problem-3(Use conditional statements) \n",
    "- Ask the user to enter a temperature in Celsius. The program should print a \n",
    "message based on the temperature: \n",
    "\n",
    "- If the temperature is less than -273.15, print that the temperature is invalid because it is \n",
    "below absolute zero. \n",
    "\n",
    "- If it is exactly -273.15, print that the temperature is absolute 0. \n",
    "\n",
    "- If the temperature is between -273.15 and 0, print that the temperature is below freezing. • \n",
    "\n",
    "- If it is 0, print that the temperature is at the freezing point. \n",
    "\n",
    "- If it is between 0 and 100, print that the temperature is in the normal range. \n",
    "\n",
    "- If it is 100, print that the temperature is at the boiling point. \n",
    "\n",
    "- If it is above 100, print that the temperature is above the boiling point."
   ]
  },
  {
   "cell_type": "code",
   "execution_count": 14,
   "id": "ddcb0dd9",
   "metadata": {},
   "outputs": [
    {
     "name": "stdout",
     "output_type": "stream",
     "text": [
      "Enter the temperature in Celsius : 100\n",
      "100 temperature is at the boiling point\n"
     ]
    }
   ],
   "source": [
    "temp_c=eval(input(\"Enter the temperature in Celsius : \"))\n",
    "if temp_c <-273.15:\n",
    "    print(f\"{temp_c} Given temperature is invalid because it is below absolute zero.\" )\n",
    "elif temp_c == -273.15:\n",
    "    print(f\"{temp_c} Given temperature is absolute 0.\")\n",
    "elif temp_c > -273.15 and temp_c < 0:\n",
    "    print(f\"{temp_c}  temperature is below freezing\")\n",
    "elif temp_c == 0:\n",
    "    print(f\"{temp_c} temperature is at the freezing point\")\n",
    "elif temp_c > 0 and temp_c < 100:\n",
    "    print(f\"{temp_c} temperature is in the normal range\")\n",
    "elif temp_c == 100:\n",
    "    print(f\"{temp_c} temperature is at the boiling point\")\n",
    "elif temp_c > 100:\n",
    "    print(f\"{temp_c} temperature is above the boiling point\")\n"
   ]
  },
  {
   "cell_type": "markdown",
   "id": "8a871cea",
   "metadata": {},
   "source": [
    "# Problem-4(Use conditional statements) \n",
    "- Write a program that asks the user how many credits they have taken. If they have taken 23 or \n",
    "- less, print that the student is a freshman. If they have taken between 24 and 53, print that they \n",
    "- are asophomore. The range for juniors is 54 to 83, and for seniors it is 84 and over"
   ]
  },
  {
   "cell_type": "code",
   "execution_count": 15,
   "id": "c177ee6f",
   "metadata": {},
   "outputs": [
    {
     "name": "stdout",
     "output_type": "stream",
     "text": [
      "Enter the numbers of credits of student: 70\n",
      "Based on given Student credits, is a junior\n"
     ]
    }
   ],
   "source": [
    "num_credits = eval(input(\"Enter the numbers of credits of student: \"))\n",
    "if num_credits <=23:\n",
    "    print(f\"Based on given student credits, is a freshman\")\n",
    "elif num_credits >=24 and num_credits <=53:\n",
    "    print(f\"Based on given Student credits, is a asophomore\")\n",
    "elif num_credits >=54 and num_credits <=83:\n",
    "    print(\"Based on given Student credits, is a junior\")\n",
    "else:\n",
    "    print(f\"Based on given Student credits, is a senior\")"
   ]
  },
  {
   "cell_type": "markdown",
   "id": "92ea79b7",
   "metadata": {},
   "source": [
    "# Problem-5(Use conditional statements) \n",
    "- Generate a random number between 1 and 10. Ask the user to guess the number and print a \n",
    "- message based on whether they get it right or not. "
   ]
  },
  {
   "cell_type": "code",
   "execution_count": 16,
   "id": "40e5293b",
   "metadata": {},
   "outputs": [
    {
     "name": "stdout",
     "output_type": "stream",
     "text": [
      "Enter a number between (1-10):1\n",
      "You lost the game, Your guess is wrong\n"
     ]
    }
   ],
   "source": [
    "import random\n",
    "ran_num = random.randint(1,10)\n",
    "user_num = eval(input(\"Enter a number between (1-10):\"))\n",
    "if ran_num == user_num:\n",
    "    print(f\"You won the game , Your guess is right\")\n",
    "else:\n",
    "    print(f\"You lost the game, Your guess is wrong\")\n"
   ]
  },
  {
   "cell_type": "markdown",
   "id": "ddee7ee5",
   "metadata": {},
   "source": [
    "# Problem-6(Use conditional statements) \n",
    "- A store charges $12 per item if you buy less than 10 items. If you buy between 10 \n",
    "\n",
    "- and 99 items, the cost is $10 per item. If you buy 100 or more items, the cost is $7 \n",
    "- per item. Write a program that asks the user how many items they are buying and \n",
    "- prints the total cost. "
   ]
  },
  {
   "cell_type": "code",
   "execution_count": 17,
   "id": "833cbf33",
   "metadata": {},
   "outputs": [
    {
     "name": "stdout",
     "output_type": "stream",
     "text": [
      "Enter -How many items are you buying :100\n",
      "Total cost of items 700\n"
     ]
    }
   ],
   "source": [
    "num_items =eval(input(\"Enter -How many items are you buying :\"))\n",
    "if num_items < 10:\n",
    "    print(f\"Total cost of items {num_items * 12}\")\n",
    "elif num_items >=10 and num_items <=99:\n",
    "    print(f\"Total cost of items {num_items * 10}\")\n",
    "else:\n",
    "    print(f\"Total cost of items {num_items * 7}\")\n",
    "    "
   ]
  },
  {
   "cell_type": "markdown",
   "id": "1931cba0",
   "metadata": {},
   "source": [
    "# Problem-7(Use conditional statements) \n",
    "- Write a program that asks the user for two numbers and prints Close if the \n",
    "- numbers are within .001of each other and Not close otherwise. "
   ]
  },
  {
   "cell_type": "code",
   "execution_count": 18,
   "id": "a864aa72",
   "metadata": {},
   "outputs": [
    {
     "name": "stdout",
     "output_type": "stream",
     "text": [
      "Enter a number 1 :10\n",
      "Enter a number 2 :10.0001\n",
      "Numbers are close to each other\n"
     ]
    }
   ],
   "source": [
    "num_1 = eval(input(\"Enter a number 1 :\"))\n",
    "num_2 = eval(input(\"Enter a number 2 :\"))\n",
    "if abs(num_1 - num_2) < 0.001:\n",
    "    print(f\"Numbers are close to each other\")\n",
    "else:\n",
    "    print(f\"Numbers are not close to each other\")"
   ]
  },
  {
   "cell_type": "markdown",
   "id": "f123bb1a",
   "metadata": {},
   "source": [
    "# Problem-8(Use conditional statements) \n",
    "- A year is a leap year if it is divisible by 4, except that years divisible by 100 are not leap years unless \n",
    "- they are also divisible by 400. Write a program that asks the user for a year and prints out whether \n",
    "- it is a leap year or not. "
   ]
  },
  {
   "cell_type": "code",
   "execution_count": 19,
   "id": "549dd180",
   "metadata": {},
   "outputs": [
    {
     "name": "stdout",
     "output_type": "stream",
     "text": [
      "Enter a year to find leap year or not :2024\n",
      "Given year 2024 is leap year\n"
     ]
    }
   ],
   "source": [
    "year = eval(input(\"Enter a year to find leap year or not :\"))\n",
    "if year % 4 == 0 and year %100 != 0 :\n",
    "    print(f\"Given year {year} is leap year\")\n",
    "elif year % 400 == 0 and year %100 == 0:\n",
    "    print(f\"Given year {year} is leap year\")\n",
    "else:\n",
    "    print(f\"Given year {year} is not a leap year\")"
   ]
  },
  {
   "cell_type": "markdown",
   "id": "540ebbb3",
   "metadata": {},
   "source": [
    "# Problem-9(Use conditional statements) \n",
    "- Write a program that asks the user to enter a number and prints out all the divisors of that \n",
    "- number. [Hint: the % operator is used to tell if a number is divisible by something. "
   ]
  },
  {
   "cell_type": "code",
   "execution_count": 20,
   "id": "447527d1",
   "metadata": {},
   "outputs": [
    {
     "name": "stdout",
     "output_type": "stream",
     "text": [
      "Enter a number to print all divisors : 10\n",
      "Given number 10 is divisible by 1\n",
      "Given number 10 is divisible by 2\n",
      "Given number 10 is divisible by 5\n",
      "Given number 10 is divisible by 10\n",
      "Given number 10 divisors count 4\n"
     ]
    }
   ],
   "source": [
    "num = eval(input(\"Enter a number to print all divisors : \"))\n",
    "count=0\n",
    "for i in range(1,num+1):\n",
    "    if (num%i == 0):\n",
    "        print(f\"Given number {num} is divisible by {i}\")\n",
    "        count=count+1\n",
    "print(f\"Given number {num} divisors count {count}\")\n"
   ]
  },
  {
   "cell_type": "markdown",
   "id": "5df2ff96",
   "metadata": {},
   "source": [
    "# Problem-10(Use conditional statements) \n",
    "- Write a program that asks the user for an hour between 1 and 12, asks them to \n",
    "- enter am or pm, and asks them how many hours into the future they want to go. \n",
    "- Print out what the hour will be that many hours into the future, printing am or pm as \n",
    "- appropriate. An example is shown below. "
   ]
  },
  {
   "cell_type": "code",
   "execution_count": 21,
   "id": "dd03898d",
   "metadata": {},
   "outputs": [
    {
     "name": "stdout",
     "output_type": "stream",
     "text": [
      "Enter the hours between (1-12): 8\n",
      "Enter it is AM/PM (Type 1 - AM , 2- PM): 1\n",
      "How many hours into the future they want to go :5\n",
      "Next Hour 1 PM\n"
     ]
    }
   ],
   "source": [
    "\n",
    "hour = eval(input(\"Enter the hours between (1-12): \"))\n",
    "am_pm = eval(input(\"Enter it is AM/PM (Type 1 - AM , 2- PM): \"))\n",
    "if am_pm !=1 and am_pm !=2:\n",
    "    print(\"Invalid Input for AM/PM - Type 1 - AM , 2- PM\")\n",
    "    quit()\n",
    "\n",
    "\n",
    "hours_stay = eval(input(\"How many hours into the future they want to go :\"))\n",
    "hours_sum = hour + hours_stay\n",
    "if am_pm == 1:\n",
    "    if hours_sum < 12:\n",
    "        print(f\"Next Hour {hours_sum} AM\")\n",
    "    elif hours_sum == 12:\n",
    "        print(f\"Next Hour {hours_sum} PM\")\n",
    "    else:\n",
    "        print(f\"Next Hour {hours_sum-12} PM\")\n",
    "\n",
    "if am_pm == 2:\n",
    "    if hours_sum < 12:\n",
    "        print(f\"Next Hour {hours_sum} PM\")\n",
    "    elif hours_sum == 12:\n",
    "        print(f\"Next Hour {hours_sum} AM\")\n",
    "    else:\n",
    "        print(f\"Next Hour {hours_sum-12} AM\")  \n",
    "\n"
   ]
  },
  {
   "cell_type": "code",
   "execution_count": null,
   "id": "3dfef694",
   "metadata": {},
   "outputs": [],
   "source": []
  }
 ],
 "metadata": {
  "kernelspec": {
   "display_name": "Python 3 (ipykernel)",
   "language": "python",
   "name": "python3"
  },
  "language_info": {
   "codemirror_mode": {
    "name": "ipython",
    "version": 3
   },
   "file_extension": ".py",
   "mimetype": "text/x-python",
   "name": "python",
   "nbconvert_exporter": "python",
   "pygments_lexer": "ipython3",
   "version": "3.11.5"
  }
 },
 "nbformat": 4,
 "nbformat_minor": 5
}
