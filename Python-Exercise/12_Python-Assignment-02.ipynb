{
 "cells": [
  {
   "cell_type": "markdown",
   "id": "4a7ac1bb",
   "metadata": {},
   "source": [
    "# Introduction to Python  -  Assignment 2 By Nallagoni Omkar\n",
    "## Write Python Program for the following: \n",
    "1. Ramesh’s basic salary is input through the keyboard. His dearness allowance is 40% of  basic salary, and house rent allowance is 20% of basic salary. Write a program to  calculate his gross salary. \n",
    "2. The distance between two cities (in km.) is input through the keyboard. Write a program  to convert and print this distance in meters, feet, inches and centimeters. \n",
    "3. If the marks obtained by a student in five different subjects are input through the  keyboard, find out the aggregate marks and percentage marks obtained by the student.  Assume that the maximum marks that can be obtained by a student in each subject is  100. \n",
    "4. Temperature of a city in Fahrenheit degrees is input through the keyboard. Write a  program to convert this temperature into Centigrade degrees. \n",
    "5. The length & breadth of a rectangle and radius of a circle are input through the  keyboard. Write a program to calculate the area & perimeter of the rectangle, and the  area & circumference of the circle. \n",
    "6. Two numbers are input through the keyboard into two locations C and D. Write a  program to interchange the contents of C and D. \n",
    "7. If a five-digit number is input through the keyboard, write a program to reverse the  number. \n",
    "8. If a four-digit number is input through the keyboard, write a program to obtain the sum of  the first and last digit of this number. \n",
    "9. In a town, the percentage of men is 52. The percentage of total literacy is 48. If total  percentage of literate men is 35 of the total population, write a program to find the total  number of illiterate men and women if the population of the town is 80,000. \n",
    "10. A cashier has currency notes of denominations 10, 50 and 100. If the amount to be  withdrawn is input through the keyboard in hundreds, find the total number of currency  notes of each denomination the cashier will have to give to the withdrawer.\n",
    "\n",
    "# Note \n",
    "### Every program need to implement using try-exception blocks.\n",
    "### No Need to create if-else and functions now, All are basic implementations\n"
   ]
  },
  {
   "cell_type": "markdown",
   "id": "f8d58ca0",
   "metadata": {},
   "source": [
    "## 1. Ramesh’s basic salary is input through the keyboard. His dearness allowance is 40% of  basic salary, and house rent allowance is 20% of basic salary. Write a program to  calculate his gross salary."
   ]
  },
  {
   "cell_type": "code",
   "execution_count": 3,
   "id": "52390c1c",
   "metadata": {},
   "outputs": [
    {
     "name": "stdout",
     "output_type": "stream",
     "text": [
      "Enter Basic Salary of employee: 10000\n",
      "Basic Salary 10000 and gross salary 16000.0\n"
     ]
    }
   ],
   "source": [
    "if __name__ == \"__main__\":\n",
    "    \"\"\"basic salary is input through the keyboard. His dearness allowance is 40% of basic salary,\n",
    "    and house rent allowance is 20% of basic salary. Write a program to calculate his gross salary.\"\"\"\n",
    "    try:\n",
    "        basic_salary = eval(input(\"Enter Basic Salary of employee: \"))\n",
    "        dearness_allowance = 40\n",
    "        house_allowance = 20\n",
    "        gross_salary = basic_salary + (basic_salary *dearness_allowance/100) \\\n",
    "        + (basic_salary *house_allowance/100)\n",
    "        print(f\"Basic Salary {basic_salary} and gross salary {gross_salary}\")\n",
    "    except Exception as e:\n",
    "        print(\"The error is: \",e)\n",
    "    "
   ]
  },
  {
   "cell_type": "markdown",
   "id": "b974710c",
   "metadata": {},
   "source": [
    "## 2. The distance between two cities (in km.) is input through the keyboard. Write a program  to convert and print this distance in meters, feet, inches and centimeters"
   ]
  },
  {
   "cell_type": "code",
   "execution_count": 27,
   "id": "de2557f0",
   "metadata": {},
   "outputs": [
    {
     "name": "stdout",
     "output_type": "stream",
     "text": [
      "Enter distance between two cities (in km) : 12\n",
      "Given distance in km 12 and converted in meters 12000\n",
      "Given distance in km 12 and converted in centimeters 1200000\n",
      "Given distance in km 12 and converted in feets 13123.32\n",
      "Given distance in km 12 and converted in inches 304.8\n"
     ]
    }
   ],
   "source": [
    "  \n",
    "if __name__ == \"__main__\":\n",
    "    \"\"\"Write a program to convert (km) and print this distance in meters, feet, inches and centimeters\"\"\"\n",
    "    try:\n",
    "        distance=eval(input(\"Enter distance between two cities (in km) : \")) \n",
    "        print(f\"Given distance in km {distance} and converted in meters {distance*1000}\")\n",
    "        print(f\"Given distance in km {distance} and converted in centimeters {distance*100000}\")\n",
    "        print(f\"Given distance in km {distance} and converted in feets {distance*1093.61}\")\n",
    "        print(f\"Given distance in km {distance} and converted in inches {round(distance*25.4,2)}\")\n",
    "    except Exception as e:\n",
    "        print(\"The error is: \",e)\n",
    "    "
   ]
  },
  {
   "cell_type": "markdown",
   "id": "3b3e8012",
   "metadata": {},
   "source": [
    "## 3. If the marks obtained by a student in five different subjects are input through the  keyboard, find out the aggregate marks and percentage marks obtained by the student.  Assume that the maximum marks that can be obtained by a student in each subject is  100. "
   ]
  },
  {
   "cell_type": "code",
   "execution_count": 6,
   "id": "24eecb4b",
   "metadata": {},
   "outputs": [
    {
     "name": "stdout",
     "output_type": "stream",
     "text": [
      "Enter Subject 1 Marks (max 100) : 60\n",
      "Enter Subject 2 Marks (max 100) : 70\n",
      "Enter Subject 3 Marks (max 100) : 80\n",
      "Enter Subject 4 Marks (max 100) : 80\n",
      "Enter Subject 5 Marks (max 100) : 90\n",
      "Aggregate/Sum of marks 380 and percentage of marks 76.0 obtained by the student\n"
     ]
    }
   ],
   "source": [
    "if __name__ == \"__main__\":\n",
    "    \"\"\"marks obtained by a student in five different subjects are input through the keyboard, calcualte sum and percentage\"\"\"\n",
    "    try:\n",
    "        total_marks = 0\n",
    "        for i in range(5):\n",
    "            marks=eval(input(f\"Enter Subject {i+1} Marks (max 100) : \"))\n",
    "            total_marks = total_marks + marks\n",
    "        print(f\"Aggregate/Sum of marks {total_marks} and percentage of marks {total_marks/5} obtained by the student\")   \n",
    "    except Exception as e:\n",
    "        print(\"The error is: \",e)\n"
   ]
  },
  {
   "cell_type": "markdown",
   "id": "708a1f1c",
   "metadata": {},
   "source": [
    "## 4. Temperature of a city in Fahrenheit degrees is input through the keyboard. Write a  program to convert this temperature into Centigrade degrees. "
   ]
  },
  {
   "cell_type": "code",
   "execution_count": 11,
   "id": "54a13f0f",
   "metadata": {},
   "outputs": [
    {
     "name": "stdout",
     "output_type": "stream",
     "text": [
      "Enter Temperature of a city in Fahrenheit degrees : 40\n",
      "Temperatue in Celsius 4.44\n"
     ]
    }
   ],
   "source": [
    "\n",
    "if __name__ == \"__main__\":\n",
    "    \"\"\"Temperature of a city in Fahrenheit degrees is input through the keyboard. \n",
    "    Write a  program to convert this temperature into Centigrade degrees. \"\"\"\n",
    "    try:\n",
    "        temp_f=eval(input(\"Enter Temperature of a city in Fahrenheit degrees : \")) \n",
    "        celsius = (temp_f - 32) * 5/9\n",
    "        print(f\"Temperatue in Celsius {round(celsius,2)}\")\n",
    "    except Exception as e:\n",
    "        print(\"The error is: \",e)\n",
    "    "
   ]
  },
  {
   "cell_type": "markdown",
   "id": "b34e35a5",
   "metadata": {},
   "source": [
    "## 5.The length & breadth of a rectangle and radius of a circle are input through the keyboard. Write a program to calculate the area & perimeter of the rectangle, and the area & circumference of the circle\n"
   ]
  },
  {
   "cell_type": "code",
   "execution_count": 12,
   "id": "7b43003c",
   "metadata": {},
   "outputs": [
    {
     "name": "stdout",
     "output_type": "stream",
     "text": [
      "Enter the length of the rectangle in cm 5\n",
      "Enter the breadth of the rectangle in cm 6\n",
      "Enter the radius of the circle in cm 5\n",
      "The rectangle perimeter is 22 cm and area is 30 sq cm\n",
      "the circle circumference is 31.4 cm and area is 78.5 sq cm\n"
     ]
    }
   ],
   "source": [
    "if __name__ == \"__main__\":\n",
    "    \"\"\"Write a program to calculate the area & perimeter of the rectangle, and the area & circumference of the circle\"\"\"\n",
    "    try:\n",
    "        Rectangle_length=eval(input(\"Enter the length of the rectangle in cm \"))\n",
    "        Rectangle_breadth=eval(input(\"Enter the breadth of the rectangle in cm \"))\n",
    "        Rectangle_perimeter = 2*(Rectangle_breadth+Rectangle_length)\n",
    "        Rectangle_area = Rectangle_breadth*Rectangle_length\n",
    "        Circle_radius= eval(input(\"Enter the radius of the circle in cm \"))\n",
    "        Circle_circumference= 2*3.14*Circle_radius\n",
    "        Circle_area= Circle_radius*Circle_radius*3.14  \n",
    "        print(f\"The rectangle perimeter is {Rectangle_perimeter} cm and area is {Rectangle_area} sq cm\")\n",
    "        print(f\"the circle circumference is {round(Circle_circumference,2)} cm and area is {Circle_area} sq cm\")\n",
    "    except Exception as e:\n",
    "        print(\"The error is: \",e)"
   ]
  },
  {
   "cell_type": "markdown",
   "id": "f60c870e",
   "metadata": {},
   "source": [
    "## 6. Two numbers are input through the keyboard into two locations C and D. Write a program to interchange the contents of C and D."
   ]
  },
  {
   "cell_type": "code",
   "execution_count": 14,
   "id": "dae28188",
   "metadata": {},
   "outputs": [
    {
     "name": "stdout",
     "output_type": "stream",
     "text": [
      "Enter first number :20\n",
      "Enter second number :10\n",
      "first value 20 and second value 10\n",
      "After inter change\n",
      "first value 10 and second value 20\n"
     ]
    }
   ],
   "source": [
    "if __name__ == \"__main__\":\n",
    "    \"\"\" Two numbers are input through the keyboard into two locations C and D.\n",
    "    Write a program to interchange the contents of C and D.\"\"\"\n",
    "    try:\n",
    "        x=eval(input(\"Enter first number :\"))\n",
    "        y=eval(input(\"Enter second number :\"))\n",
    "        print(f\"first value {x} and second value {y}\")\n",
    "        x,y = y ,x\n",
    "        print(\"After inter change\")\n",
    "        print(f\"first value {x} and second value {y}\")\n",
    "    except Exception as e:\n",
    "        print(\"The error is: \",e)"
   ]
  },
  {
   "cell_type": "markdown",
   "id": "4c6b393c",
   "metadata": {},
   "source": [
    "## 7.If a five-digit number is input through the keyboard, write a program to reverse the number."
   ]
  },
  {
   "cell_type": "code",
   "execution_count": 20,
   "id": "f24481bd",
   "metadata": {},
   "outputs": [
    {
     "name": "stdout",
     "output_type": "stream",
     "text": [
      "Enter five digit integer number(10000-99999) to find reverse: 12345\n",
      "Reverse of given number 10 is 54321\n"
     ]
    }
   ],
   "source": [
    "if __name__ == \"__main__\":\n",
    "    \"\"\"If a five-digit number is input through the keyboard, write a program to reverse the number.\"\"\"\n",
    "    try:\n",
    "        num = int(input(\"Enter five digit integer number(10000-99999) to find reverse: \"))\n",
    "        if (num >= 10000) and (num <=99999):\n",
    "            rev_num = 0\n",
    "            while num != 0:\n",
    "                r=num % 10\n",
    "                rev_num = rev_num*10 + r\n",
    "                num = num//10\n",
    "            print(f\"Reverse of given number {x} is {rev_num}\")\n",
    "        else:\n",
    "            print(\"Invalid Input. Pls Enter five digit integer number(1000-99999)\")\n",
    "    except Exception as e:\n",
    "        print(\"The error is: \",e)"
   ]
  },
  {
   "cell_type": "markdown",
   "id": "10548964",
   "metadata": {},
   "source": [
    "## 8. If a four-digit number is input through the keyboard, write a program to obtain the sum of  the first and last digit of this number. "
   ]
  },
  {
   "cell_type": "code",
   "execution_count": 24,
   "id": "32cf8636",
   "metadata": {},
   "outputs": [
    {
     "name": "stdout",
     "output_type": "stream",
     "text": [
      "Enter four digit integer number (1000 to 9999): 1234\n",
      "the sum of the first and last digit of given number 1234 is 5\n"
     ]
    }
   ],
   "source": [
    "\n",
    "if __name__ == \"__main__\":\n",
    "    \"\"\"If a four-digit number is input through the keyboard, \n",
    "    write a program to obtain the sum of the first and last digit of this number.\"\"\"\n",
    "    try:\n",
    "        num =int(input(\"Enter four digit integer number (1000 to 9999): \"))\n",
    "        saved_num=num\n",
    "        if (num >=1000) and (num <= 9999):\n",
    "            digits = []\n",
    "            while num != 0:\n",
    "                r = num % 10\n",
    "                digits.append(r)\n",
    "                num = num //10\n",
    "            \n",
    "            sum_fist_last_digit=digits[0]+digits[-1]\n",
    "            print(f\"the sum of the first and last digit of given number {saved_num} is {sum_fist_last_digit}\")\n",
    "        else:\n",
    "            print(\"Invalid Input. Pls Enter the number (1000 to 9999)\")\n",
    "    except Exception as e:\n",
    "        print(\"The error is: \",e)\n",
    "        \n"
   ]
  },
  {
   "cell_type": "markdown",
   "id": "e53a6d50",
   "metadata": {},
   "source": [
    "## 9. In a town, the percentage of men is 52. The percentage of total literacy is 48. If total  percentage of literate men is 35 of the total population, write a program to find the total  number of illiterate men and women if the population of the town is 80,000."
   ]
  },
  {
   "cell_type": "code",
   "execution_count": 25,
   "id": "e981c3b0",
   "metadata": {},
   "outputs": [
    {
     "name": "stdout",
     "output_type": "stream",
     "text": [
      "Total number of illiterate men: 13600\n",
      "Total number of illiterate women: 41600\n",
      "Total number of illiterate people: 55200\n"
     ]
    }
   ],
   "source": [
    "if __name__ == \"__main__\":\n",
    "    try:\n",
    "        total_population = 80000\n",
    "\n",
    "        men_percentage = 52\n",
    "        num_men = (men_percentage / 100) * total_population\n",
    "\n",
    "        literate_men_percentage = 35\n",
    "        num_literate_men = (literate_men_percentage / 100) * total_population\n",
    "\n",
    "        num_illiterate_men = num_men - num_literate_men\n",
    "\n",
    "        total_literacy_percentage = 48\n",
    "        num_literate_women = (total_literacy_percentage / 100) * total_population - num_literate_men\n",
    "\n",
    "        num_illiterate_women = total_population - (num_literate_men + num_literate_women)\n",
    "  \n",
    "        total_illiterate_people = num_illiterate_men + num_illiterate_women\n",
    "\n",
    "        # Display the results\n",
    "        print(f\"Total number of illiterate men: {int(num_illiterate_men)}\")\n",
    "        print(f\"Total number of illiterate women: {int(num_illiterate_women)}\")\n",
    "        print(f\"Total number of illiterate people: {int(total_illiterate_people)}\")\n",
    "    except Exception as e:\n",
    "        print(\"The error is: \",e)\n",
    "\n"
   ]
  },
  {
   "cell_type": "markdown",
   "id": "f6e84dc5",
   "metadata": {},
   "source": [
    "## 10. A cashier has currency notes of denominations 10, 50 and 100. If the amount to be  withdrawn is input through the keyboard in hundreds, find the total number of currency  notes of each denomination the cashier will have to give to the withdrawer.\n"
   ]
  },
  {
   "cell_type": "code",
   "execution_count": 26,
   "id": "2dece0ed",
   "metadata": {},
   "outputs": [
    {
     "name": "stdout",
     "output_type": "stream",
     "text": [
      "Enter the amount to be withdrawn in hundreds: 240\n",
      "Number of 100s: 2\n",
      "Number of 50s: 0\n",
      "Number of 10s: 4\n"
     ]
    }
   ],
   "source": [
    "if __name__ == \"__main__\":\n",
    "    try:\n",
    "        # Input the amount to be withdrawn in hundreds\n",
    "        amount_in_hundreds = int(input(\"Enter the amount to be withdrawn in hundreds: \"))\n",
    "\n",
    "        # Calculate the number of 100s, 50s, and 10s\n",
    "        num_100s = amount_in_hundreds//100\n",
    "        amount_in_hundreds = amount_in_hundreds - num_100s*100\n",
    "        num_50s = (amount_in_hundreds // 50) \n",
    "        amount_in_hundreds = amount_in_hundreds - num_50s*50\n",
    "        num_10s = (amount_in_hundreds // 10) \n",
    "\n",
    "        # Display the results\n",
    "        print(f\"Number of 100s: {num_100s}\")\n",
    "        print(f\"Number of 50s: {num_50s}\")\n",
    "        print(f\"Number of 10s: {num_10s}\")\n",
    "    except Exception as e:\n",
    "        print(\"The error is: \",e)\n"
   ]
  }
 ],
 "metadata": {
  "kernelspec": {
   "display_name": "Python 3 (ipykernel)",
   "language": "python",
   "name": "python3"
  },
  "language_info": {
   "codemirror_mode": {
    "name": "ipython",
    "version": 3
   },
   "file_extension": ".py",
   "mimetype": "text/x-python",
   "name": "python",
   "nbconvert_exporter": "python",
   "pygments_lexer": "ipython3",
   "version": "3.11.5"
  }
 },
 "nbformat": 4,
 "nbformat_minor": 5
}
