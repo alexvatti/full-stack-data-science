{
 "cells": [
  {
   "cell_type": "markdown",
   "id": "4a7ac1bb",
   "metadata": {},
   "source": [
    "# Introduction to Python  -  Assignment 2 By Nallagoni Omkar\n",
    "## Write Python Program for the following: \n",
    "1. Ramesh’s basic salary is input through the keyboard. His dearness allowance is 40% of  basic salary, and house rent allowance is 20% of basic salary. Write a program to  calculate his gross salary. \n",
    "2. The distance between two cities (in km.) is input through the keyboard. Write a program  to convert and print this distance in meters, feet, inches and centimeters. \n",
    "3. If the marks obtained by a student in five different subjects are input through the  keyboard, find out the aggregate marks and percentage marks obtained by the student.  Assume that the maximum marks that can be obtained by a student in each subject is  100. \n",
    "4. Temperature of a city in Fahrenheit degrees is input through the keyboard. Write a  program to convert this temperature into Centigrade degrees. \n",
    "5. The length & breadth of a rectangle and radius of a circle are input through the  keyboard. Write a program to calculate the area & perimeter of the rectangle, and the  area & circumference of the circle. \n",
    "6. Two numbers are input through the keyboard into two locations C and D. Write a  program to interchange the contents of C and D. \n",
    "7. If a five-digit number is input through the keyboard, write a program to reverse the  number. \n",
    "8. If a four-digit number is input through the keyboard, write a program to obtain the sum of  the first and last digit of this number. \n",
    "9. In a town, the percentage of men is 52. The percentage of total literacy is 48. If total  percentage of literate men is 35 of the total population, write a program to find the total  number of illiterate men and women if the population of the town is 80,000. \n",
    "10. A cashier has currency notes of denominations 10, 50 and 100. If the amount to be  withdrawn is input through the keyboard in hundreds, find the total number of currency  notes of each denomination the cashier will have to give to the withdrawer.\n"
   ]
  },
  {
   "cell_type": "markdown",
   "id": "f8d58ca0",
   "metadata": {},
   "source": [
    "## 1. Ramesh’s basic salary is input through the keyboard. His dearness allowance is 40% of  basic salary, and house rent allowance is 20% of basic salary. Write a program to  calculate his gross salary."
   ]
  },
  {
   "cell_type": "code",
   "execution_count": 2,
   "id": "52390c1c",
   "metadata": {},
   "outputs": [
    {
     "name": "stdout",
     "output_type": "stream",
     "text": [
      "Enter Basic Salary of employee: 10000.0\n",
      "Basic Salary 10000.0 and gross salary 16000.0\n"
     ]
    }
   ],
   "source": [
    "def cal_gross_salary(basic_salary, dearness_allowance=40 ,house_allowance=20):\n",
    "    \"\"\"basic salary is input through the keyboard. His dearness allowance is 40% of basic salary,\n",
    "    and house rent allowance is 20% of basic salary. Write a program to calculate his gross salary.\"\"\"\n",
    "    gross_salary = basic_salary + (basic_salary *dearness_allowance/100) + (basic_salary *house_allowance/100)\n",
    "    return gross_salary\n",
    "\n",
    "if __name__ == \"__main__\":\n",
    "    basic_salary=eval(input(\"Enter Basic Salary of employee: \"))\n",
    "    print(f\"Basic Salary {basic_salary} and gross salary {cal_gross_salary(basic_salary)}\")   \n",
    "    "
   ]
  },
  {
   "cell_type": "markdown",
   "id": "b974710c",
   "metadata": {},
   "source": [
    "## 2. The distance between two cities (in km.) is input through the keyboard. Write a program  to convert and print this distance in meters, feet, inches and centimeters"
   ]
  },
  {
   "cell_type": "code",
   "execution_count": 4,
   "id": "de2557f0",
   "metadata": {},
   "outputs": [
    {
     "name": "stdout",
     "output_type": "stream",
     "text": [
      "Enter distance between two cities (in km) : 1\n",
      "Given distance in km 1 and converted in meters 1000\n",
      "Given distance in km 1 and converted in centimeters 100000\n",
      "Given distance in km 1 and converted in feets 1093.61\n",
      "Given distance in km 1 and converted in inches 25.4\n"
     ]
    }
   ],
   "source": [
    "def  convert_distance(distance):\n",
    "    \"\"\"Write a program to convert (km) and print this distance in meters, feet, inches and centimeters\"\"\"\n",
    "    print(f\"Given distance in km {distance} and converted in meters {distance*1000}\")\n",
    "    print(f\"Given distance in km {distance} and converted in centimeters {distance*100000}\")\n",
    "    print(f\"Given distance in km {distance} and converted in feets {distance*1093.61}\")\n",
    "    print(f\"Given distance in km {distance} and converted in inches {distance*25.4}\")\n",
    "    \n",
    "if __name__ == \"__main__\":\n",
    "    distance=eval(input(\"Enter distance between two cities (in km) : \")) \n",
    "    convert_distance(distance)\n",
    "    "
   ]
  },
  {
   "cell_type": "markdown",
   "id": "3b3e8012",
   "metadata": {},
   "source": [
    "## 3. If the marks obtained by a student in five different subjects are input through the  keyboard, find out the aggregate marks and percentage marks obtained by the student.  Assume that the maximum marks that can be obtained by a student in each subject is  100. "
   ]
  },
  {
   "cell_type": "code",
   "execution_count": 8,
   "id": "24eecb4b",
   "metadata": {},
   "outputs": [
    {
     "name": "stdout",
     "output_type": "stream",
     "text": [
      "Enter Subject 1 Marks (max 100) : 100\n",
      "Enter Subject 2 Marks (max 100) : 100\n",
      "Enter Subject 3 Marks (max 100) : 100\n",
      "Enter Subject 4 Marks (max 100) : 100\n",
      "Enter Subject 5 Marks (max 100) : 100\n",
      " aggregate marks 500 and percentage marks 100.0 obtained by the student\n"
     ]
    }
   ],
   "source": [
    "if __name__ == \"__main__\":\n",
    "    s = 0\n",
    "    for i in range(5):\n",
    "        marks=eval(input(f\"Enter Subject {i+1} Marks (max 100) : \"))\n",
    "        s = s+ marks\n",
    "    print(f\"aggregate marks {s} and percentage marks {s/5} obtained by the student\")    \n"
   ]
  },
  {
   "cell_type": "markdown",
   "id": "708a1f1c",
   "metadata": {},
   "source": [
    "## 4. Temperature of a city in Fahrenheit degrees is input through the keyboard. Write a  program to convert this temperature into Centigrade degrees. "
   ]
  },
  {
   "cell_type": "code",
   "execution_count": 11,
   "id": "54a13f0f",
   "metadata": {},
   "outputs": [
    {
     "name": "stdout",
     "output_type": "stream",
     "text": [
      "Enter Temperature of a city in Fahrenheit degrees : 12\n",
      "Temperatue in Celsius -11.11111111111111\n"
     ]
    }
   ],
   "source": [
    "def fahenhit_centograte(temp):\n",
    "    \"\"\"Temperature of a city in Fahrenheit degrees is input through the keyboard. \n",
    "    Write a  program to convert this temperature into Centigrade degrees. \"\"\"\n",
    "    celsius = (temp - 32) * 5/9\n",
    "    return celsius\n",
    "\n",
    "if __name__ == \"__main__\":\n",
    "    temp_f=eval(input(\"Enter Temperature of a city in Fahrenheit degrees : \")) \n",
    "    print(f\"Temperatue in Celsius {fahenhit_centograte(temp_f)}\")\n",
    "    "
   ]
  },
  {
   "cell_type": "markdown",
   "id": "b34e35a5",
   "metadata": {},
   "source": [
    "## 5.The length & breadth of a rectangle and radius of a circle are input through the keyboard. Write a program to calculate the area & perimeter of the rectangle, and the area & circumference of the circle\n"
   ]
  },
  {
   "cell_type": "code",
   "execution_count": 1,
   "id": "7b43003c",
   "metadata": {},
   "outputs": [
    {
     "name": "stdout",
     "output_type": "stream",
     "text": [
      "Enter the length of the rectangle in cm 5\n",
      "Enter the breadth of the rectangle in cm 5\n",
      "Enter the radius of the circle in cm 5\n",
      "The rectangle perimeter is 20 cm and area is 25 sq cm\n",
      "the circle circumference is 31.400000000000002 cm and area is 78.5 sq cm\n"
     ]
    }
   ],
   "source": [
    "if __name__ == \"__main__\":\n",
    "    Rectangle_length=eval(input(\"Enter the length of the rectangle in cm \"))\n",
    "    Rectangle_breadth=eval(input(\"Enter the breadth of the rectangle in cm \"))\n",
    "    Rectangle_perimeter = 2*(Rectangle_breadth+Rectangle_length)\n",
    "    Rectangle_area = Rectangle_breadth*Rectangle_length\n",
    "    Circle_radius= eval(input(\"Enter the radius of the circle in cm \"))\n",
    "    Circle_circumference= 2*3.14*Circle_radius\n",
    "    Circle_area= Circle_radius*Circle_radius*3.14  \n",
    "    print(f\"The rectangle perimeter is {Rectangle_perimeter} cm and area is {Rectangle_area} sq cm\")\n",
    "    print(f\"the circle circumference is {Circle_circumference} cm and area is {Circle_area} sq cm\")"
   ]
  },
  {
   "cell_type": "markdown",
   "id": "f60c870e",
   "metadata": {},
   "source": [
    "## 6. Two numbers are input through the keyboard into two locations C and D. Write a program to interchange the contents of C and D."
   ]
  },
  {
   "cell_type": "code",
   "execution_count": 3,
   "id": "dae28188",
   "metadata": {},
   "outputs": [
    {
     "name": "stdout",
     "output_type": "stream",
     "text": [
      "Enter first number :10\n",
      "Enter second number :20\n",
      "first value 10 and second value 20\n",
      "After intercahnge\n",
      "first value 20 and second value 10\n"
     ]
    }
   ],
   "source": [
    "if __name__ == \"__main__\":\n",
    "    x=eval(input(\"Enter first number :\"))\n",
    "    y=eval(input(\"Enter second number :\"))\n",
    "    print(f\"first value {x} and second value {y}\")\n",
    "    x,y = y ,x\n",
    "    print(\"After intercahnge\")\n",
    "    print(f\"first value {x} and second value {y}\")"
   ]
  },
  {
   "cell_type": "markdown",
   "id": "4c6b393c",
   "metadata": {},
   "source": [
    "## 7.If a five-digit number is input through the keyboard, write a program to reverse the number."
   ]
  },
  {
   "cell_type": "code",
   "execution_count": 8,
   "id": "f24481bd",
   "metadata": {},
   "outputs": [
    {
     "name": "stdout",
     "output_type": "stream",
     "text": [
      "Enter integer number to find reverse: 1023\n",
      "Reverse of given number 1023 is 3201\n"
     ]
    }
   ],
   "source": [
    "def reverse_num(n):\n",
    "    s=0\n",
    "    while n != 0:\n",
    "        r=n%10\n",
    "        s=s*10+r\n",
    "        n=n//10\n",
    "    return s\n",
    "if __name__ == \"__main__\":\n",
    "    x=int(input(\"Enter integer number to find reverse: \"))\n",
    "    print(f\"Reverse of given number {x} is {reverse_num(x)}\")"
   ]
  },
  {
   "cell_type": "markdown",
   "id": "10548964",
   "metadata": {},
   "source": [
    "## 8. If a four-digit number is input through the keyboard, write a program to obtain the sum of  the first and last digit of this number. "
   ]
  },
  {
   "cell_type": "code",
   "execution_count": 14,
   "id": "32cf8636",
   "metadata": {},
   "outputs": [
    {
     "name": "stdout",
     "output_type": "stream",
     "text": [
      "Enter integer number to find reverse (1000 to 9999): 9999\n",
      "the sum of the first and last digit of given number 9999 is 18\n"
     ]
    }
   ],
   "source": [
    "def sum_first_last_digit(n):\n",
    "    digits = []\n",
    "    while n != 0:\n",
    "        r=n%10\n",
    "        digits.append(r)\n",
    "        n=n//10\n",
    "    digits.reverse()\n",
    "    return(digits[0]+digits[-1])\n",
    "\n",
    "if __name__ == \"__main__\":\n",
    "    x=int(input(\"Enter integer number to find reverse (1000 to 9999): \"))\n",
    "    if (x >=1000 and x <= 9999):\n",
    "        print(f\"the sum of the first and last digit of given number {x} is {sum_first_last_digit(x)}\")\n",
    "    else:\n",
    "        print(\"Invalid Input. Pls Enter the number (1000 to 9999)\")\n",
    "        \n"
   ]
  },
  {
   "cell_type": "markdown",
   "id": "e53a6d50",
   "metadata": {},
   "source": [
    "## 9. In a town, the percentage of men is 52. The percentage of total literacy is 48. If total  percentage of literate men is 35 of the total population, write a program to find the total  number of illiterate men and women if the population of the town is 80,000."
   ]
  },
  {
   "cell_type": "code",
   "execution_count": 15,
   "id": "e981c3b0",
   "metadata": {},
   "outputs": [
    {
     "name": "stdout",
     "output_type": "stream",
     "text": [
      "Enter the population of the town: 80000\n",
      "Population of town 80000 and toltoal illiterate 41600\n"
     ]
    }
   ],
   "source": [
    "def illiterate(count, per_lit=48):\n",
    "    return (count - (count * per_lit//100))\n",
    "\n",
    "if __name__ == \"__main__\":\n",
    "    x=int(input(\"Enter the population of the town: \"))\n",
    "    print(f\"Population of town {x} and totoal illiterate {illiterate(x)}\")\n"
   ]
  },
  {
   "cell_type": "markdown",
   "id": "f6e84dc5",
   "metadata": {},
   "source": [
    "## 10. A cashier has currency notes of denominations 10, 50 and 100. If the amount to be  withdrawn is input through the keyboard in hundreds, find the total number of currency  notes of each denomination the cashier will have to give to the withdrawer.\n"
   ]
  },
  {
   "cell_type": "code",
   "execution_count": 1,
   "id": "2dece0ed",
   "metadata": {},
   "outputs": [
    {
     "name": "stdout",
     "output_type": "stream",
     "text": [
      "Enter the amount to be withdrawn in hundreds: 430\n",
      "Number of 100s: 4\n",
      "Number of 50s: 0\n",
      "Number of 10s: 3\n"
     ]
    }
   ],
   "source": [
    "# Input the amount to be withdrawn in hundreds\n",
    "amount_in_hundreds = int(input(\"Enter the amount to be withdrawn in hundreds: \"))\n",
    "\n",
    "# Calculate the number of 100s, 50s, and 10s\n",
    "num_100s = amount_in_hundreds//100\n",
    "amount_in_hundreds = amount_in_hundreds - num_100s*100\n",
    "\n",
    "# Adjust the number of 50s and 10s based on the remaining amount\n",
    "num_50s = (amount_in_hundreds // 50) \n",
    "amount_in_hundreds = amount_in_hundreds - num_50s*50\n",
    "num_10s = (amount_in_hundreds // 10) \n",
    "\n",
    "# Display the results\n",
    "print(f\"Number of 100s: {num_100s}\")\n",
    "print(f\"Number of 50s: {num_50s}\")\n",
    "print(f\"Number of 10s: {num_10s}\")\n"
   ]
  }
 ],
 "metadata": {
  "kernelspec": {
   "display_name": "Python 3 (ipykernel)",
   "language": "python",
   "name": "python3"
  },
  "language_info": {
   "codemirror_mode": {
    "name": "ipython",
    "version": 3
   },
   "file_extension": ".py",
   "mimetype": "text/x-python",
   "name": "python",
   "nbconvert_exporter": "python",
   "pygments_lexer": "ipython3",
   "version": "3.11.7"
  }
 },
 "nbformat": 4,
 "nbformat_minor": 5
}
