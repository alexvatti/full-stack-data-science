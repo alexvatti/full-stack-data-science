{
 "cells": [
  {
   "cell_type": "markdown",
   "id": "224780af",
   "metadata": {},
   "source": [
    "## Math Python Package"
   ]
  },
  {
   "cell_type": "code",
   "execution_count": 47,
   "id": "196c727b",
   "metadata": {},
   "outputs": [],
   "source": [
    "import math"
   ]
  },
  {
   "cell_type": "code",
   "execution_count": 48,
   "id": "4e244d96",
   "metadata": {},
   "outputs": [
    {
     "data": {
      "text/plain": [
       "<module 'math' (built-in)>"
      ]
     },
     "execution_count": 48,
     "metadata": {},
     "output_type": "execute_result"
    }
   ],
   "source": [
    "math"
   ]
  },
  {
   "cell_type": "code",
   "execution_count": 49,
   "id": "ec412302",
   "metadata": {},
   "outputs": [
    {
     "data": {
      "text/plain": [
       "['__doc__',\n",
       " '__loader__',\n",
       " '__name__',\n",
       " '__package__',\n",
       " '__spec__',\n",
       " 'acos',\n",
       " 'acosh',\n",
       " 'asin',\n",
       " 'asinh',\n",
       " 'atan',\n",
       " 'atan2',\n",
       " 'atanh',\n",
       " 'cbrt',\n",
       " 'ceil',\n",
       " 'comb',\n",
       " 'copysign',\n",
       " 'cos',\n",
       " 'cosh',\n",
       " 'degrees',\n",
       " 'dist',\n",
       " 'e',\n",
       " 'erf',\n",
       " 'erfc',\n",
       " 'exp',\n",
       " 'exp2',\n",
       " 'expm1',\n",
       " 'fabs',\n",
       " 'factorial',\n",
       " 'floor',\n",
       " 'fmod',\n",
       " 'frexp',\n",
       " 'fsum',\n",
       " 'gamma',\n",
       " 'gcd',\n",
       " 'hypot',\n",
       " 'inf',\n",
       " 'isclose',\n",
       " 'isfinite',\n",
       " 'isinf',\n",
       " 'isnan',\n",
       " 'isqrt',\n",
       " 'lcm',\n",
       " 'ldexp',\n",
       " 'lgamma',\n",
       " 'log',\n",
       " 'log10',\n",
       " 'log1p',\n",
       " 'log2',\n",
       " 'modf',\n",
       " 'nan',\n",
       " 'nextafter',\n",
       " 'perm',\n",
       " 'pi',\n",
       " 'pow',\n",
       " 'prod',\n",
       " 'radians',\n",
       " 'remainder',\n",
       " 'sin',\n",
       " 'sinh',\n",
       " 'sqrt',\n",
       " 'tan',\n",
       " 'tanh',\n",
       " 'tau',\n",
       " 'trunc',\n",
       " 'ulp']"
      ]
     },
     "execution_count": 49,
     "metadata": {},
     "output_type": "execute_result"
    }
   ],
   "source": [
    "dir(math)"
   ]
  },
  {
   "cell_type": "markdown",
   "id": "ae6b5ebb",
   "metadata": {},
   "source": [
    "## Converting values from degrees to radians and vice versa"
   ]
  },
  {
   "cell_type": "code",
   "execution_count": 50,
   "id": "75ce3c4c",
   "metadata": {},
   "outputs": [
    {
     "name": "stdout",
     "output_type": "stream",
     "text": [
      "Help on built-in function radians in module math:\n",
      "\n",
      "radians(x, /)\n",
      "    Convert angle x from degrees to radians.\n",
      "\n"
     ]
    }
   ],
   "source": [
    "help(math.radians)"
   ]
  },
  {
   "cell_type": "code",
   "execution_count": 51,
   "id": "9c1195ed",
   "metadata": {},
   "outputs": [
    {
     "data": {
      "text/plain": [
       "1.5707963267948966"
      ]
     },
     "execution_count": 51,
     "metadata": {},
     "output_type": "execute_result"
    }
   ],
   "source": [
    "math.radians(90)"
   ]
  },
  {
   "cell_type": "markdown",
   "id": "4635d7fd",
   "metadata": {},
   "source": [
    "## Finding sine, cosine, and tangent"
   ]
  },
  {
   "cell_type": "code",
   "execution_count": 52,
   "id": "c7bcf0dd",
   "metadata": {},
   "outputs": [
    {
     "name": "stdout",
     "output_type": "stream",
     "text": [
      "Help on built-in function sin in module math:\n",
      "\n",
      "sin(x, /)\n",
      "    Return the sine of x (measured in radians).\n",
      "\n"
     ]
    }
   ],
   "source": [
    "help(math.sin)"
   ]
  },
  {
   "cell_type": "code",
   "execution_count": 53,
   "id": "17e2e3b3",
   "metadata": {},
   "outputs": [
    {
     "data": {
      "text/plain": [
       "1.0"
      ]
     },
     "execution_count": 53,
     "metadata": {},
     "output_type": "execute_result"
    }
   ],
   "source": [
    "math.sin(math.radians(90))"
   ]
  },
  {
   "cell_type": "code",
   "execution_count": 54,
   "id": "bab2b0f5",
   "metadata": {},
   "outputs": [
    {
     "name": "stdout",
     "output_type": "stream",
     "text": [
      "Help on built-in function cos in module math:\n",
      "\n",
      "cos(x, /)\n",
      "    Return the cosine of x (measured in radians).\n",
      "\n"
     ]
    }
   ],
   "source": [
    "help(math.cos)"
   ]
  },
  {
   "cell_type": "code",
   "execution_count": 55,
   "id": "cda2a847",
   "metadata": {},
   "outputs": [
    {
     "data": {
      "text/plain": [
       "0.0"
      ]
     },
     "execution_count": 55,
     "metadata": {},
     "output_type": "execute_result"
    }
   ],
   "source": [
    "round(math.cos(math.radians(90)),3)"
   ]
  },
  {
   "cell_type": "markdown",
   "id": "e59112b3",
   "metadata": {},
   "source": [
    "## Finding the Square root"
   ]
  },
  {
   "cell_type": "code",
   "execution_count": 56,
   "id": "58b5f664",
   "metadata": {},
   "outputs": [
    {
     "name": "stdout",
     "output_type": "stream",
     "text": [
      "Help on built-in function sqrt in module math:\n",
      "\n",
      "sqrt(x, /)\n",
      "    Return the square root of x.\n",
      "\n"
     ]
    }
   ],
   "source": [
    "help(math.sqrt)"
   ]
  },
  {
   "cell_type": "code",
   "execution_count": 57,
   "id": "46cd961f",
   "metadata": {},
   "outputs": [
    {
     "data": {
      "text/plain": [
       "5.0"
      ]
     },
     "execution_count": 57,
     "metadata": {},
     "output_type": "execute_result"
    }
   ],
   "source": [
    "math.sqrt(25)"
   ]
  },
  {
   "cell_type": "markdown",
   "id": "4984359e",
   "metadata": {},
   "source": [
    "## various constants like pi, and tau"
   ]
  },
  {
   "cell_type": "code",
   "execution_count": 58,
   "id": "e35c0552",
   "metadata": {},
   "outputs": [
    {
     "data": {
      "text/plain": [
       "3.141592653589793"
      ]
     },
     "execution_count": 58,
     "metadata": {},
     "output_type": "execute_result"
    }
   ],
   "source": [
    "math.pi"
   ]
  },
  {
   "cell_type": "code",
   "execution_count": 59,
   "id": "5eabb9d0",
   "metadata": {},
   "outputs": [
    {
     "data": {
      "text/plain": [
       "2.718281828459045"
      ]
     },
     "execution_count": 59,
     "metadata": {},
     "output_type": "execute_result"
    }
   ],
   "source": [
    "math.e"
   ]
  },
  {
   "cell_type": "markdown",
   "id": "72354a5e",
   "metadata": {},
   "source": [
    "## Infinite number in Python"
   ]
  },
  {
   "cell_type": "code",
   "execution_count": 60,
   "id": "7dd49a82",
   "metadata": {},
   "outputs": [
    {
     "name": "stdout",
     "output_type": "stream",
     "text": [
      "inf\n",
      "-inf\n",
      "True\n",
      "True\n"
     ]
    }
   ],
   "source": [
    "print (math.inf) \n",
    "print (-math.inf)\n",
    "print (math.inf > 10e108) \n",
    "print (-math.inf < -10e108)"
   ]
  },
  {
   "cell_type": "markdown",
   "id": "9f986a5c",
   "metadata": {},
   "source": [
    "## Finding the factorial of the number"
   ]
  },
  {
   "cell_type": "code",
   "execution_count": 61,
   "id": "01896880",
   "metadata": {},
   "outputs": [
    {
     "name": "stdout",
     "output_type": "stream",
     "text": [
      "The factorial of 5 is : \n",
      "120\n"
     ]
    }
   ],
   "source": [
    "a = 5\n",
    "print(\"The factorial of {} is : \".format(a))\n",
    "print(math.factorial(a))"
   ]
  },
  {
   "cell_type": "markdown",
   "id": "1120368a",
   "metadata": {},
   "source": [
    "## Finding the ceiling and the floor value"
   ]
  },
  {
   "cell_type": "code",
   "execution_count": 62,
   "id": "5cf9e56c",
   "metadata": {},
   "outputs": [
    {
     "name": "stdout",
     "output_type": "stream",
     "text": [
      "The ceil of 3.3 is : 4\n",
      "The floor of 3.3 is : 3\n"
     ]
    }
   ],
   "source": [
    "a = 3.3\n",
    "print (\"The ceil of 3.3 is : \", end=\"\") \n",
    "print (math.ceil(a)) \n",
    "print (\"The floor of 3.3 is : \", end=\"\") \n",
    "print (math.floor(a)) "
   ]
  },
  {
   "cell_type": "markdown",
   "id": "e8583584",
   "metadata": {},
   "source": [
    "##  Finding the Logarithm"
   ]
  },
  {
   "cell_type": "code",
   "execution_count": 63,
   "id": "7c24747d",
   "metadata": {},
   "outputs": [
    {
     "name": "stdout",
     "output_type": "stream",
     "text": [
      "The value of log 2 with base 3 is : 0.6309297535714574\n",
      "The value of log2 of 16 is : 4.0\n",
      "The value of log10 of 10000 is : 4.0\n"
     ]
    }
   ],
   "source": [
    "print (\"The value of log 2 with base 3 is : \", end=\"\") \n",
    "print (math.log(2,3)) \n",
    "print (\"The value of log2 of 16 is : \", end=\"\") \n",
    "print (math.log2(16)) \n",
    "print (\"The value of log10 of 10000 is : \", end=\"\") \n",
    "print (math.log10(10000))"
   ]
  }
 ],
 "metadata": {
  "kernelspec": {
   "display_name": "Python 3 (ipykernel)",
   "language": "python",
   "name": "python3"
  },
  "language_info": {
   "codemirror_mode": {
    "name": "ipython",
    "version": 3
   },
   "file_extension": ".py",
   "mimetype": "text/x-python",
   "name": "python",
   "nbconvert_exporter": "python",
   "pygments_lexer": "ipython3",
   "version": "3.11.5"
  }
 },
 "nbformat": 4,
 "nbformat_minor": 5
}
