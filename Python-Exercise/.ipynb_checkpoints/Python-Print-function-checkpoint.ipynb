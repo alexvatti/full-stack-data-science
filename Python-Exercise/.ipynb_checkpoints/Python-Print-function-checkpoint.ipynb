{
 "cells": [
  {
   "cell_type": "markdown",
   "id": "51283e97",
   "metadata": {},
   "source": [
    "# Python Print function\n",
    " - print strings\n",
    " - print variables\n",
    " - print strings with variables\n",
    " - print using string format method\n",
    " - print using  f-string method"
   ]
  },
  {
   "cell_type": "markdown",
   "id": "6516634b",
   "metadata": {},
   "source": [
    "## Print string - text "
   ]
  },
  {
   "cell_type": "code",
   "execution_count": 64,
   "id": "198b19c2",
   "metadata": {},
   "outputs": [
    {
     "name": "stdout",
     "output_type": "stream",
     "text": [
      "Welcome to Python Programming. It is easy\n"
     ]
    }
   ],
   "source": [
    "print(\"Welcome to Python Programming.\", \"It is easy\")"
   ]
  },
  {
   "cell_type": "code",
   "execution_count": 65,
   "id": "8b30ca40",
   "metadata": {},
   "outputs": [
    {
     "name": "stdout",
     "output_type": "stream",
     "text": [
      "Welcome to Python Programming. It is easy\n"
     ]
    }
   ],
   "source": [
    "print(\"Welcome to Python Programming.\" + \" It is easy\")"
   ]
  },
  {
   "cell_type": "code",
   "execution_count": 66,
   "id": "5aa21272",
   "metadata": {},
   "outputs": [
    {
     "name": "stdout",
     "output_type": "stream",
     "text": [
      "Welcome to Python Programming. It is easy\n"
     ]
    }
   ],
   "source": [
    "print('Welcome to Python Programming.',  'It is easy')"
   ]
  },
  {
   "cell_type": "code",
   "execution_count": 67,
   "id": "15051d24",
   "metadata": {},
   "outputs": [
    {
     "name": "stdout",
     "output_type": "stream",
     "text": [
      "Welcome to Python Programming.It is easy\n"
     ]
    }
   ],
   "source": [
    "print('Welcome to Python Programming.' +  'It is easy')"
   ]
  },
  {
   "cell_type": "code",
   "execution_count": 68,
   "id": "f99e3f3f",
   "metadata": {},
   "outputs": [
    {
     "name": "stdout",
     "output_type": "stream",
     "text": [
      "Welcome to Python Programming. It is easy\n"
     ]
    }
   ],
   "source": [
    "str1 = \"Welcome to Python Programming.\"\n",
    "str2 = \"It is easy\"\n",
    "print(str1,str2)"
   ]
  },
  {
   "cell_type": "code",
   "execution_count": 69,
   "id": "e13b6b78",
   "metadata": {},
   "outputs": [
    {
     "name": "stdout",
     "output_type": "stream",
     "text": [
      "Values of a,b,c 1 True 10.23\n"
     ]
    }
   ],
   "source": [
    "a=1\n",
    "b=True\n",
    "c=10.23\n",
    "print(\"Values of a,b,c\" ,a,b,c)"
   ]
  },
  {
   "cell_type": "markdown",
   "id": "d5fde8db",
   "metadata": {},
   "source": [
    "## Print  using string format method"
   ]
  },
  {
   "cell_type": "code",
   "execution_count": 70,
   "id": "a3245b1c",
   "metadata": {},
   "outputs": [
    {
     "name": "stdout",
     "output_type": "stream",
     "text": [
      "My trainer is  Omkar His age is 35 He is from Hyderabad\n",
      "My trainer is Omkar. His age is 35. He is from Hyderabad \n"
     ]
    }
   ],
   "source": [
    "name=\"Omkar\"\n",
    "age=35\n",
    "city=\"Hyderabad\"\n",
    "print(\"My trainer is \",name,\"His age is\",age,\"He is from\",city)\n",
    "print(\"My trainer is {}. His age is {}. He is from {} \".format(name,age,city))"
   ]
  },
  {
   "cell_type": "code",
   "execution_count": 71,
   "id": "a54eb1a6",
   "metadata": {},
   "outputs": [
    {
     "name": "stdout",
     "output_type": "stream",
     "text": [
      "My name is Alex  joined course data science with purpose: solve the business problems and create impact under the guidance of trainer: Omar\n"
     ]
    }
   ],
   "source": [
    "name=\"Alex\"\n",
    "course=\"data science\"\n",
    "purpose=\"solve the business problems and create impact\"\n",
    "trainer=\"Omar\"\n",
    "\n",
    "print(\"My name is {}  joined course {} with purpose: {} under the guidance of trainer: {}\".format(name,course,purpose,trainer))"
   ]
  },
  {
   "cell_type": "markdown",
   "id": "e9ef7353",
   "metadata": {},
   "source": [
    "## Print  using f-string method"
   ]
  },
  {
   "cell_type": "code",
   "execution_count": 72,
   "id": "61aa2058",
   "metadata": {},
   "outputs": [
    {
     "name": "stdout",
     "output_type": "stream",
     "text": [
      "My name is Alex  joined course data science with purpose: solve the business problems and create impact under the guidance of trainer: Omar\n"
     ]
    }
   ],
   "source": [
    "name=\"Alex\"\n",
    "course=\"data science\"\n",
    "purpose=\"solve the business problems and create impact\"\n",
    "trainer=\"Omar\"\n",
    "\n",
    "print(f\"My name is {name}  joined course {course} with purpose: {purpose} under the guidance of trainer: {trainer}\")"
   ]
  },
  {
   "cell_type": "markdown",
   "id": "124851d9",
   "metadata": {},
   "source": [
    "## Print with  end "
   ]
  },
  {
   "cell_type": "code",
   "execution_count": 73,
   "id": "27f5df72",
   "metadata": {},
   "outputs": [
    {
     "name": "stdout",
     "output_type": "stream",
     "text": [
      "0, 1, 2, 3, 4, 5, 6, 7, 8, 9, "
     ]
    }
   ],
   "source": [
    "for x in range(10):\n",
    "    print(x,end = \", \")"
   ]
  },
  {
   "cell_type": "code",
   "execution_count": 74,
   "id": "00826add",
   "metadata": {},
   "outputs": [
    {
     "name": "stdout",
     "output_type": "stream",
     "text": [
      "hello Python\n"
     ]
    }
   ],
   "source": [
    "a=\"hello\"\n",
    "b=\"Python\"\n",
    "print(a,end=\" \")\n",
    "print(b)"
   ]
  },
  {
   "cell_type": "markdown",
   "id": "4792e41b",
   "metadata": {},
   "source": [
    "## Print with sep"
   ]
  },
  {
   "cell_type": "code",
   "execution_count": 75,
   "id": "641b20ce",
   "metadata": {},
   "outputs": [
    {
     "name": "stdout",
     "output_type": "stream",
     "text": [
      "Welcome to Python Programming. It is easy\n"
     ]
    }
   ],
   "source": [
    "str1 = \"Welcome to Python Programming.\"\n",
    "str2 = \"It is easy\"\n",
    "print(str1,str2,sep=\" \")"
   ]
  }
 ],
 "metadata": {
  "kernelspec": {
   "display_name": "Python 3 (ipykernel)",
   "language": "python",
   "name": "python3"
  },
  "language_info": {
   "codemirror_mode": {
    "name": "ipython",
    "version": 3
   },
   "file_extension": ".py",
   "mimetype": "text/x-python",
   "name": "python",
   "nbconvert_exporter": "python",
   "pygments_lexer": "ipython3",
   "version": "3.11.5"
  }
 },
 "nbformat": 4,
 "nbformat_minor": 5
}
