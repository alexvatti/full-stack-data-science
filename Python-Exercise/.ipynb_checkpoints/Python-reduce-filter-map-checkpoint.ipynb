{
 "cells": [
  {
   "cell_type": "markdown",
   "id": "a159cf9e",
   "metadata": {},
   "source": [
    "# lambda - reduce - filter - map functions  in Python"
   ]
  },
  {
   "cell_type": "markdown",
   "id": "2bea62f3",
   "metadata": {},
   "source": [
    "## reduce"
   ]
  },
  {
   "cell_type": "code",
   "execution_count": 3,
   "id": "e3ff7d5d",
   "metadata": {},
   "outputs": [
    {
     "name": "stdout",
     "output_type": "stream",
     "text": [
      "Help on built-in function reduce in module _functools:\n",
      "\n",
      "reduce(...)\n",
      "    reduce(function, iterable[, initial]) -> value\n",
      "    \n",
      "    Apply a function of two arguments cumulatively to the items of a sequence\n",
      "    or iterable, from left to right, so as to reduce the iterable to a single\n",
      "    value.  For example, reduce(lambda x, y: x+y, [1, 2, 3, 4, 5]) calculates\n",
      "    ((((1+2)+3)+4)+5).  If initial is present, it is placed before the items\n",
      "    of the iterable in the calculation, and serves as a default when the\n",
      "    iterable is empty.\n",
      "\n"
     ]
    }
   ],
   "source": [
    "import functools\n",
    "help(functools.reduce)"
   ]
  },
  {
   "cell_type": "code",
   "execution_count": 4,
   "id": "3f837547",
   "metadata": {},
   "outputs": [
    {
     "name": "stdout",
     "output_type": "stream",
     "text": [
      "Sum of list1 : 26\n",
      "Maximum of list2 : xyz\n"
     ]
    }
   ],
   "source": [
    "list1 = [2, 4, 7, 9, 1, 3]\n",
    "sum_of_list1 = functools.reduce(lambda a, b:a + b, list1)\n",
    " \n",
    "list2 = [\"abc\", \"xyz\", \"def\"]\n",
    "max_of_list2 = functools.reduce(lambda a, b:a if a>b else b, list2)\n",
    " \n",
    "print('Sum of list1 :', sum_of_list1)\n",
    "print('Maximum of list2 :', max_of_list2)"
   ]
  },
  {
   "cell_type": "markdown",
   "id": "f18e0c67",
   "metadata": {},
   "source": [
    "# filter"
   ]
  },
  {
   "cell_type": "code",
   "execution_count": 5,
   "id": "afc4c68a",
   "metadata": {
    "scrolled": true
   },
   "outputs": [
    {
     "name": "stdout",
     "output_type": "stream",
     "text": [
      "Help on class filter in module builtins:\n",
      "\n",
      "class filter(object)\n",
      " |  filter(function or None, iterable) --> filter object\n",
      " |  \n",
      " |  Return an iterator yielding those items of iterable for which function(item)\n",
      " |  is true. If function is None, return the items that are true.\n",
      " |  \n",
      " |  Methods defined here:\n",
      " |  \n",
      " |  __getattribute__(self, name, /)\n",
      " |      Return getattr(self, name).\n",
      " |  \n",
      " |  __iter__(self, /)\n",
      " |      Implement iter(self).\n",
      " |  \n",
      " |  __next__(self, /)\n",
      " |      Implement next(self).\n",
      " |  \n",
      " |  __reduce__(...)\n",
      " |      Return state information for pickling.\n",
      " |  \n",
      " |  ----------------------------------------------------------------------\n",
      " |  Static methods defined here:\n",
      " |  \n",
      " |  __new__(*args, **kwargs) from builtins.type\n",
      " |      Create and return a new object.  See help(type) for accurate signature.\n",
      "\n"
     ]
    }
   ],
   "source": [
    "help(filter)"
   ]
  },
  {
   "cell_type": "code",
   "execution_count": 12,
   "id": "ab1e821b",
   "metadata": {},
   "outputs": [
    {
     "name": "stdout",
     "output_type": "stream",
     "text": [
      "even numbers list  [2, 4, 6, 8, 10]\n",
      "odd numbers list  [1, 3, 5, 7, 9]\n"
     ]
    }
   ],
   "source": [
    "l = [1,2,3,4,5,6,7,8,9,10]\n",
    "print(\"even numbers list \",list(filter(lambda x:x%2==0, l)))\n",
    "print(\"odd numbers list \",list(filter(lambda x:x%2!=0, l)))"
   ]
  },
  {
   "cell_type": "markdown",
   "id": "474a5b14",
   "metadata": {},
   "source": [
    "# map"
   ]
  },
  {
   "cell_type": "code",
   "execution_count": 24,
   "id": "e68926ec",
   "metadata": {},
   "outputs": [
    {
     "name": "stdout",
     "output_type": "stream",
     "text": [
      "Help on class map in module builtins:\n",
      "\n",
      "class map(object)\n",
      " |  map(func, *iterables) --> map object\n",
      " |  \n",
      " |  Make an iterator that computes the function using arguments from\n",
      " |  each of the iterables.  Stops when the shortest iterable is exhausted.\n",
      " |  \n",
      " |  Methods defined here:\n",
      " |  \n",
      " |  __getattribute__(self, name, /)\n",
      " |      Return getattr(self, name).\n",
      " |  \n",
      " |  __iter__(self, /)\n",
      " |      Implement iter(self).\n",
      " |  \n",
      " |  __next__(self, /)\n",
      " |      Implement next(self).\n",
      " |  \n",
      " |  __reduce__(...)\n",
      " |      Return state information for pickling.\n",
      " |  \n",
      " |  ----------------------------------------------------------------------\n",
      " |  Static methods defined here:\n",
      " |  \n",
      " |  __new__(*args, **kwargs) from builtins.type\n",
      " |      Create and return a new object.  See help(type) for accurate signature.\n",
      "\n",
      "square of each ele of the list [1, 4, 9, 16, 25]\n",
      "cube of each ele  of the list [1, 8, 27, 64, 125]\n"
     ]
    }
   ],
   "source": [
    "help(map)\n",
    "l = [1,2,3,4,5]\n",
    "print(\"square of each ele of the list\", list(map(lambda x : x*x, l)))\n",
    "print(\"cube of each ele  of the list\", list(map(lambda x : x*x*x, l)))"
   ]
  },
  {
   "cell_type": "markdown",
   "id": "ef092acb",
   "metadata": {},
   "source": [
    "# lambda"
   ]
  },
  {
   "cell_type": "code",
   "execution_count": 23,
   "id": "c792c183",
   "metadata": {},
   "outputs": [
    {
     "name": "stdout",
     "output_type": "stream",
     "text": [
      "square of each ele of the list [1, 4, 9, 16, 25]\n"
     ]
    }
   ],
   "source": [
    "fun = lambda x: x*x\n",
    "    \n",
    "print(\"square of each ele of the list\", list(map(fun, l)))"
   ]
  }
 ],
 "metadata": {
  "kernelspec": {
   "display_name": "Python 3 (ipykernel)",
   "language": "python",
   "name": "python3"
  },
  "language_info": {
   "codemirror_mode": {
    "name": "ipython",
    "version": 3
   },
   "file_extension": ".py",
   "mimetype": "text/x-python",
   "name": "python",
   "nbconvert_exporter": "python",
   "pygments_lexer": "ipython3",
   "version": "3.11.5"
  }
 },
 "nbformat": 4,
 "nbformat_minor": 5
}
