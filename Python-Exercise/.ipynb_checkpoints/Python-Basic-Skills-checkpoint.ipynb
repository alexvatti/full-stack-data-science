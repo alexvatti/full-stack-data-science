{
 "cells": [
  {
   "cell_type": "markdown",
   "id": "eb4c8de1",
   "metadata": {},
   "source": [
    "# Basic Python Programs- Code Snippet\n",
    "# Beginner Level\n",
    "    Python program to add two numbers\n",
    "    Maximum of two numbers in Python\n",
    "    Python Program for factorial of a number\n",
    "    Python Program for simple interest\n",
    "    Python Program for compound interest\n",
    "    Python Program to check Armstrong Number\n",
    "    Python Program for Program to find area of a circle\n",
    "    Python program to print all Prime numbers in an Interval\n",
    "    Python program to check whether a number is Prime or not\n",
    "    Python Program for n-th Fibonacci number\n",
    "    Program to print ASCII Value of a character\n",
    "    Python Program for Sum of squares of first n natural numbers\n",
    "    Python Program for cube sum of first n natural numbers"
   ]
  },
  {
   "cell_type": "markdown",
   "id": "3c48c3ba",
   "metadata": {},
   "source": [
    "##  Python program to add two numbers"
   ]
  },
  {
   "cell_type": "code",
   "execution_count": 23,
   "id": "1728d742",
   "metadata": {},
   "outputs": [
    {
     "name": "stdout",
     "output_type": "stream",
     "text": [
      "Enter first integer number:10\n",
      "Enter second integer number:20\n",
      "Sum of two given interger numbers 10 and 20  is 30\n"
     ]
    }
   ],
   "source": [
    "# Python program to add two numbers\n",
    "def add_two_numbers(a,b):\n",
    "    \"\"\"Python function to add two integer numbers\"\"\"\n",
    "    c=a+b\n",
    "    return c\n",
    "\n",
    "if __name__ == \"__main__\":\n",
    "    x=int(input(\"Enter first integer number:\"))\n",
    "    y=int(input(\"Enter second integer number:\"))\n",
    "    print(\"Sum of two given interger numbers {} and {}  is {}\".format(x,y,add_two_numbers(x,y)))\n"
   ]
  },
  {
   "cell_type": "markdown",
   "id": "1272430e",
   "metadata": {},
   "source": [
    "### Maximum of two numbers in Python"
   ]
  },
  {
   "cell_type": "code",
   "execution_count": 24,
   "id": "4c10312d",
   "metadata": {},
   "outputs": [
    {
     "name": "stdout",
     "output_type": "stream",
     "text": [
      "Enter first integer number:10\n",
      "Enter second integer number:20\n",
      "Maximum of two given interger numbers 10 and 20  is 20\n"
     ]
    }
   ],
   "source": [
    "# Maximum of two numbers in Python\n",
    "def max_two_numbers(a,b):\n",
    "    \"\"\" Maximum of two  numbers in Python\"\"\"\n",
    "    if a > b:\n",
    "        return a\n",
    "    else:\n",
    "        return b\n",
    "if __name__ == \"__main__\":\n",
    "    x=int(input(\"Enter first integer number:\"))\n",
    "    y=int(input(\"Enter second integer number:\"))\n",
    "    print(\"Maximum of two given interger numbers {} and {}  is {}\".format(x,y,max_two_numbers(x,y)))\n"
   ]
  },
  {
   "cell_type": "markdown",
   "id": "02b25202",
   "metadata": {},
   "source": [
    "### Python Program for factorial of a number"
   ]
  },
  {
   "cell_type": "code",
   "execution_count": 25,
   "id": "2583cdf1",
   "metadata": {},
   "outputs": [
    {
     "name": "stdout",
     "output_type": "stream",
     "text": [
      "Enter integer number to find factorial:5\n",
      "factorial of a number 5  is 120\n"
     ]
    }
   ],
   "source": [
    "# Python Program for factorial of a number\n",
    "def factorial_number(i):\n",
    "    \"\"\"Python function for factorial of a number \"\"\"\n",
    "    fact=1\n",
    "    for x in range(1,i+1):\n",
    "        fact=fact*x\n",
    "    return fact\n",
    "\n",
    "if __name__ == \"__main__\":\n",
    "    x=int(input(\"Enter integer number to find factorial:\"))\n",
    "    print(\"factorial of a number {}  is {}\".format(x,factorial_number(x)))"
   ]
  },
  {
   "cell_type": "markdown",
   "id": "2b6bd5ea",
   "metadata": {},
   "source": [
    "### Python Program for simple interest"
   ]
  },
  {
   "cell_type": "code",
   "execution_count": 26,
   "id": "92d40d32",
   "metadata": {},
   "outputs": [
    {
     "name": "stdout",
     "output_type": "stream",
     "text": [
      "Enter Principal Amount in integer number:100000\n",
      "Enter Time duation in Yeras:1\n",
      "Enter Interest Rate Anuualy:24\n",
      "Simple Interest for P =100000 T= 1 R= 24.0  is 24000.0\n"
     ]
    }
   ],
   "source": [
    "# Python Program for simple interest\n",
    "def simple_interest(p,t,r):\n",
    "    \"\"\"Python Program for simple interest\"\"\"\n",
    "    interest = (p * t * r)/100\n",
    "    return interest\n",
    "if __name__ == \"__main__\":\n",
    "    p=int(input(\"Enter Principal Amount in integer number:\"))\n",
    "    t=int(input(\"Enter Time duation in Yeras:\"))\n",
    "    r=float(input(\"Enter Interest Rate Anuualy:\"))\n",
    "    print(\"Simple Interest for P ={} T= {} R= {}  is {}\".format(p,t,r,simple_interest(p,t,r)))"
   ]
  },
  {
   "cell_type": "markdown",
   "id": "490d2175",
   "metadata": {},
   "source": [
    "### Python Program for compound interest"
   ]
  },
  {
   "cell_type": "code",
   "execution_count": 27,
   "id": "ff47e5fd",
   "metadata": {},
   "outputs": [
    {
     "name": "stdout",
     "output_type": "stream",
     "text": [
      "Enter Principal Amount in integer number:100000\n",
      "Enter Time duation in Yeras:2\n",
      "Enter Interest Rate Anuualy:24\n",
      "Compound Interest for P =100000 T= 2 R= 24.0  is 53760.0\n"
     ]
    }
   ],
   "source": [
    "# Python Program for compound interest\n",
    "def compound_interest(p,t,r):\n",
    "    \"\"\"Python Program for compound interest\"\"\"\n",
    "    interest=p*pow((1+r/100),t) -p\n",
    "    return interest\n",
    "if __name__ == \"__main__\":\n",
    "    p=int(input(\"Enter Principal Amount in integer number:\"))\n",
    "    t=int(input(\"Enter Time duation in Yeras:\"))\n",
    "    r=float(input(\"Enter Interest Rate Anuualy:\"))\n",
    "    print(\"Compound Interest for P ={} T= {} R= {}  is {}\".format(p,t,r,compound_interest(p,t,r)))\n"
   ]
  },
  {
   "cell_type": "markdown",
   "id": "5ffbbb5c",
   "metadata": {},
   "source": [
    "### Python Program to check Armstrong Number"
   ]
  },
  {
   "cell_type": "code",
   "execution_count": 28,
   "id": "a556a5fe",
   "metadata": {},
   "outputs": [
    {
     "name": "stdout",
     "output_type": "stream",
     "text": [
      "Enter integer number to check Armstrong Number:371\n",
      "Given number is  Armstrong Number 371\n"
     ]
    }
   ],
   "source": [
    "# Python Program to check Armstrong Number\n",
    "\"\"\"An Armstrong number is a positive integer that is equal to the sum of its own digits each raised to \n",
    "the power of the number of digits. \n",
    "For example, the number 371 is an Armstrong number because 3^3 + 7^3 + 1^3 = 371.\"\"\"\n",
    "def check_armstrong_number(n):\n",
    "    \"\"\" Python Program to check Armstrong Number\"\"\"\n",
    "    s=0\n",
    "    while n != 0:\n",
    "        r=n%10\n",
    "        s=s+pow(r,3)\n",
    "        n=n//10\n",
    "    return s\n",
    "\n",
    "if __name__ == \"__main__\":\n",
    "    x=int(input(\"Enter integer number to check Armstrong Number:\"))\n",
    "    if x == check_armstrong_number(x):\n",
    "        print(\"Given number is  Armstrong Number {}\".format(x))\n",
    "    else:\n",
    "        print(\"Given number is not  Armstrong Number {}\".format(x))\n"
   ]
  },
  {
   "cell_type": "markdown",
   "id": "76992c35",
   "metadata": {},
   "source": [
    "### Python Program for Program to find area of a circle"
   ]
  },
  {
   "cell_type": "code",
   "execution_count": 29,
   "id": "dbb4e29c",
   "metadata": {},
   "outputs": [
    {
     "name": "stdout",
     "output_type": "stream",
     "text": [
      "Enter radius number(float) to find area of circle:5\n",
      "Area of a circle of given radius 5.0  is 78.5\n"
     ]
    }
   ],
   "source": [
    "# Python Program for Program to find area of a circle\n",
    "def area_circle(r):\n",
    "    \"\"\" Python Program for Program to find area of a circle \"\"\"\n",
    "    area = 3.14 * pow(r,2)\n",
    "    return area\n",
    "if __name__ == \"__main__\":\n",
    "    x=float(input(\"Enter radius number(float) to find area of circle:\"))\n",
    "    print(\"Area of a circle of given radius {}  is {}\".format(x,area_circle(x)))\n"
   ]
  },
  {
   "cell_type": "markdown",
   "id": "a0a9c422",
   "metadata": {},
   "source": [
    "### Python program to check whether a number is Prime or not"
   ]
  },
  {
   "cell_type": "code",
   "execution_count": 31,
   "id": "76dd3169",
   "metadata": {},
   "outputs": [
    {
     "name": "stdout",
     "output_type": "stream",
     "text": [
      "Enter integer number to find prime or not:9\n",
      "Given number is not  Prime Number 9\n"
     ]
    }
   ],
   "source": [
    "# Python program to check whether a number is Prime or not\n",
    "def prime_or_not(n):\n",
    "    flag=True\n",
    "    for i in range(2,n):\n",
    "        if n%i==0:\n",
    "            flag=False\n",
    "            break\n",
    "        else:\n",
    "            pass\n",
    "    return flag\n",
    "if __name__ == \"__main__\":\n",
    "    x=int(input(\"Enter integer number to find prime or not:\"))\n",
    "    if prime_or_not(x) == True:\n",
    "        print(\"Given number is Prime Number {}\".format(x))\n",
    "    else:\n",
    "        print(\"Given number is not  Prime Number {}\".format(x))"
   ]
  },
  {
   "cell_type": "markdown",
   "id": "0db83997",
   "metadata": {},
   "source": [
    "### Python program to print all Prime numbers in an Interval"
   ]
  },
  {
   "cell_type": "code",
   "execution_count": 34,
   "id": "4db72376",
   "metadata": {},
   "outputs": [
    {
     "name": "stdout",
     "output_type": "stream",
     "text": [
      "Prime list= [11, 13, 17, 19, 23, 29, 31, 37, 41, 43, 47, 53, 59, 61, 67, 71, 73, 79, 83, 89, 97]\n",
      "Non Prime list= [10, 12, 14, 15, 16, 18, 20, 21, 22, 24, 25, 26, 27, 28, 30, 32, 33, 34, 35, 36, 38, 39, 40, 42, 44, 45, 46, 48, 49, 50, 51, 52, 54, 55, 56, 57, 58, 60, 62, 63, 64, 65, 66, 68, 69, 70, 72, 74, 75, 76, 77, 78, 80, 81, 82, 84, 85, 86, 87, 88, 90, 91, 92, 93, 94, 95, 96, 98, 99]\n"
     ]
    }
   ],
   "source": [
    "# Python program to print all Prime numbers in an Interval\n",
    "if __name__ == \"__main__\":\n",
    "    lower_limit=10\n",
    "    upper_limit=100\n",
    "    prime_list = []\n",
    "    non_prime_list = []\n",
    "    for x in range(lower_limit,upper_limit):\n",
    "        if prime_or_not(x) == True:\n",
    "            #print(\"Given number is Prime Number {}\".format(x))\n",
    "            prime_list.append(x)\n",
    "        else:\n",
    "            #print(\"Given number is not  Prime Number {}\".format(x))\n",
    "            non_prime_list.append(x)\n",
    "            \n",
    "    print(\"Prime list=\",prime_list)\n",
    "    print(\"Non Prime list=\",non_prime_list)\n",
    "        "
   ]
  },
  {
   "cell_type": "markdown",
   "id": "d6b43a28",
   "metadata": {},
   "source": [
    "### Python Program for n-th Fibonacci number"
   ]
  },
  {
   "cell_type": "code",
   "execution_count": 37,
   "id": "6001deae",
   "metadata": {},
   "outputs": [
    {
     "name": "stdout",
     "output_type": "stream",
     "text": [
      "Enter integer number to Fibonacci number:5\n",
      "8\n"
     ]
    }
   ],
   "source": [
    "# Python Program for n-th Fibonacci number\n",
    "def fibonacci(n):\n",
    "    \"\"\"Python Program for n-th Fibonacci number\"\"\"\n",
    "    if n == 0:\n",
    "        return 1\n",
    "    elif n == 1:\n",
    "        return 1\n",
    "    else:\n",
    "        return(fibonacci(n-1)+fibonacci(n-2))\n",
    "    \n",
    "if __name__ == \"__main__\":\n",
    "    x=int(input(\"Enter integer number to Fibonacci number:\"))\n",
    "    print(fibonacci(x))"
   ]
  },
  {
   "cell_type": "markdown",
   "id": "0bbdb798",
   "metadata": {},
   "source": [
    "### Program to print ASCII Value of a character"
   ]
  },
  {
   "cell_type": "code",
   "execution_count": 41,
   "id": "4004685e",
   "metadata": {},
   "outputs": [
    {
     "name": "stdout",
     "output_type": "stream",
     "text": [
      "65\n"
     ]
    }
   ],
   "source": [
    "# Program to print ASCII Value of a character\n",
    "print(ord('A'))"
   ]
  },
  {
   "cell_type": "markdown",
   "id": "2e62ca85",
   "metadata": {},
   "source": [
    "### Python Program for Sum of squares of first n natural numbers"
   ]
  },
  {
   "cell_type": "code",
   "execution_count": 42,
   "id": "b76c5c76",
   "metadata": {},
   "outputs": [
    {
     "name": "stdout",
     "output_type": "stream",
     "text": [
      "Enter integer number for Sum of squares of first n natural numbers:10\n",
      "385\n"
     ]
    }
   ],
   "source": [
    "# Python Program for Sum of squares of first n natural numbers\n",
    "def sum_squares_numbers(n):\n",
    "    \"\"\"Python Program for Sum of squares of first n natural numbers\"\"\"\n",
    "    s=0\n",
    "    for x in range(1,n+1):\n",
    "        s=s+pow(x,2)\n",
    "    return s\n",
    "if __name__ == \"__main__\":\n",
    "    x=int(input(\"Enter integer number for Sum of squares of first n natural numbers:\"))\n",
    "    print(sum_squares_numbers(x))"
   ]
  },
  {
   "cell_type": "markdown",
   "id": "929954d2",
   "metadata": {},
   "source": [
    "### Python Program for cube sum of first n natural numbers"
   ]
  },
  {
   "cell_type": "code",
   "execution_count": 43,
   "id": "bda8dcab",
   "metadata": {},
   "outputs": [
    {
     "name": "stdout",
     "output_type": "stream",
     "text": [
      "Enter integer number for cube sum of first n natural numbers:10\n",
      "3025\n"
     ]
    }
   ],
   "source": [
    "# Python Program for cube sum of first n natural numbers\n",
    "def sum_cubes_numbers(n):\n",
    "    \"\"\"Python Program for cube sum of first n natural numbers\"\"\"\n",
    "    s=0\n",
    "    for x in range(1,n+1):\n",
    "        s=s+pow(x,3)\n",
    "    return s\n",
    "if __name__ == \"__main__\":\n",
    "    x=int(input(\"Enter integer number for cube sum of first n natural numbers:\"))\n",
    "    print(sum_cubes_numbers(x))"
   ]
  }
 ],
 "metadata": {
  "kernelspec": {
   "display_name": "Python 3 (ipykernel)",
   "language": "python",
   "name": "python3"
  },
  "language_info": {
   "codemirror_mode": {
    "name": "ipython",
    "version": 3
   },
   "file_extension": ".py",
   "mimetype": "text/x-python",
   "name": "python",
   "nbconvert_exporter": "python",
   "pygments_lexer": "ipython3",
   "version": "3.11.5"
  }
 },
 "nbformat": 4,
 "nbformat_minor": 5
}
