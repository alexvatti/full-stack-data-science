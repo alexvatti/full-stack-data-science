{
 "cells": [
  {
   "cell_type": "markdown",
   "id": "342f6744",
   "metadata": {},
   "source": [
    "# Python - List Programs: Test Your Skills at Beginner level\n",
    "\n",
    "    Python program to interchange first and last elements in a list\n",
    "    Python program to swap two elements in a list\n",
    "    Python | Ways to find length of list\n",
    "    Python | Ways to check if element exists in list\n",
    "    Different ways to clear a list in Python\n",
    "    Python | Reversing a List\n",
    "    Python program to find sum of elements in list\n",
    "    Python | Multiply all numbers in the list\n",
    "    Python program to find smallest number in a list\n",
    "    Python program to find largest number in a list\n",
    "    Python program to find second largest number in a list\n",
    "    Python program to find N largest elements from a list\n",
    "    Python program to print even numbers in a list\n",
    "    Python program to print odd numbers in a List\n",
    "    Python program to print all even numbers in a range\n",
    "    Python program to print all odd numbers in a range\n",
    "    Python program to print positive numbers in a list\n",
    "    Python program to print negative numbers in a list\n",
    "    Python program to print all positive numbers in a range\n",
    "    Python program to print all negative numbers in a range\n",
    "    Remove multiple elements from a list in Python\n",
    "    Python – Remove empty List from List\n",
    "    Python | Cloning or Copying a list\n",
    "    Python | Count occurrences of an element in a list\n",
    "    Python | Remove empty tuples from a list\n",
    "    Python | Program to print duplicates from a list of integers\n",
    "    Python program to find Cumulative sum of a list\n",
    "    Python | Sum of number digits in List\n",
    "    Break a list into chunks of size N in Python\n",
    "    Python | Sort the values of first list using second list"
   ]
  },
  {
   "cell_type": "markdown",
   "id": "0d62cb48",
   "metadata": {},
   "source": [
    "### Python program to interchange first and last elements in a list\n"
   ]
  },
  {
   "cell_type": "code",
   "execution_count": 2,
   "id": "e5c419f8",
   "metadata": {},
   "outputs": [
    {
     "name": "stdout",
     "output_type": "stream",
     "text": [
      "Orignal array is  [1, 2, 3, 4, 5, 6, 7, 8, 9, 10]\n",
      "interchange first and last elements in a list is [10, 2, 3, 4, 5, 6, 7, 8, 9, 1]\n"
     ]
    }
   ],
   "source": [
    "# Python program to interchange first and last elements in a list\n",
    "def intercahnge_first_last_ele_list(l):\n",
    "    \"\"\"Python program to interchange first and last elements in a list\"\"\"\n",
    "    l[0],l[-1] = l[-1],l[0]\n",
    "    return l\n",
    "if __name__ == \"__main__\":\n",
    "    l = [1,2,3,4,5,6,7,8,9,10]\n",
    "    print(\"Orignal array is \",l)\n",
    "    print(\"interchange first and last elements in a list is {}\".format(intercahnge_first_last_ele_list(l)))"
   ]
  },
  {
   "cell_type": "markdown",
   "id": "ef581d86",
   "metadata": {},
   "source": [
    "### Python program to swap two elements in a list"
   ]
  },
  {
   "cell_type": "code",
   "execution_count": 7,
   "id": "442398b0",
   "metadata": {},
   "outputs": [
    {
     "name": "stdout",
     "output_type": "stream",
     "text": [
      "Orignal array is  [1, 2, 3, 4, 5, 6, 7, 8, 9, 10]\n",
      "interchange first and last elements in a list is [10, 2, 3, 4, 5, 6, 7, 8, 9, 1]\n"
     ]
    }
   ],
   "source": [
    "#Python program to swap two elements in a list\n",
    "def swap_two_element_in_list(l,m,n):\n",
    "    if m < len(l) and n < len(l):\n",
    "        l[m],l[n] = l[n],l[m]\n",
    "        return l\n",
    "    else:\n",
    "        print(\"Invalid Index to list\")\n",
    "        return None\n",
    "    \n",
    "if __name__ == \"__main__\":\n",
    "    l = [1,2,3,4,5,6,7,8,9,10]\n",
    "    print(\"Orignal array is \",l)\n",
    "    print(\"interchange first and last elements in a list is {}\".format(swap_two_element_in_list(l,0,9)))"
   ]
  },
  {
   "cell_type": "markdown",
   "id": "fccefde1",
   "metadata": {},
   "source": [
    "### Python | Ways to find length of list\n"
   ]
  },
  {
   "cell_type": "code",
   "execution_count": 9,
   "id": "f04130bf",
   "metadata": {},
   "outputs": [
    {
     "name": "stdout",
     "output_type": "stream",
     "text": [
      "Orignal array is  [1, 2, 3, 4, 5, 6, 7, 8, 9, 10]\n",
      "length of a list is 10\n"
     ]
    }
   ],
   "source": [
    "# Python | Ways to find length of list\n",
    "def length_list(l):\n",
    "    \"\"\"Python | Ways to find length of list\"\"\"\n",
    "    return len(l)\n",
    "\n",
    "if __name__ == \"__main__\":\n",
    "    l = [1,2,3,4,5,6,7,8,9,10]\n",
    "    print(\"Orignal array is \",l)\n",
    "    print(\"length of a list is {}\".format(length_list(l)))"
   ]
  },
  {
   "cell_type": "markdown",
   "id": "5dbeb87d",
   "metadata": {},
   "source": [
    "### Python | Ways to check if element exists in list"
   ]
  },
  {
   "cell_type": "code",
   "execution_count": 16,
   "id": "7acb8a74",
   "metadata": {},
   "outputs": [
    {
     "name": "stdout",
     "output_type": "stream",
     "text": [
      "Orignal array is  [1, 2, 3, 4, 5, 6, 7, 8, 9, 10]\n",
      "Element  found in the list\n"
     ]
    }
   ],
   "source": [
    "#Python | Ways to check if element exists in list\n",
    "def find_ele(l,x):\n",
    "    \"\"\"Python | Ways to check if element exists in list\"\"\"\n",
    "    if l.count(x):\n",
    "        print(\"Element  found in the list\")\n",
    "    else:\n",
    "        print(\"Element not found in the list\")\n",
    "        \n",
    "if __name__ == \"__main__\":\n",
    "    l = [1,2,3,4,5,6,7,8,9,10]\n",
    "    print(\"Orignal array is \",l)\n",
    "    find_ele(l,2)\n",
    "        "
   ]
  },
  {
   "cell_type": "markdown",
   "id": "59ae4639",
   "metadata": {},
   "source": [
    "### Different ways to clear a list in Python"
   ]
  },
  {
   "cell_type": "code",
   "execution_count": 26,
   "id": "f51a883b",
   "metadata": {},
   "outputs": [
    {
     "name": "stdout",
     "output_type": "stream",
     "text": [
      "Orignal array is  [1, 2, 3, 4, 5, 6, 7, 8, 9, 10]\n",
      "clear list= []\n"
     ]
    }
   ],
   "source": [
    "# Different ways to clear a list in Python\n",
    "def clear_list(l):\n",
    "    \"\"\"Different ways to clear a list in Python\"\"\"\n",
    "    del l[:]\n",
    "    return l\n",
    "\n",
    "if __name__ == \"__main__\":\n",
    "    l = [1,2,3,4,5,6,7,8,9,10]\n",
    "    print(\"Orignal array is \",l)\n",
    "    l=clear_list(l)\n",
    "    print(\"clear list=\",l)\n"
   ]
  },
  {
   "cell_type": "markdown",
   "id": "a68af3b6",
   "metadata": {},
   "source": [
    "### Python | Reversing a List"
   ]
  },
  {
   "cell_type": "code",
   "execution_count": 32,
   "id": "9f850549",
   "metadata": {},
   "outputs": [
    {
     "name": "stdout",
     "output_type": "stream",
     "text": [
      "Orignal array is  [1, 2, 3, 4, 5, 6, 7, 8, 9, 10]\n",
      "reverse_list= [10, 9, 8, 7, 6, 5, 4, 3, 2, 1]\n"
     ]
    }
   ],
   "source": [
    "# Python | Reversing a List\n",
    "def reverse_list(l):\n",
    "    \"\"\"Python | Reversing a List\"\"\"\n",
    "    return  l[::-1]\n",
    "\n",
    "if __name__ == \"__main__\":\n",
    "    l = [1,2,3,4,5,6,7,8,9,10]\n",
    "    print(\"Orignal array is \",l)\n",
    "    l=reverse_list(l)\n",
    "    print(\"reverse_list=\",l)"
   ]
  },
  {
   "cell_type": "markdown",
   "id": "bb2bb0ee",
   "metadata": {},
   "source": [
    "### Python program to find sum of elements in list"
   ]
  },
  {
   "cell_type": "code",
   "execution_count": 2,
   "id": "c3baeaa3",
   "metadata": {},
   "outputs": [
    {
     "name": "stdout",
     "output_type": "stream",
     "text": [
      "Orignal array is  [1, 2, 3, 4, 5, 6, 7, 8, 9, 10]\n",
      "sum of elements in list= 55\n"
     ]
    }
   ],
   "source": [
    "# Python program to find sum of elements in list\n",
    "def sum_of_list(l):\n",
    "    \"\"\"Python program to find sum of elements in list\"\"\"\n",
    "    return sum(l)\n",
    "\n",
    "if __name__ == \"__main__\":\n",
    "    l = [1,2,3,4,5,6,7,8,9,10]\n",
    "    print(\"Orignal array is \",l)\n",
    "    print(\"sum of elements in list=\",sum_of_list(l))"
   ]
  },
  {
   "cell_type": "markdown",
   "id": "6492115c",
   "metadata": {},
   "source": [
    "### Python | Multiply all numbers in the list"
   ]
  },
  {
   "cell_type": "code",
   "execution_count": 3,
   "id": "0d055418",
   "metadata": {},
   "outputs": [
    {
     "name": "stdout",
     "output_type": "stream",
     "text": [
      "Orignal array is  [1, 2, 3, 4, 5, 6, 7, 8, 9, 10]\n",
      "Multiply all numbers in the list= 3628800\n"
     ]
    }
   ],
   "source": [
    "# Python | Multiply all numbers in the list\n",
    "def multiply_ele_list(l):\n",
    "    \"\"\"Multiply all numbers in the list\"\"\"\n",
    "    m=1\n",
    "    for x in l:\n",
    "        m=m*x\n",
    "    return m\n",
    "\n",
    "if __name__ == \"__main__\":\n",
    "    l = [1,2,3,4,5,6,7,8,9,10]\n",
    "    print(\"Orignal array is \",l)\n",
    "    print(\"Multiply all numbers in the list=\",multiply_ele_list(l))"
   ]
  },
  {
   "cell_type": "markdown",
   "id": "e838660c",
   "metadata": {},
   "source": [
    "### Python program to find smallest number in a list"
   ]
  },
  {
   "cell_type": "code",
   "execution_count": 4,
   "id": "9df31165",
   "metadata": {},
   "outputs": [
    {
     "name": "stdout",
     "output_type": "stream",
     "text": [
      "Orignal array is  [1, 2, 3, 4, 5, 6, 7, 8, 9, 10]\n",
      "smallest number in a list= 1\n"
     ]
    }
   ],
   "source": [
    "# Python program to find smallest number in a list\n",
    "def smallest_ele_list(l):\n",
    "    \"\"\"smallest number in a list\"\"\"\n",
    "    return min(l)\n",
    "\n",
    "if __name__ == \"__main__\":\n",
    "    l = [1,2,3,4,5,6,7,8,9,10]\n",
    "    print(\"Orignal array is \",l)\n",
    "    print(\"smallest number in a list=\",smallest_ele_list(l))"
   ]
  },
  {
   "cell_type": "markdown",
   "id": "fcf81e29",
   "metadata": {},
   "source": [
    "### Python program to find largest number in a list"
   ]
  },
  {
   "cell_type": "code",
   "execution_count": 5,
   "id": "fe571c98",
   "metadata": {},
   "outputs": [
    {
     "name": "stdout",
     "output_type": "stream",
     "text": [
      "Orignal array is  [1, 2, 3, 4, 5, 6, 7, 8, 9, 10]\n",
      "largest number in a list= 10\n"
     ]
    }
   ],
   "source": [
    "# Python program to find largest number in a list\n",
    "def largest_ele_list(l):\n",
    "    \"\"\"Python program to find largest number in a list\"\"\"\n",
    "    return max(l)\n",
    "\n",
    "if __name__ == \"__main__\":\n",
    "    l = [1,2,3,4,5,6,7,8,9,10]\n",
    "    print(\"Orignal array is \",l)\n",
    "    print(\"largest number in a list=\",largest_ele_list(l))"
   ]
  },
  {
   "cell_type": "markdown",
   "id": "e0f7ce00",
   "metadata": {},
   "source": [
    "### Python program to find second largest number in a list"
   ]
  },
  {
   "cell_type": "code",
   "execution_count": 6,
   "id": "5007c434",
   "metadata": {},
   "outputs": [
    {
     "name": "stdout",
     "output_type": "stream",
     "text": [
      "Orignal array is  [1, 2, 3, 4, 5, 6, 7, 8, 9, 10]\n",
      "second largest number in a list= 9\n"
     ]
    }
   ],
   "source": [
    "# Python program to find second largest number in a list\n",
    "def second_largest_num_list(l):\n",
    "    \"\"\"Python program to find second largest number in a list\"\"\"\n",
    "    return sorted(l)[-2]\n",
    "\n",
    "if __name__ == \"__main__\":\n",
    "    l = [1,2,3,4,5,6,7,8,9,10]\n",
    "    print(\"Orignal array is \",l)\n",
    "    print(\"second largest number in a list=\",second_largest_num_list(l))"
   ]
  },
  {
   "cell_type": "markdown",
   "id": "3afff40a",
   "metadata": {},
   "source": [
    "### Python program to find N largest elements from a list"
   ]
  },
  {
   "cell_type": "code",
   "execution_count": 7,
   "id": "12d466c3",
   "metadata": {},
   "outputs": [
    {
     "name": "stdout",
     "output_type": "stream",
     "text": [
      "Orignal array is  [1, 2, 3, 4, 5, 6, 7, 8, 9, 10]\n",
      "find N largest elements from a list= [8, 9, 10]\n"
     ]
    }
   ],
   "source": [
    "# Python program to find N largest elements from a list\n",
    "def find_n_largest_ele_list(l,n):\n",
    "    \"\"\"Python program to find N largest elements from a list\"\"\"\n",
    "    return sorted(l)[-n:]\n",
    "\n",
    "\n",
    "if __name__ == \"__main__\":\n",
    "    l = [1,2,3,4,5,6,7,8,9,10]\n",
    "    print(\"Orignal array is \",l)\n",
    "    print(\"find N largest elements from a list=\",find_n_largest_ele_list(l,3))\n"
   ]
  },
  {
   "cell_type": "markdown",
   "id": "ff43ec12",
   "metadata": {},
   "source": [
    "### Python program to print even numbers in a list"
   ]
  },
  {
   "cell_type": "code",
   "execution_count": 11,
   "id": "f828b7ef",
   "metadata": {},
   "outputs": [
    {
     "name": "stdout",
     "output_type": "stream",
     "text": [
      "Orignal array is  [1, 2, 3, 4, 5, 6, 7, 8, 9, 10]\n",
      "print even numbers in a list= [2, 4, 6, 8, 10]\n"
     ]
    }
   ],
   "source": [
    "# Python program to print even numbers in a list\n",
    "def even_num_list(l):\n",
    "    \"\"\"Python program to print even numbers in a list\"\"\"\n",
    "    return list(filter((lambda x : x%2 ==0),l))\n",
    "                   \n",
    "if __name__ == \"__main__\":\n",
    "    l = [1,2,3,4,5,6,7,8,9,10]\n",
    "    print(\"Orignal array is \",l)\n",
    "    print(\"print even numbers in a list=\",even_num_list(l))\n",
    "                   "
   ]
  },
  {
   "cell_type": "markdown",
   "id": "4e72278d",
   "metadata": {},
   "source": [
    "### Python program to print odd numbers in a List"
   ]
  },
  {
   "cell_type": "code",
   "execution_count": 12,
   "id": "d45bd1ad",
   "metadata": {},
   "outputs": [
    {
     "name": "stdout",
     "output_type": "stream",
     "text": [
      "Orignal array is  [1, 2, 3, 4, 5, 6, 7, 8, 9, 10]\n",
      "print odd numbers in a List= [1, 3, 5, 7, 9]\n"
     ]
    }
   ],
   "source": [
    "# Python program to print odd numbers in a List\n",
    "def odd_numbers_list(l):\n",
    "    \"\"\"Python program to print odd numbers in a List\"\"\"\n",
    "    return list(filter((lambda x: x%2 !=0 ),l))\n",
    "\n",
    "if __name__ == \"__main__\":\n",
    "    l = [1,2,3,4,5,6,7,8,9,10]\n",
    "    print(\"Orignal array is \",l)\n",
    "    print(\"print odd numbers in a List=\",odd_numbers_list(l))"
   ]
  },
  {
   "cell_type": "markdown",
   "id": "69c0b2ef",
   "metadata": {},
   "source": [
    "### Python program to print all even numbers in a range\n"
   ]
  },
  {
   "cell_type": "code",
   "execution_count": 13,
   "id": "7d45eb47",
   "metadata": {
    "scrolled": true
   },
   "outputs": [
    {
     "name": "stdout",
     "output_type": "stream",
     "text": [
      "program to print all even numbers in a range= [2, 4, 6, 8, 10, 12, 14, 16, 18, 20, 22, 24, 26, 28, 30, 32, 34, 36, 38, 40, 42, 44, 46, 48, 50, 52, 54, 56, 58, 60, 62, 64, 66, 68, 70, 72, 74, 76, 78, 80, 82, 84, 86, 88, 90, 92, 94, 96, 98]\n"
     ]
    }
   ],
   "source": [
    "# Python program to print all even numbers in a range\n",
    "def all_even_numbers_range(low,high):\n",
    "    \"\"\"Python program to print all even numbers in a range\"\"\"\n",
    "    l = [x for x in range(low,high)]\n",
    "    return (even_num_list(l))\n",
    "if __name__ == \"__main__\":\n",
    "    print(\"program to print all even numbers in a range=\",all_even_numbers_range(1,100))    "
   ]
  },
  {
   "cell_type": "markdown",
   "id": "7851a695",
   "metadata": {},
   "source": [
    "### Python program to print all odd numbers in a range"
   ]
  },
  {
   "cell_type": "code",
   "execution_count": 14,
   "id": "7b1ee82b",
   "metadata": {},
   "outputs": [
    {
     "name": "stdout",
     "output_type": "stream",
     "text": [
      "program to print all odd numbers in a range= [1, 3, 5, 7, 9, 11, 13, 15, 17, 19, 21, 23, 25, 27, 29, 31, 33, 35, 37, 39, 41, 43, 45, 47, 49, 51, 53, 55, 57, 59, 61, 63, 65, 67, 69, 71, 73, 75, 77, 79, 81, 83, 85, 87, 89, 91, 93, 95, 97, 99]\n"
     ]
    }
   ],
   "source": [
    "# Python program to print all odd numbers in a range\n",
    "def all_odd_numbers_range(low,high):\n",
    "    \"\"\"Python program to print all odd numbers in a range\"\"\"\n",
    "    l = [x  for x in range(low,high)]\n",
    "    return (odd_numbers_list(l))\n",
    "\n",
    "if __name__ == \"__main__\":\n",
    "    print(\"program to print all odd numbers in a range=\",all_odd_numbers_range(1,100))   "
   ]
  },
  {
   "cell_type": "markdown",
   "id": "4ea32ef5",
   "metadata": {},
   "source": [
    "### Python program to print positive numbers in a list\n"
   ]
  },
  {
   "cell_type": "code",
   "execution_count": 16,
   "id": "9014a991",
   "metadata": {},
   "outputs": [
    {
     "name": "stdout",
     "output_type": "stream",
     "text": [
      "Orignal array is  [-1, -2, -3, -4, -5, -6, -7, -8, -9, -10, 0, 1, 2, 3, 4, 5, 6, 7, 8, 9, 10]\n",
      "print positive numbers in a list= [0, 1, 2, 3, 4, 5, 6, 7, 8, 9, 10]\n"
     ]
    }
   ],
   "source": [
    "# Python program to print positive numbers in a list\n",
    "def all_positive_numbers_list(l):\n",
    "    \"\"\"Python program to print positive numbers in a list\"\"\"\n",
    "    return (list(filter(lambda x: x>=0, l)))\n",
    "\n",
    "if __name__ == \"__main__\":\n",
    "    l = [-1,-2,-3,-4,-5,-6,-7,-8,-9,-10, 0, 1,2,3,4,5,6,7,8,9,10]\n",
    "    print(\"Orignal array is \",l)\n",
    "    print(\"print positive numbers in a list=\",all_positive_numbers_list(l))"
   ]
  },
  {
   "cell_type": "markdown",
   "id": "d6fa1bf7",
   "metadata": {},
   "source": [
    "### Python program to print negative numbers in a list"
   ]
  },
  {
   "cell_type": "code",
   "execution_count": 17,
   "id": "39f18216",
   "metadata": {},
   "outputs": [
    {
     "name": "stdout",
     "output_type": "stream",
     "text": [
      "Orignal array is  [-1, -2, -3, -4, -5, -6, -7, -8, -9, -10, 0, 1, 2, 3, 4, 5, 6, 7, 8, 9, 10]\n",
      "print negative numbers in a list= [-1, -2, -3, -4, -5, -6, -7, -8, -9, -10]\n"
     ]
    }
   ],
   "source": [
    "# Python program to print negative numbers in a list\n",
    "def all_negative_numbers_list(l):\n",
    "    \"\"\"Python program to print negative numbers in a list\"\"\"\n",
    "    return (list(filter(lambda x: x<0, l)))\n",
    "\n",
    "if __name__ == \"__main__\":\n",
    "    l = [-1,-2,-3,-4,-5,-6,-7,-8,-9,-10, 0, 1,2,3,4,5,6,7,8,9,10]\n",
    "    print(\"Orignal array is \",l)\n",
    "    print(\"print negative numbers in a list=\",all_negative_numbers_list(l))"
   ]
  },
  {
   "cell_type": "markdown",
   "id": "76233b2e",
   "metadata": {},
   "source": [
    "### Python program to print all positive numbers in a range"
   ]
  },
  {
   "cell_type": "code",
   "execution_count": 19,
   "id": "ceb390a6",
   "metadata": {},
   "outputs": [
    {
     "name": "stdout",
     "output_type": "stream",
     "text": [
      "print positive numbers in a list= [0, 1, 2, 3, 4, 5, 6, 7, 8, 9, 10, 11, 12, 13, 14, 15, 16, 17, 18, 19, 20, 21, 22, 23, 24, 25, 26, 27, 28, 29, 30, 31, 32, 33, 34, 35, 36, 37, 38, 39, 40, 41, 42, 43, 44, 45, 46, 47, 48, 49, 50, 51, 52, 53, 54, 55, 56, 57, 58, 59, 60, 61, 62, 63, 64, 65, 66, 67, 68, 69, 70, 71, 72, 73, 74, 75, 76, 77, 78, 79, 80, 81, 82, 83, 84, 85, 86, 87, 88, 89, 90, 91, 92, 93, 94, 95, 96, 97, 98, 99]\n"
     ]
    }
   ],
   "source": [
    "# Python program to print all positive numbers in a range\n",
    "def all_positive_in_range(low,high):\n",
    "    \"\"\"Python program to print all positive numbers in a range\"\"\"\n",
    "    l = [x for x in range(low,high)]\n",
    "    return (all_positive_numbers_list(l))\n",
    "\n",
    "if __name__ == \"__main__\":\n",
    "    print(\"print positive numbers in a list=\",all_positive_in_range(-100,100))"
   ]
  },
  {
   "cell_type": "markdown",
   "id": "b5999f66",
   "metadata": {},
   "source": [
    "### Python program to print all negative numbers in a range"
   ]
  },
  {
   "cell_type": "code",
   "execution_count": 20,
   "id": "b082b2b8",
   "metadata": {},
   "outputs": [
    {
     "name": "stdout",
     "output_type": "stream",
     "text": [
      "print negative numbers in a list= [-100, -99, -98, -97, -96, -95, -94, -93, -92, -91, -90, -89, -88, -87, -86, -85, -84, -83, -82, -81, -80, -79, -78, -77, -76, -75, -74, -73, -72, -71, -70, -69, -68, -67, -66, -65, -64, -63, -62, -61, -60, -59, -58, -57, -56, -55, -54, -53, -52, -51, -50, -49, -48, -47, -46, -45, -44, -43, -42, -41, -40, -39, -38, -37, -36, -35, -34, -33, -32, -31, -30, -29, -28, -27, -26, -25, -24, -23, -22, -21, -20, -19, -18, -17, -16, -15, -14, -13, -12, -11, -10, -9, -8, -7, -6, -5, -4, -3, -2, -1]\n"
     ]
    }
   ],
   "source": [
    "# Python program to print all negative numbers in a range\n",
    "def all_negative_in_range(low,high):\n",
    "    \"\"\"Python program to print all negative numbers in a range\"\"\"\n",
    "    l = [x for x in range(low,high)]\n",
    "    return (all_negative_numbers_list(l))\n",
    "\n",
    "if __name__ == \"__main__\":\n",
    "    print(\"print negative numbers in a list=\",all_negative_in_range(-100,100))"
   ]
  },
  {
   "cell_type": "markdown",
   "id": "e8962bb4",
   "metadata": {},
   "source": [
    "### Python – Remove empty List from List"
   ]
  },
  {
   "cell_type": "code",
   "execution_count": 35,
   "id": "bdfd0dca",
   "metadata": {},
   "outputs": [
    {
     "name": "stdout",
     "output_type": "stream",
     "text": [
      "Orignal list is  [[1, 2, 3], [], [], [], 1, 2, 3, [4, 5, 6], [], [8]]\n",
      "Removed empty List from List= [[1, 2, 3], 1, 2, 3, [4, 5, 6], [8]]\n"
     ]
    }
   ],
   "source": [
    "# Python – Remove empty List from List\n",
    "def remove_empy_list_from_list(l):\n",
    "    \"\"\"Python – Remove empty List from List\"\"\"\n",
    "    m = []\n",
    "    for x in l:\n",
    "        if type(x) is list:\n",
    "            if len(x)==0:\n",
    "                pass\n",
    "            else:\n",
    "                m.append(x)\n",
    "        else:\n",
    "            m.append(x)\n",
    "    return m\n",
    " \n",
    "             \n",
    "if __name__ == \"__main__\":\n",
    "    l = [[1,2,3],[],[],[],1,2,3,[4,5,6],[],[8]]\n",
    "    print(\"Orignal list is \",l)\n",
    "    print(\"Removed empty List from List=\",remove_empy_list_from_list(l))  \n"
   ]
  },
  {
   "cell_type": "markdown",
   "id": "22ff4c6b",
   "metadata": {},
   "source": [
    "### Python | Cloning or Copying a list"
   ]
  },
  {
   "cell_type": "code",
   "execution_count": 36,
   "id": "795aa6ca",
   "metadata": {},
   "outputs": [
    {
     "name": "stdout",
     "output_type": "stream",
     "text": [
      "Orignal list is  [[1, 2, 3], [], [], [], 1, 2, 3, [4, 5, 6], [], [8]]\n",
      "Cloning or Copying a list= [[1, 2, 3], [], [], [], 1, 2, 3, [4, 5, 6], [], [8]]\n"
     ]
    }
   ],
   "source": [
    "# Python | Cloning or Copying a list\n",
    "def clone_copy_list(l):\n",
    "    \"\"\"Python | Cloning or Copying a list\"\"\"\n",
    "    return l.copy()\n",
    "\n",
    "if __name__ == \"__main__\":\n",
    "    l = [[1,2,3],[],[],[],1,2,3,[4,5,6],[],[8]]\n",
    "    print(\"Orignal list is \",l)\n",
    "    print(\"Cloning or Copying a list=\",clone_copy_list(l))  "
   ]
  },
  {
   "cell_type": "markdown",
   "id": "8ac6143e",
   "metadata": {},
   "source": [
    "### Python | Count occurrences of an element in a list"
   ]
  },
  {
   "cell_type": "code",
   "execution_count": 42,
   "id": "77023d5d",
   "metadata": {},
   "outputs": [
    {
     "name": "stdout",
     "output_type": "stream",
     "text": [
      "Orignal list is  [1, 2, 3, 1, 2, 3, 4, 5, 6, 8, 3]\n",
      "Count occurrences of an element in a list= 3\n"
     ]
    }
   ],
   "source": [
    "# Python | Count occurrences of an element in a list\n",
    "def count_occurrence_ele_list(l,ele):\n",
    "    \"\"\"Python | Count occurrences of an element in a list\"\"\"\n",
    "    return l.count(ele)\n",
    "\n",
    "if __name__ == \"__main__\":\n",
    "    l = [1,2,3,1,2,3,4,5,6,8,3]\n",
    "    print(\"Orignal list is \",l)\n",
    "    print(\"Count occurrences of an element in a list=\",count_occurrence_ele_list(l,3)) "
   ]
  },
  {
   "cell_type": "markdown",
   "id": "2bc7f77d",
   "metadata": {},
   "source": [
    "### Python | Remove empty tuples from a list"
   ]
  },
  {
   "cell_type": "code",
   "execution_count": 43,
   "id": "a97ac69e",
   "metadata": {},
   "outputs": [
    {
     "name": "stdout",
     "output_type": "stream",
     "text": [
      "Orignal list is  [(1, 2, 3), (), [], [], 1, 2, 3, [4, 5, 6], (), [8]]\n",
      "Removed empty tuple from List= [(1, 2, 3), [], [], 1, 2, 3, [4, 5, 6], [8]]\n"
     ]
    }
   ],
   "source": [
    "# Python | Remove empty tuples from a list\n",
    "def remove_empy_tuple_from_list(l):\n",
    "    \"\"\"Python – Remove empty List from List\"\"\"\n",
    "    m = []\n",
    "    for x in l:\n",
    "        if type(x) is tuple:\n",
    "            if len(x)==0:\n",
    "                pass\n",
    "            else:\n",
    "                m.append(x)\n",
    "        else:\n",
    "            m.append(x)\n",
    "    return m\n",
    " \n",
    "             \n",
    "if __name__ == \"__main__\":\n",
    "    l = [(1,2,3),(),[],[],1,2,3,[4,5,6],(),[8]]\n",
    "    print(\"Orignal list is \",l)\n",
    "    print(\"Removed empty tuple from List=\",remove_empy_tuple_from_list(l))  "
   ]
  },
  {
   "cell_type": "markdown",
   "id": "34e02101",
   "metadata": {},
   "source": [
    "### Python program to find Cumulative sum of a list"
   ]
  },
  {
   "cell_type": "code",
   "execution_count": 59,
   "id": "2b86ebce",
   "metadata": {},
   "outputs": [
    {
     "name": "stdout",
     "output_type": "stream",
     "text": [
      "Orignal list is  [10, 20, 30, 40, 50]\n",
      "Cumulative sum of a list= [10, 30, 60, 100, 150]\n"
     ]
    }
   ],
   "source": [
    "# Python program to find Cumulative sum of a list\n",
    "def cum_sum_list(l):\n",
    "    cum_sum_l = []\n",
    "    y=0\n",
    "    for x in l:       \n",
    "        y+=x\n",
    "        cum_sum_l.append(y)\n",
    "    return cum_sum_l\n",
    "\n",
    "if __name__ == \"__main__\":\n",
    "    l = [10, 20, 30, 40, 50]\n",
    "    print(\"Orignal list is \",l)\n",
    "    print(\"Cumulative sum of a list=\",cum_sum_list(l))     "
   ]
  },
  {
   "cell_type": "markdown",
   "id": "017fadde",
   "metadata": {},
   "source": [
    "### Python | Sum of number digits in List\n"
   ]
  },
  {
   "cell_type": "code",
   "execution_count": 60,
   "id": "80c5d5fa",
   "metadata": {},
   "outputs": [
    {
     "name": "stdout",
     "output_type": "stream",
     "text": [
      "Orignal list is  [12, 67, 98, 34]\n",
      "Sum of number digits in List= [3, 13, 17, 7]\n"
     ]
    }
   ],
   "source": [
    "## Python | Sum of number digits in List\n",
    "\n",
    "def sum_digits_number(n):\n",
    "    \"\"\" Python Program to check Armstrong Number\"\"\"\n",
    "    s=0\n",
    "    while n != 0:\n",
    "        r=n%10\n",
    "        s=s+r\n",
    "        n=n//10\n",
    "    return s\n",
    "\n",
    "def sum_number_digits_list(l):\n",
    "    \"\"\"Python | Sum of number digits in List\"\"\"\n",
    "    new_list = []\n",
    "    for x in l:\n",
    "        new_list.append(sum_digits_number(x))\n",
    "    return new_list\n",
    "\n",
    "if __name__ == \"__main__\":\n",
    "    l = [12, 67, 98, 34] \n",
    "    print(\"Orignal list is \",l)\n",
    "    print(\"Sum of number digits in List=\",sum_number_digits_list(l))    \n",
    "  "
   ]
  },
  {
   "cell_type": "markdown",
   "id": "1a6b1106",
   "metadata": {},
   "source": [
    "### Break a list into chunks of size N in Python"
   ]
  },
  {
   "cell_type": "code",
   "execution_count": 74,
   "id": "440b728c",
   "metadata": {},
   "outputs": [
    {
     "name": "stdout",
     "output_type": "stream",
     "text": [
      "Orignal list is  [1, 2, 3, 4, 5, 6, 7, 8, 9, 10]\n",
      "list into chunks of size 3 is [[1, 2, 3], [4, 5, 6], [7, 8, 9], [10]]\n"
     ]
    }
   ],
   "source": [
    "#Break a list into chunks of size N in Python\n",
    "def list_chink_by_size(l,n):\n",
    "    \"\"\"Break a list into chunks of size N in Python\"\"\"\n",
    "    first_index = 0\n",
    "    final_list = []\n",
    "    for x in range(n, len(l)+1,n):\n",
    "        final_list.append(l[first_index:x])\n",
    "        first_index=x\n",
    "        \n",
    "    if len(l)%n == 0:\n",
    "        pass\n",
    "    else:\n",
    "        final_list.append(l[first_index:])\n",
    "    return final_list\n",
    "   \n",
    "if __name__ == \"__main__\":\n",
    "    l = [1, 2, 3, 4, 5, 6, 7, 8, 9,10] \n",
    "    print(\"Orignal list is \",l)\n",
    "    print(\"list into chunks of size {} is {}\".format(3,list_chink_by_size(l,3)))         \n",
    "    "
   ]
  },
  {
   "cell_type": "markdown",
   "id": "847e07b9",
   "metadata": {},
   "source": [
    "### Python | Sort the values of first list using second list"
   ]
  },
  {
   "cell_type": "code",
   "execution_count": 84,
   "id": "2a4d3fe3",
   "metadata": {},
   "outputs": [
    {
     "name": "stdout",
     "output_type": "stream",
     "text": [
      "first list= ['a', 'b', 'c', 'd', 'e', 'f', 'g', 'h', 'i']\n",
      "second list= [0, 1, 1, 0, 1, 2, 2, 0, 1]\n",
      "Sort the values of first list using second list= ['a', 'd', 'h', 'b', 'c', 'e', 'i', 'f', 'g']\n"
     ]
    }
   ],
   "source": [
    "# Python | Sort the values of first list using second list\n",
    "def sort_values_firt_using_second(first,second):\n",
    "    pairs = zip(second, first)\n",
    "    z = [x for y, x in sorted(pairs)]\n",
    "    return z\n",
    "    \n",
    "if __name__ == \"__main__\":    \n",
    "    x = [\"a\", \"b\", \"c\", \"d\", \"e\", \"f\", \"g\", \"h\", \"i\"]\n",
    "    y = [0,   1,   1,    0,   1,   2,   2,   0,   1]\n",
    "    print(\"first list=\",x)\n",
    "    print(\"second list=\",y)\n",
    "    print(\"Sort the values of first list using second list=\", sort_values_firt_using_second(x,y))"
   ]
  },
  {
   "cell_type": "code",
   "execution_count": null,
   "id": "67898672",
   "metadata": {},
   "outputs": [],
   "source": []
  }
 ],
 "metadata": {
  "kernelspec": {
   "display_name": "Python 3 (ipykernel)",
   "language": "python",
   "name": "python3"
  },
  "language_info": {
   "codemirror_mode": {
    "name": "ipython",
    "version": 3
   },
   "file_extension": ".py",
   "mimetype": "text/x-python",
   "name": "python",
   "nbconvert_exporter": "python",
   "pygments_lexer": "ipython3",
   "version": "3.11.5"
  }
 },
 "nbformat": 4,
 "nbformat_minor": 5
}
