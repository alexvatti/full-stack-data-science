{
 "cells": [
  {
   "cell_type": "code",
   "execution_count": 2,
   "id": "6c13f660",
   "metadata": {},
   "outputs": [
    {
     "name": "stdout",
     "output_type": "stream",
     "text": [
      "Calculator App using Python\n",
      "Please Select an operation to perform:\n",
      "1.Add\n",
      "2.Subtract\n",
      "3.Multiply\n",
      "4.Divide\n",
      "Enter the Opeataion No from the above : 2\n",
      "Enter first number : 30\n",
      "Enter second number : 20\n",
      "Answer = 10\n"
     ]
    }
   ],
   "source": [
    "print(\"Calculator App using Python\")\n",
    "\n",
    "print(\"Please Select an operation to perform:\")\n",
    "print(\"1.Add\\n2.Subtract\\n3.Multiply\\n4.Divide\")\n",
    "\n",
    "operation = eval(input(\"Enter the Opeataion No from the above : \"))\n",
    "\n",
    "# input 1\n",
    "num1 = eval(input(\"Enter first number : \"))\n",
    "\n",
    "\n",
    "# input 2\n",
    "num2 = eval(input(\"Enter second number : \"))\n",
    "\n",
    "\n",
    "if operation == 1:\n",
    "    ans = num1 + num2\n",
    "elif operation == 2:\n",
    "    ans = num1 - num2\n",
    "elif operation == 3:\n",
    "    ans = num1 * num2\n",
    "elif operation == 4:  \n",
    "    if num2 != 0:\n",
    "        ans = num1 / num2\n",
    "    else:\n",
    "        print(\"Division by 0 error. Please enter a non-zero number.\")\n",
    "        ans = \"Not defined\"\n",
    "else:\n",
    "    print(\"Invalid Operation\")\n",
    "    ans = \"Not defined\"\n",
    "\n",
    "print(f\"Answer = {ans}\")"
   ]
  },
  {
   "cell_type": "code",
   "execution_count": null,
   "id": "a628747c",
   "metadata": {},
   "outputs": [],
   "source": []
  }
 ],
 "metadata": {
  "kernelspec": {
   "display_name": "Python 3 (ipykernel)",
   "language": "python",
   "name": "python3"
  },
  "language_info": {
   "codemirror_mode": {
    "name": "ipython",
    "version": 3
   },
   "file_extension": ".py",
   "mimetype": "text/x-python",
   "name": "python",
   "nbconvert_exporter": "python",
   "pygments_lexer": "ipython3",
   "version": "3.11.5"
  }
 },
 "nbformat": 4,
 "nbformat_minor": 5
}
