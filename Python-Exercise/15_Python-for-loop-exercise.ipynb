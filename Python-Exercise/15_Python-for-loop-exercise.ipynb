{
 "cells": [
  {
   "cell_type": "markdown",
   "id": "20148156",
   "metadata": {},
   "source": [
    "# Python - for - loop exercise"
   ]
  },
  {
   "cell_type": "markdown",
   "id": "d235e2fc",
   "metadata": {},
   "source": [
    "# Case 1 - Write a loop with 5 times\n",
    "## take the input number from user - key board\n",
    "## say even number or not"
   ]
  },
  {
   "cell_type": "code",
   "execution_count": 8,
   "id": "b4bdbb5e",
   "metadata": {},
   "outputs": [
    {
     "name": "stdout",
     "output_type": "stream",
     "text": [
      "Enter a number to print even or odd : 1\n",
      "Given number 1 is odd\n",
      "Enter a number to print even or odd : 2\n",
      "Given number 2 is even\n",
      "Enter a number to print even or odd : 3\n",
      "Given number 3 is odd\n",
      "Enter a number to print even or odd : 4\n",
      "Given number 4 is even\n",
      "Enter a number to print even or odd : 5\n",
      "Given number 5 is odd\n"
     ]
    }
   ],
   "source": [
    "for i in range(1,6):\n",
    "    num = eval(input(\"Enter a number to print even or odd : \"))\n",
    "    if num%2 == 0:\n",
    "        print(f\"Given number {num} is even\")\n",
    "    else:\n",
    "        print(f\"Given number {num} is odd\")"
   ]
  },
  {
   "cell_type": "markdown",
   "id": "da00ce07",
   "metadata": {},
   "source": [
    "# Case 2 - Write a loop with 5 times\n",
    "## take the input number from user - key board\n",
    "## write function even_odd and pass number as argument "
   ]
  },
  {
   "cell_type": "code",
   "execution_count": 4,
   "id": "898b6fd9",
   "metadata": {
    "scrolled": true
   },
   "outputs": [
    {
     "name": "stdout",
     "output_type": "stream",
     "text": [
      "Enter a number to print even or odd : 1\n",
      "Given number 1 is odd\n",
      "Enter a number to print even or odd : 2\n",
      "Given number 2 is even\n",
      "Enter a number to print even or odd : 3\n",
      "Given number 3 is odd\n",
      "Enter a number to print even or odd : 4\n",
      "Given number 4 is even\n",
      "Enter a number to print even or odd : 5\n",
      "Given number 5 is odd\n"
     ]
    }
   ],
   "source": [
    "def even_odd(num):\n",
    "    if num%2 == 0:\n",
    "        print(f\"Given number {num} is even\")\n",
    "    else:\n",
    "        print(f\"Given number {num} is odd\")\n",
    "for i in range(1,6):\n",
    "    num = eval(input(\"Enter a number to print even or odd : \"))\n",
    "    even_odd(num)"
   ]
  },
  {
   "cell_type": "markdown",
   "id": "e93698a4",
   "metadata": {},
   "source": [
    "# Case 3 - Write a loop with 5 times\n",
    "## take the input number from user - key board\n",
    "## write function even_odd and pass number as argument , return True for even , else False\n",
    "## say -  print how many even numbers and how many odd numbers"
   ]
  },
  {
   "cell_type": "code",
   "execution_count": 10,
   "id": "fd34c5ba",
   "metadata": {},
   "outputs": [
    {
     "name": "stdout",
     "output_type": "stream",
     "text": [
      "Enter a number to print even or odd : 1\n",
      "Given number 1 is odd\n",
      "Enter a number to print even or odd : 2\n",
      "Given number 2 is even\n",
      "Enter a number to print even or odd : 3\n",
      "Given number 3 is odd\n",
      "Enter a number to print even or odd : 4\n",
      "Given number 4 is even\n",
      "Enter a number to print even or odd : 5\n",
      "Given number 5 is odd\n",
      "\n",
      "Total Even Numbers entered : 2\n",
      "Total Odd Numbers entered : 3\n"
     ]
    }
   ],
   "source": [
    "def even_odd(num):\n",
    "    if num%2 == 0:\n",
    "        print(f\"Given number {num} is even\")\n",
    "        return True\n",
    "    else:\n",
    "        print(f\"Given number {num} is odd\")\n",
    "        return False\n",
    "\n",
    "even_numbers_count=0\n",
    "odd_numbers_count=0\n",
    "for i in range(1,6):\n",
    "    num = eval(input(\"Enter a number to print even or odd : \"))\n",
    "    if even_odd(num)==True:\n",
    "        even_numbers_count += 1\n",
    "    else:\n",
    "        odd_numbers_count += 1\n",
    "\n",
    "print()\n",
    "print(f\"Total Even Numbers entered : {even_numbers_count}\")\n",
    "print(f\"Total Odd Numbers entered : {odd_numbers_count}\")"
   ]
  },
  {
   "cell_type": "markdown",
   "id": "8c645eaa",
   "metadata": {},
   "source": [
    "# Case 1:   Write a loop with 5 times\n",
    "## generate the random number(1,10) \n",
    "## take the input number from user - key board (1,10)\n",
    "## if both are same - print - you won the game , else  print - you lost the game"
   ]
  },
  {
   "cell_type": "code",
   "execution_count": 13,
   "id": "5ca53fad",
   "metadata": {
    "scrolled": true
   },
   "outputs": [
    {
     "name": "stdout",
     "output_type": "stream",
     "text": [
      "Enter a number(1-10) : 1\n",
      "You lost the game\n",
      "Enter a number(1-10) : 1\n",
      "You lost the game\n",
      "Enter a number(1-10) : 1\n",
      "You won the game\n",
      "Enter a number(1-10) : 1\n",
      "You lost the game\n",
      "Enter a number(1-10) : 1\n",
      "You lost the game\n"
     ]
    }
   ],
   "source": [
    "import random\n",
    "for i in range(1,6):\n",
    "    gen_random_num=random.randint(1,10) \n",
    "    user_num = eval(input(\"Enter a number(1-10) : \"))\n",
    "    if gen_random_num == user_num:\n",
    "        print(\"You won the game\")\n",
    "    else:\n",
    "        print(\"You lost the game\")"
   ]
  },
  {
   "cell_type": "markdown",
   "id": "ec04b229",
   "metadata": {},
   "source": [
    "# Case 2:   Write a loop with 5 times\n",
    "## generate the random number(1,10) \n",
    "## take the input number from user - key board (1,10)\n",
    "## if both are same - print - you won the game - exit the loop , else print - you lost the game"
   ]
  },
  {
   "cell_type": "code",
   "execution_count": 14,
   "id": "43afd607",
   "metadata": {},
   "outputs": [
    {
     "name": "stdout",
     "output_type": "stream",
     "text": [
      "Enter a number(1-10) : 1\n",
      "You lost the game\n",
      "Enter a number(1-10) : 2\n",
      "You won the game\n"
     ]
    }
   ],
   "source": [
    "import random\n",
    "for i in range(1,6):\n",
    "    gen_random_num=random.randint(1,10) \n",
    "    user_num = eval(input(\"Enter a number(1-10) : \"))\n",
    "    if gen_random_num == user_num:\n",
    "        print(\"You won the game\")\n",
    "        break\n",
    "    else:\n",
    "        print(\"You lost the game\")"
   ]
  },
  {
   "cell_type": "markdown",
   "id": "5b2ec56f",
   "metadata": {},
   "source": [
    "# Case 3:   Write a loop with 5 times\n",
    "## generate the random number(1,10) \n",
    "## take the input number from user - key board (1,10)\n",
    "## if both are same - print - you won the game - print -what chance you won, then exit the loop , else you lost the game"
   ]
  },
  {
   "cell_type": "code",
   "execution_count": 22,
   "id": "c79ef9e9",
   "metadata": {},
   "outputs": [
    {
     "name": "stdout",
     "output_type": "stream",
     "text": [
      "Enter a number(1-10) : 1\n",
      "You lost the game\n",
      "Enter a number(1-10) : 2\n",
      "You lost the game\n",
      "Enter a number(1-10) : 1\n",
      "You won the game\n",
      "You won the game at chance number 3\n"
     ]
    }
   ],
   "source": [
    "\n",
    "import random\n",
    "for i in range(1,6):\n",
    "    gen_random_num=random.randint(1,10) \n",
    "    user_num = eval(input(\"Enter a number(1-10) : \"))\n",
    "    if gen_random_num == user_num:\n",
    "        print(\"You won the game\")\n",
    "        print(f\"You won the game at chance number {i}\")\n",
    "        break\n",
    "    else:\n",
    "        print(\"You lost the game\")"
   ]
  },
  {
   "cell_type": "markdown",
   "id": "a6254119",
   "metadata": {},
   "source": [
    "# Case 4:   Write a loop with 5 times\n",
    "## generate the random number(1,10) \n",
    "## take the input number from user - key board (1,10)\n",
    "## if both are same - print - you won the game - print -at what chance you won, then exit the loop , \n",
    "## else you lost the game , say how many chances are left"
   ]
  },
  {
   "cell_type": "code",
   "execution_count": 25,
   "id": "e11ed041",
   "metadata": {},
   "outputs": [
    {
     "name": "stdout",
     "output_type": "stream",
     "text": [
      "Enter a number(1-10) : 1\n",
      "You lost the game\n",
      "You have left with chance numbers 4\n",
      "Enter a number(1-10) : 1\n",
      "You lost the game\n",
      "You have left with chance numbers 3\n",
      "Enter a number(1-10) : 1\n",
      "You lost the game\n",
      "You have left with chance numbers 2\n",
      "Enter a number(1-10) : 1\n",
      "You lost the game\n",
      "You have left with chance numbers 1\n",
      "Enter a number(1-10) : 1\n",
      "You lost the game\n",
      "You have left with chance numbers 0\n"
     ]
    }
   ],
   "source": [
    "import random\n",
    "n=6\n",
    "for i in range(1,n):\n",
    "    gen_random_num=random.randint(1,10) \n",
    "    user_num = eval(input(\"Enter a number(1-10) : \"))\n",
    "    if gen_random_num == user_num:\n",
    "        print(\"You won the game\")\n",
    "        print(f\"You won the game at chance number {i}\")\n",
    "        break\n",
    "    else:\n",
    "        print(\"You lost the game\")\n",
    "        print(f\"You have left with chance numbers {n-i-1}\")"
   ]
  },
  {
   "cell_type": "markdown",
   "id": "accf82b1",
   "metadata": {},
   "source": [
    "# Case 5:   Write a loop with 5 times\n",
    "## generate the random number(1,10) \n",
    "## take the input number from user - key board (1,10)\n",
    "## if both are same - print - you won the game - print - at what chance you won, then exit the loop , \n",
    "## else  print - you lost the game , say how many chances are left, if nothing left - print - game over - you lost game - You are unlucky"
   ]
  },
  {
   "cell_type": "code",
   "execution_count": 27,
   "id": "6910052b",
   "metadata": {},
   "outputs": [
    {
     "name": "stdout",
     "output_type": "stream",
     "text": [
      "Enter a number(1-10) : 1\n",
      "You lost the game\n",
      "You have left with chance numbers 4\n",
      "Enter a number(1-10) : 1\n",
      "You lost the game\n",
      "You have left with chance numbers 3\n",
      "Enter a number(1-10) : 1\n",
      "You lost the game\n",
      "You have left with chance numbers 2\n",
      "Enter a number(1-10) : 1\n",
      "You lost the game\n",
      "You have left with chance numbers 1\n",
      "Enter a number(1-10) : 1\n",
      "Game over - You are unlucky\n"
     ]
    }
   ],
   "source": [
    "import random\n",
    "n=6\n",
    "for i in range(1,n):\n",
    "    gen_random_num=random.randint(1,10) \n",
    "    user_num = eval(input(\"Enter a number(1-10) : \"))\n",
    "    if gen_random_num == user_num:\n",
    "        print(\"You won the game\")\n",
    "        print(f\"You won the game at chance number {i}\")\n",
    "        break\n",
    "    elif (n-i-1)==0:\n",
    "        print(\"Game over - You lost the Game - You are unlucky\")\n",
    "    else:\n",
    "        print(\"You lost the game\")\n",
    "        print(f\"You have left with chance numbers {n-i-1}\")"
   ]
  }
 ],
 "metadata": {
  "kernelspec": {
   "display_name": "Python 3 (ipykernel)",
   "language": "python",
   "name": "python3"
  },
  "language_info": {
   "codemirror_mode": {
    "name": "ipython",
    "version": 3
   },
   "file_extension": ".py",
   "mimetype": "text/x-python",
   "name": "python",
   "nbconvert_exporter": "python",
   "pygments_lexer": "ipython3",
   "version": "3.11.5"
  }
 },
 "nbformat": 4,
 "nbformat_minor": 5
}
