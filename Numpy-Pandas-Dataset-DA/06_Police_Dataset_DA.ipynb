{
 "cells": [
  {
   "cell_type": "markdown",
   "id": "9a0c046d",
   "metadata": {},
   "source": [
    "# Objective - Answer the following\n",
    "\n",
    "Q. 1) Instruction ( For Data Cleaning ) - Remove the column that only contains missing values.\n",
    "\n",
    "Q. 2) Question ( Based on Filtering + Value Counts ) - For Speeding , were Men or Women stopped more often ? \n",
    "\n",
    "Q. 3) Question ( Groupby ) - Does gender affect who gets searched during a stop ?\n",
    "Question ( mapping + data-type casting )\n",
    "\n",
    "Q. 4) Question ( mapping + data-type casting ) - What is the mean stop_duration ?\n",
    "\n",
    "Q. 5) Question ( Groupby , Describe ) - Compare the age distributions for each violation.\n"
   ]
  },
  {
   "cell_type": "markdown",
   "id": "2099d0a9",
   "metadata": {},
   "source": [
    "## Spl Thanks\n",
    "https://datasciencelovers.graphy.com/\n"
   ]
  },
  {
   "cell_type": "markdown",
   "id": "08caaa6e",
   "metadata": {},
   "source": [
    "## Import Python Modules"
   ]
  },
  {
   "cell_type": "code",
   "execution_count": 126,
   "id": "73cb7815",
   "metadata": {},
   "outputs": [],
   "source": [
    "# Load necessary python modules\n",
    "import numpy as np\n",
    "import pandas as pd"
   ]
  },
  {
   "cell_type": "markdown",
   "id": "35bc4e9e",
   "metadata": {},
   "source": [
    "## Load Dataset"
   ]
  },
  {
   "cell_type": "code",
   "execution_count": 127,
   "id": "60f8b463",
   "metadata": {},
   "outputs": [],
   "source": [
    "df = pd.read_csv(\"dataset/Police_dataset.csv\")"
   ]
  },
  {
   "cell_type": "markdown",
   "id": "f8afcbc7",
   "metadata": {},
   "source": [
    "## Basic Inspection on dataset"
   ]
  },
  {
   "cell_type": "code",
   "execution_count": 69,
   "id": "a894936f",
   "metadata": {},
   "outputs": [],
   "source": [
    "def basic_inspection(table):\n",
    "    print(\"Top 5 Records of dataset\")\n",
    "    print(table.head())\n",
    "    print()\n",
    "        \n",
    "    print(\"Bottom Records of dataset\")\n",
    "    print(table.tail())\n",
    "    print()\n",
    "    \n",
    "    print(\"Column/features/Variable  - Names of Given dataset\")\n",
    "    print(table.columns)\n",
    "    print()\n",
    "    \n",
    "    print(\"Shape(rows x columns) - of Given dataset\")\n",
    "    print(table.shape)\n",
    "    print()\n",
    "    \n",
    "    print(\"Data types - Given Column Names\")\n",
    "    print(table.dtypes)\n",
    "    print()\n",
    "    \n",
    "    print(\"Summry of dataset\")\n",
    "    print(table.info())\n",
    "    print()\n",
    "    \n",
    "    print(\"To see the count of null/nan values in columns of dataset\")\n",
    "    print(table.isnull().value_counts())\n",
    "    print()\n",
    "    \n",
    "    print(\"Dataset Summary \")\n",
    "    print(table.describe())\n",
    "    print()\n",
    "    \n"
   ]
  },
  {
   "cell_type": "code",
   "execution_count": 70,
   "id": "cb7dac0c",
   "metadata": {
    "scrolled": false
   },
   "outputs": [
    {
     "name": "stdout",
     "output_type": "stream",
     "text": [
      "Top 5 Records of dataset\n",
      "   stop_date stop_time  country_name driver_gender  driver_age_raw  \\\n",
      "0   1/2/2005      1:55           NaN             M          1985.0   \n",
      "1  1/18/2005      8:15           NaN             M          1965.0   \n",
      "2  1/23/2005     23:15           NaN             M          1972.0   \n",
      "3  2/20/2005     17:15           NaN             M          1986.0   \n",
      "4  3/14/2005     10:00           NaN             F          1984.0   \n",
      "\n",
      "   driver_age driver_race     violation_raw violation  search_conducted  \\\n",
      "0        20.0       White          Speeding  Speeding             False   \n",
      "1        40.0       White          Speeding  Speeding             False   \n",
      "2        33.0       White          Speeding  Speeding             False   \n",
      "3        19.0       White  Call for Service     Other             False   \n",
      "4        21.0       White          Speeding  Speeding             False   \n",
      "\n",
      "  search_type   stop_outcome is_arrested stop_duration  drugs_related_stop  \n",
      "0         NaN       Citation       False      0-15 Min               False  \n",
      "1         NaN       Citation       False      0-15 Min               False  \n",
      "2         NaN       Citation       False      0-15 Min               False  \n",
      "3         NaN  Arrest Driver        True     16-30 Min               False  \n",
      "4         NaN       Citation       False      0-15 Min               False  \n",
      "\n",
      "Bottom Records of dataset\n",
      "       stop_date stop_time  country_name driver_gender  driver_age_raw  \\\n",
      "65530  12/6/2012     17:54           NaN             F          1987.0   \n",
      "65531  12/6/2012     22:22           NaN             M          1954.0   \n",
      "65532  12/6/2012     23:20           NaN             M          1985.0   \n",
      "65533  12/7/2012      0:23           NaN           NaN             NaN   \n",
      "65534  12/7/2012      0:30           NaN             F          1985.0   \n",
      "\n",
      "       driver_age driver_race                   violation_raw  violation  \\\n",
      "65530        25.0       White                        Speeding   Speeding   \n",
      "65531        58.0       White                        Speeding   Speeding   \n",
      "65532        27.0       Black  Equipment/Inspection Violation  Equipment   \n",
      "65533         NaN         NaN                             NaN        NaN   \n",
      "65534        27.0       White                        Speeding   Speeding   \n",
      "\n",
      "       search_conducted search_type stop_outcome is_arrested stop_duration  \\\n",
      "65530             False         NaN     Citation       False      0-15 Min   \n",
      "65531             False         NaN      Warning       False      0-15 Min   \n",
      "65532             False         NaN     Citation       False      0-15 Min   \n",
      "65533             False         NaN          NaN         NaN           NaN   \n",
      "65534             False         NaN     Citation       False      0-15 Min   \n",
      "\n",
      "       drugs_related_stop  \n",
      "65530               False  \n",
      "65531               False  \n",
      "65532               False  \n",
      "65533               False  \n",
      "65534               False  \n",
      "\n",
      "Column/features/Variable  - Names of Given dataset\n",
      "Index(['stop_date', 'stop_time', 'country_name', 'driver_gender',\n",
      "       'driver_age_raw', 'driver_age', 'driver_race', 'violation_raw',\n",
      "       'violation', 'search_conducted', 'search_type', 'stop_outcome',\n",
      "       'is_arrested', 'stop_duration', 'drugs_related_stop'],\n",
      "      dtype='object')\n",
      "\n",
      "Shape(rows x columns) - of Given dataset\n",
      "(65535, 15)\n",
      "\n",
      "Data types - Given Column Names\n",
      "stop_date              object\n",
      "stop_time              object\n",
      "country_name          float64\n",
      "driver_gender          object\n",
      "driver_age_raw        float64\n",
      "driver_age            float64\n",
      "driver_race            object\n",
      "violation_raw          object\n",
      "violation              object\n",
      "search_conducted         bool\n",
      "search_type            object\n",
      "stop_outcome           object\n",
      "is_arrested            object\n",
      "stop_duration          object\n",
      "drugs_related_stop       bool\n",
      "dtype: object\n",
      "\n",
      "Summry of dataset\n",
      "<class 'pandas.core.frame.DataFrame'>\n",
      "RangeIndex: 65535 entries, 0 to 65534\n",
      "Data columns (total 15 columns):\n",
      " #   Column              Non-Null Count  Dtype  \n",
      "---  ------              --------------  -----  \n",
      " 0   stop_date           65535 non-null  object \n",
      " 1   stop_time           65535 non-null  object \n",
      " 2   country_name        0 non-null      float64\n",
      " 3   driver_gender       61474 non-null  object \n",
      " 4   driver_age_raw      61481 non-null  float64\n",
      " 5   driver_age          61228 non-null  float64\n",
      " 6   driver_race         61475 non-null  object \n",
      " 7   violation_raw       61475 non-null  object \n",
      " 8   violation           61475 non-null  object \n",
      " 9   search_conducted    65535 non-null  bool   \n",
      " 10  search_type         2479 non-null   object \n",
      " 11  stop_outcome        61475 non-null  object \n",
      " 12  is_arrested         61475 non-null  object \n",
      " 13  stop_duration       61475 non-null  object \n",
      " 14  drugs_related_stop  65535 non-null  bool   \n",
      "dtypes: bool(2), float64(3), object(10)\n",
      "memory usage: 6.6+ MB\n",
      "None\n",
      "\n",
      "To see the count of null/nan values in columns of dataset\n",
      "stop_date  stop_time  country_name  driver_gender  driver_age_raw  driver_age  driver_race  violation_raw  violation  search_conducted  search_type  stop_outcome  is_arrested  stop_duration  drugs_related_stop\n",
      "False      False      True          False          False           False       False        False          False      False             True         False         False        False          False                 58745\n",
      "                                    True           True            True        True         True           True       False             True         True          True         True           False                  4053\n",
      "                                    False          False           False       False        False          False      False             False        False         False        False          False                  2477\n",
      "                                                                   True        False        False          False      False             True         False         False        False          False                   249\n",
      "                                    True           False           False       True         True           True       False             True         True          True         True           False                     5\n",
      "                                    False          False           True        False        False          False      False             False        False         False        False          False                     2\n",
      "                                    True           False           True        True         True           True       False             True         True          True         True           False                     2\n",
      "                                    False          True            True        False        False          False      False             True         False         False        False          False                     1\n",
      "                                    True           False           False       False        False          False      False             True         False         False        False          False                     1\n",
      "Name: count, dtype: int64\n",
      "\n",
      "Dataset Summary \n",
      "       country_name  driver_age_raw    driver_age\n",
      "count           0.0    61481.000000  61228.000000\n",
      "mean            NaN     1967.791106     34.148984\n",
      "std             NaN      121.050106     12.760710\n",
      "min             NaN        0.000000     15.000000\n",
      "25%             NaN     1965.000000     23.000000\n",
      "50%             NaN     1978.000000     31.000000\n",
      "75%             NaN     1985.000000     43.000000\n",
      "max             NaN     8801.000000     88.000000\n",
      "\n"
     ]
    }
   ],
   "source": [
    "basic_inspection(df)"
   ]
  },
  {
   "cell_type": "markdown",
   "id": "a0a8b74d",
   "metadata": {},
   "source": [
    "# Q 1\n",
    "Q. 1) Instruction ( For Data Cleaning ) - Remove the column that only contains missing values."
   ]
  },
  {
   "cell_type": "code",
   "execution_count": 71,
   "id": "5768c5c3",
   "metadata": {},
   "outputs": [
    {
     "data": {
      "text/plain": [
       "stop_date                 0\n",
       "stop_time                 0\n",
       "country_name          65535\n",
       "driver_gender          4061\n",
       "driver_age_raw         4054\n",
       "driver_age             4307\n",
       "driver_race            4060\n",
       "violation_raw          4060\n",
       "violation              4060\n",
       "search_conducted          0\n",
       "search_type           63056\n",
       "stop_outcome           4060\n",
       "is_arrested            4060\n",
       "stop_duration          4060\n",
       "drugs_related_stop        0\n",
       "dtype: int64"
      ]
     },
     "execution_count": 71,
     "metadata": {},
     "output_type": "execute_result"
    }
   ],
   "source": [
    "df.isnull().sum()"
   ]
  },
  {
   "cell_type": "code",
   "execution_count": 72,
   "id": "e1cf4dd0",
   "metadata": {},
   "outputs": [],
   "source": [
    "df.drop(columns=[\"country_name\",\"search_type\"],axis=1,inplace=True )"
   ]
  },
  {
   "cell_type": "code",
   "execution_count": 73,
   "id": "da419082",
   "metadata": {},
   "outputs": [
    {
     "data": {
      "text/plain": [
       "stop_date                0\n",
       "stop_time                0\n",
       "driver_gender         4061\n",
       "driver_age_raw        4054\n",
       "driver_age            4307\n",
       "driver_race           4060\n",
       "violation_raw         4060\n",
       "violation             4060\n",
       "search_conducted         0\n",
       "stop_outcome          4060\n",
       "is_arrested           4060\n",
       "stop_duration         4060\n",
       "drugs_related_stop       0\n",
       "dtype: int64"
      ]
     },
     "execution_count": 73,
     "metadata": {},
     "output_type": "execute_result"
    }
   ],
   "source": [
    "df.isnull().sum()"
   ]
  },
  {
   "cell_type": "code",
   "execution_count": 74,
   "id": "0178dfe9",
   "metadata": {},
   "outputs": [
    {
     "data": {
      "text/plain": [
       "(65535, 13)"
      ]
     },
     "execution_count": 74,
     "metadata": {},
     "output_type": "execute_result"
    }
   ],
   "source": [
    "df.shape"
   ]
  },
  {
   "cell_type": "code",
   "execution_count": 75,
   "id": "8de33ffe",
   "metadata": {},
   "outputs": [
    {
     "data": {
      "text/plain": [
       "array(['M', 'F', nan], dtype=object)"
      ]
     },
     "execution_count": 75,
     "metadata": {},
     "output_type": "execute_result"
    }
   ],
   "source": [
    "df[\"driver_gender\"].unique()"
   ]
  },
  {
   "cell_type": "code",
   "execution_count": 76,
   "id": "c6d55cf4",
   "metadata": {
    "scrolled": true
   },
   "outputs": [
    {
     "data": {
      "text/plain": [
       "driver_gender\n",
       "M    45164\n",
       "F    16310\n",
       "Name: count, dtype: int64"
      ]
     },
     "execution_count": 76,
     "metadata": {},
     "output_type": "execute_result"
    }
   ],
   "source": [
    "df[\"driver_gender\"].value_counts()"
   ]
  },
  {
   "cell_type": "code",
   "execution_count": 77,
   "id": "0d6e5251",
   "metadata": {},
   "outputs": [],
   "source": [
    "df[\"driver_gender\"].fillna('M',inplace=True)"
   ]
  },
  {
   "cell_type": "code",
   "execution_count": 78,
   "id": "5b534c63",
   "metadata": {
    "scrolled": true
   },
   "outputs": [
    {
     "data": {
      "text/plain": [
       "stop_date                0\n",
       "stop_time                0\n",
       "driver_gender            0\n",
       "driver_age_raw        4054\n",
       "driver_age            4307\n",
       "driver_race           4060\n",
       "violation_raw         4060\n",
       "violation             4060\n",
       "search_conducted         0\n",
       "stop_outcome          4060\n",
       "is_arrested           4060\n",
       "stop_duration         4060\n",
       "drugs_related_stop       0\n",
       "dtype: int64"
      ]
     },
     "execution_count": 78,
     "metadata": {},
     "output_type": "execute_result"
    }
   ],
   "source": [
    "df.isnull().sum()"
   ]
  },
  {
   "cell_type": "code",
   "execution_count": 79,
   "id": "b4a1c368",
   "metadata": {},
   "outputs": [
    {
     "data": {
      "text/plain": [
       "array([1985., 1965., 1972., 1986., 1984., 1982., 1969., 1970., 1979.,\n",
       "       1966., 1955., 1958., 1953., 1967.,   nan, 1964., 1977., 1959.,\n",
       "       1973., 1947., 1978., 1962., 1981., 1988., 1983., 1961., 1957.,\n",
       "       1971., 1950., 1954., 1960., 1976., 1974., 1968., 1938., 1980.,\n",
       "       1963., 1975., 1987., 1948., 1956., 1944., 1935.,    0., 1952.,\n",
       "       1945., 1946., 1941., 1942., 1951., 1949., 2005., 1939., 1943.,\n",
       "       1936., 1924., 1937., 1929., 1930., 1931., 1923., 1940., 1933.,\n",
       "       1989., 1928., 1932., 1990., 1926., 2006., 1927., 1997., 1934.,\n",
       "       1887., 1925., 1918., 2004., 1991., 2002., 2007., 1992., 8801.,\n",
       "       2001., 2003., 1998., 1922., 1993., 2008., 2009., 2919., 2000.,\n",
       "       1994., 1995., 2011., 1996.])"
      ]
     },
     "execution_count": 79,
     "metadata": {},
     "output_type": "execute_result"
    }
   ],
   "source": [
    "df[\"driver_age_raw\"].unique()"
   ]
  },
  {
   "cell_type": "code",
   "execution_count": 80,
   "id": "38072935",
   "metadata": {},
   "outputs": [
    {
     "data": {
      "text/plain": [
       "driver_age_raw\n",
       "1986.0    2702\n",
       "1987.0    2645\n",
       "1985.0    2630\n",
       "1988.0    2588\n",
       "1983.0    2339\n",
       "          ... \n",
       "2000.0       1\n",
       "8801.0       1\n",
       "2002.0       1\n",
       "2011.0       1\n",
       "1918.0       1\n",
       "Name: count, Length: 93, dtype: int64"
      ]
     },
     "execution_count": 80,
     "metadata": {},
     "output_type": "execute_result"
    }
   ],
   "source": [
    "df[\"driver_age_raw\"].value_counts()"
   ]
  },
  {
   "cell_type": "code",
   "execution_count": 81,
   "id": "a88fe48b",
   "metadata": {
    "scrolled": true
   },
   "outputs": [
    {
     "data": {
      "text/plain": [
       "array([20., 40., 33., 19., 21., 23., 36., 35., 26., 39., 50., 47., 52.,\n",
       "       38., nan, 41., 28., 46., 32., 58., 27., 43., 24., 17., 22., 44.,\n",
       "       48., 34., 55., 51., 45., 29., 31., 37., 67., 25., 42., 30., 18.,\n",
       "       57., 49., 61., 70., 53., 60., 59., 64., 63., 54., 56., 66., 62.,\n",
       "       69., 81., 68., 76., 75., 74., 82., 65., 72., 16., 77., 73., 71.,\n",
       "       80., 79., 78., 88., 15., 83., 86., 84., 85.])"
      ]
     },
     "execution_count": 81,
     "metadata": {},
     "output_type": "execute_result"
    }
   ],
   "source": [
    "df[\"driver_age\"].unique()"
   ]
  },
  {
   "cell_type": "code",
   "execution_count": 82,
   "id": "88bd32d3",
   "metadata": {
    "scrolled": true
   },
   "outputs": [
    {
     "data": {
      "text/plain": [
       "driver_age\n",
       "22.0    2912\n",
       "21.0    2886\n",
       "20.0    2783\n",
       "23.0    2725\n",
       "24.0    2583\n",
       "        ... \n",
       "15.0       5\n",
       "84.0       3\n",
       "88.0       2\n",
       "83.0       2\n",
       "85.0       1\n",
       "Name: count, Length: 73, dtype: int64"
      ]
     },
     "execution_count": 82,
     "metadata": {},
     "output_type": "execute_result"
    }
   ],
   "source": [
    "df[\"driver_age\"].value_counts()"
   ]
  },
  {
   "cell_type": "code",
   "execution_count": 83,
   "id": "d007ee62",
   "metadata": {},
   "outputs": [
    {
     "name": "stdout",
     "output_type": "stream",
     "text": [
      "34.14898412491017\n",
      "31.0\n"
     ]
    }
   ],
   "source": [
    "print(df[\"driver_age\"].mean())\n",
    "print(df[\"driver_age\"].median())"
   ]
  },
  {
   "cell_type": "code",
   "execution_count": 84,
   "id": "a1f0cf95",
   "metadata": {},
   "outputs": [],
   "source": [
    "df[\"driver_age\"].fillna(31,inplace=True)"
   ]
  },
  {
   "cell_type": "code",
   "execution_count": 85,
   "id": "edf0feab",
   "metadata": {
    "scrolled": true
   },
   "outputs": [
    {
     "data": {
      "text/plain": [
       "stop_date                0\n",
       "stop_time                0\n",
       "driver_gender            0\n",
       "driver_age_raw        4054\n",
       "driver_age               0\n",
       "driver_race           4060\n",
       "violation_raw         4060\n",
       "violation             4060\n",
       "search_conducted         0\n",
       "stop_outcome          4060\n",
       "is_arrested           4060\n",
       "stop_duration         4060\n",
       "drugs_related_stop       0\n",
       "dtype: int64"
      ]
     },
     "execution_count": 85,
     "metadata": {},
     "output_type": "execute_result"
    }
   ],
   "source": [
    "df.isnull().sum()"
   ]
  },
  {
   "cell_type": "code",
   "execution_count": 86,
   "id": "2b8e37cc",
   "metadata": {},
   "outputs": [
    {
     "data": {
      "text/plain": [
       "array(['White', 'Black', 'Asian', nan, 'Hispanic', 'Other'], dtype=object)"
      ]
     },
     "execution_count": 86,
     "metadata": {},
     "output_type": "execute_result"
    }
   ],
   "source": [
    "df[\"driver_race\"].unique()"
   ]
  },
  {
   "cell_type": "code",
   "execution_count": 87,
   "id": "577e7f07",
   "metadata": {
    "scrolled": true
   },
   "outputs": [
    {
     "data": {
      "text/plain": [
       "driver_race\n",
       "White       45747\n",
       "Black        8267\n",
       "Hispanic     5611\n",
       "Asian        1639\n",
       "Other         211\n",
       "Name: count, dtype: int64"
      ]
     },
     "execution_count": 87,
     "metadata": {},
     "output_type": "execute_result"
    }
   ],
   "source": [
    "df[\"driver_race\"].value_counts()"
   ]
  },
  {
   "cell_type": "code",
   "execution_count": 88,
   "id": "206013a1",
   "metadata": {},
   "outputs": [],
   "source": [
    "df[\"driver_race\"].fillna(\"White\",inplace=True)"
   ]
  },
  {
   "cell_type": "code",
   "execution_count": 89,
   "id": "273f1d5a",
   "metadata": {
    "scrolled": true
   },
   "outputs": [
    {
     "data": {
      "text/plain": [
       "stop_date                0\n",
       "stop_time                0\n",
       "driver_gender            0\n",
       "driver_age_raw        4054\n",
       "driver_age               0\n",
       "driver_race              0\n",
       "violation_raw         4060\n",
       "violation             4060\n",
       "search_conducted         0\n",
       "stop_outcome          4060\n",
       "is_arrested           4060\n",
       "stop_duration         4060\n",
       "drugs_related_stop       0\n",
       "dtype: int64"
      ]
     },
     "execution_count": 89,
     "metadata": {},
     "output_type": "execute_result"
    }
   ],
   "source": [
    "df.isnull().sum()"
   ]
  },
  {
   "cell_type": "code",
   "execution_count": 90,
   "id": "147606f3",
   "metadata": {},
   "outputs": [
    {
     "data": {
      "text/plain": [
       "array(['Speeding', 'Call for Service', 'Equipment/Inspection Violation',\n",
       "       'Other Traffic Violation', nan, 'Registration Violation',\n",
       "       'Special Detail/Directed Patrol', 'APB',\n",
       "       'Violation of City/Town Ordinance', 'Suspicious Person',\n",
       "       'Motorist Assist/Courtesy', 'Warrant', 'Seatbelt Violation'],\n",
       "      dtype=object)"
      ]
     },
     "execution_count": 90,
     "metadata": {},
     "output_type": "execute_result"
    }
   ],
   "source": [
    "df[\"violation_raw\"].unique()"
   ]
  },
  {
   "cell_type": "code",
   "execution_count": 91,
   "id": "1de562c3",
   "metadata": {
    "scrolled": false
   },
   "outputs": [
    {
     "data": {
      "text/plain": [
       "violation_raw\n",
       "Speeding                            37204\n",
       "Other Traffic Violation             11926\n",
       "Equipment/Inspection Violation       6516\n",
       "Special Detail/Directed Patrol       2383\n",
       "Registration Violation               2243\n",
       "Call for Service                      793\n",
       "Violation of City/Town Ordinance      170\n",
       "Motorist Assist/Courtesy              138\n",
       "APB                                    51\n",
       "Suspicious Person                      38\n",
       "Warrant                                10\n",
       "Seatbelt Violation                      3\n",
       "Name: count, dtype: int64"
      ]
     },
     "execution_count": 91,
     "metadata": {},
     "output_type": "execute_result"
    }
   ],
   "source": [
    "df[\"violation_raw\"].value_counts()"
   ]
  },
  {
   "cell_type": "code",
   "execution_count": 92,
   "id": "6a8d2a32",
   "metadata": {},
   "outputs": [],
   "source": [
    "df[\"violation_raw\"].fillna(\"Speeding\",inplace=True)"
   ]
  },
  {
   "cell_type": "code",
   "execution_count": 93,
   "id": "e5f4d6cc",
   "metadata": {
    "scrolled": true
   },
   "outputs": [
    {
     "data": {
      "text/plain": [
       "stop_date                0\n",
       "stop_time                0\n",
       "driver_gender            0\n",
       "driver_age_raw        4054\n",
       "driver_age               0\n",
       "driver_race              0\n",
       "violation_raw            0\n",
       "violation             4060\n",
       "search_conducted         0\n",
       "stop_outcome          4060\n",
       "is_arrested           4060\n",
       "stop_duration         4060\n",
       "drugs_related_stop       0\n",
       "dtype: int64"
      ]
     },
     "execution_count": 93,
     "metadata": {},
     "output_type": "execute_result"
    }
   ],
   "source": [
    "df.isnull().sum()"
   ]
  },
  {
   "cell_type": "code",
   "execution_count": 94,
   "id": "55146491",
   "metadata": {},
   "outputs": [
    {
     "data": {
      "text/plain": [
       "array(['Speeding', 'Other', 'Equipment', 'Moving violation', nan,\n",
       "       'Registration/plates', 'Seat belt'], dtype=object)"
      ]
     },
     "execution_count": 94,
     "metadata": {},
     "output_type": "execute_result"
    }
   ],
   "source": [
    "df[\"violation\"].unique()"
   ]
  },
  {
   "cell_type": "code",
   "execution_count": 95,
   "id": "bb23bbb0",
   "metadata": {
    "scrolled": true
   },
   "outputs": [
    {
     "data": {
      "text/plain": [
       "violation\n",
       "Speeding               37204\n",
       "Moving violation       11926\n",
       "Equipment               6516\n",
       "Other                   3583\n",
       "Registration/plates     2243\n",
       "Seat belt                  3\n",
       "Name: count, dtype: int64"
      ]
     },
     "execution_count": 95,
     "metadata": {},
     "output_type": "execute_result"
    }
   ],
   "source": [
    "df[\"violation\"].value_counts()"
   ]
  },
  {
   "cell_type": "code",
   "execution_count": 96,
   "id": "5bfea434",
   "metadata": {},
   "outputs": [],
   "source": [
    "df[\"violation\"].fillna(\"Speeding\",inplace=True)"
   ]
  },
  {
   "cell_type": "code",
   "execution_count": 97,
   "id": "0fd73d0f",
   "metadata": {},
   "outputs": [
    {
     "data": {
      "text/plain": [
       "stop_date                0\n",
       "stop_time                0\n",
       "driver_gender            0\n",
       "driver_age_raw        4054\n",
       "driver_age               0\n",
       "driver_race              0\n",
       "violation_raw            0\n",
       "violation                0\n",
       "search_conducted         0\n",
       "stop_outcome          4060\n",
       "is_arrested           4060\n",
       "stop_duration         4060\n",
       "drugs_related_stop       0\n",
       "dtype: int64"
      ]
     },
     "execution_count": 97,
     "metadata": {},
     "output_type": "execute_result"
    }
   ],
   "source": [
    "df.isnull().sum()"
   ]
  },
  {
   "cell_type": "code",
   "execution_count": 98,
   "id": "c4090796",
   "metadata": {
    "scrolled": true
   },
   "outputs": [
    {
     "data": {
      "text/plain": [
       "array(['Citation', 'Arrest Driver', nan, 'N/D', 'Warning',\n",
       "       'Arrest Passenger', 'No Action'], dtype=object)"
      ]
     },
     "execution_count": 98,
     "metadata": {},
     "output_type": "execute_result"
    }
   ],
   "source": [
    "df[\"stop_outcome\"].unique()"
   ]
  },
  {
   "cell_type": "code",
   "execution_count": 99,
   "id": "bcf6f2e6",
   "metadata": {
    "scrolled": true
   },
   "outputs": [
    {
     "data": {
      "text/plain": [
       "stop_outcome\n",
       "Citation            56564\n",
       "Arrest Driver        2009\n",
       "Warning              1889\n",
       "N/D                   423\n",
       "No Action             339\n",
       "Arrest Passenger      251\n",
       "Name: count, dtype: int64"
      ]
     },
     "execution_count": 99,
     "metadata": {},
     "output_type": "execute_result"
    }
   ],
   "source": [
    "df[\"stop_outcome\"].value_counts()"
   ]
  },
  {
   "cell_type": "code",
   "execution_count": 100,
   "id": "18aca4ca",
   "metadata": {},
   "outputs": [],
   "source": [
    "df[\"stop_outcome\"].fillna(\"Citation\",inplace=True)"
   ]
  },
  {
   "cell_type": "code",
   "execution_count": 101,
   "id": "f9943fe4",
   "metadata": {
    "scrolled": true
   },
   "outputs": [
    {
     "data": {
      "text/plain": [
       "stop_date                0\n",
       "stop_time                0\n",
       "driver_gender            0\n",
       "driver_age_raw        4054\n",
       "driver_age               0\n",
       "driver_race              0\n",
       "violation_raw            0\n",
       "violation                0\n",
       "search_conducted         0\n",
       "stop_outcome             0\n",
       "is_arrested           4060\n",
       "stop_duration         4060\n",
       "drugs_related_stop       0\n",
       "dtype: int64"
      ]
     },
     "execution_count": 101,
     "metadata": {},
     "output_type": "execute_result"
    }
   ],
   "source": [
    "df.isnull().sum()"
   ]
  },
  {
   "cell_type": "code",
   "execution_count": 102,
   "id": "d5dde19c",
   "metadata": {},
   "outputs": [
    {
     "data": {
      "text/plain": [
       "array([False, True, nan], dtype=object)"
      ]
     },
     "execution_count": 102,
     "metadata": {},
     "output_type": "execute_result"
    }
   ],
   "source": [
    "df[\"is_arrested\"].unique()"
   ]
  },
  {
   "cell_type": "code",
   "execution_count": 103,
   "id": "0f8a6213",
   "metadata": {
    "scrolled": true
   },
   "outputs": [
    {
     "data": {
      "text/plain": [
       "is_arrested\n",
       "False    59215\n",
       "True      2260\n",
       "Name: count, dtype: int64"
      ]
     },
     "execution_count": 103,
     "metadata": {},
     "output_type": "execute_result"
    }
   ],
   "source": [
    "df[\"is_arrested\"].value_counts()"
   ]
  },
  {
   "cell_type": "code",
   "execution_count": 104,
   "id": "c7187d9b",
   "metadata": {},
   "outputs": [],
   "source": [
    "df[\"is_arrested\"].fillna(\"False\",inplace=True)"
   ]
  },
  {
   "cell_type": "code",
   "execution_count": 105,
   "id": "3c107a9b",
   "metadata": {
    "scrolled": true
   },
   "outputs": [
    {
     "data": {
      "text/plain": [
       "stop_date                0\n",
       "stop_time                0\n",
       "driver_gender            0\n",
       "driver_age_raw        4054\n",
       "driver_age               0\n",
       "driver_race              0\n",
       "violation_raw            0\n",
       "violation                0\n",
       "search_conducted         0\n",
       "stop_outcome             0\n",
       "is_arrested              0\n",
       "stop_duration         4060\n",
       "drugs_related_stop       0\n",
       "dtype: int64"
      ]
     },
     "execution_count": 105,
     "metadata": {},
     "output_type": "execute_result"
    }
   ],
   "source": [
    "df.isnull().sum()"
   ]
  },
  {
   "cell_type": "code",
   "execution_count": 106,
   "id": "7121cff8",
   "metadata": {},
   "outputs": [
    {
     "data": {
      "text/plain": [
       "array(['0-15 Min', '16-30 Min', '30+ Min', nan, '2'], dtype=object)"
      ]
     },
     "execution_count": 106,
     "metadata": {},
     "output_type": "execute_result"
    }
   ],
   "source": [
    "df[\"stop_duration\"].unique()"
   ]
  },
  {
   "cell_type": "code",
   "execution_count": 107,
   "id": "fef836ef",
   "metadata": {
    "scrolled": false
   },
   "outputs": [
    {
     "data": {
      "text/plain": [
       "stop_duration\n",
       "0-15 Min     47379\n",
       "16-30 Min    11448\n",
       "30+ Min       2647\n",
       "2                1\n",
       "Name: count, dtype: int64"
      ]
     },
     "execution_count": 107,
     "metadata": {},
     "output_type": "execute_result"
    }
   ],
   "source": [
    "df[\"stop_duration\"].value_counts()"
   ]
  },
  {
   "cell_type": "code",
   "execution_count": 108,
   "id": "cab235d3",
   "metadata": {},
   "outputs": [],
   "source": [
    "df[\"stop_duration\"].fillna(\"0-15 Min\",inplace=True)"
   ]
  },
  {
   "cell_type": "code",
   "execution_count": 109,
   "id": "45a47a22",
   "metadata": {
    "scrolled": true
   },
   "outputs": [
    {
     "data": {
      "text/plain": [
       "stop_date                0\n",
       "stop_time                0\n",
       "driver_gender            0\n",
       "driver_age_raw        4054\n",
       "driver_age               0\n",
       "driver_race              0\n",
       "violation_raw            0\n",
       "violation                0\n",
       "search_conducted         0\n",
       "stop_outcome             0\n",
       "is_arrested              0\n",
       "stop_duration            0\n",
       "drugs_related_stop       0\n",
       "dtype: int64"
      ]
     },
     "execution_count": 109,
     "metadata": {},
     "output_type": "execute_result"
    }
   ],
   "source": [
    "df.isnull().sum()"
   ]
  },
  {
   "cell_type": "code",
   "execution_count": 110,
   "id": "bda8e263",
   "metadata": {
    "scrolled": true
   },
   "outputs": [
    {
     "data": {
      "text/plain": [
       "array([1985., 1965., 1972., 1986., 1984., 1982., 1969., 1970., 1979.,\n",
       "       1966., 1955., 1958., 1953., 1967.,   nan, 1964., 1977., 1959.,\n",
       "       1973., 1947., 1978., 1962., 1981., 1988., 1983., 1961., 1957.,\n",
       "       1971., 1950., 1954., 1960., 1976., 1974., 1968., 1938., 1980.,\n",
       "       1963., 1975., 1987., 1948., 1956., 1944., 1935.,    0., 1952.,\n",
       "       1945., 1946., 1941., 1942., 1951., 1949., 2005., 1939., 1943.,\n",
       "       1936., 1924., 1937., 1929., 1930., 1931., 1923., 1940., 1933.,\n",
       "       1989., 1928., 1932., 1990., 1926., 2006., 1927., 1997., 1934.,\n",
       "       1887., 1925., 1918., 2004., 1991., 2002., 2007., 1992., 8801.,\n",
       "       2001., 2003., 1998., 1922., 1993., 2008., 2009., 2919., 2000.,\n",
       "       1994., 1995., 2011., 1996.])"
      ]
     },
     "execution_count": 110,
     "metadata": {},
     "output_type": "execute_result"
    }
   ],
   "source": [
    "df[\"driver_age_raw\"].unique()"
   ]
  },
  {
   "cell_type": "code",
   "execution_count": 111,
   "id": "b1ae1367",
   "metadata": {
    "scrolled": true
   },
   "outputs": [
    {
     "data": {
      "text/plain": [
       "driver_age_raw\n",
       "1986.0    2702\n",
       "1987.0    2645\n",
       "1985.0    2630\n",
       "1988.0    2588\n",
       "1983.0    2339\n",
       "          ... \n",
       "2000.0       1\n",
       "8801.0       1\n",
       "2002.0       1\n",
       "2011.0       1\n",
       "1918.0       1\n",
       "Name: count, Length: 93, dtype: int64"
      ]
     },
     "execution_count": 111,
     "metadata": {},
     "output_type": "execute_result"
    }
   ],
   "source": [
    "df[\"driver_age_raw\"].value_counts()"
   ]
  },
  {
   "cell_type": "code",
   "execution_count": 112,
   "id": "13e5247d",
   "metadata": {},
   "outputs": [
    {
     "data": {
      "text/plain": [
       "1967.79110619541"
      ]
     },
     "execution_count": 112,
     "metadata": {},
     "output_type": "execute_result"
    }
   ],
   "source": [
    "df[\"driver_age_raw\"].mean()"
   ]
  },
  {
   "cell_type": "code",
   "execution_count": 113,
   "id": "6c7f9754",
   "metadata": {},
   "outputs": [
    {
     "data": {
      "text/plain": [
       "1978.0"
      ]
     },
     "execution_count": 113,
     "metadata": {},
     "output_type": "execute_result"
    }
   ],
   "source": [
    "df[\"driver_age_raw\"].median()"
   ]
  },
  {
   "cell_type": "code",
   "execution_count": 114,
   "id": "5e415070",
   "metadata": {},
   "outputs": [],
   "source": [
    "df[\"driver_age_raw\"].fillna(1986,inplace=True)"
   ]
  },
  {
   "cell_type": "code",
   "execution_count": 115,
   "id": "038fdcde",
   "metadata": {
    "scrolled": false
   },
   "outputs": [
    {
     "data": {
      "text/plain": [
       "stop_date             0\n",
       "stop_time             0\n",
       "driver_gender         0\n",
       "driver_age_raw        0\n",
       "driver_age            0\n",
       "driver_race           0\n",
       "violation_raw         0\n",
       "violation             0\n",
       "search_conducted      0\n",
       "stop_outcome          0\n",
       "is_arrested           0\n",
       "stop_duration         0\n",
       "drugs_related_stop    0\n",
       "dtype: int64"
      ]
     },
     "execution_count": 115,
     "metadata": {},
     "output_type": "execute_result"
    }
   ],
   "source": [
    "df.isnull().sum()"
   ]
  },
  {
   "cell_type": "markdown",
   "id": "6235bfe2",
   "metadata": {},
   "source": [
    "# Q 2\n",
    "Q. 2) Question ( Based on Filtering + Value Counts ) - For Speeding , were Men or Women stopped more often ? "
   ]
  },
  {
   "cell_type": "code",
   "execution_count": 116,
   "id": "ef236e06",
   "metadata": {},
   "outputs": [
    {
     "data": {
      "text/plain": [
       "driver_gender\n",
       "M    29578\n",
       "F    11686\n",
       "Name: count, dtype: int64"
      ]
     },
     "execution_count": 116,
     "metadata": {},
     "output_type": "execute_result"
    }
   ],
   "source": [
    "df[df[\"violation\"]==\"Speeding\"].driver_gender.value_counts()"
   ]
  },
  {
   "cell_type": "markdown",
   "id": "7e7c2004",
   "metadata": {},
   "source": [
    "# Q 3\n",
    "Q. 3) Question ( Groupby ) - Does gender affect who gets searched during a stop ?\n",
    "Question ( mapping + data-type casting )"
   ]
  },
  {
   "cell_type": "code",
   "execution_count": 117,
   "id": "a8c4261b",
   "metadata": {},
   "outputs": [
    {
     "data": {
      "text/html": [
       "<div>\n",
       "<style scoped>\n",
       "    .dataframe tbody tr th:only-of-type {\n",
       "        vertical-align: middle;\n",
       "    }\n",
       "\n",
       "    .dataframe tbody tr th {\n",
       "        vertical-align: top;\n",
       "    }\n",
       "\n",
       "    .dataframe thead th {\n",
       "        text-align: right;\n",
       "    }\n",
       "</style>\n",
       "<table border=\"1\" class=\"dataframe\">\n",
       "  <thead>\n",
       "    <tr style=\"text-align: right;\">\n",
       "      <th></th>\n",
       "      <th>stop_date</th>\n",
       "      <th>stop_time</th>\n",
       "      <th>driver_gender</th>\n",
       "      <th>driver_age_raw</th>\n",
       "      <th>driver_age</th>\n",
       "      <th>driver_race</th>\n",
       "      <th>violation_raw</th>\n",
       "      <th>violation</th>\n",
       "      <th>search_conducted</th>\n",
       "      <th>stop_outcome</th>\n",
       "      <th>is_arrested</th>\n",
       "      <th>stop_duration</th>\n",
       "      <th>drugs_related_stop</th>\n",
       "    </tr>\n",
       "  </thead>\n",
       "  <tbody>\n",
       "    <tr>\n",
       "      <th>0</th>\n",
       "      <td>1/2/2005</td>\n",
       "      <td>1:55</td>\n",
       "      <td>M</td>\n",
       "      <td>1985.0</td>\n",
       "      <td>20.0</td>\n",
       "      <td>White</td>\n",
       "      <td>Speeding</td>\n",
       "      <td>Speeding</td>\n",
       "      <td>False</td>\n",
       "      <td>Citation</td>\n",
       "      <td>False</td>\n",
       "      <td>0-15 Min</td>\n",
       "      <td>False</td>\n",
       "    </tr>\n",
       "    <tr>\n",
       "      <th>1</th>\n",
       "      <td>1/18/2005</td>\n",
       "      <td>8:15</td>\n",
       "      <td>M</td>\n",
       "      <td>1965.0</td>\n",
       "      <td>40.0</td>\n",
       "      <td>White</td>\n",
       "      <td>Speeding</td>\n",
       "      <td>Speeding</td>\n",
       "      <td>False</td>\n",
       "      <td>Citation</td>\n",
       "      <td>False</td>\n",
       "      <td>0-15 Min</td>\n",
       "      <td>False</td>\n",
       "    </tr>\n",
       "    <tr>\n",
       "      <th>2</th>\n",
       "      <td>1/23/2005</td>\n",
       "      <td>23:15</td>\n",
       "      <td>M</td>\n",
       "      <td>1972.0</td>\n",
       "      <td>33.0</td>\n",
       "      <td>White</td>\n",
       "      <td>Speeding</td>\n",
       "      <td>Speeding</td>\n",
       "      <td>False</td>\n",
       "      <td>Citation</td>\n",
       "      <td>False</td>\n",
       "      <td>0-15 Min</td>\n",
       "      <td>False</td>\n",
       "    </tr>\n",
       "    <tr>\n",
       "      <th>3</th>\n",
       "      <td>2/20/2005</td>\n",
       "      <td>17:15</td>\n",
       "      <td>M</td>\n",
       "      <td>1986.0</td>\n",
       "      <td>19.0</td>\n",
       "      <td>White</td>\n",
       "      <td>Call for Service</td>\n",
       "      <td>Other</td>\n",
       "      <td>False</td>\n",
       "      <td>Arrest Driver</td>\n",
       "      <td>True</td>\n",
       "      <td>16-30 Min</td>\n",
       "      <td>False</td>\n",
       "    </tr>\n",
       "    <tr>\n",
       "      <th>4</th>\n",
       "      <td>3/14/2005</td>\n",
       "      <td>10:00</td>\n",
       "      <td>F</td>\n",
       "      <td>1984.0</td>\n",
       "      <td>21.0</td>\n",
       "      <td>White</td>\n",
       "      <td>Speeding</td>\n",
       "      <td>Speeding</td>\n",
       "      <td>False</td>\n",
       "      <td>Citation</td>\n",
       "      <td>False</td>\n",
       "      <td>0-15 Min</td>\n",
       "      <td>False</td>\n",
       "    </tr>\n",
       "    <tr>\n",
       "      <th>...</th>\n",
       "      <td>...</td>\n",
       "      <td>...</td>\n",
       "      <td>...</td>\n",
       "      <td>...</td>\n",
       "      <td>...</td>\n",
       "      <td>...</td>\n",
       "      <td>...</td>\n",
       "      <td>...</td>\n",
       "      <td>...</td>\n",
       "      <td>...</td>\n",
       "      <td>...</td>\n",
       "      <td>...</td>\n",
       "      <td>...</td>\n",
       "    </tr>\n",
       "    <tr>\n",
       "      <th>65530</th>\n",
       "      <td>12/6/2012</td>\n",
       "      <td>17:54</td>\n",
       "      <td>F</td>\n",
       "      <td>1987.0</td>\n",
       "      <td>25.0</td>\n",
       "      <td>White</td>\n",
       "      <td>Speeding</td>\n",
       "      <td>Speeding</td>\n",
       "      <td>False</td>\n",
       "      <td>Citation</td>\n",
       "      <td>False</td>\n",
       "      <td>0-15 Min</td>\n",
       "      <td>False</td>\n",
       "    </tr>\n",
       "    <tr>\n",
       "      <th>65531</th>\n",
       "      <td>12/6/2012</td>\n",
       "      <td>22:22</td>\n",
       "      <td>M</td>\n",
       "      <td>1954.0</td>\n",
       "      <td>58.0</td>\n",
       "      <td>White</td>\n",
       "      <td>Speeding</td>\n",
       "      <td>Speeding</td>\n",
       "      <td>False</td>\n",
       "      <td>Warning</td>\n",
       "      <td>False</td>\n",
       "      <td>0-15 Min</td>\n",
       "      <td>False</td>\n",
       "    </tr>\n",
       "    <tr>\n",
       "      <th>65532</th>\n",
       "      <td>12/6/2012</td>\n",
       "      <td>23:20</td>\n",
       "      <td>M</td>\n",
       "      <td>1985.0</td>\n",
       "      <td>27.0</td>\n",
       "      <td>Black</td>\n",
       "      <td>Equipment/Inspection Violation</td>\n",
       "      <td>Equipment</td>\n",
       "      <td>False</td>\n",
       "      <td>Citation</td>\n",
       "      <td>False</td>\n",
       "      <td>0-15 Min</td>\n",
       "      <td>False</td>\n",
       "    </tr>\n",
       "    <tr>\n",
       "      <th>65533</th>\n",
       "      <td>12/7/2012</td>\n",
       "      <td>0:23</td>\n",
       "      <td>M</td>\n",
       "      <td>1986.0</td>\n",
       "      <td>31.0</td>\n",
       "      <td>White</td>\n",
       "      <td>Speeding</td>\n",
       "      <td>Speeding</td>\n",
       "      <td>False</td>\n",
       "      <td>Citation</td>\n",
       "      <td>False</td>\n",
       "      <td>0-15 Min</td>\n",
       "      <td>False</td>\n",
       "    </tr>\n",
       "    <tr>\n",
       "      <th>65534</th>\n",
       "      <td>12/7/2012</td>\n",
       "      <td>0:30</td>\n",
       "      <td>F</td>\n",
       "      <td>1985.0</td>\n",
       "      <td>27.0</td>\n",
       "      <td>White</td>\n",
       "      <td>Speeding</td>\n",
       "      <td>Speeding</td>\n",
       "      <td>False</td>\n",
       "      <td>Citation</td>\n",
       "      <td>False</td>\n",
       "      <td>0-15 Min</td>\n",
       "      <td>False</td>\n",
       "    </tr>\n",
       "  </tbody>\n",
       "</table>\n",
       "<p>65535 rows × 13 columns</p>\n",
       "</div>"
      ],
      "text/plain": [
       "       stop_date stop_time driver_gender  driver_age_raw  driver_age  \\\n",
       "0       1/2/2005      1:55             M          1985.0        20.0   \n",
       "1      1/18/2005      8:15             M          1965.0        40.0   \n",
       "2      1/23/2005     23:15             M          1972.0        33.0   \n",
       "3      2/20/2005     17:15             M          1986.0        19.0   \n",
       "4      3/14/2005     10:00             F          1984.0        21.0   \n",
       "...          ...       ...           ...             ...         ...   \n",
       "65530  12/6/2012     17:54             F          1987.0        25.0   \n",
       "65531  12/6/2012     22:22             M          1954.0        58.0   \n",
       "65532  12/6/2012     23:20             M          1985.0        27.0   \n",
       "65533  12/7/2012      0:23             M          1986.0        31.0   \n",
       "65534  12/7/2012      0:30             F          1985.0        27.0   \n",
       "\n",
       "      driver_race                   violation_raw  violation  \\\n",
       "0           White                        Speeding   Speeding   \n",
       "1           White                        Speeding   Speeding   \n",
       "2           White                        Speeding   Speeding   \n",
       "3           White                Call for Service      Other   \n",
       "4           White                        Speeding   Speeding   \n",
       "...           ...                             ...        ...   \n",
       "65530       White                        Speeding   Speeding   \n",
       "65531       White                        Speeding   Speeding   \n",
       "65532       Black  Equipment/Inspection Violation  Equipment   \n",
       "65533       White                        Speeding   Speeding   \n",
       "65534       White                        Speeding   Speeding   \n",
       "\n",
       "       search_conducted   stop_outcome is_arrested stop_duration  \\\n",
       "0                 False       Citation       False      0-15 Min   \n",
       "1                 False       Citation       False      0-15 Min   \n",
       "2                 False       Citation       False      0-15 Min   \n",
       "3                 False  Arrest Driver        True     16-30 Min   \n",
       "4                 False       Citation       False      0-15 Min   \n",
       "...                 ...            ...         ...           ...   \n",
       "65530             False       Citation       False      0-15 Min   \n",
       "65531             False        Warning       False      0-15 Min   \n",
       "65532             False       Citation       False      0-15 Min   \n",
       "65533             False       Citation       False      0-15 Min   \n",
       "65534             False       Citation       False      0-15 Min   \n",
       "\n",
       "       drugs_related_stop  \n",
       "0                   False  \n",
       "1                   False  \n",
       "2                   False  \n",
       "3                   False  \n",
       "4                   False  \n",
       "...                   ...  \n",
       "65530               False  \n",
       "65531               False  \n",
       "65532               False  \n",
       "65533               False  \n",
       "65534               False  \n",
       "\n",
       "[65535 rows x 13 columns]"
      ]
     },
     "execution_count": 117,
     "metadata": {},
     "output_type": "execute_result"
    }
   ],
   "source": [
    "df"
   ]
  },
  {
   "cell_type": "code",
   "execution_count": 118,
   "id": "480803ba",
   "metadata": {},
   "outputs": [
    {
     "data": {
      "text/plain": [
       "driver_gender\n",
       "F     366\n",
       "M    2113\n",
       "Name: search_conducted, dtype: int64"
      ]
     },
     "execution_count": 118,
     "metadata": {},
     "output_type": "execute_result"
    }
   ],
   "source": [
    "df.groupby(\"driver_gender\").search_conducted.sum()"
   ]
  },
  {
   "cell_type": "code",
   "execution_count": 119,
   "id": "86b0138f",
   "metadata": {
    "scrolled": true
   },
   "outputs": [
    {
     "data": {
      "text/plain": [
       "search_conducted\n",
       "False    63056\n",
       "True      2479\n",
       "Name: count, dtype: int64"
      ]
     },
     "execution_count": 119,
     "metadata": {},
     "output_type": "execute_result"
    }
   ],
   "source": [
    "df.search_conducted.value_counts()"
   ]
  },
  {
   "cell_type": "markdown",
   "id": "283f6376",
   "metadata": {},
   "source": [
    "# Q 4\n",
    "Q. 4) Question ( mapping + data-type casting ) - What is the mean stop_duration ?"
   ]
  },
  {
   "cell_type": "code",
   "execution_count": 120,
   "id": "c52dcf28",
   "metadata": {},
   "outputs": [
    {
     "data": {
      "text/plain": [
       "stop_duration\n",
       "0-15 Min     51439\n",
       "16-30 Min    11448\n",
       "30+ Min       2647\n",
       "2                1\n",
       "Name: count, dtype: int64"
      ]
     },
     "execution_count": 120,
     "metadata": {},
     "output_type": "execute_result"
    }
   ],
   "source": [
    "df[\"stop_duration\"].value_counts()"
   ]
  },
  {
   "cell_type": "code",
   "execution_count": 121,
   "id": "bb48dcc1",
   "metadata": {},
   "outputs": [],
   "source": [
    "df[\"stop_duration\"] = df[\"stop_duration\"].map({\"0-15 Min\":7.5, \"16-30 Min\": 24.5, \"30+ Min\":45})"
   ]
  },
  {
   "cell_type": "code",
   "execution_count": 122,
   "id": "5584744f",
   "metadata": {},
   "outputs": [
    {
     "data": {
      "text/plain": [
       "11.98436689352092"
      ]
     },
     "execution_count": 122,
     "metadata": {},
     "output_type": "execute_result"
    }
   ],
   "source": [
    "df[\"stop_duration\"].mean()"
   ]
  },
  {
   "cell_type": "code",
   "execution_count": 123,
   "id": "d5692de5",
   "metadata": {
    "scrolled": true
   },
   "outputs": [
    {
     "data": {
      "text/plain": [
       "stop_date              object\n",
       "stop_time              object\n",
       "driver_gender          object\n",
       "driver_age_raw        float64\n",
       "driver_age            float64\n",
       "driver_race            object\n",
       "violation_raw          object\n",
       "violation              object\n",
       "search_conducted         bool\n",
       "stop_outcome           object\n",
       "is_arrested            object\n",
       "stop_duration         float64\n",
       "drugs_related_stop       bool\n",
       "dtype: object"
      ]
     },
     "execution_count": 123,
     "metadata": {},
     "output_type": "execute_result"
    }
   ],
   "source": [
    "df.dtypes"
   ]
  },
  {
   "cell_type": "markdown",
   "id": "159ffb3d",
   "metadata": {},
   "source": [
    "# Q 5\n",
    "Q. 5) Question ( Groupby , Describe ) - Compare the age distributions for each violation."
   ]
  },
  {
   "cell_type": "code",
   "execution_count": 124,
   "id": "3f6d00a3",
   "metadata": {},
   "outputs": [
    {
     "data": {
      "text/html": [
       "<div>\n",
       "<style scoped>\n",
       "    .dataframe tbody tr th:only-of-type {\n",
       "        vertical-align: middle;\n",
       "    }\n",
       "\n",
       "    .dataframe tbody tr th {\n",
       "        vertical-align: top;\n",
       "    }\n",
       "\n",
       "    .dataframe thead th {\n",
       "        text-align: right;\n",
       "    }\n",
       "</style>\n",
       "<table border=\"1\" class=\"dataframe\">\n",
       "  <thead>\n",
       "    <tr style=\"text-align: right;\">\n",
       "      <th></th>\n",
       "      <th>stop_date</th>\n",
       "      <th>stop_time</th>\n",
       "      <th>driver_gender</th>\n",
       "      <th>driver_age_raw</th>\n",
       "      <th>driver_age</th>\n",
       "      <th>driver_race</th>\n",
       "      <th>violation_raw</th>\n",
       "      <th>violation</th>\n",
       "      <th>search_conducted</th>\n",
       "      <th>stop_outcome</th>\n",
       "      <th>is_arrested</th>\n",
       "      <th>stop_duration</th>\n",
       "      <th>drugs_related_stop</th>\n",
       "    </tr>\n",
       "  </thead>\n",
       "  <tbody>\n",
       "    <tr>\n",
       "      <th>0</th>\n",
       "      <td>1/2/2005</td>\n",
       "      <td>1:55</td>\n",
       "      <td>M</td>\n",
       "      <td>1985.0</td>\n",
       "      <td>20.0</td>\n",
       "      <td>White</td>\n",
       "      <td>Speeding</td>\n",
       "      <td>Speeding</td>\n",
       "      <td>False</td>\n",
       "      <td>Citation</td>\n",
       "      <td>False</td>\n",
       "      <td>7.5</td>\n",
       "      <td>False</td>\n",
       "    </tr>\n",
       "    <tr>\n",
       "      <th>1</th>\n",
       "      <td>1/18/2005</td>\n",
       "      <td>8:15</td>\n",
       "      <td>M</td>\n",
       "      <td>1965.0</td>\n",
       "      <td>40.0</td>\n",
       "      <td>White</td>\n",
       "      <td>Speeding</td>\n",
       "      <td>Speeding</td>\n",
       "      <td>False</td>\n",
       "      <td>Citation</td>\n",
       "      <td>False</td>\n",
       "      <td>7.5</td>\n",
       "      <td>False</td>\n",
       "    </tr>\n",
       "    <tr>\n",
       "      <th>2</th>\n",
       "      <td>1/23/2005</td>\n",
       "      <td>23:15</td>\n",
       "      <td>M</td>\n",
       "      <td>1972.0</td>\n",
       "      <td>33.0</td>\n",
       "      <td>White</td>\n",
       "      <td>Speeding</td>\n",
       "      <td>Speeding</td>\n",
       "      <td>False</td>\n",
       "      <td>Citation</td>\n",
       "      <td>False</td>\n",
       "      <td>7.5</td>\n",
       "      <td>False</td>\n",
       "    </tr>\n",
       "    <tr>\n",
       "      <th>3</th>\n",
       "      <td>2/20/2005</td>\n",
       "      <td>17:15</td>\n",
       "      <td>M</td>\n",
       "      <td>1986.0</td>\n",
       "      <td>19.0</td>\n",
       "      <td>White</td>\n",
       "      <td>Call for Service</td>\n",
       "      <td>Other</td>\n",
       "      <td>False</td>\n",
       "      <td>Arrest Driver</td>\n",
       "      <td>True</td>\n",
       "      <td>24.5</td>\n",
       "      <td>False</td>\n",
       "    </tr>\n",
       "    <tr>\n",
       "      <th>4</th>\n",
       "      <td>3/14/2005</td>\n",
       "      <td>10:00</td>\n",
       "      <td>F</td>\n",
       "      <td>1984.0</td>\n",
       "      <td>21.0</td>\n",
       "      <td>White</td>\n",
       "      <td>Speeding</td>\n",
       "      <td>Speeding</td>\n",
       "      <td>False</td>\n",
       "      <td>Citation</td>\n",
       "      <td>False</td>\n",
       "      <td>7.5</td>\n",
       "      <td>False</td>\n",
       "    </tr>\n",
       "    <tr>\n",
       "      <th>...</th>\n",
       "      <td>...</td>\n",
       "      <td>...</td>\n",
       "      <td>...</td>\n",
       "      <td>...</td>\n",
       "      <td>...</td>\n",
       "      <td>...</td>\n",
       "      <td>...</td>\n",
       "      <td>...</td>\n",
       "      <td>...</td>\n",
       "      <td>...</td>\n",
       "      <td>...</td>\n",
       "      <td>...</td>\n",
       "      <td>...</td>\n",
       "    </tr>\n",
       "    <tr>\n",
       "      <th>65530</th>\n",
       "      <td>12/6/2012</td>\n",
       "      <td>17:54</td>\n",
       "      <td>F</td>\n",
       "      <td>1987.0</td>\n",
       "      <td>25.0</td>\n",
       "      <td>White</td>\n",
       "      <td>Speeding</td>\n",
       "      <td>Speeding</td>\n",
       "      <td>False</td>\n",
       "      <td>Citation</td>\n",
       "      <td>False</td>\n",
       "      <td>7.5</td>\n",
       "      <td>False</td>\n",
       "    </tr>\n",
       "    <tr>\n",
       "      <th>65531</th>\n",
       "      <td>12/6/2012</td>\n",
       "      <td>22:22</td>\n",
       "      <td>M</td>\n",
       "      <td>1954.0</td>\n",
       "      <td>58.0</td>\n",
       "      <td>White</td>\n",
       "      <td>Speeding</td>\n",
       "      <td>Speeding</td>\n",
       "      <td>False</td>\n",
       "      <td>Warning</td>\n",
       "      <td>False</td>\n",
       "      <td>7.5</td>\n",
       "      <td>False</td>\n",
       "    </tr>\n",
       "    <tr>\n",
       "      <th>65532</th>\n",
       "      <td>12/6/2012</td>\n",
       "      <td>23:20</td>\n",
       "      <td>M</td>\n",
       "      <td>1985.0</td>\n",
       "      <td>27.0</td>\n",
       "      <td>Black</td>\n",
       "      <td>Equipment/Inspection Violation</td>\n",
       "      <td>Equipment</td>\n",
       "      <td>False</td>\n",
       "      <td>Citation</td>\n",
       "      <td>False</td>\n",
       "      <td>7.5</td>\n",
       "      <td>False</td>\n",
       "    </tr>\n",
       "    <tr>\n",
       "      <th>65533</th>\n",
       "      <td>12/7/2012</td>\n",
       "      <td>0:23</td>\n",
       "      <td>M</td>\n",
       "      <td>1986.0</td>\n",
       "      <td>31.0</td>\n",
       "      <td>White</td>\n",
       "      <td>Speeding</td>\n",
       "      <td>Speeding</td>\n",
       "      <td>False</td>\n",
       "      <td>Citation</td>\n",
       "      <td>False</td>\n",
       "      <td>7.5</td>\n",
       "      <td>False</td>\n",
       "    </tr>\n",
       "    <tr>\n",
       "      <th>65534</th>\n",
       "      <td>12/7/2012</td>\n",
       "      <td>0:30</td>\n",
       "      <td>F</td>\n",
       "      <td>1985.0</td>\n",
       "      <td>27.0</td>\n",
       "      <td>White</td>\n",
       "      <td>Speeding</td>\n",
       "      <td>Speeding</td>\n",
       "      <td>False</td>\n",
       "      <td>Citation</td>\n",
       "      <td>False</td>\n",
       "      <td>7.5</td>\n",
       "      <td>False</td>\n",
       "    </tr>\n",
       "  </tbody>\n",
       "</table>\n",
       "<p>65535 rows × 13 columns</p>\n",
       "</div>"
      ],
      "text/plain": [
       "       stop_date stop_time driver_gender  driver_age_raw  driver_age  \\\n",
       "0       1/2/2005      1:55             M          1985.0        20.0   \n",
       "1      1/18/2005      8:15             M          1965.0        40.0   \n",
       "2      1/23/2005     23:15             M          1972.0        33.0   \n",
       "3      2/20/2005     17:15             M          1986.0        19.0   \n",
       "4      3/14/2005     10:00             F          1984.0        21.0   \n",
       "...          ...       ...           ...             ...         ...   \n",
       "65530  12/6/2012     17:54             F          1987.0        25.0   \n",
       "65531  12/6/2012     22:22             M          1954.0        58.0   \n",
       "65532  12/6/2012     23:20             M          1985.0        27.0   \n",
       "65533  12/7/2012      0:23             M          1986.0        31.0   \n",
       "65534  12/7/2012      0:30             F          1985.0        27.0   \n",
       "\n",
       "      driver_race                   violation_raw  violation  \\\n",
       "0           White                        Speeding   Speeding   \n",
       "1           White                        Speeding   Speeding   \n",
       "2           White                        Speeding   Speeding   \n",
       "3           White                Call for Service      Other   \n",
       "4           White                        Speeding   Speeding   \n",
       "...           ...                             ...        ...   \n",
       "65530       White                        Speeding   Speeding   \n",
       "65531       White                        Speeding   Speeding   \n",
       "65532       Black  Equipment/Inspection Violation  Equipment   \n",
       "65533       White                        Speeding   Speeding   \n",
       "65534       White                        Speeding   Speeding   \n",
       "\n",
       "       search_conducted   stop_outcome is_arrested  stop_duration  \\\n",
       "0                 False       Citation       False            7.5   \n",
       "1                 False       Citation       False            7.5   \n",
       "2                 False       Citation       False            7.5   \n",
       "3                 False  Arrest Driver        True           24.5   \n",
       "4                 False       Citation       False            7.5   \n",
       "...                 ...            ...         ...            ...   \n",
       "65530             False       Citation       False            7.5   \n",
       "65531             False        Warning       False            7.5   \n",
       "65532             False       Citation       False            7.5   \n",
       "65533             False       Citation       False            7.5   \n",
       "65534             False       Citation       False            7.5   \n",
       "\n",
       "       drugs_related_stop  \n",
       "0                   False  \n",
       "1                   False  \n",
       "2                   False  \n",
       "3                   False  \n",
       "4                   False  \n",
       "...                   ...  \n",
       "65530               False  \n",
       "65531               False  \n",
       "65532               False  \n",
       "65533               False  \n",
       "65534               False  \n",
       "\n",
       "[65535 rows x 13 columns]"
      ]
     },
     "execution_count": 124,
     "metadata": {},
     "output_type": "execute_result"
    }
   ],
   "source": [
    "df"
   ]
  },
  {
   "cell_type": "code",
   "execution_count": 125,
   "id": "3234b80b",
   "metadata": {},
   "outputs": [
    {
     "data": {
      "text/html": [
       "<div>\n",
       "<style scoped>\n",
       "    .dataframe tbody tr th:only-of-type {\n",
       "        vertical-align: middle;\n",
       "    }\n",
       "\n",
       "    .dataframe tbody tr th {\n",
       "        vertical-align: top;\n",
       "    }\n",
       "\n",
       "    .dataframe thead th {\n",
       "        text-align: right;\n",
       "    }\n",
       "</style>\n",
       "<table border=\"1\" class=\"dataframe\">\n",
       "  <thead>\n",
       "    <tr style=\"text-align: right;\">\n",
       "      <th></th>\n",
       "      <th>count</th>\n",
       "      <th>mean</th>\n",
       "      <th>std</th>\n",
       "      <th>min</th>\n",
       "      <th>25%</th>\n",
       "      <th>50%</th>\n",
       "      <th>75%</th>\n",
       "      <th>max</th>\n",
       "    </tr>\n",
       "    <tr>\n",
       "      <th>violation</th>\n",
       "      <th></th>\n",
       "      <th></th>\n",
       "      <th></th>\n",
       "      <th></th>\n",
       "      <th></th>\n",
       "      <th></th>\n",
       "      <th></th>\n",
       "      <th></th>\n",
       "    </tr>\n",
       "  </thead>\n",
       "  <tbody>\n",
       "    <tr>\n",
       "      <th>Equipment</th>\n",
       "      <td>6516.0</td>\n",
       "      <td>31.682014</td>\n",
       "      <td>11.372835</td>\n",
       "      <td>16.0</td>\n",
       "      <td>23.0</td>\n",
       "      <td>28.0</td>\n",
       "      <td>39.0</td>\n",
       "      <td>81.0</td>\n",
       "    </tr>\n",
       "    <tr>\n",
       "      <th>Moving violation</th>\n",
       "      <td>11926.0</td>\n",
       "      <td>36.712393</td>\n",
       "      <td>13.235717</td>\n",
       "      <td>15.0</td>\n",
       "      <td>25.0</td>\n",
       "      <td>35.0</td>\n",
       "      <td>46.0</td>\n",
       "      <td>86.0</td>\n",
       "    </tr>\n",
       "    <tr>\n",
       "      <th>Other</th>\n",
       "      <td>3583.0</td>\n",
       "      <td>40.085403</td>\n",
       "      <td>12.664064</td>\n",
       "      <td>16.0</td>\n",
       "      <td>30.0</td>\n",
       "      <td>40.0</td>\n",
       "      <td>49.5</td>\n",
       "      <td>86.0</td>\n",
       "    </tr>\n",
       "    <tr>\n",
       "      <th>Registration/plates</th>\n",
       "      <td>2243.0</td>\n",
       "      <td>32.654481</td>\n",
       "      <td>11.143481</td>\n",
       "      <td>16.0</td>\n",
       "      <td>24.0</td>\n",
       "      <td>30.0</td>\n",
       "      <td>40.0</td>\n",
       "      <td>74.0</td>\n",
       "    </tr>\n",
       "    <tr>\n",
       "      <th>Seat belt</th>\n",
       "      <td>3.0</td>\n",
       "      <td>30.333333</td>\n",
       "      <td>10.214369</td>\n",
       "      <td>23.0</td>\n",
       "      <td>24.5</td>\n",
       "      <td>26.0</td>\n",
       "      <td>34.0</td>\n",
       "      <td>42.0</td>\n",
       "    </tr>\n",
       "    <tr>\n",
       "      <th>Speeding</th>\n",
       "      <td>41264.0</td>\n",
       "      <td>33.035043</td>\n",
       "      <td>11.985260</td>\n",
       "      <td>15.0</td>\n",
       "      <td>23.0</td>\n",
       "      <td>31.0</td>\n",
       "      <td>40.0</td>\n",
       "      <td>88.0</td>\n",
       "    </tr>\n",
       "  </tbody>\n",
       "</table>\n",
       "</div>"
      ],
      "text/plain": [
       "                       count       mean        std   min   25%   50%   75%  \\\n",
       "violation                                                                    \n",
       "Equipment             6516.0  31.682014  11.372835  16.0  23.0  28.0  39.0   \n",
       "Moving violation     11926.0  36.712393  13.235717  15.0  25.0  35.0  46.0   \n",
       "Other                 3583.0  40.085403  12.664064  16.0  30.0  40.0  49.5   \n",
       "Registration/plates   2243.0  32.654481  11.143481  16.0  24.0  30.0  40.0   \n",
       "Seat belt                3.0  30.333333  10.214369  23.0  24.5  26.0  34.0   \n",
       "Speeding             41264.0  33.035043  11.985260  15.0  23.0  31.0  40.0   \n",
       "\n",
       "                      max  \n",
       "violation                  \n",
       "Equipment            81.0  \n",
       "Moving violation     86.0  \n",
       "Other                86.0  \n",
       "Registration/plates  74.0  \n",
       "Seat belt            42.0  \n",
       "Speeding             88.0  "
      ]
     },
     "execution_count": 125,
     "metadata": {},
     "output_type": "execute_result"
    }
   ],
   "source": [
    "df.groupby(\"violation\")[\"driver_age\"].describe()"
   ]
  }
 ],
 "metadata": {
  "kernelspec": {
   "display_name": "Python 3 (ipykernel)",
   "language": "python",
   "name": "python3"
  },
  "language_info": {
   "codemirror_mode": {
    "name": "ipython",
    "version": 3
   },
   "file_extension": ".py",
   "mimetype": "text/x-python",
   "name": "python",
   "nbconvert_exporter": "python",
   "pygments_lexer": "ipython3",
   "version": "3.11.5"
  }
 },
 "nbformat": 4,
 "nbformat_minor": 5
}
