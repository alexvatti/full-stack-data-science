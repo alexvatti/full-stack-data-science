{
 "cells": [
  {
   "cell_type": "markdown",
   "metadata": {
    "id": "sywvYJn4bHvQ"
   },
   "source": [
    "# Python break and continue Statements"
   ]
  },
  {
   "cell_type": "markdown",
   "metadata": {
    "id": "Nvwj3K2QbHvU"
   },
   "source": [
    "In Python, break and continue statements can alter the flow of a normal loop.\n",
    "\n",
    "Loops iterate over a block of code until test expression is false, but sometimes we wish to terminate the current iteration or even the whole loop without cheking test expression.\n",
    "\n",
    "The break and continue statements are used in these cases."
   ]
  },
  {
   "cell_type": "markdown",
   "metadata": {
    "id": "i3QBjhRtbHvV"
   },
   "source": [
    "# Python break Statement"
   ]
  },
  {
   "cell_type": "markdown",
   "metadata": {
    "id": "h6fXbdvObHvY"
   },
   "source": [
    "Syntax:\n",
    "    \n",
    "    break"
   ]
  },
  {
   "cell_type": "markdown",
   "metadata": {
    "id": "QcV9OkMjbHva"
   },
   "source": [
    "![title](break.jpg)"
   ]
  },
  {
   "cell_type": "markdown",
   "metadata": {
    "id": "021E6hkgbHvc"
   },
   "source": [
    "![title](break_works.jpg)"
   ]
  },
  {
   "cell_type": "markdown",
   "metadata": {
    "id": "C54FsONgbHve"
   },
   "source": [
    "# Example"
   ]
  },
  {
   "cell_type": "code",
   "execution_count": 1,
   "metadata": {
    "colab": {
     "base_uri": "https://localhost:8080/"
    },
    "executionInfo": {
     "elapsed": 321,
     "status": "ok",
     "timestamp": 1626366901814,
     "user": {
      "displayName": "Applied AI Course",
      "photoUrl": "https://lh3.googleusercontent.com/a-/AOh14GjjpR94Niu_srJxsFT_3bp9vDfqrjd2Zx94jDQdMg=s64",
      "userId": "06629147635963609455"
     },
     "user_tz": -330
    },
    "id": "mpNVa_wObHvg",
    "outputId": "6fa26db3-1a3a-4c6a-ffac-aa7f2a595b83"
   },
   "outputs": [
    {
     "name": "stdout",
     "output_type": "stream",
     "text": [
      "1\n",
      "2\n",
      "3\n",
      "5\n",
      "in the else-block\n",
      "Outside of for loop\n"
     ]
    }
   ],
   "source": [
    "numbers = [1, 2, 3, 4 ,5]\n",
    "for num in numbers:          #iterating over list\n",
    "    if num == 4:\n",
    "        continue\n",
    "    print(num)\n",
    "else:\n",
    "    print(\"in the else-block\")\n",
    "print(\"Outside of for loop\")"
   ]
  },
  {
   "cell_type": "markdown",
   "metadata": {
    "id": "RinedMWEbHvo"
   },
   "source": [
    "# Python Program to check given number is Prime number or not (using break)\n"
   ]
  },
  {
   "cell_type": "code",
   "execution_count": null,
   "metadata": {
    "id": "YMyA2u4JbHvp",
    "outputId": "2272293b-cf83-49ab-ff8d-1c698a2aec20"
   },
   "outputs": [
    {
     "name": "stdout",
     "output_type": "stream",
     "text": [
      "Enter a number: 16\n",
      "16 is divisible by 2\n",
      "16 is NOT a Prime number\n"
     ]
    }
   ],
   "source": [
    "num = int(input(\"Enter a number: \"))        #convert string to int\n",
    "\n",
    "\n",
    "isDivisible = False;\n",
    "\n",
    "i=2;\n",
    "while i < num:\n",
    "    if num % i == 0:\n",
    "        isDivisible = True;\n",
    "        print (\"{} is divisible by {}\".format(num,i) )\n",
    "        break; # this line is the only addition.\n",
    "    i += 1;\n",
    "    \n",
    "if isDivisible:\n",
    "    print(\"{} is NOT a Prime number\".format(num))\n",
    "else:\n",
    "    print(\"{} is a Prime number\".format(num))"
   ]
  },
  {
   "cell_type": "markdown",
   "metadata": {
    "id": "QO76VTitbHvt"
   },
   "source": [
    "# Python Continue Statement"
   ]
  },
  {
   "cell_type": "markdown",
   "metadata": {
    "id": "YiAeAbeDbHvt"
   },
   "source": [
    "syntax:\n",
    "    \n",
    "    continue"
   ]
  },
  {
   "cell_type": "markdown",
   "metadata": {
    "id": "fOQWieXrbHvv"
   },
   "source": [
    "# Flow Chart"
   ]
  },
  {
   "cell_type": "markdown",
   "metadata": {
    "id": "4efWz_0wbHvw"
   },
   "source": [
    "![title](continue.jpg)"
   ]
  },
  {
   "cell_type": "markdown",
   "metadata": {
    "id": "h3UBPJSMbHvw"
   },
   "source": [
    "![title](continue_works.jpg)"
   ]
  },
  {
   "cell_type": "markdown",
   "metadata": {
    "id": "Bdk9BNsebHvy"
   },
   "source": [
    "# Example"
   ]
  },
  {
   "cell_type": "code",
   "execution_count": 2,
   "metadata": {
    "id": "wuPT1JLvbHvz",
    "outputId": "63a7b7e1-70a8-490e-8850-a3ce70d2d90f"
   },
   "outputs": [
    {
     "name": "stdout",
     "output_type": "stream",
     "text": [
      "1\n",
      "3\n",
      "5\n",
      "else-block\n"
     ]
    }
   ],
   "source": [
    "#print odd numbers present in a list\n",
    "numbers = [1, 2, 3, 4, 5]\n",
    "\n",
    "for num in numbers:\n",
    "    if num % 2 == 0:\n",
    "        continue\n",
    "    print(num)\n",
    "else:\n",
    "    print(\"else-block\")"
   ]
  },
  {
   "cell_type": "code",
   "execution_count": null,
   "metadata": {
    "id": "29TGPUjnbHv3"
   },
   "outputs": [],
   "source": []
  }
 ],
 "metadata": {
  "colab": {
   "name": "break_continue.ipynb",
   "provenance": []
  },
  "kernelspec": {
   "display_name": "Python 3",
   "language": "python",
   "name": "python3"
  },
  "language_info": {
   "codemirror_mode": {
    "name": "ipython",
    "version": 3
   },
   "file_extension": ".py",
   "mimetype": "text/x-python",
   "name": "python",
   "nbconvert_exporter": "python",
   "pygments_lexer": "ipython3",
   "version": "3.6.9"
  }
 },
 "nbformat": 4,
 "nbformat_minor": 1
}
