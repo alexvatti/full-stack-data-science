{
 "cells": [
  {
   "cell_type": "markdown",
   "id": "e8011eb8-b505-420c-bb02-1db0277ca26a",
   "metadata": {},
   "source": [
    "## Pandas - Exercise\n",
    "Consider the following Python dictionary data and Python list labels"
   ]
  },
  {
   "cell_type": "code",
   "execution_count": 3,
   "id": "d4444fd0-6fb1-429a-865d-778f680df42d",
   "metadata": {},
   "outputs": [],
   "source": [
    "import pandas as pd\n",
    "import numpy as np\n",
    "\n",
    "data = {'birds': ['Cranes', 'Cranes', 'plovers', 'spoonbills', 'spoonbills', 'Cranes', 'plovers', 'Cranes', 'spoonbills', 'spoonbills'], 'age': [3.5, 4, 1.5, np.nan, 6, 3, 5.5, np.nan, 8, 4], 'visits': [2, 4, 3, 4, 3, 4, 2, 2, 3, 2], 'priority': ['yes', 'yes', 'no', 'yes', 'no', 'no', 'no', 'yes', 'no', 'no']}\n",
    "\n",
    "labels = ['a', 'b', 'c', 'd', 'e', 'f', 'g', 'h', 'i', 'j']"
   ]
  },
  {
   "cell_type": "code",
   "execution_count": 4,
   "id": "6f874039-0d39-470e-9d04-47b7d5f08955",
   "metadata": {},
   "outputs": [
    {
     "name": "stdout",
     "output_type": "stream",
     "text": [
      "        birds  age  visits priority\n",
      "a      Cranes  3.5       2      yes\n",
      "b      Cranes  4.0       4      yes\n",
      "c     plovers  1.5       3       no\n",
      "d  spoonbills  NaN       4      yes\n",
      "e  spoonbills  6.0       3       no\n",
      "f      Cranes  3.0       4       no\n",
      "g     plovers  5.5       2       no\n",
      "h      Cranes  NaN       2      yes\n",
      "i  spoonbills  8.0       3       no\n",
      "j  spoonbills  4.0       2       no\n"
     ]
    }
   ],
   "source": [
    "df = pd.DataFrame(data,index=labels)\n",
    "print(df)"
   ]
  },
  {
   "cell_type": "markdown",
   "id": "f2d7aacc-b9d5-4d18-b1b3-a49c46b31f6f",
   "metadata": {},
   "source": [
    "### Display a summary of the basic information about birds DataFrame and its data"
   ]
  },
  {
   "cell_type": "code",
   "execution_count": 4,
   "id": "f77b9d5c-4f31-4ec7-a28b-39f3f8af2b23",
   "metadata": {},
   "outputs": [
    {
     "name": "stdout",
     "output_type": "stream",
     "text": [
      "Top 5 Sample of dataset\n",
      "        birds  age  visits priority\n",
      "a      Cranes  3.5       2      yes\n",
      "b      Cranes  4.0       4      yes\n",
      "c     plovers  1.5       3       no\n",
      "d  spoonbills  NaN       4      yes\n",
      "e  spoonbills  6.0       3       no\n",
      "Bottom 5 Sample of dataset\n",
      "        birds  age  visits priority\n",
      "f      Cranes  3.0       4       no\n",
      "g     plovers  5.5       2       no\n",
      "h      Cranes  NaN       2      yes\n",
      "i  spoonbills  8.0       3       no\n",
      "j  spoonbills  4.0       2       no\n",
      "Column - Names of Given dataset\n",
      "Index(['birds', 'age', 'visits', 'priority'], dtype='object')\n",
      "\n",
      "Shape(rows x columns) - of Given dataset\n",
      "(10, 4)\n",
      "\n",
      "Data types - Column Names\n",
      "birds        object\n",
      "age         float64\n",
      "visits        int64\n",
      "priority     object\n",
      "dtype: object\n",
      "\n",
      "Summry of dataset\n",
      "<class 'pandas.core.frame.DataFrame'>\n",
      "Index: 10 entries, a to j\n",
      "Data columns (total 4 columns):\n",
      " #   Column    Non-Null Count  Dtype  \n",
      "---  ------    --------------  -----  \n",
      " 0   birds     10 non-null     object \n",
      " 1   age       8 non-null      float64\n",
      " 2   visits    10 non-null     int64  \n",
      " 3   priority  10 non-null     object \n",
      "dtypes: float64(1), int64(1), object(2)\n",
      "memory usage: 400.0+ bytes\n",
      "None\n",
      "\n",
      "To see the count of null/nan values in columns of dataset\n",
      "birds  age    visits  priority\n",
      "False  False  False   False       8\n",
      "       True   False   False       2\n",
      "Name: count, dtype: int64\n",
      "\n",
      "Dataset Summary \n",
      "            age     visits\n",
      "count  8.000000  10.000000\n",
      "mean   4.437500   2.900000\n",
      "std    2.007797   0.875595\n",
      "min    1.500000   2.000000\n",
      "25%    3.375000   2.000000\n",
      "50%    4.000000   3.000000\n",
      "75%    5.625000   3.750000\n",
      "max    8.000000   4.000000\n",
      "\n",
      "['Cranes' 'plovers' 'spoonbills']\n"
     ]
    }
   ],
   "source": [
    "def basic_inspection(table):\n",
    "    print(\"Top 5 Sample of dataset\")\n",
    "    print(table.head())\n",
    "    print(\"Bottom 5 Sample of dataset\")\n",
    "    print(table.tail())\n",
    "    print(\"Column - Names of Given dataset\")\n",
    "    print(table.columns)\n",
    "    print()\n",
    "    print(\"Shape(rows x columns) - of Given dataset\")\n",
    "    print(table.shape)\n",
    "    print()\n",
    "    print(\"Data types - Column Names\")\n",
    "    print(table.dtypes)\n",
    "    print()\n",
    "    print(\"Summry of dataset\")\n",
    "    print(table.info())\n",
    "    print()\n",
    "    print(\"To see the count of null/nan values in columns of dataset\")\n",
    "    print(table.isnull().value_counts())\n",
    "    print()\n",
    "    print(\"Dataset Summary \")\n",
    "    print(table.describe())\n",
    "    print()\n",
    "    print(table[\"birds\"].unique())\n",
    "basic_inspection(df)"
   ]
  },
  {
   "cell_type": "markdown",
   "id": "1daf76be-7180-4341-b5c1-a6d5bd28ce27",
   "metadata": {},
   "source": [
    "### Print the first 2 rows of the birds dataframe "
   ]
  },
  {
   "cell_type": "code",
   "execution_count": 6,
   "id": "e6d66c75-be1f-4cac-9a2c-626f27df9772",
   "metadata": {},
   "outputs": [
    {
     "name": "stdout",
     "output_type": "stream",
     "text": [
      "    birds  age  visits priority\n",
      "a  Cranes  3.5       2      yes\n",
      "b  Cranes  4.0       4      yes\n"
     ]
    }
   ],
   "source": [
    "print(df.iloc[0:2])"
   ]
  },
  {
   "cell_type": "code",
   "execution_count": 8,
   "id": "1d8c86ee-3a0c-4abf-b4d5-a96645caf404",
   "metadata": {},
   "outputs": [
    {
     "name": "stdout",
     "output_type": "stream",
     "text": [
      "    birds  age  visits priority\n",
      "a  Cranes  3.5       2      yes\n",
      "b  Cranes  4.0       4      yes\n"
     ]
    }
   ],
   "source": [
    "print(df.loc['a':'b'])"
   ]
  },
  {
   "cell_type": "markdown",
   "id": "33f77d3f-1b03-444f-b15b-ca8996aa4245",
   "metadata": {},
   "source": [
    "### Print all the rows with only 'birds' and 'age' columns from the dataframe"
   ]
  },
  {
   "cell_type": "code",
   "execution_count": 11,
   "id": "dbdef9eb-add6-4989-9c46-9356196d31af",
   "metadata": {},
   "outputs": [
    {
     "name": "stdout",
     "output_type": "stream",
     "text": [
      "        birds  age\n",
      "a      Cranes  3.5\n",
      "b      Cranes  4.0\n",
      "c     plovers  1.5\n",
      "d  spoonbills  NaN\n",
      "e  spoonbills  6.0\n",
      "f      Cranes  3.0\n",
      "g     plovers  5.5\n",
      "h      Cranes  NaN\n",
      "i  spoonbills  8.0\n",
      "j  spoonbills  4.0\n"
     ]
    }
   ],
   "source": [
    "print(df[['birds','age']])"
   ]
  },
  {
   "cell_type": "markdown",
   "id": "08efbcac-a543-4a58-82e7-6a694bfc61f3",
   "metadata": {},
   "source": [
    "### select [2, 3, 7] rows and in columns ['birds', 'age', 'visits']"
   ]
  },
  {
   "cell_type": "code",
   "execution_count": 15,
   "id": "5846b78d-bef1-4728-9a29-59f794a7ade2",
   "metadata": {},
   "outputs": [
    {
     "name": "stdout",
     "output_type": "stream",
     "text": [
      "        birds  age  visits\n",
      "c     plovers  1.5       3\n",
      "d  spoonbills  NaN       4\n",
      "h      Cranes  NaN       2\n"
     ]
    }
   ],
   "source": [
    "print(df[['birds','age','visits']].iloc[[2,3,7],])"
   ]
  },
  {
   "cell_type": "markdown",
   "id": "57409eae-d94b-461b-a297-b95710f017d3",
   "metadata": {},
   "source": [
    "### select the rows where the number of visits is less than 4"
   ]
  },
  {
   "cell_type": "code",
   "execution_count": 5,
   "id": "8bb8a451-99cc-4549-b9d1-24dca010c2bc",
   "metadata": {},
   "outputs": [
    {
     "name": "stdout",
     "output_type": "stream",
     "text": [
      "        birds  age  visits priority\n",
      "a      Cranes  3.5       2      yes\n",
      "b      Cranes  4.0       4      yes\n",
      "c     plovers  1.5       3       no\n",
      "d  spoonbills  NaN       4      yes\n",
      "e  spoonbills  6.0       3       no\n",
      "f      Cranes  3.0       4       no\n",
      "g     plovers  5.5       2       no\n",
      "h      Cranes  NaN       2      yes\n",
      "i  spoonbills  8.0       3       no\n",
      "j  spoonbills  4.0       2       no\n",
      "        birds  age  visits priority\n",
      "a      Cranes  3.5       2      yes\n",
      "c     plovers  1.5       3       no\n",
      "e  spoonbills  6.0       3       no\n",
      "g     plovers  5.5       2       no\n",
      "h      Cranes  NaN       2      yes\n",
      "i  spoonbills  8.0       3       no\n",
      "j  spoonbills  4.0       2       no\n"
     ]
    }
   ],
   "source": [
    "print(df)\n",
    "print(df[df['visits'] < 4])"
   ]
  },
  {
   "cell_type": "markdown",
   "id": "9934397e-33b4-4b6f-86c7-acb46f404ab5",
   "metadata": {},
   "source": [
    "### select the rows with columns ['birds', 'visits'] where the age is missing i.e NaN"
   ]
  },
  {
   "cell_type": "code",
   "execution_count": 19,
   "id": "a40d5576-bb5a-455d-bb70-0931951f8662",
   "metadata": {},
   "outputs": [
    {
     "name": "stdout",
     "output_type": "stream",
     "text": [
      "        birds  visits\n",
      "d  spoonbills       4\n",
      "h      Cranes       2\n"
     ]
    }
   ],
   "source": [
    "print(df[df['age'].isna()].loc[:, ['birds','visits']])"
   ]
  },
  {
   "cell_type": "markdown",
   "id": "84681238-9236-449f-9402-6bd1319ab066",
   "metadata": {},
   "source": [
    "###  Select the rows where the birds is a Cranes and the age is less than 4"
   ]
  },
  {
   "cell_type": "code",
   "execution_count": 25,
   "id": "8d4c9048-7ee0-45d3-988f-3fc534704f85",
   "metadata": {},
   "outputs": [
    {
     "name": "stdout",
     "output_type": "stream",
     "text": [
      "    birds  age  visits priority\n",
      "a  Cranes  3.5       2      yes\n",
      "f  Cranes  3.0       4       no\n"
     ]
    }
   ],
   "source": [
    "print(df[(df['birds']=='Cranes') & (df['age']<4)])"
   ]
  },
  {
   "cell_type": "markdown",
   "id": "cef103c1-01e5-46a5-a424-4efcc01c5cb9",
   "metadata": {},
   "source": [
    "### Select the rows the age is between 2 and 4(inclusive)"
   ]
  },
  {
   "cell_type": "code",
   "execution_count": 27,
   "id": "b59b6b86-0eb0-4a05-9bba-8e97992e91f6",
   "metadata": {},
   "outputs": [
    {
     "name": "stdout",
     "output_type": "stream",
     "text": [
      "        birds  age  visits priority\n",
      "a      Cranes  3.5       2      yes\n",
      "b      Cranes  4.0       4      yes\n",
      "f      Cranes  3.0       4       no\n",
      "j  spoonbills  4.0       2       no\n"
     ]
    }
   ],
   "source": [
    "print(df[(df['age']>=2) & (df['age']<=4)])"
   ]
  },
  {
   "cell_type": "markdown",
   "id": "0c2c1ab8-f93f-4c1f-b8c0-404ec5c88eb0",
   "metadata": {},
   "source": [
    "### Find the total number of visits of the bird Cranes"
   ]
  },
  {
   "cell_type": "code",
   "execution_count": 34,
   "id": "9ca753a1-fd33-4440-a25e-a5579cdb9df1",
   "metadata": {},
   "outputs": [
    {
     "name": "stdout",
     "output_type": "stream",
     "text": [
      "12\n"
     ]
    }
   ],
   "source": [
    "print(df[df['birds']=='Cranes'].visits.sum())"
   ]
  },
  {
   "cell_type": "markdown",
   "id": "b910d2c9-1bc5-4549-9aa8-557346fe4504",
   "metadata": {},
   "source": [
    "### Calculate the mean age for each different birds in dataframe."
   ]
  },
  {
   "cell_type": "code",
   "execution_count": 35,
   "id": "f4c3aa3c-ba02-449a-b8d1-276f57c7308c",
   "metadata": {},
   "outputs": [
    {
     "name": "stdout",
     "output_type": "stream",
     "text": [
      "birds\n",
      "Cranes        3.5\n",
      "plovers       3.5\n",
      "spoonbills    6.0\n",
      "Name: age, dtype: float64\n"
     ]
    }
   ],
   "source": [
    "print(df.groupby(\"birds\").age.mean())"
   ]
  },
  {
   "cell_type": "markdown",
   "id": "792f57b2-3e4a-4a56-a849-02943d83f08a",
   "metadata": {},
   "source": [
    "###  Find the number of each type of birds in dataframe (Counts)"
   ]
  },
  {
   "cell_type": "code",
   "execution_count": 36,
   "id": "ce6fd4af-56c0-4605-bfb3-7f0e0b23013b",
   "metadata": {},
   "outputs": [
    {
     "name": "stdout",
     "output_type": "stream",
     "text": [
      "birds\n",
      "Cranes        4\n",
      "plovers       2\n",
      "spoonbills    4\n",
      "Name: birds, dtype: int64\n",
      "birds\n",
      "Cranes        4\n",
      "spoonbills    4\n",
      "plovers       2\n",
      "Name: count, dtype: int64\n"
     ]
    }
   ],
   "source": [
    "print(df.groupby(by=[\"birds\"]).birds.count())\n",
    "print(df.birds.value_counts())"
   ]
  },
  {
   "cell_type": "markdown",
   "id": "15018133-07e6-4034-9af8-9f2756b32e54",
   "metadata": {},
   "source": [
    "### Sort dataframe (birds) first by the values in the 'age' in decending order, then by the value in the 'visits' column in ascending order."
   ]
  },
  {
   "cell_type": "code",
   "execution_count": 37,
   "id": "75b98fbf-b301-4054-89c1-587096127886",
   "metadata": {},
   "outputs": [
    {
     "data": {
      "text/html": [
       "<div>\n",
       "<style scoped>\n",
       "    .dataframe tbody tr th:only-of-type {\n",
       "        vertical-align: middle;\n",
       "    }\n",
       "\n",
       "    .dataframe tbody tr th {\n",
       "        vertical-align: top;\n",
       "    }\n",
       "\n",
       "    .dataframe thead th {\n",
       "        text-align: right;\n",
       "    }\n",
       "</style>\n",
       "<table border=\"1\" class=\"dataframe\">\n",
       "  <thead>\n",
       "    <tr style=\"text-align: right;\">\n",
       "      <th></th>\n",
       "      <th>birds</th>\n",
       "      <th>age</th>\n",
       "      <th>visits</th>\n",
       "      <th>priority</th>\n",
       "    </tr>\n",
       "  </thead>\n",
       "  <tbody>\n",
       "    <tr>\n",
       "      <th>i</th>\n",
       "      <td>spoonbills</td>\n",
       "      <td>8.0</td>\n",
       "      <td>3</td>\n",
       "      <td>no</td>\n",
       "    </tr>\n",
       "    <tr>\n",
       "      <th>e</th>\n",
       "      <td>spoonbills</td>\n",
       "      <td>6.0</td>\n",
       "      <td>3</td>\n",
       "      <td>no</td>\n",
       "    </tr>\n",
       "    <tr>\n",
       "      <th>g</th>\n",
       "      <td>plovers</td>\n",
       "      <td>5.5</td>\n",
       "      <td>2</td>\n",
       "      <td>no</td>\n",
       "    </tr>\n",
       "    <tr>\n",
       "      <th>j</th>\n",
       "      <td>spoonbills</td>\n",
       "      <td>4.0</td>\n",
       "      <td>2</td>\n",
       "      <td>no</td>\n",
       "    </tr>\n",
       "    <tr>\n",
       "      <th>b</th>\n",
       "      <td>Cranes</td>\n",
       "      <td>4.0</td>\n",
       "      <td>4</td>\n",
       "      <td>yes</td>\n",
       "    </tr>\n",
       "    <tr>\n",
       "      <th>a</th>\n",
       "      <td>Cranes</td>\n",
       "      <td>3.5</td>\n",
       "      <td>2</td>\n",
       "      <td>yes</td>\n",
       "    </tr>\n",
       "    <tr>\n",
       "      <th>f</th>\n",
       "      <td>Cranes</td>\n",
       "      <td>3.0</td>\n",
       "      <td>4</td>\n",
       "      <td>no</td>\n",
       "    </tr>\n",
       "    <tr>\n",
       "      <th>c</th>\n",
       "      <td>plovers</td>\n",
       "      <td>1.5</td>\n",
       "      <td>3</td>\n",
       "      <td>no</td>\n",
       "    </tr>\n",
       "    <tr>\n",
       "      <th>h</th>\n",
       "      <td>Cranes</td>\n",
       "      <td>NaN</td>\n",
       "      <td>2</td>\n",
       "      <td>yes</td>\n",
       "    </tr>\n",
       "    <tr>\n",
       "      <th>d</th>\n",
       "      <td>spoonbills</td>\n",
       "      <td>NaN</td>\n",
       "      <td>4</td>\n",
       "      <td>yes</td>\n",
       "    </tr>\n",
       "  </tbody>\n",
       "</table>\n",
       "</div>"
      ],
      "text/plain": [
       "        birds  age  visits priority\n",
       "i  spoonbills  8.0       3       no\n",
       "e  spoonbills  6.0       3       no\n",
       "g     plovers  5.5       2       no\n",
       "j  spoonbills  4.0       2       no\n",
       "b      Cranes  4.0       4      yes\n",
       "a      Cranes  3.5       2      yes\n",
       "f      Cranes  3.0       4       no\n",
       "c     plovers  1.5       3       no\n",
       "h      Cranes  NaN       2      yes\n",
       "d  spoonbills  NaN       4      yes"
      ]
     },
     "execution_count": 37,
     "metadata": {},
     "output_type": "execute_result"
    }
   ],
   "source": [
    "df.sort_values(by=[\"age\",\"visits\"],ascending=[0,1],inplace=True)\n",
    "df"
   ]
  },
  {
   "cell_type": "markdown",
   "id": "9877fc4a-1e83-4de4-9ecb-773f10547333",
   "metadata": {},
   "source": [
    "###  Replace the priority column values with'yes' should be 1 and 'no' should be 0"
   ]
  },
  {
   "cell_type": "code",
   "execution_count": 38,
   "id": "85413d09-8937-4a1b-b6a0-18838097944d",
   "metadata": {},
   "outputs": [
    {
     "data": {
      "text/html": [
       "<div>\n",
       "<style scoped>\n",
       "    .dataframe tbody tr th:only-of-type {\n",
       "        vertical-align: middle;\n",
       "    }\n",
       "\n",
       "    .dataframe tbody tr th {\n",
       "        vertical-align: top;\n",
       "    }\n",
       "\n",
       "    .dataframe thead th {\n",
       "        text-align: right;\n",
       "    }\n",
       "</style>\n",
       "<table border=\"1\" class=\"dataframe\">\n",
       "  <thead>\n",
       "    <tr style=\"text-align: right;\">\n",
       "      <th></th>\n",
       "      <th>birds</th>\n",
       "      <th>age</th>\n",
       "      <th>visits</th>\n",
       "      <th>priority</th>\n",
       "    </tr>\n",
       "  </thead>\n",
       "  <tbody>\n",
       "    <tr>\n",
       "      <th>i</th>\n",
       "      <td>spoonbills</td>\n",
       "      <td>8.0</td>\n",
       "      <td>3</td>\n",
       "      <td>0</td>\n",
       "    </tr>\n",
       "    <tr>\n",
       "      <th>e</th>\n",
       "      <td>spoonbills</td>\n",
       "      <td>6.0</td>\n",
       "      <td>3</td>\n",
       "      <td>0</td>\n",
       "    </tr>\n",
       "    <tr>\n",
       "      <th>g</th>\n",
       "      <td>plovers</td>\n",
       "      <td>5.5</td>\n",
       "      <td>2</td>\n",
       "      <td>0</td>\n",
       "    </tr>\n",
       "    <tr>\n",
       "      <th>j</th>\n",
       "      <td>spoonbills</td>\n",
       "      <td>4.0</td>\n",
       "      <td>2</td>\n",
       "      <td>0</td>\n",
       "    </tr>\n",
       "    <tr>\n",
       "      <th>b</th>\n",
       "      <td>Cranes</td>\n",
       "      <td>4.0</td>\n",
       "      <td>4</td>\n",
       "      <td>1</td>\n",
       "    </tr>\n",
       "    <tr>\n",
       "      <th>a</th>\n",
       "      <td>Cranes</td>\n",
       "      <td>3.5</td>\n",
       "      <td>2</td>\n",
       "      <td>1</td>\n",
       "    </tr>\n",
       "    <tr>\n",
       "      <th>f</th>\n",
       "      <td>Cranes</td>\n",
       "      <td>3.0</td>\n",
       "      <td>4</td>\n",
       "      <td>0</td>\n",
       "    </tr>\n",
       "    <tr>\n",
       "      <th>c</th>\n",
       "      <td>plovers</td>\n",
       "      <td>1.5</td>\n",
       "      <td>3</td>\n",
       "      <td>0</td>\n",
       "    </tr>\n",
       "    <tr>\n",
       "      <th>h</th>\n",
       "      <td>Cranes</td>\n",
       "      <td>NaN</td>\n",
       "      <td>2</td>\n",
       "      <td>1</td>\n",
       "    </tr>\n",
       "    <tr>\n",
       "      <th>d</th>\n",
       "      <td>spoonbills</td>\n",
       "      <td>NaN</td>\n",
       "      <td>4</td>\n",
       "      <td>1</td>\n",
       "    </tr>\n",
       "  </tbody>\n",
       "</table>\n",
       "</div>"
      ],
      "text/plain": [
       "        birds  age  visits  priority\n",
       "i  spoonbills  8.0       3         0\n",
       "e  spoonbills  6.0       3         0\n",
       "g     plovers  5.5       2         0\n",
       "j  spoonbills  4.0       2         0\n",
       "b      Cranes  4.0       4         1\n",
       "a      Cranes  3.5       2         1\n",
       "f      Cranes  3.0       4         0\n",
       "c     plovers  1.5       3         0\n",
       "h      Cranes  NaN       2         1\n",
       "d  spoonbills  NaN       4         1"
      ]
     },
     "execution_count": 38,
     "metadata": {},
     "output_type": "execute_result"
    }
   ],
   "source": [
    "df['priority']=df['priority'].apply(lambda x : 1 if x=='yes' else 0)\n",
    "df"
   ]
  },
  {
   "cell_type": "markdown",
   "id": "c51c7a93-f7cd-4da5-9ba1-e729c5655001",
   "metadata": {},
   "source": [
    "### In the 'birds' column, change the 'Cranes' entries to 'trumpeters'."
   ]
  },
  {
   "cell_type": "code",
   "execution_count": 39,
   "id": "e00e4816-8081-457f-beeb-47fabcea35c2",
   "metadata": {},
   "outputs": [
    {
     "data": {
      "text/html": [
       "<div>\n",
       "<style scoped>\n",
       "    .dataframe tbody tr th:only-of-type {\n",
       "        vertical-align: middle;\n",
       "    }\n",
       "\n",
       "    .dataframe tbody tr th {\n",
       "        vertical-align: top;\n",
       "    }\n",
       "\n",
       "    .dataframe thead th {\n",
       "        text-align: right;\n",
       "    }\n",
       "</style>\n",
       "<table border=\"1\" class=\"dataframe\">\n",
       "  <thead>\n",
       "    <tr style=\"text-align: right;\">\n",
       "      <th></th>\n",
       "      <th>birds</th>\n",
       "      <th>age</th>\n",
       "      <th>visits</th>\n",
       "      <th>priority</th>\n",
       "    </tr>\n",
       "  </thead>\n",
       "  <tbody>\n",
       "    <tr>\n",
       "      <th>i</th>\n",
       "      <td>spoonbills</td>\n",
       "      <td>8.0</td>\n",
       "      <td>3</td>\n",
       "      <td>0</td>\n",
       "    </tr>\n",
       "    <tr>\n",
       "      <th>e</th>\n",
       "      <td>spoonbills</td>\n",
       "      <td>6.0</td>\n",
       "      <td>3</td>\n",
       "      <td>0</td>\n",
       "    </tr>\n",
       "    <tr>\n",
       "      <th>g</th>\n",
       "      <td>plovers</td>\n",
       "      <td>5.5</td>\n",
       "      <td>2</td>\n",
       "      <td>0</td>\n",
       "    </tr>\n",
       "    <tr>\n",
       "      <th>j</th>\n",
       "      <td>spoonbills</td>\n",
       "      <td>4.0</td>\n",
       "      <td>2</td>\n",
       "      <td>0</td>\n",
       "    </tr>\n",
       "    <tr>\n",
       "      <th>b</th>\n",
       "      <td>trumpeters</td>\n",
       "      <td>4.0</td>\n",
       "      <td>4</td>\n",
       "      <td>1</td>\n",
       "    </tr>\n",
       "    <tr>\n",
       "      <th>a</th>\n",
       "      <td>trumpeters</td>\n",
       "      <td>3.5</td>\n",
       "      <td>2</td>\n",
       "      <td>1</td>\n",
       "    </tr>\n",
       "    <tr>\n",
       "      <th>f</th>\n",
       "      <td>trumpeters</td>\n",
       "      <td>3.0</td>\n",
       "      <td>4</td>\n",
       "      <td>0</td>\n",
       "    </tr>\n",
       "    <tr>\n",
       "      <th>c</th>\n",
       "      <td>plovers</td>\n",
       "      <td>1.5</td>\n",
       "      <td>3</td>\n",
       "      <td>0</td>\n",
       "    </tr>\n",
       "    <tr>\n",
       "      <th>h</th>\n",
       "      <td>trumpeters</td>\n",
       "      <td>NaN</td>\n",
       "      <td>2</td>\n",
       "      <td>1</td>\n",
       "    </tr>\n",
       "    <tr>\n",
       "      <th>d</th>\n",
       "      <td>spoonbills</td>\n",
       "      <td>NaN</td>\n",
       "      <td>4</td>\n",
       "      <td>1</td>\n",
       "    </tr>\n",
       "  </tbody>\n",
       "</table>\n",
       "</div>"
      ],
      "text/plain": [
       "        birds  age  visits  priority\n",
       "i  spoonbills  8.0       3         0\n",
       "e  spoonbills  6.0       3         0\n",
       "g     plovers  5.5       2         0\n",
       "j  spoonbills  4.0       2         0\n",
       "b  trumpeters  4.0       4         1\n",
       "a  trumpeters  3.5       2         1\n",
       "f  trumpeters  3.0       4         0\n",
       "c     plovers  1.5       3         0\n",
       "h  trumpeters  NaN       2         1\n",
       "d  spoonbills  NaN       4         1"
      ]
     },
     "execution_count": 39,
     "metadata": {},
     "output_type": "execute_result"
    }
   ],
   "source": [
    "df[\"birds\"].replace(to_replace=\"Cranes\",value=\"trumpeters\",inplace=True)\n",
    "df"
   ]
  },
  {
   "cell_type": "code",
   "execution_count": null,
   "id": "beb1d304-119b-4182-8806-1fb29c5eb528",
   "metadata": {},
   "outputs": [],
   "source": []
  }
 ],
 "metadata": {
  "kernelspec": {
   "display_name": "Python 3 (ipykernel)",
   "language": "python",
   "name": "python3"
  },
  "language_info": {
   "codemirror_mode": {
    "name": "ipython",
    "version": 3
   },
   "file_extension": ".py",
   "mimetype": "text/x-python",
   "name": "python",
   "nbconvert_exporter": "python",
   "pygments_lexer": "ipython3",
   "version": "3.11.6"
  }
 },
 "nbformat": 4,
 "nbformat_minor": 5
}
