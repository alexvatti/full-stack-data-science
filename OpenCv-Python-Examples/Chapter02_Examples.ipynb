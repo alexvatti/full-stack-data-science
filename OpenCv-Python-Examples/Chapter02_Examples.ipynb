{
 "cells": [
  {
   "cell_type": "markdown",
   "id": "17547200",
   "metadata": {},
   "source": [
    "# OpenCV Python Examples\n",
    "\n",
    "- VideoCapture: Video Capture.\n",
    "- imshow: Display an image.\n",
    "- imwrite: Write an image.\n",
    "- cvtColor: Convert image colors.\n",
    "- rectangle : draw rectangle\n"
   ]
  },
  {
   "cell_type": "markdown",
   "id": "f5786916",
   "metadata": {},
   "source": [
    "# Video(Camera capture - display)"
   ]
  },
  {
   "cell_type": "code",
   "execution_count": 1,
   "id": "52901b33",
   "metadata": {},
   "outputs": [],
   "source": [
    "import cv2\n",
    "cap = cv2.VideoCapture(0)\n",
    "while True:\n",
    "    ret,frame = cap.read()\n",
    "    if ret==True:\n",
    "        cv2.imshow(\"frame\",frame)\n",
    "        if (cv2.waitKey(1) & 0xff==ord('q')): # q as exit key\n",
    "            break\n",
    "cap.release()\n",
    "cv2.destroyAllWindows()"
   ]
  },
  {
   "cell_type": "markdown",
   "id": "a1277084",
   "metadata": {},
   "source": [
    "# Video stream - Get Total frame count - frame rate"
   ]
  },
  {
   "cell_type": "code",
   "execution_count": 2,
   "id": "bb5d8423",
   "metadata": {},
   "outputs": [
    {
     "data": {
      "text/plain": [
       "332.0"
      ]
     },
     "execution_count": 2,
     "metadata": {},
     "output_type": "execute_result"
    }
   ],
   "source": [
    "video_stream = cv2.VideoCapture('videos/los_angeles.mp4')\n",
    "total_frames=video_stream.get(cv2.CAP_PROP_FRAME_COUNT)\n",
    "total_frames"
   ]
  },
  {
   "cell_type": "markdown",
   "id": "9ba66164",
   "metadata": {},
   "source": [
    "# Write a text on Video"
   ]
  },
  {
   "cell_type": "code",
   "execution_count": 4,
   "id": "0721dd3f",
   "metadata": {},
   "outputs": [],
   "source": [
    "import cv2 \n",
    "cap = cv2.VideoCapture(0) \n",
    "  \n",
    "while(True):   \n",
    "    # Capture frames in the video \n",
    "    ret, frame = cap.read() \n",
    "    # describe the type of font to be used. \n",
    "    font = cv2.FONT_HERSHEY_SIMPLEX \n",
    "    # Use putText() method for \n",
    "    # inserting text on video    R=0,G=255,B=255\n",
    "    cv2.putText(frame, 'Hello !!!', (100, 100), font, 1,(0, 255, 255),2,cv2.LINE_4) \n",
    "  \n",
    "    # Display the resulting frame \n",
    "    cv2.imshow('video', frame) \n",
    "  \n",
    "    # creating 'q' as the quit  \n",
    "    # button for the video \n",
    "    if cv2.waitKey(1) & 0xFF == ord('q'): \n",
    "        break\n",
    "\n",
    "# release the cap object \n",
    "cap.release() \n",
    "# close all windows \n",
    "cv2.destroyAllWindows() "
   ]
  },
  {
   "cell_type": "markdown",
   "id": "d5239868",
   "metadata": {},
   "source": [
    "# Write Text on Video Frame"
   ]
  },
  {
   "cell_type": "code",
   "execution_count": 11,
   "id": "6e20ddfb",
   "metadata": {},
   "outputs": [],
   "source": [
    "import cv2\n",
    "videopath = \"videos/los_angeles.mp4\"\n",
    "cap = cv2.VideoCapture(videopath)\n",
    "while True:\n",
    "    ret, frame = cap.read()\n",
    "    if ret==True:\n",
    "        font = cv2.FONT_HERSHEY_SIMPLEX\n",
    "        cv2.putText(frame, 'car video', (250, 250),\n",
    "                    font, 1, (0,255,255), 2, cv2.LINE_4)\n",
    "        cv2.imshow('Video', frame)\n",
    "        if cv2.waitKey(1) & 0xFF == ord('q'):\n",
    "            break\n",
    "    else:\n",
    "        break\n",
    "cap.release()\n",
    "cv2.destroyAllWindows()\n"
   ]
  },
  {
   "cell_type": "markdown",
   "id": "b46abc6f",
   "metadata": {},
   "source": [
    "# Draw rectangle - on the video / frame"
   ]
  },
  {
   "cell_type": "code",
   "execution_count": 15,
   "id": "6a256e6f",
   "metadata": {},
   "outputs": [],
   "source": [
    "import cv2 \n",
    "def main(): \n",
    "\n",
    "    # reading the input \n",
    "    cap = cv2.VideoCapture(0) \n",
    "  \n",
    "    while(True): \n",
    "        ret, frame = cap.read() \n",
    "        if(ret): \n",
    "              \n",
    "            # adding rectangle on each frame \n",
    "            cv2.rectangle(frame, (100, 100), (400, 400), (0, 255, 0), 3) \n",
    "            cv2.imshow(\"output\", frame) \n",
    "            if cv2.waitKey(1) & 0xFF == ord('s'): \n",
    "                break\n",
    "  \n",
    "    cv2.destroyAllWindows() \n",
    "    cap.release() \n",
    "    \n",
    "if __name__ == \"__main__\": \n",
    "    main()\n",
    "  "
   ]
  },
  {
   "cell_type": "code",
   "execution_count": null,
   "id": "47edaa63",
   "metadata": {},
   "outputs": [],
   "source": []
  }
 ],
 "metadata": {
  "kernelspec": {
   "display_name": "Python 3 (ipykernel)",
   "language": "python",
   "name": "python3"
  },
  "language_info": {
   "codemirror_mode": {
    "name": "ipython",
    "version": 3
   },
   "file_extension": ".py",
   "mimetype": "text/x-python",
   "name": "python",
   "nbconvert_exporter": "python",
   "pygments_lexer": "ipython3",
   "version": "3.11.5"
  }
 },
 "nbformat": 4,
 "nbformat_minor": 5
}
