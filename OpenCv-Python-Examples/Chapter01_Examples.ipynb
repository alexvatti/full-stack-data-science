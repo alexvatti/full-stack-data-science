{
 "cells": [
  {
   "cell_type": "markdown",
   "id": "c96aa31e",
   "metadata": {},
   "source": [
    "# OpenCV Python Examples\n",
    "\n",
    "- imread: Read an image.\n",
    "- imshow: Display an image.\n",
    "- imwrite: Write an image.\n",
    "- cvtColor: Convert image colors.\n",
    "- resize : Scale the image\n",
    "- flip : horizontal and vertical\n",
    "\n",
    "Explore the usage of these functions."
   ]
  },
  {
   "cell_type": "markdown",
   "id": "d1f2daa3",
   "metadata": {},
   "source": [
    "# Read an image and display it.\n"
   ]
  },
  {
   "cell_type": "code",
   "execution_count": 1,
   "id": "4ad5d8a0",
   "metadata": {},
   "outputs": [],
   "source": [
    "import cv2\n",
    "\n",
    "image = cv2.imread(\"images/input.jpg\")\n",
    "\n",
    "cv2.imshow(\"Input-image\", image)\n",
    "\n",
    "while True:\n",
    "    if (cv2.waitKey(1)&0xff==ord('q')):\n",
    "        break\n",
    "\n",
    "cv2.destroyAllWindows()"
   ]
  },
  {
   "cell_type": "markdown",
   "id": "479aa61f",
   "metadata": {},
   "source": [
    "# Convert an image to a grayscale and show/display it"
   ]
  },
  {
   "cell_type": "code",
   "execution_count": 3,
   "id": "a92a270e",
   "metadata": {},
   "outputs": [],
   "source": [
    "import cv2\n",
    "\n",
    "image = cv2.imread(\"images/input.jpg\")\n",
    "gray_image=cv2.cvtColor(image, cv2.COLOR_BGR2GRAY)\n",
    "\n",
    "cv2.imshow(\"Grayscale image\", gray_image)\n",
    "\n",
    "while True:\n",
    "    if (cv2.waitKey(1)&0xff==ord('q')):\n",
    "        break\n",
    "\n",
    "cv2.destroyAllWindows()"
   ]
  },
  {
   "cell_type": "markdown",
   "id": "2b765d3c",
   "metadata": {},
   "source": [
    "# Convert an image to a grayscale and save it."
   ]
  },
  {
   "cell_type": "code",
   "execution_count": null,
   "id": "733ab3ee",
   "metadata": {},
   "outputs": [],
   "source": [
    "import cv2\n",
    "\n",
    "gray_image = cv2.imread(\"images/input.jpg\", cv2.IMREAD_GRAYSCALE)\n",
    "\n",
    "cv2.imshow(\"Grayscale image\", gray_image)\n",
    "\n",
    "cv2.imwrite(\"images/output.jpg\", gray_image)"
   ]
  },
  {
   "cell_type": "markdown",
   "id": "e1e7407b",
   "metadata": {},
   "source": [
    "# Scale an image"
   ]
  },
  {
   "cell_type": "code",
   "execution_count": 5,
   "id": "5574634d",
   "metadata": {},
   "outputs": [
    {
     "name": "stdout",
     "output_type": "stream",
     "text": [
      "(512, 512, 3)\n",
      "(200, 200, 3)\n"
     ]
    }
   ],
   "source": [
    "import cv2\n",
    "\n",
    "image = cv2.imread(\"images/input.jpg\")\n",
    "print(image.shape) # (height,width,channels)\n",
    "\n",
    "image_scaled = cv2.resize(image, (200, 200)) # (width,height)\n",
    "print(image_scaled.shape)\n",
    "\n",
    "cv2.imshow(\"Scaling - Skewed Size\", image_scaled)\n",
    "\n",
    "while True:\n",
    "    if (cv2.waitKey(1)&0xff==ord('q')):\n",
    "        break\n",
    "\n",
    "cv2.destroyAllWindows()"
   ]
  },
  {
   "cell_type": "markdown",
   "id": "8494f343",
   "metadata": {},
   "source": [
    "# Flip the Image"
   ]
  },
  {
   "cell_type": "code",
   "execution_count": 15,
   "id": "de87c617",
   "metadata": {},
   "outputs": [
    {
     "name": "stdout",
     "output_type": "stream",
     "text": [
      "(512, 512, 3)\n"
     ]
    }
   ],
   "source": [
    "import cv2\n",
    "\n",
    "image = cv2.imread(\"images/input.jpg\")\n",
    "print(image.shape) # (height,width,channels)\n",
    "\n",
    "# Flipping acros y-axis = 0\n",
    "# Flipping acros x-axis = 1\n",
    "# flipping along x and y axes = -1\n",
    "\n",
    "image = cv2.flip(image, 0) \n",
    "cv2.imshow(\"Flip Image\", image)\n",
    "\n",
    "while True:\n",
    "    if (cv2.waitKey(1)&0xff==ord('q')):\n",
    "        break\n",
    "\n",
    "cv2.destroyAllWindows()"
   ]
  },
  {
   "cell_type": "code",
   "execution_count": null,
   "id": "94d6932a",
   "metadata": {},
   "outputs": [],
   "source": []
  }
 ],
 "metadata": {
  "kernelspec": {
   "display_name": "Python 3 (ipykernel)",
   "language": "python",
   "name": "python3"
  },
  "language_info": {
   "codemirror_mode": {
    "name": "ipython",
    "version": 3
   },
   "file_extension": ".py",
   "mimetype": "text/x-python",
   "name": "python",
   "nbconvert_exporter": "python",
   "pygments_lexer": "ipython3",
   "version": "3.11.5"
  }
 },
 "nbformat": 4,
 "nbformat_minor": 5
}
