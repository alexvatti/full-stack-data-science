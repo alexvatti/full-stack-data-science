{
 "cells": [
  {
   "cell_type": "markdown",
   "id": "1f961143",
   "metadata": {},
   "source": [
    "# 1. Create Numpy vector"
   ]
  },
  {
   "cell_type": "code",
   "execution_count": 2,
   "id": "95d55224",
   "metadata": {},
   "outputs": [
    {
     "name": "stdout",
     "output_type": "stream",
     "text": [
      "Horizontal Vector - Row Vector/Matrix\n",
      "[1 2 3]\n",
      "----------------\n",
      "Vertical Vector - Column Vector/Mtrix\n",
      "[[10]\n",
      " [20]\n",
      " [30]]\n"
     ]
    }
   ],
   "source": [
    "# importing numpy \n",
    "import numpy as np \n",
    "\n",
    "# creating a 1-D list (Horizontal) \n",
    "list1 = [1, 2, 3] \n",
    "\n",
    "# creating a 1-D list (Vertical) \n",
    "list2 = [[10], \n",
    "        [20], \n",
    "        [30]] \n",
    "\n",
    "# creating a vector1 \n",
    "# vector as row \n",
    "vector1 = np.array(list1) \n",
    "\n",
    "# creating a vector 2 \n",
    "# vector as column \n",
    "vector2 = np.array(list2) \n",
    "\n",
    "\n",
    "# showing horizontal vector \n",
    "print(\"Horizontal Vector - Row Vector/Matrix\") \n",
    "print(vector1) \n",
    "\n",
    "print(\"----------------\") \n",
    "\n",
    "# showing vertical vector \n",
    "print(\"Vertical Vector - Column Vector/Mtrix\") \n",
    "print(vector2) \n"
   ]
  },
  {
   "cell_type": "markdown",
   "id": "b0b16261",
   "metadata": {},
   "source": [
    "# 2. Operations on Vector using Numpy"
   ]
  },
  {
   "cell_type": "code",
   "execution_count": 3,
   "id": "ac611c1d",
   "metadata": {},
   "outputs": [
    {
     "name": "stdout",
     "output_type": "stream",
     "text": [
      "First Vector\t\t : [5 6 9]\n",
      "Second Vector\t\t : [1 2 3]\n",
      "Vector Addition\t : [ 6  8 12]\n",
      "Vector Subtraction : [4 4 6]\n",
      "Vector Multiplication : [ 5 12 27]\n",
      "Vector Division\t : [5. 3. 3.]\n"
     ]
    }
   ],
   "source": [
    "# importing numpy \n",
    "import numpy as np \n",
    "\n",
    "# creating a 1-D list (Horizontal) \n",
    "list1 = [5, 6, 9] \n",
    "\n",
    "# creating a 1-D list (Horizontal) \n",
    "list2 = [1, 2, 3] \n",
    "\n",
    "# creating first vector \n",
    "vector1 = np.array(list1) \n",
    "\n",
    "# printing vector1 \n",
    "print(\"First Vector\t\t : \" + str(vector1)) \n",
    "\n",
    "# creating second vector \n",
    "vector2 = np.array(list2) \n",
    "\n",
    "# printing vector2 \n",
    "print(\"Second Vector\t\t : \" + str(vector2)) \n",
    "\n",
    "# adding both the vector \n",
    "# a + b = (a1 + b1, a2 + b2, a3 + b3) \n",
    "addition = vector1 + vector2 \n",
    "\n",
    "# printing addition vector \n",
    "print(\"Vector Addition\t : \" + str(addition)) \n",
    "\n",
    "# subtracting both the vector \n",
    "# a - b = (a1 - b1, a2 - b2, a3 - b3) \n",
    "subtraction = vector1 - vector2 \n",
    "\n",
    "# printing addition vector \n",
    "print(\"Vector Subtraction : \" + str(subtraction)) \n",
    "\n",
    "# multiplying both the vector \n",
    "# a * b = (a1 * b1, a2 * b2, a3 * b3) \n",
    "multiplication = vector1 * vector2 \n",
    "\n",
    "# printing multiplication vector \n",
    "print(\"Vector Multiplication : \" + str(multiplication)) \n",
    "\n",
    "# dividing both the vector \n",
    "# a / b = (a1 / b1, a2 / b2, a3 / b3) \n",
    "division = vector1 / vector2 \n",
    "\n",
    "# printing division vector \n",
    "print(\"Vector Division\t : \" + str(division)) \n"
   ]
  },
  {
   "cell_type": "markdown",
   "id": "1a771cc9",
   "metadata": {},
   "source": [
    "# 3. Vectot dot product using numpy"
   ]
  },
  {
   "cell_type": "code",
   "execution_count": 4,
   "id": "02b6a0ae",
   "metadata": {},
   "outputs": [
    {
     "name": "stdout",
     "output_type": "stream",
     "text": [
      "First Vector : [5 6 9]\n",
      "Second Vector : [1 2 3]\n",
      "Dot Product : 44\n"
     ]
    }
   ],
   "source": [
    "# importing numpy \n",
    "import numpy as np \n",
    "\n",
    "# creating a 1-D list (Horizontal) \n",
    "list1 = [5, 6, 9] \n",
    "\n",
    "# creating a 1-D list (Horizontal) \n",
    "list2 = [1, 2, 3] \n",
    "\n",
    "# creating first vector \n",
    "vector1 = np.array(list1) \n",
    "\n",
    "# printing vector1 \n",
    "print(\"First Vector : \" + str(vector1)) \n",
    "\n",
    "# creating second vector \n",
    "vector2 = np.array(list2) \n",
    "\n",
    "# printing vector2 \n",
    "print(\"Second Vector : \" + str(vector2)) \n",
    "\n",
    "# getting dot product of both the vectors \n",
    "# a . b = (a1 * b1 + a2 * b2 + a3 * b3) \n",
    "# a . b = (a1b1 + a2b2 + a3b3) \n",
    "dot_product = vector1.dot(vector2) \n",
    "\n",
    "# printing dot product \n",
    "print(\"Dot Product : \" + str(dot_product)) \n"
   ]
  },
  {
   "cell_type": "markdown",
   "id": "dc491b4c",
   "metadata": {},
   "source": [
    "# 4. Vector Scalar Multiplication using numpy"
   ]
  },
  {
   "cell_type": "code",
   "execution_count": 5,
   "id": "bc7a048f",
   "metadata": {},
   "outputs": [
    {
     "name": "stdout",
     "output_type": "stream",
     "text": [
      "Vector : [1 2 3]\n",
      "Scalar : 2\n",
      "Scalar Multiplication : [2 4 6]\n"
     ]
    }
   ],
   "source": [
    "# importing numpy \n",
    "import numpy as np \n",
    "\n",
    "# creating a 1-D list (Horizontal) \n",
    "list1 = [1, 2, 3] \n",
    "\n",
    "# creating first vector \n",
    "vector = np.array(list1) \n",
    "\n",
    "# printing vector1 \n",
    "print(\"Vector : \" + str(vector)) \n",
    "\n",
    "# scalar value \n",
    "scalar = 2\n",
    "\n",
    "# printing scalar value \n",
    "print(\"Scalar : \" + str(scalar)) \n",
    "\n",
    "# getting scalar multiplication value \n",
    "# s * v = (s * v1, s * v2, s * v3) \n",
    "scalar_mul = vector * scalar \n",
    "\n",
    "# printing dot product \n",
    "print(\"Scalar Multiplication : \" + str(scalar_mul)) \n"
   ]
  },
  {
   "cell_type": "markdown",
   "id": "751ecc86",
   "metadata": {},
   "source": [
    "# 5. create vector/matrix using numpy"
   ]
  },
  {
   "cell_type": "code",
   "execution_count": 3,
   "id": "5daf1443",
   "metadata": {},
   "outputs": [
    {
     "name": "stdout",
     "output_type": "stream",
     "text": [
      "[0 1 2 3]\n",
      "dim: 1 shape: (4,) size: 4 type: int32\n"
     ]
    }
   ],
   "source": [
    "# importing numpy \n",
    "import numpy as np \n",
    "table = np.array([0, 1, 2, 3])\n",
    "print(table)\n",
    "print(\"dim:\", table.ndim,\"shape:\",table.shape,\"size:\", table.size ,\"type:\", table.dtype)"
   ]
  },
  {
   "cell_type": "code",
   "execution_count": 4,
   "id": "64ffedb8",
   "metadata": {},
   "outputs": [
    {
     "name": "stdout",
     "output_type": "stream",
     "text": [
      "[0 1 2 3 4 5 6 7 8]\n",
      "dim: 1 shape: (9,) size: 9 type: int32\n"
     ]
    }
   ],
   "source": [
    "table = np.arange(9)\n",
    "print(table)\n",
    "print(\"dim:\", table.ndim,\"shape:\",table.shape,\"size:\", table.size ,\"type:\", table.dtype)"
   ]
  },
  {
   "cell_type": "code",
   "execution_count": 5,
   "id": "b604e3c0",
   "metadata": {
    "scrolled": true
   },
   "outputs": [
    {
     "name": "stdout",
     "output_type": "stream",
     "text": [
      "[[0. 0. 0.]\n",
      " [0. 0. 0.]]\n",
      "dim: 2 shape: (2, 3) size: 6 type: float64\n"
     ]
    }
   ],
   "source": [
    "table  = np.zeros((2,3))\n",
    "print(table)\n",
    "print(\"dim:\", table.ndim,\"shape:\",table.shape,\"size:\", table.size ,\"type:\", table.dtype)"
   ]
  },
  {
   "cell_type": "code",
   "execution_count": 6,
   "id": "55b27da1",
   "metadata": {},
   "outputs": [
    {
     "name": "stdout",
     "output_type": "stream",
     "text": [
      "[[1. 1. 1.]\n",
      " [1. 1. 1.]]\n",
      "dim: 2 shape: (2, 3) size: 6 type: float64\n"
     ]
    }
   ],
   "source": [
    "table  = np.ones((2,3))\n",
    "print(table)\n",
    "print(\"dim:\", table.ndim,\"shape:\",table.shape,\"size:\", table.size ,\"type:\", table.dtype)"
   ]
  },
  {
   "cell_type": "code",
   "execution_count": 7,
   "id": "25f45a60",
   "metadata": {},
   "outputs": [
    {
     "name": "stdout",
     "output_type": "stream",
     "text": [
      "[0.  0.2 0.4 0.6 0.8 1. ]\n",
      "dim: 1 shape: (6,) size: 6 type: float64\n"
     ]
    }
   ],
   "source": [
    "table  = np.linspace(0, 1, 6) #start, end, number of points\n",
    "print(table)\n",
    "print(\"dim:\", table.ndim,\"shape:\",table.shape,\"size:\", table.size ,\"type:\", table.dtype)"
   ]
  },
  {
   "cell_type": "code",
   "execution_count": 8,
   "id": "0308230b",
   "metadata": {
    "scrolled": true
   },
   "outputs": [
    {
     "name": "stdout",
     "output_type": "stream",
     "text": [
      "[[1. 0. 0.]\n",
      " [0. 1. 0.]\n",
      " [0. 0. 1.]]\n",
      "dim: 2 shape: (3, 3) size: 9 type: float64\n"
     ]
    }
   ],
   "source": [
    "table  = np.eye(3) #start, end, number of points\n",
    "print(table)\n",
    "print(\"dim:\", table.ndim,\"shape:\",table.shape,\"size:\", table.size ,\"type:\", table.dtype)"
   ]
  },
  {
   "cell_type": "markdown",
   "id": "813d43eb",
   "metadata": {},
   "source": [
    "# 6. numpy - random - randint - seed"
   ]
  },
  {
   "cell_type": "code",
   "execution_count": 8,
   "id": "7e7d8217",
   "metadata": {},
   "outputs": [
    {
     "name": "stdout",
     "output_type": "stream",
     "text": [
      "[4 6 3]\n"
     ]
    }
   ],
   "source": [
    "import numpy as np \n",
    "# low is inclsive ,high is exlusive , if high is none then rnage [0,low]\n",
    "table = np.random.randint(1,10 ,3)\n",
    "print(table)"
   ]
  },
  {
   "cell_type": "code",
   "execution_count": 9,
   "id": "6113e9c8",
   "metadata": {},
   "outputs": [
    {
     "name": "stdout",
     "output_type": "stream",
     "text": [
      "[0.21141123 0.4468675  0.83995794 0.74307317 0.58035719 0.58546569\n",
      " 0.79396846 0.47248011 0.97351299 0.27516854]\n"
     ]
    }
   ],
   "source": [
    "#[0,1] -0 incluseive , 1 exclusive\n",
    "table = np.random.random(10)\n",
    "print(table)"
   ]
  },
  {
   "cell_type": "code",
   "execution_count": 30,
   "id": "583ed46d",
   "metadata": {},
   "outputs": [
    {
     "name": "stdout",
     "output_type": "stream",
     "text": [
      "[1 1 2]\n"
     ]
    }
   ],
   "source": [
    "#generate the same numbers\n",
    "np.random.seed(50)\n",
    "table = np.random.randint(1,10 ,3)\n",
    "print(table)"
   ]
  },
  {
   "cell_type": "markdown",
   "id": "e5b1d128",
   "metadata": {},
   "source": [
    "# 7. numpy - reshape -flatten-ravel"
   ]
  },
  {
   "cell_type": "code",
   "execution_count": 2,
   "id": "74a85c7c",
   "metadata": {},
   "outputs": [
    {
     "name": "stdout",
     "output_type": "stream",
     "text": [
      "[[0.49125355 0.2344084  0.01845364]\n",
      " [0.88351897 0.11181131 0.29328766]\n",
      " [0.4082907  0.97324717 0.89086797]\n",
      " [0.73111406 0.58322336 0.13444887]]\n"
     ]
    }
   ],
   "source": [
    "import numpy as np\n",
    "#Creating a 2-D array\n",
    "table = np.random.random((4,3))\n",
    "print(table)"
   ]
  },
  {
   "cell_type": "code",
   "execution_count": 3,
   "id": "b6db486d",
   "metadata": {},
   "outputs": [
    {
     "name": "stdout",
     "output_type": "stream",
     "text": [
      "[[0.49125355 0.2344084  0.01845364 0.88351897 0.11181131 0.29328766]\n",
      " [0.4082907  0.97324717 0.89086797 0.73111406 0.58322336 0.13444887]]\n"
     ]
    }
   ],
   "source": [
    "table =table.reshape(2,6)\n",
    "print(table)"
   ]
  },
  {
   "cell_type": "code",
   "execution_count": 4,
   "id": "e25c3123",
   "metadata": {},
   "outputs": [
    {
     "name": "stdout",
     "output_type": "stream",
     "text": [
      "flattening ...\n",
      "[0.49125355 0.2344084  0.01845364 0.88351897 0.11181131 0.29328766\n",
      " 0.4082907  0.97324717 0.89086797 0.73111406 0.58322336 0.13444887]\n"
     ]
    }
   ],
   "source": [
    "#flatten the array\n",
    "print('flattening ...')\n",
    "print(table.flatten())"
   ]
  },
  {
   "cell_type": "code",
   "execution_count": 5,
   "id": "c5d02229",
   "metadata": {},
   "outputs": [
    {
     "name": "stdout",
     "output_type": "stream",
     "text": [
      "flattening ...\n",
      "[0.49125355 0.2344084  0.01845364 0.88351897 0.11181131 0.29328766\n",
      " 0.4082907  0.97324717 0.89086797 0.73111406 0.58322336 0.13444887]\n"
     ]
    }
   ],
   "source": [
    "print('flattening ...')\n",
    "print(table.ravel())"
   ]
  }
 ],
 "metadata": {
  "kernelspec": {
   "display_name": "Python 3 (ipykernel)",
   "language": "python",
   "name": "python3"
  },
  "language_info": {
   "codemirror_mode": {
    "name": "ipython",
    "version": 3
   },
   "file_extension": ".py",
   "mimetype": "text/x-python",
   "name": "python",
   "nbconvert_exporter": "python",
   "pygments_lexer": "ipython3",
   "version": "3.11.5"
  }
 },
 "nbformat": 4,
 "nbformat_minor": 5
}
