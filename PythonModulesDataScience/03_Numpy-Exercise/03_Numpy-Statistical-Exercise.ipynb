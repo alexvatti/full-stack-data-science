{
 "cells": [
  {
   "cell_type": "markdown",
   "id": "590d9562",
   "metadata": {},
   "source": [
    "##  mean\n",
    "## median\n",
    "## mode\n",
    "## var\n",
    "## std\n",
    "## percentile\n",
    "## min\n",
    "## max\n"
   ]
  },
  {
   "cell_type": "code",
   "execution_count": 2,
   "id": "1c1eb25a",
   "metadata": {},
   "outputs": [
    {
     "name": "stdout",
     "output_type": "stream",
     "text": [
      "3.0\n"
     ]
    }
   ],
   "source": [
    "import numpy as np\n",
    "\n",
    "# create a 1D array with 5 elements\n",
    "array = np.array([1, 2, 3, 4, 5])\n",
    "                                                                                                           \n",
    "# calculate the median\n",
    "median = np.median(array)\n",
    "\n",
    "print(median) "
   ]
  },
  {
   "cell_type": "code",
   "execution_count": 3,
   "id": "902f632b",
   "metadata": {},
   "outputs": [
    {
     "name": "stdout",
     "output_type": "stream",
     "text": [
      "77.2\n"
     ]
    }
   ],
   "source": [
    "import numpy as np\n",
    "\n",
    "# create a numpy array\n",
    "marks = np.array([76, 78, 81, 66, 85])\n",
    "\n",
    "# compute the mean of marks\n",
    "mean_marks = np.mean(marks)\n",
    "\n",
    "print(mean_marks)"
   ]
  },
  {
   "cell_type": "code",
   "execution_count": 7,
   "id": "5f1fd818",
   "metadata": {},
   "outputs": [
    {
     "name": "stdout",
     "output_type": "stream",
     "text": [
      "5.25\n"
     ]
    }
   ],
   "source": [
    "import numpy as np\n",
    "\n",
    "# create an array\n",
    "array1= np.array([0, 1, 2, 3, 4, 5, 6, 7])\n",
    "\n",
    "# calculate the variance of the array\n",
    "variance = np.var(array1)\n",
    "\n",
    "print(variance)"
   ]
  },
  {
   "cell_type": "code",
   "execution_count": 4,
   "id": "e784294a",
   "metadata": {},
   "outputs": [
    {
     "name": "stdout",
     "output_type": "stream",
     "text": [
      "6.368673331236263\n"
     ]
    }
   ],
   "source": [
    "import numpy as np\n",
    "\n",
    "# create a numpy array\n",
    "marks = np.array([76, 78, 81, 66, 85])\n",
    "\n",
    "# compute the standard deviation of marks\n",
    "std_marks = np.std(marks)\n",
    "print(std_marks)"
   ]
  },
  {
   "cell_type": "code",
   "execution_count": 5,
   "id": "428968a8",
   "metadata": {},
   "outputs": [
    {
     "name": "stdout",
     "output_type": "stream",
     "text": [
      "25th percentile: 5.5\n",
      "75th percentile: 14.5\n"
     ]
    }
   ],
   "source": [
    "import numpy as np\n",
    "\n",
    "# create an array\n",
    "array1 = np.array([1, 3, 5, 7, 9, 11, 13, 15, 17, 19])\n",
    "\n",
    "# compute the 25th percentile of the array\n",
    "result1 = np.percentile(array1, 25)\n",
    "print(\"25th percentile:\",result1)\n",
    "\n",
    "# compute the 75th percentile of the array\n",
    "result2 = np.percentile(array1, 75)\n",
    "print(\"75th percentile:\",result2)"
   ]
  },
  {
   "cell_type": "code",
   "execution_count": 6,
   "id": "a54845d4",
   "metadata": {},
   "outputs": [
    {
     "name": "stdout",
     "output_type": "stream",
     "text": [
      "Minimum value: 1\n",
      "Maximum value: 65\n"
     ]
    }
   ],
   "source": [
    "import numpy as np\n",
    "\n",
    "# create an array\n",
    "array1 = np.array([2,6,9,15,17,22,65,1,62])\n",
    "\n",
    "# find the minimum value of the array\n",
    "min_val = np.min(array1)\n",
    "\n",
    "# find the maximum value of the array\n",
    "max_val = np.max(array1)\n",
    "\n",
    "# print the results\n",
    "print(\"Minimum value:\", min_val)\n",
    "print(\"Maximum value:\", max_val)"
   ]
  },
  {
   "cell_type": "code",
   "execution_count": 8,
   "id": "e5d7d866",
   "metadata": {},
   "outputs": [
    {
     "name": "stdout",
     "output_type": "stream",
     "text": [
      "Correlation Coefficient: 0.9757921568410356\n"
     ]
    }
   ],
   "source": [
    "data_x = np.array([15, 18, 20, 22, 25, 30, 28, 35])\n",
    "data_y = np.array([50, 55, 60, 65, 70, 75, 80, 85])\n",
    "correlation_matrix = np.corrcoef(data_x, data_y)\n",
    "correlation_coefficient = correlation_matrix[0, 1]\n",
    "print(\"Correlation Coefficient:\", correlation_coefficient)"
   ]
  }
 ],
 "metadata": {
  "kernelspec": {
   "display_name": "Python 3 (ipykernel)",
   "language": "python",
   "name": "python3"
  },
  "language_info": {
   "codemirror_mode": {
    "name": "ipython",
    "version": 3
   },
   "file_extension": ".py",
   "mimetype": "text/x-python",
   "name": "python",
   "nbconvert_exporter": "python",
   "pygments_lexer": "ipython3",
   "version": "3.11.5"
  }
 },
 "nbformat": 4,
 "nbformat_minor": 5
}
