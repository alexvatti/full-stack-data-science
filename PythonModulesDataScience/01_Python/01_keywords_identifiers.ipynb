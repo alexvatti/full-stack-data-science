{
 "cells": [
  {
   "cell_type": "markdown",
   "metadata": {},
   "source": [
    "# Python Keywords"
   ]
  },
  {
   "cell_type": "markdown",
   "metadata": {},
   "source": [
    "Keywords are the reserved words in python\n",
    "\n",
    "We can't use a keyword as variable name, function name or any other identifier\n",
    "\n",
    "Keywords are case sentive"
   ]
  },
  {
   "cell_type": "code",
   "execution_count": 4,
   "metadata": {},
   "outputs": [
    {
     "name": "stdout",
     "output_type": "stream",
     "text": [
      "['False', 'None', 'True', 'and', 'as', 'assert', 'async', 'await', 'break', 'class', 'continue', 'def', 'del', 'elif', 'else', 'except', 'finally', 'for', 'from', 'global', 'if', 'import', 'in', 'is', 'lambda', 'nonlocal', 'not', 'or', 'pass', 'raise', 'return', 'try', 'while', 'with', 'yield']\n",
      "Total number of keywords =35\n"
     ]
    }
   ],
   "source": [
    "# Get all keywords in python 3.11\n",
    "\n",
    "\"\"\"\n",
    "Keywords are the reserved words in python\n",
    "We can't use a keyword as variable name, function name or any other identifier\n",
    "Keywords are case sentive\n",
    "\"\"\"\n",
    "#import package\n",
    "import keyword\n",
    "\n",
    "#print the keywords in python\n",
    "print(keyword.kwlist)\n",
    "\n",
    "#find the length of kwlist\n",
    "klen=len(keyword.kwlist)\n",
    "print(f\"Total number of keywords ={klen}\")"
   ]
  },
  {
   "cell_type": "markdown",
   "metadata": {
    "collapsed": true
   },
   "source": [
    "# Identifiers"
   ]
  },
  {
   "cell_type": "markdown",
   "metadata": {},
   "source": [
    "Identifier is the name given to entities like class, functions, variables etc. in Python. It helps differentiating one entity from another."
   ]
  },
  {
   "cell_type": "markdown",
   "metadata": {},
   "source": [
    "Rules for Writing Identifiers:\n",
    "In Python, an identifier is a name assigned to a variable, function, or class. The following rules govern the formation of identifiers:\n",
    "\n",
    "  1. Identifiers can be a combination of letters in lowercase (a to z) or uppercase (A to Z) or digits (0 to 9) or an underscore (_).\n",
    "\n",
    " 2. No Leading Digits: Identifiers cannot start with digits (0-9), although they can contain digits elsewhere in the name.\n",
    "\n",
    " 3. No Keywords or Inbuilt Functions: Identifiers should not use Python keywords or inbuilt function names, as these have specific purposes in the language.\n",
    "\n",
    " 4. Limited Special Characters: Identifiers should not include special characters such as !, @, #, $, %, ^, &, *, (, ), +, -, ?, /, {, }, [, ], , except for the underscore (_) character.\n",
    "\n",
    " 5. Case Sensitivity: Python treats lowercase and uppercase names as distinct identifiers. Therefore, variables with different casing are considered different.\n",
    "\n",
    "In summary, identifiers in Python must follow these rules to ensure proper functionality within the language."
   ]
  },
  {
   "cell_type": "code",
   "execution_count": 5,
   "metadata": {},
   "outputs": [
    {
     "ename": "SyntaxError",
     "evalue": "invalid syntax (1908464387.py, line 1)",
     "output_type": "error",
     "traceback": [
      "\u001b[1;36m  Cell \u001b[1;32mIn[5], line 1\u001b[1;36m\u001b[0m\n\u001b[1;33m    global = 1\u001b[0m\n\u001b[1;37m           ^\u001b[0m\n\u001b[1;31mSyntaxError\u001b[0m\u001b[1;31m:\u001b[0m invalid syntax\n"
     ]
    }
   ],
   "source": [
    "global = 1"
   ]
  },
  {
   "cell_type": "markdown",
   "metadata": {},
   "source": [
    " We cannot use special symbols like !, @, #, $, % etc. in our identifier."
   ]
  },
  {
   "cell_type": "code",
   "execution_count": null,
   "metadata": {},
   "outputs": [],
   "source": [
    "a@ = 10             #can't use special symbols as an identifier"
   ]
  }
 ],
 "metadata": {
  "kernelspec": {
   "display_name": "Python 3 (ipykernel)",
   "language": "python",
   "name": "python3"
  },
  "language_info": {
   "codemirror_mode": {
    "name": "ipython",
    "version": 3
   },
   "file_extension": ".py",
   "mimetype": "text/x-python",
   "name": "python",
   "nbconvert_exporter": "python",
   "pygments_lexer": "ipython3",
   "version": "3.11.5"
  }
 },
 "nbformat": 4,
 "nbformat_minor": 2
}
