{
 "cells": [
  {
   "cell_type": "markdown",
   "id": "cb005f1e",
   "metadata": {},
   "source": [
    "#  Array Programs:\n",
    "\n",
    "    Python Program to find sum of array\n",
    "    Python Program to find largest element in an array\n",
    "    Python Program for array rotation\n",
    "    Python Program for Reversal algorithm for array rotation\n",
    "    Python Program to Split the array and add the first part to the end\n",
    "    Python Program for Find reminder of array multiplication divided by n\n",
    "    Python Program to check if given array is Monotonic\n",
    "    \n",
    " # Matrix Programs:\n",
    "\n",
    "    Python program to add two Matrices\n",
    "    Python program to multiply two matrices\n",
    "    Python program for Matrix Product\n",
    "    Adding and Subtracting Matrices in Python\n",
    "    Transpose a matrix in Single line in Python\n",
    "    Python | Matrix creation of n*n\n",
    "    Python | Get Kth Column of Matrix\n",
    "    Python – Vertical Concatenation in Matrix"
   ]
  },
  {
   "cell_type": "markdown",
   "id": "039826ae",
   "metadata": {},
   "source": [
    "### Python Program to find sum of array\n"
   ]
  },
  {
   "cell_type": "code",
   "execution_count": 34,
   "id": "89320d94",
   "metadata": {},
   "outputs": [
    {
     "name": "stdout",
     "output_type": "stream",
     "text": [
      "sum of array [1, 2, 3, 4, 5, 6, 7, 8, 9, 10] is 55\n"
     ]
    }
   ],
   "source": [
    "# Python Program to find sum of array\n",
    "def sum_array(l):\n",
    "    \"\"\"Python Program to find sum of array\"\"\"\n",
    "    s = sum(l)\n",
    "    return s\n",
    "\n",
    "if __name__ == \"__main__\":\n",
    "    l = [1,2,3,4,5,6,7,8,9,10]\n",
    "    print(\"sum of array {} is {}\".format(l,sum_array(l)))"
   ]
  },
  {
   "cell_type": "markdown",
   "id": "8109ce45",
   "metadata": {},
   "source": [
    "### Python Program to find largest element in an array"
   ]
  },
  {
   "cell_type": "code",
   "execution_count": 35,
   "id": "b591a46f",
   "metadata": {},
   "outputs": [
    {
     "name": "stdout",
     "output_type": "stream",
     "text": [
      " largest element in an array of array [1, 2, 3, 4, 5, 6, 7, 8, 9, 10] is 10\n"
     ]
    }
   ],
   "source": [
    "#Python Program to find largest element in an array\n",
    "def largest_in_array(l):\n",
    "    \"\"\"Python Program to find largest element in an array\"\"\"\n",
    "    return max(l)\n",
    "\n",
    "if __name__ == \"__main__\":\n",
    "    l = [1,2,3,4,5,6,7,8,9,10]\n",
    "    print(\" largest element in an array of array {} is {}\".format(l,largest_in_array(l)))"
   ]
  },
  {
   "cell_type": "markdown",
   "id": "f2fea18a",
   "metadata": {},
   "source": [
    "### Python Program for array rotation\n"
   ]
  },
  {
   "cell_type": "code",
   "execution_count": 36,
   "id": "1fd07e3c",
   "metadata": {},
   "outputs": [
    {
     "name": "stdout",
     "output_type": "stream",
     "text": [
      "Orignal array is  [1, 2, 3, 4, 5, 6, 7, 8, 9, 10]\n",
      "Modified Array Rotation [4, 5, 6, 7, 8, 9, 10, 1, 2, 3]\n"
     ]
    }
   ],
   "source": [
    "# Python Program for array rotation\n",
    "def array_rotation(l,n):\n",
    "    \"\"\"Python Program for array rotation\"\"\"\n",
    "    m = l[n:] + l[:n]\n",
    "    return m \n",
    "if __name__ == \"__main__\":\n",
    "    l = [1,2,3,4,5,6,7,8,9,10]\n",
    "    print(\"Orignal array is \",l)\n",
    "    print(\"Modified Array Rotation {}\".format(array_rotation(l,3)))     \n",
    "    "
   ]
  },
  {
   "cell_type": "markdown",
   "id": "114f2296",
   "metadata": {},
   "source": [
    "### Python Program to Split the array and add the first part to the end\n",
    "\n"
   ]
  },
  {
   "cell_type": "code",
   "execution_count": 37,
   "id": "c63cabe1",
   "metadata": {},
   "outputs": [
    {
     "name": "stdout",
     "output_type": "stream",
     "text": [
      "Orignal array is  [1, 2, 3, 4, 5, 6, 7, 8, 9, 10]\n",
      "Modified Array [4, 5, 6, 7, 8, 9, 10, 1, 2, 3]\n"
     ]
    }
   ],
   "source": [
    "#Python Program to Split the array and add the first part to the end\n",
    "def split_add_array(l, pos):\n",
    "    \"\"\"Python Program to Split the array and add the first part to the end\"\"\"\n",
    "    for i in range(pos):\n",
    "        x=l.pop(0)\n",
    "        l.append(x)\n",
    "    return l\n",
    "if __name__ == \"__main__\":\n",
    "    l = [1,2,3,4,5,6,7,8,9,10]\n",
    "    print(\"Orignal array is \",l)\n",
    "    print(\"Modified Array {}\".format(split_add_array(l,3)))        \n",
    "    "
   ]
  },
  {
   "cell_type": "markdown",
   "id": "22b424ce",
   "metadata": {},
   "source": [
    "### Python Program for Find reminder of array multiplication divided by n"
   ]
  },
  {
   "cell_type": "code",
   "execution_count": 38,
   "id": "014656b3",
   "metadata": {},
   "outputs": [
    {
     "name": "stdout",
     "output_type": "stream",
     "text": [
      "Orignal array is  [1, 2, 3, 4, 5, 6, 7, 8, 9, 10]\n",
      "array multiplication divided by 3 1209600.0\n"
     ]
    }
   ],
   "source": [
    "# Python Program for Find reminder of array multiplication divided by n\n",
    "def mul_div_array(l,n):\n",
    "    mul = 1\n",
    "    for x in l:\n",
    "        mul = mul *x\n",
    "    return mul/n\n",
    "\n",
    "if __name__ == \"__main__\":\n",
    "    l = [1,2,3,4,5,6,7,8,9,10]\n",
    "    print(\"Orignal array is \",l)\n",
    "    print(\"array multiplication divided by 3 {}\".format(mul_div_array(l,3)))   \n"
   ]
  },
  {
   "cell_type": "markdown",
   "id": "abe97994",
   "metadata": {},
   "source": [
    "### Python Program to check if given array is Monotonic"
   ]
  },
  {
   "cell_type": "code",
   "execution_count": 39,
   "id": "cfd66bda",
   "metadata": {},
   "outputs": [
    {
     "name": "stdout",
     "output_type": "stream",
     "text": [
      "Orignal array is  [1, 2, 3, 4, 5, 6, 7, 8, 9, 10, 9]\n",
      "Given array is Monotonic: False\n"
     ]
    }
   ],
   "source": [
    "# Python Program to check if given array is Monotonic\n",
    "def array_monotonic(l):\n",
    "    initial = l[0]\n",
    "    monotoic = True\n",
    "    for x in  l:\n",
    "        if initial <= x:\n",
    "            initial = x\n",
    "        else:\n",
    "            monotoic = False\n",
    "            break\n",
    "    return monotoic\n",
    "\n",
    "if __name__ == \"__main__\":\n",
    "    l = [1,2,3,4,5,6,7,8,9,10,9]\n",
    "    print(\"Orignal array is \",l)\n",
    "    print(\"Given array is Monotonic: {}\".format(array_monotonic(l)))   "
   ]
  },
  {
   "cell_type": "markdown",
   "id": "2b3f2fbf",
   "metadata": {},
   "source": [
    "### Python program to add two Matrices"
   ]
  },
  {
   "cell_type": "code",
   "execution_count": 40,
   "id": "89d42f90",
   "metadata": {},
   "outputs": [
    {
     "name": "stdout",
     "output_type": "stream",
     "text": [
      "Orignal Matrices is  [1, 2, 3, 3, 4, 6, 5, 6, 7] [3, 2, 0, 6, 4, 0, 10, 6, 0]\n",
      "add two Matrices: [4, 4, 3, 9, 8, 6, 15, 12, 7]\n"
     ]
    }
   ],
   "source": [
    "#Python program to add two Matrices\n",
    "def add_two_matrices(a,b):\n",
    "    \"\"\"Python program to add two Matrices\"\"\"\n",
    "    if len(a) == len(b):\n",
    "        final= []\n",
    "        for c,d in zip(a,b):\n",
    "            if type(c) == list and type(d)==list :\n",
    "                if (len(c) == len(d)):\n",
    "                    temp = []\n",
    "                    for e,f in zip(c,d):\n",
    "                        temp.append(e+f)\n",
    "                        final.append(temp)\n",
    "                else:\n",
    "                    print(\"Invalid Matrices length -dimentions\")\n",
    "                    return None\n",
    "            \n",
    "            else:\n",
    "                final.append(c+d)\n",
    "    else:\n",
    "        print(\"Invalid Matrices length -dimentions\")\n",
    "        return None\n",
    "        \n",
    "    return final\n",
    "if __name__ == \"__main__\":\n",
    "    l = [1,2,3,3,4,6,5,6,7]\n",
    "    m = [3,2,0,6,4,0,10,6,0]\n",
    "    print(\"Orignal Matrices is \",l , m)\n",
    "    print(\"add two Matrices: {}\".format(add_two_matrices(l,m)))   "
   ]
  },
  {
   "cell_type": "markdown",
   "id": "e32487ad",
   "metadata": {},
   "source": [
    "### Subtracting Matrices in Python"
   ]
  },
  {
   "cell_type": "code",
   "execution_count": 41,
   "id": "d49dad5c",
   "metadata": {},
   "outputs": [
    {
     "name": "stdout",
     "output_type": "stream",
     "text": [
      "Orignal Matrices is  [[1, 2, 3], [3, 4, 6], [5, 6, 7]] [[3, 2, 0], [6, 4, 0], [10, 6, 0]]\n",
      "Subtracting Matrices in Python: [[-2, 0, 3], [-2, 0, 3], [-2, 0, 3], [-3, 0, 6], [-3, 0, 6], [-3, 0, 6], [-5, 0, 7], [-5, 0, 7], [-5, 0, 7]]\n"
     ]
    }
   ],
   "source": [
    "#Subtracting Matrices in Python\n",
    "def Subtracting_two_matrices(a,b):\n",
    "    \"\"\"Subtracting Matrices in Python\"\"\"\n",
    "    if len(a) == len(b):\n",
    "        final= []\n",
    "        for c,d in zip(a,b):\n",
    "            if type(c) == list and type(d)==list :\n",
    "                if (len(c) == len(d)):\n",
    "                    temp = []\n",
    "                    for e,f in zip(c,d):\n",
    "                        temp.append(e-f)\n",
    "                        final.append(temp)\n",
    "                else:\n",
    "                    print(\"Invalid Matrices length -dimentions\")\n",
    "                    return None\n",
    "            \n",
    "            else:\n",
    "                final.append(c-d)\n",
    "    else:\n",
    "        print(\"Invalid Matrices length -dimentions\")\n",
    "        return None\n",
    "        \n",
    "    return final\n",
    "if __name__ == \"__main__\":\n",
    "    l = [[1,2,3],[3,4,6],[5,6,7]]\n",
    "    m = [[3,2,0],[6,4,0],[10,6,0]]\n",
    "    print(\"Orignal Matrices is \",l , m)\n",
    "    print(\"Subtracting Matrices in Python: {}\".format(Subtracting_two_matrices(l,m))) "
   ]
  },
  {
   "cell_type": "code",
   "execution_count": null,
   "id": "41edb357",
   "metadata": {},
   "outputs": [],
   "source": []
  }
 ],
 "metadata": {
  "kernelspec": {
   "display_name": "Python 3 (ipykernel)",
   "language": "python",
   "name": "python3"
  },
  "language_info": {
   "codemirror_mode": {
    "name": "ipython",
    "version": 3
   },
   "file_extension": ".py",
   "mimetype": "text/x-python",
   "name": "python",
   "nbconvert_exporter": "python",
   "pygments_lexer": "ipython3",
   "version": "3.11.5"
  }
 },
 "nbformat": 4,
 "nbformat_minor": 5
}
