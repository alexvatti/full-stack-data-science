{
 "cells": [
  {
   "cell_type": "markdown",
   "id": "8415c228",
   "metadata": {},
   "source": [
    "# Tuple Programs:\n",
    "    Python program to Find the size of a Tuple\n",
    "    Python – Maximum and Minimum K elements in Tuple\n",
    "    Pyhton - Create a list of tuples from given list having number and its cube in each tuple\n",
    "    Python – Adding Tuple to List and vice – versa\n",
    "    Python – Closest Pair to Kth index element in Tuple\n",
    "    Python – Join Tuples if similar initial element\n",
    "    Python – Extract digits from Tuple list\n",
    "    Python – All pair combinations of 2 tuples\n",
    "    Python – Remove Tuples of Length K\n",
    "    Sort a list of tuples by second Item\n",
    "    Python program to Order Tuples using external List\n",
    "    Python – Flatten tuple of List to tuple\n",
    "    Python – Convert Nested Tuple to Custom Key Dictionary"
   ]
  },
  {
   "cell_type": "markdown",
   "id": "9bf32125",
   "metadata": {},
   "source": [
    "## Python program to Find the size of a Tuple"
   ]
  },
  {
   "cell_type": "code",
   "execution_count": 4,
   "id": "63f094b1",
   "metadata": {},
   "outputs": [
    {
     "name": "stdout",
     "output_type": "stream",
     "text": [
      "Given tuple= (1, 2, 3, 4, 5, [1, 2, 3, 4, 5], 'abc')\n",
      "size of a Tuple= 7\n"
     ]
    }
   ],
   "source": [
    "# Python program to Find the size of a Tuple\n",
    "def tuple_length(t):\n",
    "    \"\"\"Python program to Find the size of a Tuple\"\"\"\n",
    "    return len(t)\n",
    "\n",
    "if __name__ == \"__main__\":\n",
    "    t=(1,2,3,4,5,[1,2,3,4,5],\"abc\")\n",
    "    print(\"Given tuple=\",t)\n",
    "    print(\"size of a Tuple=\",tuple_length(t))"
   ]
  },
  {
   "cell_type": "markdown",
   "id": "2e2a4f9e",
   "metadata": {},
   "source": [
    "## Python – Maximum and Minimum K elements in Tuple"
   ]
  },
  {
   "cell_type": "code",
   "execution_count": 5,
   "id": "752f7c82",
   "metadata": {},
   "outputs": [
    {
     "name": "stdout",
     "output_type": "stream",
     "text": [
      "Given tuple= (1, 2, 3, 4, 5, 6, 7, 8, 9)\n",
      "max and min of tuple= (9, 1)\n"
     ]
    }
   ],
   "source": [
    "# ython – Maximum and Minimum K elements in Tuple\n",
    "def max_min_tuple(t):\n",
    "    \"\"\"ython – Maximum and Minimum K elements in Tuple\"\"\"\n",
    "    return max(t),min(t)\n",
    "\n",
    "if __name__ == \"__main__\":\n",
    "    t=(1,2,3,4,5,6,7,8,9)\n",
    "    print(\"Given tuple=\",t)\n",
    "    print(\"max and min of tuple=\",max_min_tuple(t))"
   ]
  },
  {
   "cell_type": "markdown",
   "id": "c4e316b0",
   "metadata": {},
   "source": [
    "## Pyhton - Create a list of tuples from given list having number and its cube in each tuple"
   ]
  },
  {
   "cell_type": "code",
   "execution_count": 9,
   "id": "d367fb90",
   "metadata": {},
   "outputs": [
    {
     "name": "stdout",
     "output_type": "stream",
     "text": [
      "Given list= [1, 2, 3]\n",
      "Output =  [(1, 1), (2, 8), (3, 27)]\n"
     ]
    }
   ],
   "source": [
    "# Pyhton - Create a list of tuples from given list having number and its cube in each tuple\n",
    "def create_list_tuple(l):\n",
    "    \"\"\"Pyhton - Create a list of tuples from given list having number and its cube in each tuple\"\"\"\n",
    "    m=[(x,pow(x,3)) for x in l]\n",
    "    return m\n",
    "if __name__ == \"__main__\":        \n",
    "    l = [1, 2, 3]\n",
    "    print(\"Given list=\",l)\n",
    "    print(\"Output = \",create_list_tuple(l))\n",
    "    "
   ]
  },
  {
   "cell_type": "markdown",
   "id": "f6d021ea",
   "metadata": {},
   "source": [
    "## Python – Adding Tuple to List and vice – versa"
   ]
  },
  {
   "cell_type": "code",
   "execution_count": 15,
   "id": "28d52590",
   "metadata": {},
   "outputs": [
    {
     "name": "stdout",
     "output_type": "stream",
     "text": [
      "Adding tuple to list output= [1, 2, 3, 4, 5, 6, 7, 8, 9]\n",
      "Adding list to tuple output= (1, 2, 3, 4, 5, 6, 7, 8, 9)\n"
     ]
    }
   ],
   "source": [
    "## Python – Adding Tuple to List and vice – versa\n",
    "def add_tuple_to_list(t,l):\n",
    "    \"\"\"Adding Tuple to List\"\"\"\n",
    "    return list(t) + l\n",
    "    \n",
    "    \n",
    "def add_list_to_tuple(l,t):\n",
    "    \"\"\"Adding List to Tuple\"\"\"\n",
    "    return t+  tuple(l) \n",
    "    \n",
    "\n",
    "if __name__ == \"__main__\":  \n",
    "    t = (1,2,3,4,5,6)\n",
    "    l = [7,8,9]\n",
    "    print(\"Adding tuple to list output=\",add_tuple_to_list(t,l))\n",
    "    print(\"Adding list to tuple output=\",add_list_to_tuple(l,t))"
   ]
  },
  {
   "cell_type": "markdown",
   "id": "58d85dfe",
   "metadata": {},
   "source": [
    "## Python – Closest Pair to Kth index element in Tuple"
   ]
  },
  {
   "cell_type": "code",
   "execution_count": 25,
   "id": "cec69280",
   "metadata": {},
   "outputs": [
    {
     "name": "stdout",
     "output_type": "stream",
     "text": [
      "Closest Pair to Tuple =  (19, 23)\n"
     ]
    }
   ],
   "source": [
    "# Python – Closest Pair to Kth index element in Tuple\n",
    "def closet_pair_to_tuple(l,t):\n",
    "    d=10000\n",
    "    m=[]\n",
    "    for s in l:\n",
    "        temp=0\n",
    "        for x1,x2 in zip(s,t):\n",
    "            temp=temp+abs(x2-x1)\n",
    "        m.append((temp,s))\n",
    "    return sorted(m)\n",
    "            \n",
    "if __name__ == \"__main__\":  \n",
    "    test_list = [(3, 4), (78, 76), (2, 3), (9, 8), (19, 23)]\n",
    "    tup = (17, 23)\n",
    "    print(\"Closest Pair to Tuple = \",closet_pair_to_tuple(test_list,tup)[0][1])\n",
    "    \n"
   ]
  },
  {
   "cell_type": "markdown",
   "id": "924fd841",
   "metadata": {},
   "source": [
    "## Python – Join Tuples if similar initial element"
   ]
  },
  {
   "cell_type": "code",
   "execution_count": 11,
   "id": "e99c112f",
   "metadata": {
    "scrolled": true
   },
   "outputs": [
    {
     "name": "stdout",
     "output_type": "stream",
     "text": [
      "The original list is : [(5, 6), (5, 7), (6, 8), (6, 10), (7, 13)]\n",
      "Output =  [(5, 6, 7), (6, 8, 10), (7, 13)]\n"
     ]
    }
   ],
   "source": [
    "# Python – Join Tuples if similar initial element\n",
    "from collections import defaultdict\n",
    " \n",
    "def join_tuple_similar_initial_ele(test_list):\n",
    "    \"\"\"Python – Join Tuples if similar initial element\"\"\"\n",
    "    # printing original list\n",
    "    print(\"The original list is : \" + str(test_list))\n",
    "     # Join Tuples if similar initial element\n",
    "    # Using defaultdict() + loop\n",
    "    mapp = defaultdict(list)\n",
    "    for key,value in test_list:\n",
    "        mapp[key].append(value)\n",
    "\n",
    "    result = [ (key,*values) for key,values in  mapp.items()]\n",
    "    return result\n",
    "\n",
    "if __name__ == \"__main__\": \n",
    "    test_list = [(5, 6), (5, 7), (6, 8), (6, 10), (7, 13)]\n",
    "    print(\"Output = \",join_tuple_similar_initial_ele(test_list))"
   ]
  },
  {
   "cell_type": "markdown",
   "id": "4b5bcaf6",
   "metadata": {},
   "source": [
    "## Sort a list of tuples by second Item"
   ]
  },
  {
   "cell_type": "code",
   "execution_count": 13,
   "id": "327c5444",
   "metadata": {},
   "outputs": [
    {
     "name": "stdout",
     "output_type": "stream",
     "text": [
      "[('akash', 5), ('rishav', 10), ('gaurav', 15), ('ram', 20)]\n"
     ]
    }
   ],
   "source": [
    "# Sort a list of tuples by second Item\n",
    "def sort_tuple_second_ele(t):\n",
    "    \"\"\"Sort a list of tuples by second Item\"\"\"\n",
    "    return sorted(t, key=lambda x: x[1])\n",
    "\n",
    "if __name__ == \"__main__\": \n",
    "    tup = [('rishav', 10), ('akash', 5), ('ram', 20), ('gaurav', 15)] \n",
    " \n",
    "    # printing the sorted list of tuples\n",
    "    print(sort_tuple_second_ele(tup)) "
   ]
  },
  {
   "cell_type": "markdown",
   "id": "c0391fdd",
   "metadata": {},
   "source": [
    "### Python – Flatten tuple of List to tuple"
   ]
  },
  {
   "cell_type": "code",
   "execution_count": 4,
   "id": "e160ef18",
   "metadata": {},
   "outputs": [
    {
     "name": "stdout",
     "output_type": "stream",
     "text": [
      "Given list= ([5, 6], [6, 7, 8, 9], [3])\n",
      "Output =  (5, 6, 6, 7, 8, 9, 3)\n"
     ]
    }
   ],
   "source": [
    "import itertools\n",
    "# Python – Flatten tuple of List to tuple\n",
    "def flat_list_tuple(t):\n",
    "    \"\"\"Python – Flatten tuple of List to tuple\"\"\"\n",
    "    return tuple(itertools.chain.from_iterable(t))\n",
    "\n",
    "if __name__ == \"__main__\": \n",
    "    test_tuple = ([5, 6], [6, 7, 8, 9], [3])\n",
    "    print(\"Given list=\",test_tuple)\n",
    "    print(\"Output = \",flat_list_tuple(test_tuple))    "
   ]
  },
  {
   "cell_type": "markdown",
   "id": "11dafed1",
   "metadata": {},
   "source": [
    "### Python – Convert Nested Tuple to Custom Key Dictionary"
   ]
  },
  {
   "cell_type": "code",
   "execution_count": 9,
   "id": "5b2ad685",
   "metadata": {},
   "outputs": [
    {
     "name": "stdout",
     "output_type": "stream",
     "text": [
      "output= [{'key': 4, 'value': 'Gfg', 'id': 10}, {'key': 3, 'value': 'is', 'id': 8}, {'key': 6, 'value': 'Best', 'id': 10}]\n"
     ]
    }
   ],
   "source": [
    "# Python – Convert Nested Tuple to Custom Key Dictionary\n",
    "def conveet_nested_tuple_key_dict(n,k):\n",
    "    \"\"\"Python – Convert Nested Tuple to Custom Key Dictionary\"\"\"\n",
    "    d = []\n",
    "    for item in n:\n",
    "        temp= {}\n",
    "        for key,value in zip(k,item):\n",
    "            temp[key]=value\n",
    "        d.append(temp)\n",
    "    return d\n",
    "\n",
    "if __name__ == \"__main__\": \n",
    "    test_tuple = ((4, 'Gfg', 10), (3, 'is', 8), (6, 'Best', 10)) \n",
    "    keys = ['key', 'value', 'id']\n",
    "    print(\"output=\",conveet_nested_tuple_key_dict(test_tuple,keys))\n"
   ]
  }
 ],
 "metadata": {
  "kernelspec": {
   "display_name": "Python 3 (ipykernel)",
   "language": "python",
   "name": "python3"
  },
  "language_info": {
   "codemirror_mode": {
    "name": "ipython",
    "version": 3
   },
   "file_extension": ".py",
   "mimetype": "text/x-python",
   "name": "python",
   "nbconvert_exporter": "python",
   "pygments_lexer": "ipython3",
   "version": "3.11.5"
  }
 },
 "nbformat": 4,
 "nbformat_minor": 5
}
