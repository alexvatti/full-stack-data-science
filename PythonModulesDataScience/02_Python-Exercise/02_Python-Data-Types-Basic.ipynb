{
 "cells": [
  {
   "cell_type": "markdown",
   "id": "38504ebe",
   "metadata": {},
   "source": [
    "# Data types in Python\n",
    "  - Numbers\n",
    "     - intergers \n",
    "         - binary\n",
    "          - octa  \n",
    "          - hexa \n",
    "          - decimal\n",
    "     - float \n",
    "     - complex\n",
    "   - String/Text\n",
    "      - string\n",
    "      - Boolean\n"
   ]
  },
  {
   "cell_type": "markdown",
   "id": "fb5d1d2b",
   "metadata": {},
   "source": [
    "# integer - data type"
   ]
  },
  {
   "cell_type": "code",
   "execution_count": 2,
   "id": "c1c4e212",
   "metadata": {},
   "outputs": [
    {
     "name": "stdout",
     "output_type": "stream",
     "text": [
      "100 data type <class 'int'>\n"
     ]
    }
   ],
   "source": [
    "num = 100\n",
    "print(f\"{num} data type {type(num)}\")"
   ]
  },
  {
   "cell_type": "markdown",
   "id": "678a4c5e",
   "metadata": {},
   "source": [
    "# float - data type"
   ]
  },
  {
   "cell_type": "code",
   "execution_count": 3,
   "id": "3ff68500",
   "metadata": {},
   "outputs": [
    {
     "name": "stdout",
     "output_type": "stream",
     "text": [
      "30.5 data type <class 'float'>\n"
     ]
    }
   ],
   "source": [
    "temp=30.5\n",
    "print(f\"{temp} data type {type(temp)}\")"
   ]
  },
  {
   "cell_type": "markdown",
   "id": "fcd136cf",
   "metadata": {},
   "source": [
    "# complex- data type"
   ]
  },
  {
   "cell_type": "code",
   "execution_count": 4,
   "id": "dede1c3e",
   "metadata": {},
   "outputs": [
    {
     "name": "stdout",
     "output_type": "stream",
     "text": [
      "(1+2j) data type <class 'complex'>\n"
     ]
    }
   ],
   "source": [
    "a = 1 + 2j\n",
    "print(f\"{a} data type {type(a)}\")"
   ]
  },
  {
   "cell_type": "markdown",
   "id": "e69a22d6",
   "metadata": {},
   "source": [
    "## integer - format binary   - data type"
   ]
  },
  {
   "cell_type": "code",
   "execution_count": 5,
   "id": "4b9d49c1",
   "metadata": {},
   "outputs": [
    {
     "name": "stdout",
     "output_type": "stream",
     "text": [
      "7 data type <class 'int'>\n"
     ]
    }
   ],
   "source": [
    "a=0b111\n",
    "print(f\"{a} data type {type(a)}\")"
   ]
  },
  {
   "cell_type": "markdown",
   "id": "4929385f",
   "metadata": {},
   "source": [
    "## integer - format octa  - data type"
   ]
  },
  {
   "cell_type": "code",
   "execution_count": 6,
   "id": "d8057a47",
   "metadata": {},
   "outputs": [
    {
     "name": "stdout",
     "output_type": "stream",
     "text": [
      "156 data type <class 'int'>\n"
     ]
    }
   ],
   "source": [
    "a=0o234\n",
    "print(f\"{a} data type {type(a)}\")"
   ]
  },
  {
   "cell_type": "markdown",
   "id": "d4c113a0",
   "metadata": {},
   "source": [
    "## integer - format hexa decimal  - data type"
   ]
  },
  {
   "cell_type": "code",
   "execution_count": 8,
   "id": "72e2b851",
   "metadata": {},
   "outputs": [
    {
     "name": "stdout",
     "output_type": "stream",
     "text": [
      "2457 data type <class 'int'>\n"
     ]
    }
   ],
   "source": [
    "a=0x999\n",
    "print(f\"{a} data type {type(a)}\")"
   ]
  },
  {
   "cell_type": "markdown",
   "id": "aadd3bff",
   "metadata": {},
   "source": [
    "## string data type"
   ]
  },
  {
   "cell_type": "code",
   "execution_count": 9,
   "id": "ae32493a",
   "metadata": {},
   "outputs": [
    {
     "name": "stdout",
     "output_type": "stream",
     "text": [
      "welcome to python programming data type <class 'str'>\n"
     ]
    }
   ],
   "source": [
    "s=\"welcome to python programming\"\n",
    "print(f\"{s} data type {type(s)}\")"
   ]
  },
  {
   "cell_type": "markdown",
   "id": "d3b3c009",
   "metadata": {},
   "source": [
    "## boolean data type"
   ]
  },
  {
   "cell_type": "code",
   "execution_count": 10,
   "id": "fea465f2",
   "metadata": {},
   "outputs": [
    {
     "name": "stdout",
     "output_type": "stream",
     "text": [
      "True data type <class 'bool'>\n"
     ]
    }
   ],
   "source": [
    "a=True\n",
    "print(f\"{a} data type {type(a)}\")"
   ]
  },
  {
   "cell_type": "code",
   "execution_count": 11,
   "id": "53b81143",
   "metadata": {},
   "outputs": [
    {
     "name": "stdout",
     "output_type": "stream",
     "text": [
      "False data type <class 'bool'>\n"
     ]
    }
   ],
   "source": [
    "a=False\n",
    "print(f\"{a} data type {type(a)}\")"
   ]
  }
 ],
 "metadata": {
  "kernelspec": {
   "display_name": "Python 3 (ipykernel)",
   "language": "python",
   "name": "python3"
  },
  "language_info": {
   "codemirror_mode": {
    "name": "ipython",
    "version": 3
   },
   "file_extension": ".py",
   "mimetype": "text/x-python",
   "name": "python",
   "nbconvert_exporter": "python",
   "pygments_lexer": "ipython3",
   "version": "3.11.5"
  }
 },
 "nbformat": 4,
 "nbformat_minor": 5
}
