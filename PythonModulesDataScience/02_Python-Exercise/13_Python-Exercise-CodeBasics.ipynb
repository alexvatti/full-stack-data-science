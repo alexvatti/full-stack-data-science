{
 "cells": [
  {
   "cell_type": "markdown",
   "id": "ccc65a36",
   "metadata": {},
   "source": [
    "# Credits to \"codebasics\" &  \"Dhaval Patel \"-  Content Taken from\n",
    "# Data Science Roadmap 2024  - https://youtu.be/PFPt6PQNslE\n",
    "# Cover - Python - Exercises\n",
    "# https://youtube.com/playlist?list=PLeo1K3hjS3uv5U-Lmlnucd7gqF-3ehIh0&si=CRDl5bsjEdNMyZ_H\n",
    "# https://github.com/codebasics/py/tree/master/Basics/Exercise"
   ]
  },
  {
   "cell_type": "markdown",
   "id": "79e5f83e",
   "metadata": {},
   "source": [
    "\n",
    "\n",
    "# 1. Exercise: Python Variables\n",
    "\n",
    "## https://github.com/codebasics/py/blob/master/Basics/Exercise/2_variables/2_variables_exercise.md\n",
    "\n"
   ]
  },
  {
   "cell_type": "markdown",
   "id": "0c35f179",
   "metadata": {},
   "source": [
    "## 1.1 Create a variable called break and assign it a value 5. See what happens and find out the reason behind the behavior that you see."
   ]
  },
  {
   "cell_type": "code",
   "execution_count": 11,
   "id": "92dc41f5",
   "metadata": {},
   "outputs": [],
   "source": [
    "#break=5\n",
    "#break is keyword , we can use for varialbe name(Identifier), so we are getting Syntax Error"
   ]
  },
  {
   "cell_type": "markdown",
   "id": "99f7d0de",
   "metadata": {},
   "source": [
    "## 1.2 Create two variables. One to store your birth year and another one to store current year. Now calculate your age using these two variables"
   ]
  },
  {
   "cell_type": "code",
   "execution_count": 49,
   "id": "0c143dc0",
   "metadata": {},
   "outputs": [
    {
     "name": "stdout",
     "output_type": "stream",
     "text": [
      "age is 39\n"
     ]
    }
   ],
   "source": [
    "birth_year=1985\n",
    "current_year=2024\n",
    "print(f\"age is {current_year - birth_year}\")"
   ]
  },
  {
   "cell_type": "markdown",
   "id": "87d166f8",
   "metadata": {},
   "source": [
    "## 1.3 Store your first, middle and last name in three different variables and then print your full name using these variables"
   ]
  },
  {
   "cell_type": "code",
   "execution_count": 48,
   "id": "1461d78b",
   "metadata": {},
   "outputs": [
    {
     "name": "stdout",
     "output_type": "stream",
     "text": [
      "full name : Aravind Reddy Komati\n"
     ]
    }
   ],
   "source": [
    "first_name=\"Aravind\"\n",
    "middle_name=\"Reddy\"\n",
    "last_name=\"Komati\"\n",
    "print(f\"full name : {first_name} {middle_name} {last_name}\")"
   ]
  },
  {
   "cell_type": "markdown",
   "id": "882ba023",
   "metadata": {},
   "source": [
    "## 1.4 Answer which of these are invalid variable names: _nation 1record record1 record_one record-one record^one continue"
   ]
  },
  {
   "cell_type": "code",
   "execution_count": 14,
   "id": "4ee12555",
   "metadata": {},
   "outputs": [],
   "source": [
    "# Invalid \n",
    "_nation = 123\n",
    "#1record = 123\n",
    "#record-one=12\n",
    "#record^one=123"
   ]
  },
  {
   "cell_type": "markdown",
   "id": "a5b3bb16",
   "metadata": {},
   "source": [
    "\n",
    "# 2. Python Numbers Exercise\n",
    "## https://github.com/codebasics/py/blob/master/Basics/Exercise/3_numbers/3_numbers_exercise.py\n",
    "\n"
   ]
  },
  {
   "cell_type": "markdown",
   "id": "82b2b245",
   "metadata": {},
   "source": [
    "## 2.1. You have a football field that is 92 meter long and 48.8 meter wide. Find out total area using python and print it"
   ]
  },
  {
   "cell_type": "code",
   "execution_count": 20,
   "id": "c8df56b1",
   "metadata": {},
   "outputs": [
    {
     "name": "stdout",
     "output_type": "stream",
     "text": [
      "area of football field  4489.599999999999 sq m\n"
     ]
    }
   ],
   "source": [
    "def area_footbal_ground(l,b):\n",
    "    \"\"\"finding the area of rectangle - for given length and breadth\"\"\"\n",
    "    return(l*b)\n",
    "\n",
    "if __name__ == \"__main__\":\n",
    "    l = 92\n",
    "    b = 48.8\n",
    "    print(f\"area of football field  {area_footbal_ground(l,b)} sq m\") \n",
    "    "
   ]
  },
  {
   "cell_type": "markdown",
   "id": "5873b4f0",
   "metadata": {},
   "source": [
    "## 2.2 You bought 9 packets of potato chips from a store. Each packet costs 1.49 dollar     and you gave shopkeeper 20 dollar.    Find out using python, how many dollars is the shopkeeper going to give you back?"
   ]
  },
  {
   "cell_type": "code",
   "execution_count": 23,
   "id": "041521cf",
   "metadata": {},
   "outputs": [
    {
     "name": "stdout",
     "output_type": "stream",
     "text": [
      "Cash back: 6.59\n"
     ]
    }
   ],
   "source": [
    "chip_packets=9\n",
    "packet_cost=1.49\n",
    "paid=20\n",
    "return_amount = paid-(chip_packets*packet_cost)\n",
    "print(f\"Cash back: {return_amount}\") "
   ]
  },
  {
   "cell_type": "markdown",
   "id": "b8b79607",
   "metadata": {},
   "source": [
    "## 2.3. You want to replace tiles in your bathroom which is exactly square and 5.5 feet  is its length. If tiles cost 500 rs per square feet, how much will be the totalcost to replace all tiles. Calculate and print the cost using python\n",
    "## #   Hint: Use power operator (**) to find area of a square"
   ]
  },
  {
   "cell_type": "code",
   "execution_count": 27,
   "id": "4857966e",
   "metadata": {},
   "outputs": [
    {
     "name": "stdout",
     "output_type": "stream",
     "text": [
      "Total Cost in Rs : 15125.0\n"
     ]
    }
   ],
   "source": [
    "def cost_tiles(side,unit_cost):\n",
    "    area=side**2\n",
    "    total_cost=area*unit_cost\n",
    "    return total_cost\n",
    "print(f\"Total Cost in Rs : {cost_tiles(5.5,500)}\")"
   ]
  },
  {
   "cell_type": "markdown",
   "id": "82b7ce46",
   "metadata": {},
   "source": [
    "## 2.4. Print binary representation of number 17"
   ]
  },
  {
   "cell_type": "code",
   "execution_count": 36,
   "id": "2571005f",
   "metadata": {},
   "outputs": [
    {
     "name": "stdout",
     "output_type": "stream",
     "text": [
      "Binary value of 17 is  0b10001\n",
      "Binary value of 17 is  10001\n"
     ]
    }
   ],
   "source": [
    "print(\"Binary value of 17 is \", bin(17))\n",
    "print(\"Binary value of 17 is \",format(17,'b'))"
   ]
  },
  {
   "cell_type": "markdown",
   "id": "a387ff80",
   "metadata": {},
   "source": [
    "\n",
    "# 3. Exercise: String in Python\n",
    "## https://github.com/codebasics/py/blob/master/Basics/Exercise/4_strings/4_strings_exercise.md\n",
    "\n"
   ]
  },
  {
   "cell_type": "markdown",
   "id": "4b0634f7",
   "metadata": {},
   "source": [
    "## 3.1. Create 3 variables to store street, city and country, now create address variable to store entire address. Use two ways of creating this variable, one using + operator and the other using f-string. Now Print the address in such a way that the street, city and country prints in a separate line"
   ]
  },
  {
   "cell_type": "code",
   "execution_count": 47,
   "id": "3d6c1593",
   "metadata": {},
   "outputs": [
    {
     "name": "stdout",
     "output_type": "stream",
     "text": [
      "Address using + operator: Mothi Nagar\n",
      "Hyderabad\n",
      "India\n",
      "Address using f-string: Mothi Nagar\n",
      "Hyderabad\n",
      "India\n"
     ]
    }
   ],
   "source": [
    "street=\"Mothi Nagar\"\n",
    "city=\"Hyderabad\"\n",
    "country=\"India\"\n",
    "\n",
    "address = street + '\\n' + city + '\\n' + country\n",
    "print(\"Address using + operator:\",address)\n",
    "\n",
    "address = f'{street}\\n{city}\\n{country}'\n",
    "print(\"Address using f-string:\",address)\n"
   ]
  },
  {
   "cell_type": "markdown",
   "id": "b544b5bb",
   "metadata": {},
   "source": [
    "## 3.2. Create a variable to store the string \"Earth revolves around the sun\" ,  Print \"revolves\" using slice operator , Print \"sun\" using negative index\n"
   ]
  },
  {
   "cell_type": "code",
   "execution_count": 48,
   "id": "032872e1",
   "metadata": {},
   "outputs": [
    {
     "name": "stdout",
     "output_type": "stream",
     "text": [
      "revolves\n",
      "sun\n"
     ]
    }
   ],
   "source": [
    "s = \"Earth revolves around the sun\"\n",
    "print(s[6:14])\n",
    "print(s[-3:])"
   ]
  },
  {
   "cell_type": "markdown",
   "id": "08afb9c8",
   "metadata": {},
   "source": [
    "## 3.3. Create two variables to store how many fruits and vegetables you eat in a day. Now Print \"I eat x veggies and y fruits daily\" where x and y presents vegetables and fruits that you eat everyday. Use python f string for this."
   ]
  },
  {
   "cell_type": "code",
   "execution_count": 50,
   "id": "3dcb2c15",
   "metadata": {},
   "outputs": [
    {
     "name": "stdout",
     "output_type": "stream",
     "text": [
      "I eat 10 veggies and 5 fruits daily\n",
      "I eat 10 veggies and 5 fruits daily\n"
     ]
    }
   ],
   "source": [
    "x = 10\n",
    "y = 5\n",
    "s=f\"I eat {x} veggies and {y} fruits daily\"\n",
    "print(s)\n",
    "print(f\"I eat {x} veggies and {y} fruits daily\")"
   ]
  },
  {
   "cell_type": "markdown",
   "id": "f8772667",
   "metadata": {},
   "source": [
    "## 3.4. I have a string variable called s='maine 200 banana khaye'. This of course is a wrong statement, the correct statement is 'maine 10 samosa khaye'. Replace incorrect words in original strong with new ones and print the new string. Also try to do this in one line."
   ]
  },
  {
   "cell_type": "code",
   "execution_count": 53,
   "id": "5e580632",
   "metadata": {},
   "outputs": [
    {
     "name": "stdout",
     "output_type": "stream",
     "text": [
      "maine 10 banana khaye\n"
     ]
    }
   ],
   "source": [
    "s='maine 200 banana khaye'\n",
    "print(s.replace('200','10'))"
   ]
  },
  {
   "cell_type": "markdown",
   "id": "3c875c03",
   "metadata": {},
   "source": [
    "\n",
    "# 4.  Exercise: Python Lists\n",
    "## https://github.com/codebasics/py/blob/master/Basics/Exercise/5_lists/5_lists_exercise.md\n",
    "\n"
   ]
  },
  {
   "cell_type": "markdown",
   "id": "e6923d8c",
   "metadata": {},
   "source": [
    "## 4. 1. \n",
    "Let us say your expense for every month are listed below,\n",
    "January - 2200\n",
    "February - 2350\n",
    "March - 2600\n",
    "April - 2130\n",
    "May - 2190\n",
    "Create a list to store these monthly expenses and using that find out,\n",
    "\n",
    "\n",
    "Explain\n",
    "1. In Feb, how many dollars you spent extra compare to January?\n",
    "2. Find out your total expense in first quarter (first three months) of the year.\n",
    "3. Find out if you spent exactly 2000 dollars in any month\n",
    "4. June month just finished and your expense is 1980 dollar. Add this item to our monthly expense list\n",
    "5. You returned an item that you bought in a month of April and\n",
    "got a refund of 200$. Make a correction to your monthly expense list\n",
    "based on this"
   ]
  },
  {
   "cell_type": "code",
   "execution_count": 69,
   "id": "0241fef6",
   "metadata": {},
   "outputs": [
    {
     "name": "stdout",
     "output_type": "stream",
     "text": [
      "In Feb, how many dollars you spent extra compare to January? 150\n",
      "Find out your total expense in first quarter (first three months) of the year. 7150\n",
      "fining 2000 in expense list:  False\n",
      "adding jube expense [2200, 2350, 2600, 2130, 2190, 1980]\n",
      "after refund:  [2200, 2350, 2600, 1930, 2190, 1980]\n"
     ]
    }
   ],
   "source": [
    "expense_list = [ 2200 , 2350 , 2600, 2130, 2190]\n",
    "#1. In Feb, how many dollars you spent extra compare to January?\n",
    "print(\"In Feb, how many dollars you spent extra compare to January?\", expense_list[1]-expense_list[0])\n",
    "#2. Find out your total expense in first quarter (first three months) of the year.\n",
    "print(\"Find out your total expense in first quarter (first three months) of the year.\",sum(expense_list[0:3]))\n",
    "#3. Find out if you spent exactly 2000 dollars in any month\n",
    "print(\"fining 2000 in expense list: \",2000 in expense_list)\n",
    "#4. June month just finished and your expense is 1980 dollar. Add this item to our monthly expense list\n",
    "expense_list.append(1980)\n",
    "print(\"adding jube expense\", expense_list)\n",
    "#You returned an item that you bought in a month of April and got a refund of 200$. Make a correction to your monthly expense list\n",
    "# based on this\n",
    "expense_list[3]=expense_list[3]-200\n",
    "print(\"after refund: \",expense_list)"
   ]
  },
  {
   "cell_type": "markdown",
   "id": "60cd3057",
   "metadata": {},
   "source": [
    "## 4.2. You have a list of your favourite marvel super heros.\n",
    "\n",
    "heros=['spider man','thor','hulk','iron man','captain america']\n",
    "\n",
    "Using this find out,\n",
    "\n",
    "    1. Length of the list\n",
    "    2. Add 'black panther' at the end of this list\n",
    "    3. You realize that you need to add 'black panther' after 'hulk',\n",
    "       so remove it from the list first and then add it after 'hulk'\n",
    "    4. Now you don't like thor and hulk because they get angry easily :)\n",
    "       So you want to remove thor and hulk from list and replace them with doctor strange (because he is cool).\n",
    "       Do that with one line of code.\n",
    "    5. Sort the heros list in alphabetical order (Hint. Use dir() functions to list down all functions available in list)"
   ]
  },
  {
   "cell_type": "code",
   "execution_count": 84,
   "id": "ee44e3f4",
   "metadata": {
    "scrolled": true
   },
   "outputs": [
    {
     "name": "stdout",
     "output_type": "stream",
     "text": [
      "Length of the list: 5\n",
      "Updated list: ['spider man', 'thor', 'hulk', 'iron man', 'captain america', 'black panther']\n",
      "Updated list: ['spider man', 'thor', 'hulk', 'iron man', 'captain america']\n",
      "Updated list: ['spider man', 'thor', 'hulk', 'black panther', 'iron man', 'captain america']\n",
      "Updated list: ['spider man', 'doctor', 'strange', 'black panther', 'iron man', 'captain america']\n",
      "['__add__', '__class__', '__class_getitem__', '__contains__', '__delattr__', '__delitem__', '__dir__', '__doc__', '__eq__', '__format__', '__ge__', '__getattribute__', '__getitem__', '__getstate__', '__gt__', '__hash__', '__iadd__', '__imul__', '__init__', '__init_subclass__', '__iter__', '__le__', '__len__', '__lt__', '__mul__', '__ne__', '__new__', '__reduce__', '__reduce_ex__', '__repr__', '__reversed__', '__rmul__', '__setattr__', '__setitem__', '__sizeof__', '__str__', '__subclasshook__', 'append', 'clear', 'copy', 'count', 'extend', 'index', 'insert', 'pop', 'remove', 'reverse', 'sort']\n",
      "['black panther', 'captain america', 'doctor', 'iron man', 'spider man', 'strange']\n"
     ]
    }
   ],
   "source": [
    "heros=['spider man','thor','hulk','iron man','captain america']\n",
    "print(f\"Length of the list: { len(heros)}\")\n",
    "heros.append('black panther')\n",
    "print(\"Updated list:\", heros)\n",
    "heros.remove('black panther')\n",
    "print(\"Updated list:\", heros)\n",
    "heros.insert(3,'black panther')\n",
    "print(\"Updated list:\", heros)\n",
    "heros[1:3]=['doctor', 'strange']\n",
    "print(\"Updated list:\", heros)\n",
    "print(dir(heros))\n",
    "heros.sort()\n",
    "print(heros)"
   ]
  },
  {
   "cell_type": "markdown",
   "id": "03186db0",
   "metadata": {},
   "source": [
    "\n",
    "# 5. Exercise: Python If Condition\n",
    "## https://github.com/codebasics/py/blob/master/Basics/Exercise/8_if/8_exercise_description.md\n",
    "\n",
    "\n"
   ]
  },
  {
   "cell_type": "markdown",
   "id": "45db13df",
   "metadata": {},
   "source": [
    "## 5.1. \n",
    "Using following list of cities per country\n",
    "    \n",
    "    india = [\"mumbai\", \"banglore\", \"chennai\", \"delhi\"]\n",
    "    pakistan = [\"lahore\",\"karachi\",\"islamabad\"]\n",
    "    bangladesh = [\"dhaka\", \"khulna\", \"rangpur\"]\n",
    "    \n",
    "    1. Write a program that asks user to enter a city name and it should tell which country the city belongs to\n",
    "    2. Write a program that asks user to enter two cities and it tells you if they both are in same country or not. For example if I enter mumbai and chennai, it will print \"Both cities are in India\" but if I enter mumbai and dhaka it should print \"They don't belong to same country\""
   ]
  },
  {
   "cell_type": "code",
   "execution_count": 91,
   "id": "a63c267b",
   "metadata": {},
   "outputs": [
    {
     "name": "stdout",
     "output_type": "stream",
     "text": [
      "enter a city name: delhi\n",
      "delhi is in inida\n",
      "enter a city name: delhi\n",
      "enter a city name: mumbai\n",
      "Both cities are in India\n"
     ]
    }
   ],
   "source": [
    "india = [\"mumbai\", \"banglore\", \"chennai\", \"delhi\"]\n",
    "pakistan = [\"lahore\",\"karachi\",\"islamabad\"]\n",
    "bangladesh = [\"dhaka\", \"khulna\", \"rangpur\"]\n",
    "\n",
    "# Write a program that asks user to enter a city name and it should tell which country the city belongs to\n",
    "city_name = input(\"enter a city name: \")\n",
    "if city_name in india:\n",
    "    print(f\"{city_name} is in inida\")\n",
    "elif city_name in pakistan:\n",
    "    print(f\"{city_name} is in pakistan\")\n",
    "elif city_name in bangladesh:\n",
    "    print(f\"{city_name} is in bangladesh\")\n",
    "else:\n",
    "    print(f\"{city_name} did not find in the given lists\")\n",
    "    \n",
    "\n",
    "# Write a program that asks user to enter two cities and it tells you if they both are in same country or not. For example if I enter mumbai and chennai, it will print \"Both cities are in India\" but if I enter mumbai and dhaka it should print \"They don't belong to same country\"\n",
    "city_1_name = input(\"enter a city name: \")\n",
    "city_2_name = input(\"enter a city name: \")\n",
    "\n",
    "if city_1_name in india and city_2_name in india:\n",
    "    print(f\"Both cities are in India\")\n",
    "elif city_1_name in pakistan and city_2_name in pakistan:\n",
    "    print(f\"Both cities are in pakistan\")\n",
    "elif city_1_name in bangladesh and city_2_name in bangladesh:\n",
    "    print(f\"Both cities are in bangladesh\")\n",
    "else:\n",
    "    print(f\"{city_1_name} and {city_2_name } They don't belong to same country\")"
   ]
  },
  {
   "cell_type": "markdown",
   "id": "8a79b9fa",
   "metadata": {},
   "source": [
    "## 5.2 Write a python program that can tell you if your sugar is normal or not. Normal fasting level sugar range is 80 to 100.\n",
    "    1. Ask user to enter his fasting sugar level\n",
    "    2. If it is below 80 to 100 range then print that sugar is low\n",
    "    3. If it is above 100 then print that it is high otherwise print that it is normal"
   ]
  },
  {
   "cell_type": "code",
   "execution_count": 100,
   "id": "e49c3ef7",
   "metadata": {},
   "outputs": [
    {
     "name": "stdout",
     "output_type": "stream",
     "text": [
      "Enter fasting sugar level:90\n",
      "Sugar level 90 is normal\n"
     ]
    }
   ],
   "source": [
    "def fasting_sugar_test(glouse):\n",
    "    if glouse <= 80 :\n",
    "        print(f\"Sugar level {glouse} is low\")\n",
    "    elif  glouse <= 100:\n",
    "        print(f\"Sugar level {glouse} is normal\")\n",
    "    else:\n",
    "        print(f\"Sugar level {glouse} is high\")\n",
    "\n",
    "glouse = eval(input(\"Enter fasting sugar level:\"))\n",
    "fasting_sugar_test(glouse)\n",
    "    "
   ]
  },
  {
   "cell_type": "markdown",
   "id": "043d2d68",
   "metadata": {},
   "source": [
    "\n",
    "# 6. Exercise: Python for loop\n",
    "## https://github.com/codebasics/py/blob/master/Basics/Exercise/9_for/9_for_exercise.md\n",
    "\n"
   ]
  },
  {
   "cell_type": "markdown",
   "id": "2a2f54be",
   "metadata": {},
   "source": [
    "## 6.1.\n",
    "After flipping a coin 10 times you got this result,\n",
    "\n",
    "result = [\"heads\",\"tails\",\"tails\",\"heads\",\"tails\",\"heads\",\"heads\",\"tails\",\"tails\",\"tails\"]\n",
    "\n",
    "Using for loop figure out how many times you got heads\n",
    "\n"
   ]
  },
  {
   "cell_type": "code",
   "execution_count": 102,
   "id": "6b408c1d",
   "metadata": {},
   "outputs": [
    {
     "name": "stdout",
     "output_type": "stream",
     "text": [
      "heads count 4\n"
     ]
    }
   ],
   "source": [
    "results = [\"heads\",\"tails\",\"tails\",\"heads\",\"tails\",\"heads\",\"heads\",\"tails\",\"tails\",\"tails\"]\n",
    "count =0\n",
    "for r in results:\n",
    "    if 'heads'==r:\n",
    "        count=count+1\n",
    "print(f\"heads count {count}\")"
   ]
  },
  {
   "cell_type": "markdown",
   "id": "bc18b875",
   "metadata": {},
   "source": [
    "## 6.2. Print square of all numbers between 1 to 10 except even number"
   ]
  },
  {
   "cell_type": "code",
   "execution_count": 103,
   "id": "17404f61",
   "metadata": {},
   "outputs": [
    {
     "name": "stdout",
     "output_type": "stream",
     "text": [
      "1\n",
      "9\n",
      "25\n",
      "49\n",
      "81\n"
     ]
    }
   ],
   "source": [
    "for i in range(1,11):\n",
    "    if i%2==0:\n",
    "        continue\n",
    "    else:\n",
    "        print(i**2)"
   ]
  },
  {
   "cell_type": "markdown",
   "id": "23a871c4",
   "metadata": {},
   "source": [
    "\n",
    "## 6.3. Your monthly expense list (from Jan to May) looks like this,\n",
    "\n",
    "expense_list = [2340, 2500, 2100, 3100, 2980]\n",
    "\n",
    "Write a program that asks you to enter an expense amount and program\n",
    "\n",
    "should tell you in which month that expense occurred. If expense is not\n",
    "found then it should print that as well.\n",
    "\n"
   ]
  },
  {
   "cell_type": "code",
   "execution_count": 6,
   "id": "929d0b6e",
   "metadata": {},
   "outputs": [
    {
     "name": "stdout",
     "output_type": "stream",
     "text": [
      "Enter an expense amount: 2340\n",
      " 2340 expense occured in Jan\n"
     ]
    }
   ],
   "source": [
    "expense_list = [2340, 2500, 2100, 3100, 2980]\n",
    "months_year = [\"Jan\",\"Feb\", \"March\",\"April\",\"May\"]\n",
    "\n",
    "expense = eval(input(\"Enter an expense amount: \"))\n",
    "if expense in expense_list:\n",
    "    index = expense_list.index(expense)\n",
    "    print(f\"{expense} expense occured in {months_year[index]}\")\n",
    "else:\n",
    "    print(f\"{expense} is not found in the list\")\n",
    "\n"
   ]
  },
  {
   "cell_type": "markdown",
   "id": "cb4ab503",
   "metadata": {},
   "source": [
    "# 6.5. Write a program that prints following shape\n",
    "\n"
   ]
  },
  {
   "cell_type": "code",
   "execution_count": 14,
   "id": "5780c47f",
   "metadata": {},
   "outputs": [
    {
     "name": "stdout",
     "output_type": "stream",
     "text": [
      "\n",
      "*\n",
      "**\n",
      "***\n",
      "****\n",
      "*****\n"
     ]
    }
   ],
   "source": [
    "\"\"\"\n",
    "*\n",
    "**\n",
    "***\n",
    "****\n",
    "***** \"\"\"\n",
    "\n",
    "for i in range(6):    \n",
    "    for j in range(i):        \n",
    "        print(\"*\",end=\"\")\n",
    "    print()"
   ]
  },
  {
   "cell_type": "markdown",
   "id": "ef280d18",
   "metadata": {},
   "source": [
    "\n",
    "# 7. Exercise: Functions in python\n",
    "## https://github.com/codebasics/py/blob/master/Basics/Exercise/10_functions/10_functions_exercise.md"
   ]
  },
  {
   "cell_type": "markdown",
   "id": "289f202d",
   "metadata": {},
   "source": [
    "## 7.1 Write a function called calculate_area that takes base and height as an input and returns and area of a triangle. Equation of an area of a triangle is,\n",
    "\n",
    "area = (1/2)*base*height\n"
   ]
  },
  {
   "cell_type": "code",
   "execution_count": 16,
   "id": "1094ac82",
   "metadata": {},
   "outputs": [
    {
     "name": "stdout",
     "output_type": "stream",
     "text": [
      "Enter base of triangle:5\n",
      "Enter height of triangle:5\n",
      "area of triangle 12.5\n"
     ]
    }
   ],
   "source": [
    "def area(base,height):\n",
    "    \"\"\"area of triganlge - given inputs are base and height\"\"\"\n",
    "    return((1/2)*base*height)\n",
    "\n",
    "base=eval(input(\"Enter base of triangle:\"))\n",
    "height=eval(input(\"Enter height of triangle:\"))\n",
    "print(f\"area of triangle {area(base,height)}\")"
   ]
  },
  {
   "cell_type": "markdown",
   "id": "eb74a253",
   "metadata": {},
   "source": [
    "## 7.2. Modify above function to take third parameter shape type. It can be either \"triangle\" or \"rectangle\". Based on shape type it will calculate area. Equation of rectangle's area is,\n",
    "\n",
    "rectangle area=length*width\n",
    "\n",
    "If no shape is supplied then it should take triangle as a default shape"
   ]
  },
  {
   "cell_type": "code",
   "execution_count": 17,
   "id": "b7da7c4e",
   "metadata": {},
   "outputs": [
    {
     "name": "stdout",
     "output_type": "stream",
     "text": [
      "Enter the shape(triangle/rectangle) to find area:rectangle\n",
      "Enter width of rectangle:5\n",
      "Enter height of rectangle:4\n",
      "area of triangle 20\n"
     ]
    }
   ],
   "source": [
    "def area(base, height , shape=\"triangle\"):\n",
    "    if shape == \"triangle\":\n",
    "        return ((1/2)* base*height)\n",
    "    elif shape==\"rectangle\":\n",
    "        return (base*height)\n",
    "    else:\n",
    "        print(\"Invalid Shape\")\n",
    "        return None\n",
    "    \n",
    "shape=input(\"Enter the shape(triangle/rectangle) to find area:\" )\n",
    "if shape==\"tringle\":\n",
    "    base=eval(input(\"Enter base of triangle:\"))\n",
    "    height=eval(input(\"Enter height of triangle:\"))\n",
    "    print(f\"area of triangle {area(base,height,shape)}\")\n",
    "elif shape==\"rectangle\":\n",
    "    base=eval(input(\"Enter width of rectangle:\"))\n",
    "    height=eval(input(\"Enter height of rectangle:\"))\n",
    "    print(f\"area of triangle {area(base,height,shape)}\")\n",
    "else:\n",
    "    print(\"Invalid Input\")"
   ]
  },
  {
   "cell_type": "markdown",
   "id": "d03d7486",
   "metadata": {},
   "source": [
    "# 7.3  Write a function called print_pattern that takes integer number as an argument and prints following pattern if input number is 3,\n"
   ]
  },
  {
   "cell_type": "code",
   "execution_count": 19,
   "id": "a1c2a844",
   "metadata": {},
   "outputs": [
    {
     "name": "stdout",
     "output_type": "stream",
     "text": [
      "Enter the no of rows of start pattern:5\n",
      "\n",
      "*\n",
      "**\n",
      "***\n",
      "****\n",
      "*****\n"
     ]
    }
   ],
   "source": [
    "\"\"\"\n",
    "*\n",
    "**\n",
    "***\n",
    "****\n",
    "***** \"\"\"\n",
    "x = int(input(\"Enter the no of rows of start pattern:\"))\n",
    "for i in range(x+1):    \n",
    "    for j in range(i):        \n",
    "        print(\"*\",end=\"\")\n",
    "    print()"
   ]
  },
  {
   "cell_type": "markdown",
   "id": "e0633533",
   "metadata": {},
   "source": [
    "# 8. Exercise: Python Dict and Tuples\n",
    "## https://github.com/codebasics/py/blob/master/Basics/Exercise/11_dict_tuples/11_dict_tuple_exercise.md"
   ]
  },
  {
   "cell_type": "markdown",
   "id": "6d037d7c",
   "metadata": {},
   "source": [
    "## 8.1 . We have following information on countries and their population (population is in crores),\n",
    "\n",
    "    |Country|Population|\n",
    "    |-------|----------|\n",
    "    |China|143|\n",
    "    |India|136|\n",
    "    |USA|32|\n",
    "    |Pakistan|21|\n",
    "    1. Using above create a dictionary of countries and its population\n",
    "    2. Write a program that asks user for three type of inputs,\n",
    "        1. print: if user enter print then it should print all countries with their population in this format,\n",
    "            ```\n",
    "            china==>143\n",
    "            india==>136\n",
    "            usa==>32\n",
    "            pakistan==>21\n",
    "            ```\n",
    "        1. add: if user input add then it should further ask for a country name to add. If country already exist in our dataset then it should print that it exist and do nothing. If it doesn't then it asks for population and add that new country/population in our dictionary and print it\n",
    "        2. remove: when user inputs remove it should ask for a country to remove. If country exist in our dictionary then remove it and print new dictionary using format shown above in (a). Else print that country doesn't exist!\n",
    "        3. query: on this again ask user for which country he or she wants to query. When user inputs that country it will print population of that country.\n"
   ]
  },
  {
   "cell_type": "code",
   "execution_count": 21,
   "id": "a755b4f2",
   "metadata": {},
   "outputs": [
    {
     "name": "stdout",
     "output_type": "stream",
     "text": [
      "Enter the command(print,add,remove,query) on given dictionary:print\n",
      "China===>143\n",
      "India===>136\n",
      "USA===>32\n",
      "Pakistan===>21\n"
     ]
    }
   ],
   "source": [
    "d = { \"China\":143, \"India\":136, \"USA\":32, \"Pakistan\":21}\n",
    "def operations_dict(cmd,d):\n",
    "    if cmd==\"print\":\n",
    "        for k,v in d.items():\n",
    "            print(f\"{k}===>{v}\")\n",
    "    elif cmd==\"add\":\n",
    "        country=input(\"Enter country name:\")\n",
    "        if country in d:\n",
    "            print(f\"country name {country} exist\")\n",
    "        else:\n",
    "            population=int(input(\"Enter population:\"))\n",
    "            d[country]=population\n",
    "    elif cmd==\"remove\":\n",
    "        country=input(\"Enter country name:\")\n",
    "        if country in d:\n",
    "            print(f\"country name {country} exist\")\n",
    "            del d[country]\n",
    "        else:\n",
    "            print(f\"country name {country} do not exist\")\n",
    "    elif cmd==\"query\":\n",
    "        country=input(\"Enter country name:\")\n",
    "        if country in d:\n",
    "            print(f\"country name {country} and population {d[country]}\")\n",
    "        else:\n",
    "             print(f\"country name {country} do not exist\")\n",
    "    else:\n",
    "        print(\"Invalid Command\")\n",
    "\n",
    "cmd = input(\"Enter the command(print,add,remove,query) on given dictionary:\")\n",
    "operations_dict(cmd,d)"
   ]
  },
  {
   "cell_type": "markdown",
   "id": "690b72ed",
   "metadata": {},
   "source": [
    "# 8.2 You are given following list of stocks and their prices in last 3 days,\n",
    "\n",
    "    |Stock|Prices|\n",
    "    |-------|----------|\n",
    "    |info|[600,630,620]|\n",
    "    |ril|[1430,1490,1567]|\n",
    "    |mtl|[234,180,160]|\n",
    "\n",
    "    1. Write a program that asks user for operation. Value of operations could be,\n",
    "        1. print: When user enters print it should print following,\n",
    "            ```\n",
    "            info ==> [600, 630, 620] ==> avg:  616.67\n",
    "            ril ==> [1430, 1490, 1567] ==> avg:  1495.67\n",
    "            mtl ==> [234, 180, 160] ==> avg:  191.33\n",
    "            ```\n",
    "        2. add: When user enters 'add', it asks for stock ticker and price. If stock already exist in your list (like info, ril etc) then it will append the price to the list. Otherwise it will create new entry in your dictionary. For example entering 'tata' and 560 will add tata ==> [560] to the dictionary of stocks."
   ]
  },
  {
   "cell_type": "code",
   "execution_count": 27,
   "id": "61dd71e6",
   "metadata": {},
   "outputs": [
    {
     "name": "stdout",
     "output_type": "stream",
     "text": [
      "Enter the command(print,add) on given dictionary:add\n",
      "Enter stock name:tata\n",
      "Enter stock price:560\n"
     ]
    }
   ],
   "source": [
    "stock = { \"info\": [600,630,620], \"ril\": [1430,1490,1567], \"mtl\":[234,180,160]}\n",
    "def stock_operations(cmd,d):\n",
    "    if cmd==\"print\":\n",
    "        for k,v in d.items():\n",
    "            print(f\"{k}===> {v} ==> avg: {round(sum(v)/len(v),2)}\")\n",
    "    elif cmd==\"add\":\n",
    "        stock_name=input(\"Enter stock name:\")\n",
    "        if stock_name in d:\n",
    "            print(\"Stock is already present in dictionary\")\n",
    "        else:\n",
    "            stock_price = eval(input(\"Enter stock price:\"))\n",
    "            d[stock_name] = [stock_price]\n",
    "    else:\n",
    "        print(\"Invalid Input\")\n",
    "\n",
    "\n",
    "cmd = input(\"Enter the command(print,add) on given dictionary:\")\n",
    "stock_operations(cmd,stock)\n"
   ]
  },
  {
   "cell_type": "markdown",
   "id": "599db451",
   "metadata": {},
   "source": [
    "## 8.3. Write circle_calc() function that takes radius of a circle as an input from user and then it calculates and returns area, circumference and diameter. You should get these values in your main program by calling circle_calc function and then print them\n"
   ]
  },
  {
   "cell_type": "code",
   "execution_count": 30,
   "id": "ba31ee72",
   "metadata": {},
   "outputs": [
    {
     "name": "stdout",
     "output_type": "stream",
     "text": [
      "Enter radius of circle:5\n",
      "area , diameter , circumference of cirle (78.5, 10, 31.400000000000002)\n"
     ]
    }
   ],
   "source": [
    "def circle_calc(radius):\n",
    "    return 3.14*radius*radius, 2*radius, 2*3.14*radius\n",
    "\n",
    "radius = eval(input(\"Enter radius of circle:\"))\n",
    "print(f\"area , diameter , circumference of cirle {circle_calc(radius)}\")"
   ]
  },
  {
   "cell_type": "markdown",
   "id": "593147eb",
   "metadata": {},
   "source": [
    "# 9.  Exercise: Python Read Write File\n",
    "## https://github.com/codebasics/py/blob/master/Basics/Exercise/13_read_write_files/read_write_file_exercise.md"
   ]
  },
  {
   "cell_type": "markdown",
   "id": "7d2b8e51",
   "metadata": {},
   "source": [
    "# 9.1 . [poem.txt](https://github.com/codebasics/py/blob/master/Basics/Exercise/13_read_write_files/poem.txt) contains famous poem \"Road not taken\" by poet Robert Frost. You have to read this file in your python program and find out words with maximum occurance."
   ]
  },
  {
   "cell_type": "code",
   "execution_count": 41,
   "id": "7c9c55de",
   "metadata": {
    "scrolled": true
   },
   "outputs": [
    {
     "name": "stdout",
     "output_type": "stream",
     "text": [
      "{'Two': 2, 'roads': 2, 'diverged': 2, 'in': 3, 'a': 3, 'yellow': 1, 'wood,': 2, 'And': 6, 'sorry': 1, 'I': 8, 'could': 2, 'not': 1, 'travel': 1, 'both': 2, 'be': 2, 'one': 3, 'traveler,': 1, 'long': 1, 'stood': 1, 'looked': 1, 'down': 1, 'as': 5, 'far': 1, 'To': 1, 'where': 1, 'it': 2, 'bent': 1, 'the': 8, 'undergrowth;': 1, 'Then': 1, 'took': 2, 'other,': 1, 'just': 1, 'fair,': 1, 'having': 1, 'perhaps': 1, 'better': 1, 'claim,': 1, 'Because': 1, 'was': 1, 'grassy': 1, 'and': 3, 'wanted': 1, 'wear;': 1, 'Though': 1, 'for': 2, 'that': 3, 'passing': 1, 'there': 1, 'Had': 1, 'worn': 1, 'them': 1, 'really': 1, 'about': 1, 'same,': 1, 'morning': 1, 'equally': 1, 'lay': 1, 'In': 1, 'leaves': 1, 'no': 1, 'step': 1, 'had': 1, 'trodden': 1, 'black.': 1, 'Oh,': 1, 'kept': 1, 'first': 1, 'another': 1, 'day!': 1, 'Yet': 1, 'knowing': 1, 'how': 1, 'way': 1, 'leads': 1, 'on': 1, 'to': 1, 'way,': 1, 'doubted': 1, 'if': 1, 'should': 1, 'ever': 1, 'come': 1, 'back.': 1, 'shall': 1, 'telling': 1, 'this': 1, 'with': 1, 'sigh': 1, 'Somewhere': 1, 'ages': 2, 'hence:': 1, 'Iâ€”': 1, 'less': 1, 'traveled': 1, 'by,': 1, 'has': 1, 'made': 1, 'all': 1, 'difference.': 1}\n"
     ]
    }
   ],
   "source": [
    "words_list = {}\n",
    "with open(\"poem.txt\",\"r\") as file:\n",
    "    for line in file.readlines():\n",
    "        for word in line.split():\n",
    "            if word in words_list:\n",
    "                words_list[word]+=1\n",
    "            else:\n",
    "                words_list[word]=1\n",
    "            \n",
    "print(words_list)\n"
   ]
  },
  {
   "cell_type": "markdown",
   "id": "bcd3c80b",
   "metadata": {},
   "source": [
    "## 9.2  [stocks.csv](https://github.com/codebasics/py/blob/master/Basics/Exercise/13_read_write_files/stocks.csv) contains stock price, earnings per share and book value. You are writing a stock market application that will process this file and create a new file\n",
    "with financial metrics such as pe ratio and price to book ratio. These are calculated as,\n",
    "\n",
    "pe ratio = price / earnings per share\n",
    "price to book ratio = price / book value\n",
    "\n",
    "\n",
    "\n",
    "Your input format (stocks.csv) is,\n",
    "\n",
    "|Company Name|Price|Earnings Per Share|Book Value|\n",
    "|-------|----------|-------|----------|\n",
    "|Reliance|1467|66|653|\n",
    "|Tata Steel|391|89|572|\n",
    "\n",
    "Output.csv should look like this,\n",
    "\n",
    "|Company Name|PE Ratio|PB Ratio|\n",
    "|-------|----------|-------|\n",
    "|Reliance|22.23|2.25|\n",
    "|Tata Steel|4.39|0.68|"
   ]
  },
  {
   "cell_type": "code",
   "execution_count": 42,
   "id": "5027fa15",
   "metadata": {},
   "outputs": [],
   "source": [
    "with open(\"stocks.csv.txt\", \"r\") as f, open(\"output.csv\", \"w\") as out:\n",
    "    out.write(\"Company Name,PE Ratio, PB Ratio\\n\")\n",
    "    next(f)  # This will skip first line in the file which is a header\n",
    "    for line in f:\n",
    "        tokens = line.split(\",\")\n",
    "        stock = tokens[0]\n",
    "        price = float(tokens[1])\n",
    "        eps = float(tokens[2])\n",
    "        book = float(tokens[3])\n",
    "        pe = round(price / eps, 2)\n",
    "        pb = round(price / book, 2)\n",
    "        out.write(f\"{stock},{pe},{pb}\\n\")"
   ]
  },
  {
   "cell_type": "markdown",
   "id": "884fde04",
   "metadata": {},
   "source": [
    "# 10. Exercise: Class and Objects\n",
    "## https://github.com/codebasics/py/blob/master/Basics/Exercise/16_class_and_objects/16_class_and_object_exercise.md"
   ]
  },
  {
   "cell_type": "markdown",
   "id": "a560957e",
   "metadata": {},
   "source": [
    "## 10.1\n",
    "1. Create a sample class named Employee with two attributes id and name \n",
    "\n",
    "```\n",
    "employee :\n",
    "    id\n",
    "    name\n",
    "```\n",
    "object initializes id and name dynamically for every Employee object created.\n",
    " \n",
    "```\n",
    "emp = Employee(1, \"coder\")\n",
    "```\n",
    "\n",
    "2. Use del property to first delete id attribute and then the entire object"
   ]
  },
  {
   "cell_type": "code",
   "execution_count": 46,
   "id": "8ce364e2",
   "metadata": {},
   "outputs": [
    {
     "name": "stdout",
     "output_type": "stream",
     "text": [
      "employee id : 1 and name : coder\n"
     ]
    }
   ],
   "source": [
    "class employee:\n",
    "    def __init__(self,id,name):\n",
    "        self.id=id\n",
    "        self.name=name\n",
    "        \n",
    "    def fill_employee_details(id,name):\n",
    "        self.id=id\n",
    "        self.name=name\n",
    "        \n",
    "    def get_employee_details(self):\n",
    "        print(f\"employee id : {self.id} and name : {self.name}\")\n",
    "        \n",
    "emp=employee(1,\"coder\")\n",
    "emp.get_employee_details()\n",
    "\n",
    "    "
   ]
  }
 ],
 "metadata": {
  "kernelspec": {
   "display_name": "Python 3 (ipykernel)",
   "language": "python",
   "name": "python3"
  },
  "language_info": {
   "codemirror_mode": {
    "name": "ipython",
    "version": 3
   },
   "file_extension": ".py",
   "mimetype": "text/x-python",
   "name": "python",
   "nbconvert_exporter": "python",
   "pygments_lexer": "ipython3",
   "version": "3.11.7"
  }
 },
 "nbformat": 4,
 "nbformat_minor": 5
}
