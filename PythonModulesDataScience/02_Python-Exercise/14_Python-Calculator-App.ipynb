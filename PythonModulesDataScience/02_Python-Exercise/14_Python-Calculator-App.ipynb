{
 "cells": [
  {
   "cell_type": "code",
   "execution_count": 2,
   "id": "6c13f660",
   "metadata": {},
   "outputs": [
    {
     "name": "stdout",
     "output_type": "stream",
     "text": [
      "Calculator App using Python\n",
      "Please Select an operation to perform:\n",
      "1.Add\n",
      "2.Subtract\n",
      "3.Multiply\n",
      "4.Divide\n",
      "Enter the Opeataion No from the above : 2\n",
      "Enter first number : 30\n",
      "Enter second number : 20\n",
      "Answer = 10\n"
     ]
    }
   ],
   "source": [
    "print(\"Calculator App using Python\")\n",
    "\n",
    "print(\"Please Select an operation to perform:\")\n",
    "print(\"1.Add\\n2.Subtract\\n3.Multiply\\n4.Divide\")\n",
    "\n",
    "operation = eval(input(\"Enter the Opeataion No from the above : \"))\n",
    "\n",
    "# input 1\n",
    "num1 = eval(input(\"Enter first number : \"))\n",
    "\n",
    "\n",
    "# input 2\n",
    "num2 = eval(input(\"Enter second number : \"))\n",
    "\n",
    "\n",
    "if operation == 1:\n",
    "    ans = num1 + num2\n",
    "elif operation == 2:\n",
    "    ans = num1 - num2\n",
    "elif operation == 3:\n",
    "    ans = num1 * num2\n",
    "elif operation == 4:  \n",
    "    if num2 != 0:\n",
    "        ans = num1 / num2\n",
    "    else:\n",
    "        print(\"Division by 0 error. Please enter a non-zero number.\")\n",
    "        ans = \"Not defined\"\n",
    "else:\n",
    "    print(\"Invalid Operation\")\n",
    "    ans = \"Not defined\"\n",
    "\n",
    "print(f\"Answer = {ans}\")"
   ]
  },
  {
   "cell_type": "code",
   "execution_count": 18,
   "id": "f501548a",
   "metadata": {},
   "outputs": [
    {
     "name": "stdout",
     "output_type": "stream",
     "text": [
      "Calculator App using Python\n",
      "Please Select an operation to perform:\n",
      "1.Add\n",
      "2.Subtract\n",
      "3.Multiply\n",
      "4.Divide\n",
      "Enter the Opeataion No from the above : 1\n",
      "Enter first number : 10\n",
      "Enter second number : 20\n",
      "sum of 10 and 20 is 30\n"
     ]
    }
   ],
   "source": [
    "print(\"Calculator App using Python\")\n",
    "\n",
    "def add(a,b):\n",
    "    \"\"\"add function take two arguments return sum\"\"\"\n",
    "    return(a+b)\n",
    "def sub(a,b):\n",
    "    \"\"\"sub function take two arguments return difference\"\"\"\n",
    "    return(a-b)\n",
    "def mul(a,b):\n",
    "    \"\"\"mul function take two arguments return product of numbers\"\"\"\n",
    "    return(a*b)\n",
    "def div(a,b):\n",
    "    \"\"\"div function take two arguments return division of one number by another\"\"\"\n",
    "    if (b == 0):\n",
    "        print(\"Division by 0 error. Please enter a non-zero number.\")\n",
    "        return None\n",
    "    else:\n",
    "        return(a/b)\n",
    "\n",
    "    \n",
    "print(\"Please Select an operation to perform:\")\n",
    "print(\"1.Add\\n2.Subtract\\n3.Multiply\\n4.Divide\")\n",
    "\n",
    "operation = eval(input(\"Enter the Opeataion No from the above : \"))\n",
    "\n",
    "# input 1\n",
    "num1 = eval(input(\"Enter first number : \"))\n",
    "# input 2\n",
    "num2 = eval(input(\"Enter second number : \"))\n",
    "\n",
    "\n",
    "if operation == 1:\n",
    "    ans = add(num1, num2)\n",
    "    print(f\"sum of {num1} and {num2} is {ans}\")\n",
    "elif operation == 2:\n",
    "    ans = sub(num1, num2)\n",
    "    print(f\"Subtraction of {num1} and {num2} is {ans}\")\n",
    "elif operation == 3:\n",
    "    ans = mul(num1, num2)\n",
    "    print(f\"Multiplication of {num1} and {num2} is {ans}\")\n",
    "elif operation == 4:  \n",
    "    if num2 != 0:\n",
    "        ans = div(num1, num2)\n",
    "        print(f\"The division of {num1} by {num2} is {ans}\")\n",
    "    else:\n",
    "        print(\"Division by 0 error. Please enter a non-zero number.\")\n",
    "        ans = \"Not defined\"\n",
    "else:\n",
    "    print(\"Invalid Operation -Please choose the operation from the list\")\n",
    "    ans = \"Not defined\"\n",
    "\n"
   ]
  }
 ],
 "metadata": {
  "kernelspec": {
   "display_name": "Python 3 (ipykernel)",
   "language": "python",
   "name": "python3"
  },
  "language_info": {
   "codemirror_mode": {
    "name": "ipython",
    "version": 3
   },
   "file_extension": ".py",
   "mimetype": "text/x-python",
   "name": "python",
   "nbconvert_exporter": "python",
   "pygments_lexer": "ipython3",
   "version": "3.11.5"
  }
 },
 "nbformat": 4,
 "nbformat_minor": 5
}
