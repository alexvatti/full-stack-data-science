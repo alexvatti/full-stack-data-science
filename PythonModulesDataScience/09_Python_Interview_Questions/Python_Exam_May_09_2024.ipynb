{
 "cells": [
  {
   "cell_type": "markdown",
   "id": "4e1acedc",
   "metadata": {},
   "source": [
    "#  Python Exam \n",
    "#  These Answers - Used for Reference Only\n",
    "#  Shared - only for Knowlege purpose - not for making decisions\n"
   ]
  },
  {
   "cell_type": "markdown",
   "id": "4f533d13",
   "metadata": {},
   "source": [
    "#  Q 1 Find the largest value in a given list =[200,56,756]"
   ]
  },
  {
   "cell_type": "markdown",
   "id": "eafbd4b9",
   "metadata": {},
   "source": [
    "# Method 1"
   ]
  },
  {
   "cell_type": "code",
   "execution_count": 3,
   "id": "71ee39b7",
   "metadata": {},
   "outputs": [
    {
     "name": "stdout",
     "output_type": "stream",
     "text": [
      "Max/Largest value in the given list:  [200, 56, 756] is 756\n"
     ]
    }
   ],
   "source": [
    "given_list = [ 200,56,756]\n",
    "max_val = given_list[0]\n",
    "for val in given_list:\n",
    "    if val > max_val:\n",
    "        max_val=val\n",
    "\n",
    "print(f\"Max/Largest value in the given list:  {given_list} is {max_val}\")"
   ]
  },
  {
   "cell_type": "markdown",
   "id": "955c58a5",
   "metadata": {},
   "source": [
    "# Method 2"
   ]
  },
  {
   "cell_type": "code",
   "execution_count": 4,
   "id": "6a9c3665",
   "metadata": {},
   "outputs": [
    {
     "name": "stdout",
     "output_type": "stream",
     "text": [
      "Max/Largest value in the given list:  [200, 56, 756] is 756\n"
     ]
    }
   ],
   "source": [
    "given_list = [ 200,56,756]\n",
    "print(f\"Max/Largest value in the given list:  {given_list} is {max(given_list)}\")"
   ]
  },
  {
   "cell_type": "markdown",
   "id": "283e50d6",
   "metadata": {},
   "source": [
    "# Q 2.Find the maximum and minimum repeated word in a given string\n",
    "    String: “can canner can you can not canner can you canner ok you can”"
   ]
  },
  {
   "cell_type": "markdown",
   "id": "7e58469e",
   "metadata": {},
   "source": [
    "# Method 1"
   ]
  },
  {
   "cell_type": "code",
   "execution_count": 5,
   "id": "c6425673",
   "metadata": {},
   "outputs": [
    {
     "name": "stdout",
     "output_type": "stream",
     "text": [
      "['can', 'canner', 'you', 'not', 'ok']\n",
      "[('can', 5), ('canner', 3), ('you', 3), ('not', 1), ('ok', 1)]\n",
      "Maximum Repared word ('can', 5)\n",
      "Minimum Repeated word ('not', 1)\n",
      "Minimum Repeated word ('ok', 1)\n"
     ]
    }
   ],
   "source": [
    "given_sentense = \"can canner can you can not canner can you canner ok you can\"\n",
    "unique_words = []\n",
    "for word in given_sentense.split():\n",
    "    if word not in unique_words:\n",
    "        unique_words.append(word)\n",
    "\n",
    "print(unique_words)\n",
    "\n",
    "def find_count(word):\n",
    "    count=0\n",
    "    for w in given_sentense.split():\n",
    "        if word==w:\n",
    "            count=count+1\n",
    "    return count\n",
    "    \n",
    "dict_word = []\n",
    "for word in unique_words:\n",
    "    dict_word.append((word,find_count(word)))\n",
    "\n",
    "\n",
    "print(dict_word)    \n",
    "max_val = dict_word[0][1]\n",
    "for val in dict_word:\n",
    "    if max_val==val[1]:\n",
    "        print(\"Maximum Repared word\", val)\n",
    "\n",
    "min_val = dict_word[-1][1]\n",
    "for val in dict_word:\n",
    "    if min_val==val[1]:\n",
    "        print(\"Minimum Repeated word\", val)\n",
    "\n",
    "    "
   ]
  },
  {
   "cell_type": "markdown",
   "id": "98cbfe98",
   "metadata": {},
   "source": [
    "# Method 2"
   ]
  },
  {
   "cell_type": "code",
   "execution_count": 6,
   "id": "b195a76e",
   "metadata": {},
   "outputs": [
    {
     "name": "stdout",
     "output_type": "stream",
     "text": [
      "Maximum repeated word: can\n",
      "Minimum repeated word: not\n"
     ]
    }
   ],
   "source": [
    "from collections import Counter\n",
    "\n",
    "def find_max_min_repeated_word(string):\n",
    "    # Tokenize the string into words\n",
    "    words = string.split()\n",
    "\n",
    "    # Count the occurrences of each word\n",
    "    word_counts = Counter(words)\n",
    "\n",
    "    # Find the maximum and minimum repeated word\n",
    "    max_repeated_word = max(word_counts, key=word_counts.get)\n",
    "    min_repeated_word = min(word_counts, key=word_counts.get)\n",
    "\n",
    "    return max_repeated_word, min_repeated_word\n",
    "\n",
    "# Example usage\n",
    "string = \"can canner can you can not canner can you canner ok you can\"\n",
    "max_word, min_word = find_max_min_repeated_word(string)\n",
    "print(\"Maximum repeated word:\", max_word)\n",
    "print(\"Minimum repeated word:\", min_word)\n"
   ]
  },
  {
   "cell_type": "markdown",
   "id": "c7627fd1",
   "metadata": {},
   "source": [
    "# Q 3.Find the largest word in a given string \n",
    "   String: “Hello students, good Morning”"
   ]
  },
  {
   "cell_type": "markdown",
   "id": "57ca7432",
   "metadata": {},
   "source": [
    "# Method 1"
   ]
  },
  {
   "cell_type": "code",
   "execution_count": 7,
   "id": "a3a98fa0",
   "metadata": {},
   "outputs": [
    {
     "name": "stdout",
     "output_type": "stream",
     "text": [
      "largest word is: students, and  length 9\n"
     ]
    }
   ],
   "source": [
    "given_str = \"Hello students, good Morning\"\n",
    "largest_word =\"\"\n",
    "largest_word_len =0\n",
    "for word in given_str.split():\n",
    "    if len(word) > largest_word_len:\n",
    "        largest_word_len=len(word)\n",
    "        largest_word=word\n",
    "print(f\"largest word is: {largest_word} and  length {largest_word_len}\")"
   ]
  },
  {
   "cell_type": "markdown",
   "id": "6a188ce4",
   "metadata": {},
   "source": [
    "# Method 2"
   ]
  },
  {
   "cell_type": "code",
   "execution_count": 8,
   "id": "437f2bcb",
   "metadata": {},
   "outputs": [
    {
     "data": {
      "text/plain": [
       "'students,'"
      ]
     },
     "execution_count": 8,
     "metadata": {},
     "output_type": "execute_result"
    }
   ],
   "source": [
    "given_str = \"Hello students, good Morning\"\n",
    "l = given_str.split()\n",
    "max(l)"
   ]
  },
  {
   "cell_type": "markdown",
   "id": "6182b54c",
   "metadata": {},
   "source": [
    "# Q 4. \n",
    "     list= [(2,6),(4,5),(8,9)]   \n",
    "     A= (10,20)\n",
    "     Find the distance between A to list of values , find the tuple which is  maximum distance with A"
   ]
  },
  {
   "cell_type": "markdown",
   "id": "4f062b05",
   "metadata": {},
   "source": [
    "# Method 1"
   ]
  },
  {
   "cell_type": "code",
   "execution_count": 9,
   "id": "c3a467db",
   "metadata": {},
   "outputs": [
    {
     "name": "stdout",
     "output_type": "stream",
     "text": [
      "Maximum distance to (10, 20) is (4, 5) with disance 16.155\n"
     ]
    }
   ],
   "source": [
    "import math\n",
    "l = [(2,6), (4,5), (8,9)]\n",
    "a = (10,20)\n",
    "\n",
    "max_distance = 0\n",
    "for p in l:\n",
    "    # distance\n",
    "    d = pow((p[0]-a[0]),2) + pow((p[1]-a[1]),2)\n",
    "    d = math.sqrt(d)\n",
    "    if d > max_distance:\n",
    "        max_distance=d\n",
    "        matched_tuple=p\n",
    "        \n",
    "print(f\"Maximum distance to {a} is {matched_tuple} with disance {round(max_distance,3)}\")\n",
    "        "
   ]
  },
  {
   "cell_type": "markdown",
   "id": "b00f2641",
   "metadata": {},
   "source": [
    "# Method 2"
   ]
  },
  {
   "cell_type": "code",
   "execution_count": 10,
   "id": "27cd44e7",
   "metadata": {},
   "outputs": [
    {
     "name": "stdout",
     "output_type": "stream",
     "text": [
      "Max Distance: 16.15549442140351\n",
      "Matched Tuple: (4, 5)\n"
     ]
    }
   ],
   "source": [
    "import math\n",
    "\n",
    "l = [(2, 6), (4, 5), (8, 9)]\n",
    "a = (10, 20)\n",
    "\n",
    "# Calculate distances and find the tuple with maximum distance using list comprehension\n",
    "max_distance_tuple = max([(math.sqrt((p[0]-a[0])**2 + (p[1]-a[1])**2), p) for p in l])\n",
    "\n",
    "max_distance = max_distance_tuple[0]\n",
    "matched_tuple = max_distance_tuple[1]\n",
    "\n",
    "print(\"Max Distance:\", max_distance)\n",
    "print(\"Matched Tuple:\", matched_tuple)\n"
   ]
  },
  {
   "cell_type": "markdown",
   "id": "754d446e",
   "metadata": {},
   "source": [
    "# Q 5. \n",
    "     list= [‘Hyder#bad’,’Chennai’,’De#hi’]\n",
    "     Implement the lambda function to retrieve the element which are having ‘#’"
   ]
  },
  {
   "cell_type": "code",
   "execution_count": 11,
   "id": "b52929e7",
   "metadata": {},
   "outputs": [
    {
     "data": {
      "text/plain": [
       "['Hyder#bad', 'De#hi']"
      ]
     },
     "execution_count": 11,
     "metadata": {},
     "output_type": "execute_result"
    }
   ],
   "source": [
    "city_list =  [\"Hyder#bad\",\"Chennai\",\"De#hi\"]\n",
    "selected =  list(filter(lambda x:  \"#\" in x , city_list))\n",
    "selected"
   ]
  },
  {
   "cell_type": "markdown",
   "id": "28b4933a",
   "metadata": {},
   "source": [
    "# Q 6. take any string ,split the string with empty space and sort the elements with out using sorting method."
   ]
  },
  {
   "cell_type": "code",
   "execution_count": 12,
   "id": "7317a38b",
   "metadata": {},
   "outputs": [
    {
     "name": "stdout",
     "output_type": "stream",
     "text": [
      "['any', 'split', 'string', 'take']\n"
     ]
    }
   ],
   "source": [
    "text = \"take any string split\"\n",
    "text_list =[]\n",
    "for word in text.split():\n",
    "    if word not in text_list:\n",
    "        text_list.append(word)\n",
    "\n",
    "#print(text_list)\n",
    "new_text=text_list\n",
    "\n",
    "# Selection sort\n",
    "for i in range(len(new_text)):\n",
    "    min_idx = i\n",
    "    for j in range(i + 1, len(new_text)):\n",
    "        if new_text[j] < new_text[min_idx]:\n",
    "            min_idx = j\n",
    "    new_text[i], new_text[min_idx] = new_text[min_idx], new_text[i]\n",
    "\n",
    "print(new_text)"
   ]
  },
  {
   "cell_type": "markdown",
   "id": "b88b72c3",
   "metadata": {},
   "source": [
    "# Q 7. Write a Python function to perform basic string compression using the counts of repeated characters.\n",
    "For example the input :  ‘aabcccaaa’    output: ‘a2b1c3a3’"
   ]
  },
  {
   "cell_type": "markdown",
   "id": "9abff3e6",
   "metadata": {},
   "source": [
    "# Method 1"
   ]
  },
  {
   "cell_type": "code",
   "execution_count": 13,
   "id": "7432ced1",
   "metadata": {},
   "outputs": [
    {
     "name": "stdout",
     "output_type": "stream",
     "text": [
      "a2b1c3a3\n"
     ]
    }
   ],
   "source": [
    "g=\"aabcccaaa\"\n",
    "pre_ch=None\n",
    "count=1\n",
    "output = \"\"\n",
    "for ch in g:\n",
    "    if pre_ch==None:\n",
    "        pre_ch=ch\n",
    "        count=1\n",
    "        continue\n",
    "    if pre_ch==ch:\n",
    "        count=count+1\n",
    "    if pre_ch!=ch:\n",
    "        output +=pre_ch+str(count)\n",
    "        pre_ch=ch\n",
    "        count=1\n",
    "output +=pre_ch+str(count)\n",
    "print(output)   \n",
    "    \n",
    "    "
   ]
  },
  {
   "cell_type": "markdown",
   "id": "611564b6",
   "metadata": {},
   "source": [
    "# Method 2"
   ]
  },
  {
   "cell_type": "code",
   "execution_count": 14,
   "id": "6b8c9655",
   "metadata": {},
   "outputs": [
    {
     "name": "stdout",
     "output_type": "stream",
     "text": [
      "a2b1c3a3\n"
     ]
    }
   ],
   "source": [
    "g = \"aabcccaaa\"\n",
    "output = \"\"\n",
    "count = 1\n",
    "for i in range(1, len(g)):\n",
    "    if g[i] == g[i - 1]:\n",
    "        count += 1\n",
    "    else:\n",
    "        output += g[i - 1] + str(count)\n",
    "        count = 1\n",
    "output += g[-1] + str(count)\n",
    "print(output)"
   ]
  },
  {
   "cell_type": "markdown",
   "id": "8d710ec6",
   "metadata": {},
   "source": [
    "\n",
    "# 8. Create a Python function to find the length of longest substring without repeating characters in a given string\n"
   ]
  },
  {
   "cell_type": "markdown",
   "id": "134cc649",
   "metadata": {},
   "source": [
    "# Method 1"
   ]
  },
  {
   "cell_type": "code",
   "execution_count": 15,
   "id": "a1592f16",
   "metadata": {},
   "outputs": [
    {
     "name": "stdout",
     "output_type": "stream",
     "text": [
      "Word - longest - without repeated chars: abcdef with length 6\n"
     ]
    }
   ],
   "source": [
    "repeated = \"ababab abcdef ababad abadef\"\n",
    "output_word_not_repated_chars = []\n",
    "for word in repeated.split():\n",
    "    st = \"\"\n",
    "    for ch in word:\n",
    "        if ch not in st: \n",
    "            st+=ch\n",
    "    output_word_not_repated_chars.append(st)\n",
    "    st = \"\"\n",
    "    \n",
    "max_word=\"\"\n",
    "max_word_length=0\n",
    "for word in output_word_not_repated_chars:\n",
    "    if len(word) > max_word_length:\n",
    "        max_word_length=len(word)\n",
    "        max_word=word\n",
    "\n",
    "print(f\"Word - longest - without repeated chars: {max_word} with length {max_word_length}\") \n",
    "\n"
   ]
  },
  {
   "cell_type": "markdown",
   "id": "b37487ff",
   "metadata": {},
   "source": [
    "# Method 2"
   ]
  },
  {
   "cell_type": "code",
   "execution_count": 16,
   "id": "c51edce8",
   "metadata": {},
   "outputs": [
    {
     "name": "stdout",
     "output_type": "stream",
     "text": [
      "Word - longest - without repeated chars: cefadb with length 6\n"
     ]
    }
   ],
   "source": [
    "repeated = \"ababab abcdef ababad abadef\"\n",
    "\n",
    "# Extract unique characters from each word\n",
    "output_word_not_repeated_chars = [''.join(set(word)) for word in repeated.split()]\n",
    "\n",
    "# Find the word with the longest unique character sequence\n",
    "max_word = max(output_word_not_repeated_chars, key=len)\n",
    "max_word_length = len(max_word)\n",
    "\n",
    "print(f\"Word - longest - without repeated chars: {max_word} with length {max_word_length}\")\n"
   ]
  },
  {
   "cell_type": "code",
   "execution_count": null,
   "id": "39c29bf9",
   "metadata": {},
   "outputs": [],
   "source": []
  }
 ],
 "metadata": {
  "kernelspec": {
   "display_name": "Python 3 (ipykernel)",
   "language": "python",
   "name": "python3"
  },
  "language_info": {
   "codemirror_mode": {
    "name": "ipython",
    "version": 3
   },
   "file_extension": ".py",
   "mimetype": "text/x-python",
   "name": "python",
   "nbconvert_exporter": "python",
   "pygments_lexer": "ipython3",
   "version": "3.11.5"
  }
 },
 "nbformat": 4,
 "nbformat_minor": 5
}
